{
 "cells": [
  {
   "cell_type": "code",
   "execution_count": 6,
   "id": "ac13a8cc-519f-4ad9-822a-ebc8850c1eff",
   "metadata": {},
   "outputs": [
    {
     "data": {
      "text/plain": [
       "5"
      ]
     },
     "execution_count": 6,
     "metadata": {},
     "output_type": "execute_result"
    }
   ],
   "source": [
    "#Exercice 1\n",
    "def fonction_suite(U0):\n",
    "    if U0<0:\n",
    "        return \"impossible\"\n",
    "    else:\n",
    "        U0=U0+3\n",
    "    return U0\n",
    "fonction_suite(2)"
   ]
  },
  {
   "cell_type": "code",
   "execution_count": 8,
   "id": "c90ec56c-485e-49b1-83a9-6ea79fee7231",
   "metadata": {},
   "outputs": [
    {
     "data": {
      "text/plain": [
       "'la suite est divergente'"
      ]
     },
     "execution_count": 8,
     "metadata": {},
     "output_type": "execute_result"
    }
   ],
   "source": [
    "def converge(fonction_suite,U0,epsilon=1e-6,max_itération=1000):\n",
    "    U1=U0\n",
    "    for i in range(max_itération):\n",
    "        U1=fonction_suite(U0)\n",
    "        if abs(U1-U0)<epsilon:\n",
    "            return \"la suite est convergente\"\n",
    "        U1 = U0\n",
    "    return \"la suite est divergente\"\n",
    "converge(fonction_suite,2) "
   ]
  },
  {
   "cell_type": "code",
   "execution_count": 10,
   "id": "bec3a75c-c2a3-4dee-a075-9b11743e243d",
   "metadata": {},
   "outputs": [
    {
     "data": {
      "text/plain": [
       "6.0"
      ]
     },
     "execution_count": 10,
     "metadata": {},
     "output_type": "execute_result"
    }
   ],
   "source": [
    "#Exercice 2\n",
    "def racine_carrée(A,max_iteration=2000,epsilon=1e-6):\n",
    "    if A <= 0:\n",
    "        return \"impossible\"\n",
    "    x = A / 2\n",
    "    for i in range(max_iteration):\n",
    "            x1= 0.5*(x + A / x)\n",
    "            if abs (x1 - x) < epsilon:\n",
    "                return x1\n",
    "            x = x1\n",
    "    return x\n",
    "racine_carrée(36)      "
   ]
  },
  {
   "cell_type": "code",
   "execution_count": 3,
   "id": "81e358eb-f7b1-4863-b557-6d8ed28b767f",
   "metadata": {},
   "outputs": [
    {
     "data": {
      "text/plain": [
       "('Suite arithmétique', 'u_n=2+2*n')"
      ]
     },
     "execution_count": 3,
     "metadata": {},
     "output_type": "execute_result"
    }
   ],
   "source": [
    "#Exercice 3\n",
    "def trouver_suite(liste):\n",
    "    n =len(liste)\n",
    "    r=liste[1] - liste[0]\n",
    "    arithmetique=True\n",
    "    for i in range(1,n):\n",
    "        if liste[i]-liste[i - 1]!=r:\n",
    "            arithmetique = False\n",
    "            break\n",
    "    if arithmetique:\n",
    "        return\"Suite arithmétique\",f\"u_n={liste[0]}+{r}*n\"\n",
    "    if liste[0] !=0:\n",
    "        q = liste[1]/liste[0]\n",
    "        geometrique = True\n",
    "        for i in range(1,n):\n",
    "            if liste[i - 1]==0 or liste[i]/liste[i - 1]!=q:\n",
    "                geometrique= False\n",
    "                break\n",
    "        if geometrique:\n",
    "            return \"Suite géométrique\",f\"u_n = {liste[0]} *{q}**n\"\n",
    "    if n >=3:\n",
    "        U0, U1, U2 = liste[0], liste[1],liste[2]\n",
    "        a=(U2 - 2*U1 + U0)/2\n",
    "        b=U1-U0-a\n",
    "        c=U0\n",
    "        quadratique=True\n",
    "        for i in range(n):\n",
    "            if liste[i]!=a*i**2 + b*i + c:\n",
    "                quadratique = False\n",
    "                break\n",
    "        if quadratique:\n",
    "            return \"Suite quadratique\",f\"u_n={a}*n**2 + {b}*n + {c}\"\n",
    "        return\"type non reconnu\",None\n",
    "        \n",
    "trouver_suite([2,4,6,8,10])"
   ]
  }
 ],
 "metadata": {
  "kernelspec": {
   "display_name": "Python 3 (ipykernel)",
   "language": "python",
   "name": "python3"
  },
  "language_info": {
   "codemirror_mode": {
    "name": "ipython",
    "version": 3
   },
   "file_extension": ".py",
   "mimetype": "text/x-python",
   "name": "python",
   "nbconvert_exporter": "python",
   "pygments_lexer": "ipython3",
   "version": "3.12.4"
  }
 },
 "nbformat": 4,
 "nbformat_minor": 5
}
