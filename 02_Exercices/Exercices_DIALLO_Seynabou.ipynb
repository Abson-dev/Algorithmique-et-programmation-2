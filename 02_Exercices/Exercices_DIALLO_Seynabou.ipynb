{
 "cells": [
  {
   "cell_type": "code",
   "execution_count": 11,
   "id": "572a0385-dc20-4ff8-b963-135db0cb2f71",
   "metadata": {},
   "outputs": [
    {
     "name": "stdout",
     "output_type": "stream",
     "text": [
      "30\n"
     ]
    }
   ],
   "source": [
    "exo=list(range(1,101))\n",
    "print(exo[29])"
   ]
  },
  {
   "cell_type": "code",
   "execution_count": 12,
   "id": "e5361859-a4e1-45e8-9693-efb1dd0bf970",
   "metadata": {},
   "outputs": [
    {
     "name": "stdout",
     "output_type": "stream",
     "text": [
      "100\n"
     ]
    }
   ],
   "source": [
    "print(exo[99])"
   ]
  },
  {
   "cell_type": "code",
   "execution_count": 13,
   "id": "2ebf8fc7-999e-4da8-8af0-4cde2f60aac4",
   "metadata": {},
   "outputs": [
    {
     "name": "stdout",
     "output_type": "stream",
     "text": [
      "100\n"
     ]
    }
   ],
   "source": [
    "print(exo[-1])"
   ]
  },
  {
   "cell_type": "code",
   "execution_count": 14,
   "id": "6ef8dbbd-baa1-47ed-838d-43703f8887f0",
   "metadata": {},
   "outputs": [
    {
     "name": "stdout",
     "output_type": "stream",
     "text": [
      "[100, 99, 98, 97, 96, 95, 94, 93, 92, 91, 90, 89, 88, 87, 86, 85, 84, 83, 82, 81, 80, 79, 78, 77, 76, 75, 74, 73, 72, 71, 70, 69, 68, 67, 66, 65, 64, 63, 62, 61, 60, 59, 58, 57, 56, 55, 54, 53, 52, 51, 50, 49, 48, 47, 46, 45, 44, 43, 42, 41, 40, 39, 38, 37, 36, 35, 34, 33, 32, 31, 30, 29, 28, 27, 26, 25, 24, 23, 22, 21, 20, 19, 18, 17, 16, 15, 14, 13, 12, 11, 10, 9, 8, 7, 6, 5, 4, 3, 2, 1]\n"
     ]
    }
   ],
   "source": [
    "exo.reverse()\n",
    "print(exo)"
   ]
  },
  {
   "cell_type": "code",
   "execution_count": 15,
   "id": "6579ab8d-61a7-48fd-8885-cc7628dc884a",
   "metadata": {},
   "outputs": [
    {
     "name": "stdout",
     "output_type": "stream",
     "text": [
      "[100, 99, 98, 97, 96, 95, 94, 93, 92, 91, 90, 89, 88, 87, 86, 85, 84, 83, 82, 81, 80, 79, 78, 77, 76, 75, 74, 73, 72, 71, 70, 69, 68, 67, 66, 65, 64, 63, 62, 61, 60, 59, 58, 57, 56, 55, 54, 53, 52, 51, 50, 49, 48, 47, 46, 45, 44, 43, 42, 41, 40, 39, 38, 37, 36, 35, 34, 33, 32, 31, 30, 29, 28, 27, 26, 24, 23, 22, 21, 20, 19, 18, 17, 16, 15, 14, 13, 12, 11, 10, 9, 8, 7, 6, 5, 4, 3, 2, 1]\n"
     ]
    }
   ],
   "source": [
    "del exo[75]\n",
    "print(exo)"
   ]
  },
  {
   "cell_type": "code",
   "execution_count": 16,
   "id": "0e3b7766-a0e9-4b64-8b9e-6273acfadd63",
   "metadata": {},
   "outputs": [
    {
     "data": {
      "text/plain": [
       "99"
      ]
     },
     "execution_count": 16,
     "metadata": {},
     "output_type": "execute_result"
    }
   ],
   "source": [
    "len(exo)"
   ]
  },
  {
   "cell_type": "code",
   "execution_count": 17,
   "id": "94b041b8-bce9-417c-9345-161b8511ff7d",
   "metadata": {},
   "outputs": [
    {
     "name": "stdout",
     "output_type": "stream",
     "text": [
      "[1, 2, 3, 4, 5, 6, 7, 8, 9, 10, 11, 12, 13, 14, 15, 16, 17, 18, 19, 20, 21, 22, 23, 24, 25, 26, 27, 28, 29, 30, 31, 32, 33, 34, 35, 36, 37, 38, 39, 40, 41, 42, 43, 44, 45, 46, 47, 48, 49, 50, 51, 52, 53, 54, 55, 56, 57, 58, 59, 60, 61, 62, 63, 64, 65, 66, 67, 68, 69, 70, 71, 72, 73, 74, 75, 76, 77, 78, 79, 80, 81, 82, 83, 84, 85, 86, 87, 88, 89, 90, 91, 92, 93, 94, 95, 96, 97, 98, 99, 100, 101, 102, 103, 104, 105, 106, 107, 108, 109, 110, 111, 112, 113, 114, 115, 116, 117, 118, 119, 120, 121, 122, 123, 124, 125, 126, 127, 128, 129, 130, 131, 132, 133, 134, 135, 136, 137, 138, 139, 140, 141, 142, 143, 144, 145, 146, 147, 148, 149, 150, 151, 152, 153, 154, 155, 156, 157, 158, 159, 160, 161, 162, 163, 164, 165, 166, 167, 168, 169, 170, 171, 172, 173, 174, 175, 176, 177, 178, 179, 180, 181, 182, 183, 184, 185, 186, 187, 188, 189, 190, 191, 192, 193, 194, 195]\n"
     ]
    }
   ],
   "source": [
    "eleves=list(range(1,201))\n",
    "print(eleves[:195])"
   ]
  },
  {
   "cell_type": "code",
   "execution_count": 24,
   "id": "d4106c34-206a-4678-848e-2e1673c80757",
   "metadata": {},
   "outputs": [
    {
     "name": "stdout",
     "output_type": "stream",
     "text": [
      "[23, 19, 18, 30, 21, 19, 21, 20, 10, 12]\n"
     ]
    }
   ],
   "source": [
    "age=[23,19,18,30,21,19,21,20,10]\n",
    "age1=[12]\n",
    "age.extend(age1)\n",
    "print(age)"
   ]
  },
  {
   "cell_type": "code",
   "execution_count": 25,
   "id": "f59f02fa-b9ef-48ad-9083-44de6f34059f",
   "metadata": {},
   "outputs": [
    {
     "name": "stdout",
     "output_type": "stream",
     "text": [
      "[12, 10, 20, 21, 19, 21, 30, 18, 19, 23]\n"
     ]
    }
   ],
   "source": [
    "age.reverse()\n",
    "print(age)"
   ]
  },
  {
   "cell_type": "code",
   "execution_count": 27,
   "id": "6ae88910-b1da-4cc9-81f9-c317ec3505f1",
   "metadata": {},
   "outputs": [
    {
     "data": {
      "text/plain": [
       "6"
      ]
     },
     "execution_count": 27,
     "metadata": {},
     "output_type": "execute_result"
    }
   ],
   "source": [
    "age.index(30)"
   ]
  },
  {
   "cell_type": "code",
   "execution_count": 28,
   "id": "c178cd34-4241-4ca7-9c7a-fb98e6bd0130",
   "metadata": {},
   "outputs": [
    {
     "name": "stdout",
     "output_type": "stream",
     "text": [
      "[20]\n"
     ]
    }
   ],
   "source": [
    "print(age[2:3])"
   ]
  },
  {
   "cell_type": "code",
   "execution_count": 29,
   "id": "72936a83-ca69-4349-af57-97ae6b12a369",
   "metadata": {},
   "outputs": [
    {
     "name": "stdout",
     "output_type": "stream",
     "text": [
      "[10]\n"
     ]
    }
   ],
   "source": [
    "print(age[1:2])"
   ]
  },
  {
   "cell_type": "code",
   "execution_count": 31,
   "id": "d18d148b-cd10-4da4-90f4-639d18e1f134",
   "metadata": {},
   "outputs": [
    {
     "name": "stdout",
     "output_type": "stream",
     "text": [
      "[21, 19, 21, 30, 18, 19, 23]\n"
     ]
    }
   ],
   "source": [
    "print(age[3:])"
   ]
  },
  {
   "cell_type": "code",
   "execution_count": 32,
   "id": "8f292ba9-e236-48a8-a936-b2917c7a328e",
   "metadata": {},
   "outputs": [
    {
     "name": "stdout",
     "output_type": "stream",
     "text": [
      "[12, 10, 20, 21, 19, 21, 30, 18, 19, 23]\n"
     ]
    }
   ],
   "source": [
    "print(age[:])"
   ]
  },
  {
   "cell_type": "code",
   "execution_count": 33,
   "id": "235aab72-e674-44a4-8742-9e0ef3f0aa6a",
   "metadata": {},
   "outputs": [
    {
     "name": "stdout",
     "output_type": "stream",
     "text": [
      "23\n"
     ]
    }
   ],
   "source": [
    "print(age[-1])"
   ]
  },
  {
   "cell_type": "code",
   "execution_count": 36,
   "id": "f4aaf7e2-7379-4f41-8499-c5bc3a36402a",
   "metadata": {},
   "outputs": [
    {
     "name": "stdout",
     "output_type": "stream",
     "text": [
      "[10, 12, 18, 19, 19, 20, 21, 21, 23, 30]\n"
     ]
    }
   ],
   "source": [
    "age.sort()\n",
    "print(age)"
   ]
  },
  {
   "cell_type": "code",
   "execution_count": null,
   "id": "d54fa0f3-9707-4b94-b9fc-4ca70b7ce526",
   "metadata": {},
   "outputs": [],
   "source": []
  }
 ],
 "metadata": {
  "kernelspec": {
   "display_name": "Python 3 (ipykernel)",
   "language": "python",
   "name": "python3"
  },
  "language_info": {
   "codemirror_mode": {
    "name": "ipython",
    "version": 3
   },
   "file_extension": ".py",
   "mimetype": "text/x-python",
   "name": "python",
   "nbconvert_exporter": "python",
   "pygments_lexer": "ipython3",
   "version": "3.12.4"
  }
 },
 "nbformat": 4,
 "nbformat_minor": 5
}
