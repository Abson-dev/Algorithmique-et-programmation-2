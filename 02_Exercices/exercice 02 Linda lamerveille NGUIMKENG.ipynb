{
 "cells": [
  {
   "cell_type": "code",
   "execution_count": 25,
   "id": "490e7ffd-6420-4e3c-8e13-a04a78f2901e",
   "metadata": {},
   "outputs": [
    {
     "name": "stdout",
     "output_type": "stream",
     "text": [
      "voici votre liste:  [61, 79, 17, 5, 87, 4, 21, 34, 31, 34]\n",
      "voici la nouvelle liste:  [61, 79, 17, 5, 100, 4, 21, 34, 31, 34, 200]\n",
      "liste selection:  [61, 79, 5, 100, 4, 21, 34, 31, 34, 200]\n"
     ]
    }
   ],
   "source": [
    "#exercice 2#\n",
    "#création et modification #\n",
    "import random \n",
    "liste = [random.randint(1, 100) for _ in range(10)]\n",
    "print(\"voici votre liste: \",liste)\n",
    "liste[4]=100\n",
    "liste.append (200)\n",
    "print(\"voici la nouvelle liste: \",liste)\n",
    "del liste[2]\n",
    "print(\"liste selection: \",liste)"
   ]
  },
  {
   "cell_type": "code",
   "execution_count": 13,
   "id": "d1111deb-995d-41cb-a7c7-06c037bffef7",
   "metadata": {},
   "outputs": [
    {
     "name": "stdout",
     "output_type": "stream",
     "text": [
      "liste trier [10, 22, 23, 34, 39, 39, 40, 42, 100, 200]\n",
      "[10, 22, 23, 34, 39]\n"
     ]
    }
   ],
   "source": [
    "#tri et decoupage \n",
    "liste.sort()\n",
    "print(\"liste trier: \",liste)\n",
    "print(liste[:5])"
   ]
  },
  {
   "cell_type": "code",
   "execution_count": 17,
   "id": "794eb1ec-d011-4b97-8204-719373b6acd0",
   "metadata": {},
   "outputs": [
    {
     "name": "stdout",
     "output_type": "stream",
     "text": [
      "Liste des carrés de 1 à 10 : [1, 4, 9, 16, 25, 36, 49, 64, 81, 100]\n",
      "liste des nombres pairs de la liste de depart [10, 22, 34, 40, 42, 100, 200]\n"
     ]
    }
   ],
   "source": [
    "#comprehension de la liste \n",
    "carres = [x**2 for x in range(1, 11)]\n",
    "print(\"Liste des carrés de 1 à 10 :\", carres)\n",
    "pairs=[x for x in liste if x%2==0]\n",
    "print(\"liste des nombres pairs de la liste de depart\",pairs)"
   ]
  },
  {
   "cell_type": "code",
   "execution_count": 23,
   "id": "2611adc5-81b9-4027-bcb8-71f41008ade9",
   "metadata": {},
   "outputs": [
    {
     "name": "stdout",
     "output_type": "stream",
     "text": [
      "deuxieme pays: Senegal\n",
      "dernier pays:  Benin\n"
     ]
    }
   ],
   "source": [
    "# 2 tuple\n",
    "#base de tuple \n",
    "tuple_pays=(\"Cameroun\",\"Senegal\",\"Burkina Faso\",\"Niger\",\"Benin\")\n",
    "print(\"deuxieme pays: \",tuple_pays[1])\n",
    "print(\"dernier pays: \",tuple_pays[-1])"
   ]
  },
  {
   "cell_type": "code",
   "execution_count": 31,
   "id": "0fa7bb75-c21e-43a9-8561-51603ff093da",
   "metadata": {},
   "outputs": [
    {
     "name": "stdout",
     "output_type": "stream",
     "text": [
      "Nom : linda\n",
      "Âge : lamerveille\n",
      "Pays : 21\n"
     ]
    }
   ],
   "source": [
    "#Déballage de tuple (unpacking)\n",
    "tuple_donnee=(\"nom\",\"âge\",\"pays\")\n",
    "personne=(\"linda\",\"lamerveille\",21)\n",
    "nom, age, pays = personne\n",
    "print(\"Nom :\", nom)\n",
    "print(\"Âge :\", age)\n",
    "print(\"Pays :\", pays)"
   ]
  },
  {
   "cell_type": "code",
   "execution_count": 33,
   "id": "452b3a1a-4011-4dfd-afd3-dcf1e9c8ce40",
   "metadata": {},
   "outputs": [
    {
     "ename": "TypeError",
     "evalue": "'tuple' object does not support item assignment",
     "output_type": "error",
     "traceback": [
      "\u001b[1;31m---------------------------------------------------------------------------\u001b[0m",
      "\u001b[1;31mTypeError\u001b[0m                                 Traceback (most recent call last)",
      "Cell \u001b[1;32mIn[33], line 2\u001b[0m\n\u001b[0;32m      1\u001b[0m \u001b[38;5;66;03m#Tuples et immutabilité\u001b[39;00m\n\u001b[1;32m----> 2\u001b[0m personne[\u001b[38;5;241m1\u001b[39m]\u001b[38;5;241m=\u001b[39m\u001b[38;5;124m\"\u001b[39m\u001b[38;5;124mbelle\u001b[39m\u001b[38;5;124m\"\u001b[39m\n",
      "\u001b[1;31mTypeError\u001b[0m: 'tuple' object does not support item assignment"
     ]
    }
   ],
   "source": [
    "#Tuples et immutabilité\n",
    "personne[1]=\"belle\"\n"
   ]
  },
  {
   "cell_type": "code",
   "execution_count": null,
   "id": "a0f1c752-8885-4e49-b2e1-08658dcb6e34",
   "metadata": {},
   "outputs": [],
   "source": [
    "#un tuple est immuable parce qu'il a été conçu pour stocker des données qui ne doivent pas changer après leur création\n",
    "#il est utilise par exemple pour l'identifiant des salasalariés "
   ]
  },
  {
   "cell_type": "code",
   "execution_count": 39,
   "id": "52cb5568-ed13-4942-84af-f01efd12f932",
   "metadata": {},
   "outputs": [
    {
     "name": "stdout",
     "output_type": "stream",
     "text": [
      "Note de touken ymele est:  12\n"
     ]
    }
   ],
   "source": [
    "#3.\tDictionnaire\n",
    "#Création et accès\n",
    "etudiants = {\n",
    "    \"linda\": 15,\n",
    "    \"lamerveille\": 18,\n",
    "    \"touken ymele\": 12,\n",
    "    \"nguimkeng\": 17,\n",
    "    \"sky ari\": 14\n",
    "}\n",
    "print(\"Note de touken ymele est: \", etudiants[\"touken ymele\"])"
   ]
  },
  {
   "cell_type": "code",
   "execution_count": 41,
   "id": "c2f0159f-792e-419d-bb49-f475845eb502",
   "metadata": {},
   "outputs": [
    {
     "name": "stdout",
     "output_type": "stream",
     "text": [
      "{'linda': 15, 'lamerveille': 18, 'touken ymele': 19, 'nguimkeng': 17, 'sky ari': 14, 'christine tesla ': 16}\n"
     ]
    }
   ],
   "source": [
    "#Ajout et modification\n",
    "etudiants[\"christine tesla \"] = 16\n",
    "etudiants[\"touken ymele\"] = 19\n",
    "print(etudiants)"
   ]
  },
  {
   "cell_type": "code",
   "execution_count": 49,
   "id": "644c01e8-2f34-43af-8d21-691d0b9fe4c1",
   "metadata": {},
   "outputs": [
    {
     "name": "stdout",
     "output_type": "stream",
     "text": [
      "Noms des étudiants:  dict_keys(['linda', 'lamerveille', 'touken ymele', 'nguimkeng', 'sky ari', 'christine tesla '])\n",
      "linda\n",
      "lamerveille\n",
      "touken ymele\n",
      "nguimkeng\n",
      "sky ari\n",
      "christine tesla \n",
      "note des etudiants dict_values([15, 18, 19, 17, 14, 16])\n",
      "Paires nom-note : dict_items([('linda', 15), ('lamerveille', 18), ('touken ymele', 19), ('nguimkeng', 17), ('sky ari', 14), ('christine tesla ', 16)])\n"
     ]
    }
   ],
   "source": [
    "# Boucles sur dictionnaires\n",
    "#affiche tous les noms\n",
    "print(\"Noms des étudiants: \", etudiants.keys())\n",
    "\n",
    "#afficher un par un par \n",
    "for nom in etudiants.keys():\n",
    "    print(nom)\n",
    "    \n",
    "#affichage de tous les notes des etudiants \n",
    "print(\"note des etudiants\",etudiants.values())\n",
    "\n",
    "#cle valeur represente l affichage des notes et des noms \n",
    "print(\"Paires nom-note :\", etudiants.items())\n"
   ]
  },
  {
   "cell_type": "code",
   "execution_count": 53,
   "id": "e6631467-9957-402c-b182-f755b2337cba",
   "metadata": {},
   "outputs": [
    {
     "name": "stdout",
     "output_type": "stream",
     "text": [
      "Note de linda en sciences : 18\n"
     ]
    }
   ],
   "source": [
    "#Dictionnaire imbriqué\n",
    "etudiant = {\n",
    "    \"linda\": {\"maths\": 15, \"sciences\": 18},\n",
    "    \"lamerveille\": {\"maths\": 12, \"sciences\": 14},\n",
    "    \"touken ymele \": {\"maths\": 17, \"sciences\": 16}\n",
    "    \n",
    "}\n",
    "print(\"Note de linda en sciences :\", etudiant[\"linda\"][\"sciences\"])"
   ]
  },
  {
   "cell_type": "code",
   "execution_count": null,
   "id": "0136c875-f46c-42db-825a-10ae8700e920",
   "metadata": {},
   "outputs": [],
   "source": []
  }
 ],
 "metadata": {
  "kernelspec": {
   "display_name": "Python [conda env:base] *",
   "language": "python",
   "name": "conda-base-py"
  },
  "language_info": {
   "codemirror_mode": {
    "name": "ipython",
    "version": 3
   },
   "file_extension": ".py",
   "mimetype": "text/x-python",
   "name": "python",
   "nbconvert_exporter": "python",
   "pygments_lexer": "ipython3",
   "version": "3.12.7"
  }
 },
 "nbformat": 4,
 "nbformat_minor": 5
}
