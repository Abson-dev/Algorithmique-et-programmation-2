{
 "cells": [
  {
   "cell_type": "code",
   "execution_count": 15,
   "id": "784bf32b-6369-4207-b7c6-f19ca701a983",
   "metadata": {},
   "outputs": [
    {
     "name": "stdout",
     "output_type": "stream",
     "text": [
      "0 1 1 2 3 5 8 13 21 34 "
     ]
    }
   ],
   "source": [
    "#définir une fonction qui calcule une suitte de fibonnaci\n",
    "def fibonacci(n):\n",
    "    if n <= 0:\n",
    "        return 0\n",
    "    elif n == 1:\n",
    "        return 1\n",
    "    else:\n",
    "        return fibonacci(n - 1) + fibonacci(n - 2)\n",
    "\n",
    "for i in range(10):\n",
    "    print(fibonacci(i), end=\" \")     "
   ]
  },
  {
   "cell_type": "code",
   "execution_count": 13,
   "id": "2c1e1f06-e6ac-42e4-a523-bf7e8904c785",
   "metadata": {},
   "outputs": [
    {
     "name": "stdout",
     "output_type": "stream",
     "text": [
      "5040\n"
     ]
    }
   ],
   "source": [
    "# definir une fonction qui calcule factoriel d'un nombre\n",
    "def factoriel(n):\n",
    "    if n == 0 or n == 1:\n",
    "        return 1\n",
    "    else:\n",
    "        return n * factoriel(n - 1)\n",
    "print(factoriel(7))"
   ]
  },
  {
   "cell_type": "code",
   "execution_count": null,
   "id": "da59c38c-4eda-4871-ad42-e8c7c269da5b",
   "metadata": {},
   "outputs": [],
   "source": []
  }
 ],
 "metadata": {
  "kernelspec": {
   "display_name": "Python [conda env:base] *",
   "language": "python",
   "name": "conda-base-py"
  },
  "language_info": {
   "codemirror_mode": {
    "name": "ipython",
    "version": 3
   },
   "file_extension": ".py",
   "mimetype": "text/x-python",
   "name": "python",
   "nbconvert_exporter": "python",
   "pygments_lexer": "ipython3",
   "version": "3.12.7"
  }
 },
 "nbformat": 4,
 "nbformat_minor": 5
}
