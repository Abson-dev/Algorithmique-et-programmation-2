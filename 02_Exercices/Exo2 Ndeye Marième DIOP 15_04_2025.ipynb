{
 "cells": [
  {
   "cell_type": "code",
   "execution_count": 7,
   "id": "f58e885f-7227-42c1-be74-f948c475e2ad",
   "metadata": {},
   "outputs": [
    {
     "name": "stdout",
     "output_type": "stream",
     "text": [
      "[1, 2, 3, 4, 5, 6, 7, 8, 9, 10]\n"
     ]
    }
   ],
   "source": [
    "#liste\n",
    "ma_liste=list(range(1,11))\n",
    "print(ma_liste)"
   ]
  },
  {
   "cell_type": "code",
   "execution_count": 9,
   "id": "0e8018b9-b794-4552-ad40-697781a5cf7f",
   "metadata": {},
   "outputs": [
    {
     "name": "stdout",
     "output_type": "stream",
     "text": [
      "[1, 2, 3, 4, 100, 6, 7, 8, 9, 10]\n"
     ]
    }
   ],
   "source": [
    "ma_liste[4]=100\n",
    "print(ma_liste)"
   ]
  },
  {
   "cell_type": "code",
   "execution_count": 11,
   "id": "e895d299-4b32-479f-a897-82c207ba269e",
   "metadata": {},
   "outputs": [
    {
     "name": "stdout",
     "output_type": "stream",
     "text": [
      "[1, 2, 3, 4, 100, 6, 7, 8, 9, 10, 200]\n"
     ]
    }
   ],
   "source": [
    "ma_liste.append(200)\n",
    "print(ma_liste)"
   ]
  },
  {
   "cell_type": "code",
   "execution_count": 23,
   "id": "bbab94ed-0213-4b8d-abd8-c21d58a52153",
   "metadata": {},
   "outputs": [
    {
     "name": "stdout",
     "output_type": "stream",
     "text": [
      "[1, 2, 4, 100, 6, 7, 8, 9, 10, 200]\n"
     ]
    }
   ],
   "source": [
    "del ma_liste [2]\n",
    "print(ma_liste)"
   ]
  },
  {
   "cell_type": "code",
   "execution_count": 27,
   "id": "f9d8155a-b070-4a1a-95d7-8e6fc3821707",
   "metadata": {},
   "outputs": [
    {
     "name": "stdout",
     "output_type": "stream",
     "text": [
      "[1, 2, 4, 6, 7, 8, 9, 10, 100, 200]\n"
     ]
    }
   ],
   "source": [
    "ma_liste.sort()\n",
    "print(ma_liste)"
   ]
  },
  {
   "cell_type": "code",
   "execution_count": 29,
   "id": "c1aaf03e-46f5-4a73-b1b8-3025c60048f8",
   "metadata": {},
   "outputs": [
    {
     "data": {
      "text/plain": [
       "[1, 2, 4, 6, 7]"
      ]
     },
     "execution_count": 29,
     "metadata": {},
     "output_type": "execute_result"
    }
   ],
   "source": [
    "ma_liste[:5]"
   ]
  },
  {
   "cell_type": "code",
   "execution_count": 31,
   "id": "b4d64055-e301-40e6-9382-e6d0ff8a72ad",
   "metadata": {},
   "outputs": [
    {
     "name": "stdout",
     "output_type": "stream",
     "text": [
      "[1, 4, 9, 16, 25, 36, 49, 64, 81, 100]\n"
     ]
    }
   ],
   "source": [
    "nombre=list(range(1,11))\n",
    "carrés=[x**2 for x in nombre]\n",
    "print(carrés)"
   ]
  },
  {
   "cell_type": "code",
   "execution_count": 35,
   "id": "fd1b1eec-8d71-430a-aee2-31586edcd2ad",
   "metadata": {},
   "outputs": [
    {
     "name": "stdout",
     "output_type": "stream",
     "text": [
      "[2, 4, 6, 8, 10, 100, 200]\n"
     ]
    }
   ],
   "source": [
    "pairs=[x for x in ma_liste if x %2 == 0]\n",
    "print(pairs)"
   ]
  },
  {
   "cell_type": "code",
   "execution_count": 41,
   "id": "556e145d-0618-4c57-81a6-6e6a9d0b7131",
   "metadata": {},
   "outputs": [
    {
     "name": "stdout",
     "output_type": "stream",
     "text": [
      "('Sénégal', 'Brésil', 'Japon', 'Canada', 'Benin')\n"
     ]
    }
   ],
   "source": [
    "# tuple\n",
    "pays=(\"Sénégal\",\"Brésil\",\"Japon\",\"Canada\",\"Benin\")\n",
    "print(pays)"
   ]
  },
  {
   "cell_type": "code",
   "execution_count": 43,
   "id": "f8f75da6-0965-4369-bbb0-9f390385e7d6",
   "metadata": {},
   "outputs": [
    {
     "data": {
      "text/plain": [
       "'Brésil'"
      ]
     },
     "execution_count": 43,
     "metadata": {},
     "output_type": "execute_result"
    }
   ],
   "source": [
    "pays[1]"
   ]
  },
  {
   "cell_type": "code",
   "execution_count": 45,
   "id": "37b2183a-c0b7-41b3-9641-522929ffa040",
   "metadata": {},
   "outputs": [
    {
     "data": {
      "text/plain": [
       "'Benin'"
      ]
     },
     "execution_count": 45,
     "metadata": {},
     "output_type": "execute_result"
    }
   ],
   "source": [
    "pays[-1]"
   ]
  },
  {
   "cell_type": "code",
   "execution_count": 47,
   "id": "8f97e1c7-b33b-46ad-90a9-c004e7a4fbfc",
   "metadata": {},
   "outputs": [
    {
     "name": "stdout",
     "output_type": "stream",
     "text": [
      "('ndeye', 19, 'Sénégal')\n"
     ]
    }
   ],
   "source": [
    "mon_tuple=(\"ndeye\",19,\"Sénégal\")\n",
    "print(mon_tuple)"
   ]
  },
  {
   "cell_type": "code",
   "execution_count": 49,
   "id": "7e43afff-6c6f-41f2-9e49-7c8b625d5017",
   "metadata": {},
   "outputs": [
    {
     "name": "stdout",
     "output_type": "stream",
     "text": [
      "Nom: ndeye\n",
      "age: 19\n",
      "pays Sénégal\n"
     ]
    }
   ],
   "source": [
    "nom,age,pays=mon_tuple\n",
    "print(\"Nom:\",nom)\n",
    "print(\"age:\",age)\n",
    "print(\"pays\",pays)"
   ]
  },
  {
   "cell_type": "code",
   "execution_count": 51,
   "id": "b29c0b14-9054-415a-a0d7-f0ad8ffa3e65",
   "metadata": {},
   "outputs": [
    {
     "ename": "TypeError",
     "evalue": "'tuple' object does not support item assignment",
     "output_type": "error",
     "traceback": [
      "\u001b[1;31m---------------------------------------------------------------------------\u001b[0m",
      "\u001b[1;31mTypeError\u001b[0m                                 Traceback (most recent call last)",
      "Cell \u001b[1;32mIn[51], line 1\u001b[0m\n\u001b[1;32m----> 1\u001b[0m mon_tuple[\u001b[38;5;241m1\u001b[39m]\u001b[38;5;241m=\u001b[39m\u001b[38;5;124m\"\u001b[39m\u001b[38;5;124mmarième\u001b[39m\u001b[38;5;124m\"\u001b[39m\n",
      "\u001b[1;31mTypeError\u001b[0m: 'tuple' object does not support item assignment"
     ]
    }
   ],
   "source": [
    "mon_tuple[1]=\"marième\"\n",
    "#ceci a provoquer une erreur"
   ]
  },
  {
   "cell_type": "code",
   "execution_count": 53,
   "id": "3e8251f3-197a-457c-a01b-caad1cd482a0",
   "metadata": {},
   "outputs": [],
   "source": [
    "#un tuple est immuable car on ne peut ni changer ses éléments ni ajouter ni supprimer\n"
   ]
  },
  {
   "cell_type": "code",
   "execution_count": 55,
   "id": "523a9a5e-8d6c-41a1-bd9c-f6bca4946099",
   "metadata": {},
   "outputs": [],
   "source": [
    "#on l'utilise quand les données sont fixe\n"
   ]
  },
  {
   "cell_type": "code",
   "execution_count": 59,
   "id": "096e5d8e-0316-47f4-bd73-aa9aba944933",
   "metadata": {},
   "outputs": [
    {
     "name": "stdout",
     "output_type": "stream",
     "text": [
      "{'etud1': 13, 'etud2': 17, 'etud3': 15, 'etud4': 10, 'etud5': 14}\n"
     ]
    }
   ],
   "source": [
    "# Dictionnaire\n",
    "mon_duc={\"etud1\":13,\"etud2\":17,\"etud3\":15,\"etud4\":10,\"etud5\":14}\n",
    "print(mon_duc)"
   ]
  },
  {
   "cell_type": "code",
   "execution_count": 63,
   "id": "c5ed3d73-4f71-4710-9f40-5f9d48198da6",
   "metadata": {},
   "outputs": [
    {
     "data": {
      "text/plain": [
       "15"
      ]
     },
     "execution_count": 63,
     "metadata": {},
     "output_type": "execute_result"
    }
   ],
   "source": [
    "mon_duc[\"etud3\"]"
   ]
  },
  {
   "cell_type": "code",
   "execution_count": 69,
   "id": "02155a7e-5539-4c79-9009-e3f120828234",
   "metadata": {},
   "outputs": [
    {
     "name": "stdout",
     "output_type": "stream",
     "text": [
      "{'etud1': 13, 'etud2': 17, 'etud3': 15, 'etud4': 14, 'etud5': 14}\n"
     ]
    }
   ],
   "source": [
    "mon_duc[\"etud4\"]=14\n",
    "print(mon_duc)"
   ]
  },
  {
   "cell_type": "code",
   "execution_count": 71,
   "id": "230d2339-fad8-44ca-bb02-f4e109cb9a20",
   "metadata": {},
   "outputs": [],
   "source": [
    "mon_duc[\"etud6\"]=16"
   ]
  },
  {
   "cell_type": "code",
   "execution_count": 94,
   "id": "10e424b4-645b-4c40-bbbf-2d081c5a1658",
   "metadata": {},
   "outputs": [
    {
     "name": "stdout",
     "output_type": "stream",
     "text": [
      "{'etud1': 13, 'etud2': 17, 'etud3': 15, 'etud4': 14, 'etud5': 14, 'etud6': 16}\n"
     ]
    }
   ],
   "source": [
    "print(mon_duc)"
   ]
  },
  {
   "cell_type": "code",
   "execution_count": 96,
   "id": "0828b823-202f-4427-82af-35cb90dde5f2",
   "metadata": {},
   "outputs": [
    {
     "name": "stdout",
     "output_type": "stream",
     "text": [
      "etud1\n",
      "etud2\n",
      "etud3\n",
      "etud4\n",
      "etud5\n",
      "etud6\n"
     ]
    }
   ],
   "source": [
    "for nom in mon_duc.keys():\n",
    "    print(nom)\n",
    "    "
   ]
  },
  {
   "cell_type": "code",
   "execution_count": 98,
   "id": "c86d0dd9-a33f-4d03-8cfb-a4e7c1656207",
   "metadata": {},
   "outputs": [
    {
     "name": "stdout",
     "output_type": "stream",
     "text": [
      "13\n",
      "17\n",
      "15\n",
      "14\n",
      "14\n",
      "16\n"
     ]
    }
   ],
   "source": [
    "for note in mon_duc.values():\n",
    "    print(note)\n",
    "    "
   ]
  },
  {
   "cell_type": "code",
   "execution_count": 100,
   "id": "e895d66e-f993-4bad-b2f4-644a44bb3c56",
   "metadata": {},
   "outputs": [
    {
     "name": "stdout",
     "output_type": "stream",
     "text": [
      "('etud1', 13)\n",
      "('etud2', 17)\n",
      "('etud3', 15)\n",
      "('etud4', 14)\n",
      "('etud5', 14)\n",
      "('etud6', 16)\n"
     ]
    }
   ],
   "source": [
    "for etu in mon_duc.items():\n",
    "    print(etu)\n",
    "    "
   ]
  },
  {
   "cell_type": "code",
   "execution_count": 126,
   "id": "23f05bfb-e565-4859-99f4-62ecdb00e369",
   "metadata": {},
   "outputs": [
    {
     "name": "stdout",
     "output_type": "stream",
     "text": [
      "{'etud1': {'maths': 15, 'sciences': 17}, 'etud2': {'maths': 12, 'sciences': 14}, 'etud3': {'maths': 18, 'sciences': 19}}\n"
     ]
    },
    {
     "data": {
      "text/plain": [
       "(\"Note d'un etudiant :\", 14)"
      ]
     },
     "execution_count": 126,
     "metadata": {},
     "output_type": "execute_result"
    }
   ],
   "source": [
    "# Création du dictionnaire imbriqué\n",
    "ductionnaire = {\n",
    "    \"etud1\": {\"maths\": 15, \"sciences\": 17},\n",
    "    \"etud2\": {\"maths\": 12, \"sciences\": 14},\n",
    "    \"etud3\": {\"maths\": 18, \"sciences\": 19}\n",
    "}\n",
    "print(ductionnaire )\n",
    "(\"Note d'un etudiant :\", ductionnaire [\"etud2\"][\"sciences\"])\n"
   ]
  }
 ],
 "metadata": {
  "kernelspec": {
   "display_name": "Python [conda env:base] *",
   "language": "python",
   "name": "conda-base-py"
  },
  "language_info": {
   "codemirror_mode": {
    "name": "ipython",
    "version": 3
   },
   "file_extension": ".py",
   "mimetype": "text/x-python",
   "name": "python",
   "nbconvert_exporter": "python",
   "pygments_lexer": "ipython3",
   "version": "3.12.7"
  }
 },
 "nbformat": 4,
 "nbformat_minor": 5
}
