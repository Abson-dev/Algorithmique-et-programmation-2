{
 "cells": [
  {
   "cell_type": "code",
   "execution_count": 1,
   "id": "12d31e96-ef5a-442d-8052-e5c720330589",
   "metadata": {},
   "outputs": [
    {
     "name": "stdout",
     "output_type": "stream",
     "text": [
      "[2, 6, 9, 1, 100, 65, 89, 21, 35, 46]\n"
     ]
    }
   ],
   "source": [
    "liste=[2,6,9,1,13,65,89,21,35,46]\n",
    "liste[4]=100\n",
    "print(liste)"
   ]
  },
  {
   "cell_type": "code",
   "execution_count": 2,
   "id": "2b69e680-8c77-4371-ad2b-4ec7806f55ff",
   "metadata": {},
   "outputs": [
    {
     "name": "stdout",
     "output_type": "stream",
     "text": [
      "[2, 6, 9, 1, 100, 65, 89, 21, 35, 46, 200]\n"
     ]
    }
   ],
   "source": [
    "ajouter=200\n",
    "liste.append(ajouter)\n",
    "print(liste)"
   ]
  },
  {
   "cell_type": "code",
   "execution_count": 3,
   "id": "146b43b1-c185-4ca9-a1a2-f35086f08775",
   "metadata": {},
   "outputs": [
    {
     "name": "stdout",
     "output_type": "stream",
     "text": [
      "[2, 6, 1, 100, 65, 89, 21, 35, 46, 200]\n"
     ]
    }
   ],
   "source": [
    "del liste[2]\n",
    "print(liste)\n"
   ]
  },
  {
   "cell_type": "code",
   "execution_count": 5,
   "id": "a3d380fd-f373-4261-943b-b343f736b0ae",
   "metadata": {},
   "outputs": [
    {
     "name": "stdout",
     "output_type": "stream",
     "text": [
      "[1, 2, 6, 21, 35, 46, 65, 89, 100, 200]\n"
     ]
    }
   ],
   "source": [
    "liste.sort()\n",
    "print(liste)"
   ]
  },
  {
   "cell_type": "code",
   "execution_count": 8,
   "id": "0a92880c-5604-4d30-977c-940c02ea503e",
   "metadata": {},
   "outputs": [
    {
     "data": {
      "text/plain": [
       "[1, 2, 6, 21, 35]"
      ]
     },
     "execution_count": 8,
     "metadata": {},
     "output_type": "execute_result"
    }
   ],
   "source": [
    "liste[:5]"
   ]
  },
  {
   "cell_type": "code",
   "execution_count": 9,
   "id": "369b73f2-1b27-42e5-9960-00fc362f7938",
   "metadata": {},
   "outputs": [
    {
     "name": "stdout",
     "output_type": "stream",
     "text": [
      "[1, 2, 3, 4, 5, 6, 7, 8, 9, 10]\n"
     ]
    }
   ],
   "source": [
    "listes=list(range(1,11))\n",
    "print(listes)"
   ]
  },
  {
   "cell_type": "code",
   "execution_count": 13,
   "id": "589ffdc8-67eb-4879-b5ec-b1026e2f8f13",
   "metadata": {},
   "outputs": [
    {
     "name": "stdout",
     "output_type": "stream",
     "text": [
      "[1, 4, 9, 16, 25, 36, 49, 64, 81, 100]\n"
     ]
    }
   ],
   "source": [
    "carres=[x**2 for x in listes]\n",
    "print(carres)"
   ]
  },
  {
   "cell_type": "code",
   "execution_count": 25,
   "id": "8ef0de4e-c389-4fb4-9768-534000bc1bc2",
   "metadata": {},
   "outputs": [
    {
     "name": "stdout",
     "output_type": "stream",
     "text": [
      "[2, 6, 46, 100, 200]\n"
     ]
    }
   ],
   "source": [
    "paire=[a for a in liste if a%2==0]\n",
    "print(paire)"
   ]
  },
  {
   "cell_type": "code",
   "execution_count": 26,
   "id": "37e139cf-9e4b-4ff2-a6f0-265dbf0315d4",
   "metadata": {},
   "outputs": [
    {
     "name": "stdout",
     "output_type": "stream",
     "text": [
      "('Senegal', 'Cameroune', 'Benin', 'Niger', 'Burkina')\n"
     ]
    }
   ],
   "source": [
    "mon_tuple=('Senegal','Cameroune','Benin','Niger','Burkina')\n",
    "print(mon_tuple)"
   ]
  },
  {
   "cell_type": "code",
   "execution_count": 32,
   "id": "59db5f73-e81c-426e-8582-32794dcc6ef0",
   "metadata": {},
   "outputs": [
    {
     "data": {
      "text/plain": [
       "'Cameroune'"
      ]
     },
     "execution_count": 32,
     "metadata": {},
     "output_type": "execute_result"
    }
   ],
   "source": [
    "mon_tuple[1]"
   ]
  },
  {
   "cell_type": "code",
   "execution_count": 33,
   "id": "19446a72-ee8d-47fe-bcd6-d31907126508",
   "metadata": {},
   "outputs": [
    {
     "data": {
      "text/plain": [
       "'Burkina'"
      ]
     },
     "execution_count": 33,
     "metadata": {},
     "output_type": "execute_result"
    }
   ],
   "source": [
    "mon_tuple[-1]"
   ]
  },
  {
   "cell_type": "code",
   "execution_count": 36,
   "id": "ece87eac-ddff-479d-9b27-6bd5062b4502",
   "metadata": {},
   "outputs": [
    {
     "name": "stdout",
     "output_type": "stream",
     "text": [
      "('Bruce', 58, 'Canada')\n"
     ]
    }
   ],
   "source": [
    "new_tuple=('Bruce',58,'Canada')\n",
    "print(new_tuple)"
   ]
  },
  {
   "cell_type": "code",
   "execution_count": 41,
   "id": "a1b446ba-d6bf-480f-b275-7154d54ece11",
   "metadata": {},
   "outputs": [
    {
     "name": "stdout",
     "output_type": "stream",
     "text": [
      "Bruce\n",
      "58\n",
      "Canada\n"
     ]
    }
   ],
   "source": [
    "a,b,c = new_tuple\n",
    "print(a)\n",
    "print(b)\n",
    "print(c)"
   ]
  },
  {
   "cell_type": "code",
   "execution_count": 42,
   "id": "ddc7154e-9b46-4619-82a3-721b7f2adc53",
   "metadata": {},
   "outputs": [
    {
     "ename": "TypeError",
     "evalue": "'tuple' object does not support item assignment",
     "output_type": "error",
     "traceback": [
      "\u001b[1;31m---------------------------------------------------------------------------\u001b[0m",
      "\u001b[1;31mTypeError\u001b[0m                                 Traceback (most recent call last)",
      "Cell \u001b[1;32mIn[42], line 1\u001b[0m\n\u001b[1;32m----> 1\u001b[0m mon_tuple[\u001b[38;5;241m1\u001b[39m]\u001b[38;5;241m=\u001b[39m\u001b[38;5;241m22\u001b[39m\n\u001b[0;32m      2\u001b[0m \u001b[38;5;28mprint\u001b[39m(mon_tuple)\n",
      "\u001b[1;31mTypeError\u001b[0m: 'tuple' object does not support item assignment"
     ]
    }
   ],
   "source": [
    "mon_tuple[1]=22\n",
    "print(mon_tuple)"
   ]
  },
  {
   "cell_type": "code",
   "execution_count": 48,
   "id": "ed2f1e7a-452f-4437-b1ab-1e8eea38ca83",
   "metadata": {},
   "outputs": [
    {
     "name": "stdout",
     "output_type": "stream",
     "text": [
      "{'lili': 12, 'willy': 17, 'siny3': 9, 'cally': 19, 'ruby': 7}\n"
     ]
    }
   ],
   "source": [
    "mon_dict={\"lili\":12,\"willy\":17,\"siny3\":9,\"cally\":19,\"ruby\":7}\n",
    "print(mon_dict)"
   ]
  },
  {
   "cell_type": "code",
   "execution_count": 53,
   "id": "e52d9866-1ea9-4f41-960b-63c15247cd6d",
   "metadata": {},
   "outputs": [
    {
     "data": {
      "text/plain": [
       "9"
      ]
     },
     "execution_count": 53,
     "metadata": {},
     "output_type": "execute_result"
    }
   ],
   "source": [
    "mon_dict['siny3']"
   ]
  },
  {
   "cell_type": "code",
   "execution_count": 58,
   "id": "267e989c-916a-4b4b-9db9-94fe62befefb",
   "metadata": {},
   "outputs": [
    {
     "name": "stdout",
     "output_type": "stream",
     "text": [
      "{'lili': 12, 'willy': 17, 'siny3': 9, 'cally': 19, 'ruby': 7, 'lucy': 15}\n"
     ]
    }
   ],
   "source": [
    "mon_dict.update({\"lucy\":15})\n",
    "print(mon_dict)"
   ]
  },
  {
   "cell_type": "code",
   "execution_count": 60,
   "id": "8f22f162-0720-4f5b-a4fa-381645d03cb7",
   "metadata": {},
   "outputs": [
    {
     "name": "stdout",
     "output_type": "stream",
     "text": [
      "{'lili': 12, 'willy': 13, 'siny3': 9, 'cally': 19, 'ruby': 7, 'lucy': 15}\n"
     ]
    }
   ],
   "source": [
    "mon_dict[\"willy\"]=13\n",
    "print(mon_dict)"
   ]
  },
  {
   "cell_type": "code",
   "execution_count": 61,
   "id": "4a6e326f-5802-4645-ab89-69a2b556f442",
   "metadata": {},
   "outputs": [
    {
     "name": "stdout",
     "output_type": "stream",
     "text": [
      "dict_keys(['lili', 'willy', 'siny3', 'cally', 'ruby', 'lucy'])\n"
     ]
    }
   ],
   "source": [
    "nom = mon_dict.keys()\n",
    "print(nom)"
   ]
  },
  {
   "cell_type": "code",
   "execution_count": 62,
   "id": "d59ca8ce-2086-4d0a-a075-9d78e5e86e0a",
   "metadata": {},
   "outputs": [
    {
     "name": "stdout",
     "output_type": "stream",
     "text": [
      "['lili', 'willy', 'siny3', 'cally', 'ruby', 'lucy']\n"
     ]
    }
   ],
   "source": [
    "print(list(nom))"
   ]
  },
  {
   "cell_type": "code",
   "execution_count": 63,
   "id": "9a14adc7-815a-402a-8f62-f27a826930e3",
   "metadata": {},
   "outputs": [
    {
     "name": "stdout",
     "output_type": "stream",
     "text": [
      "dict_values([12, 13, 9, 19, 7, 15])\n"
     ]
    }
   ],
   "source": [
    "valeur = mon_dict.values()\n",
    "print(valeur)"
   ]
  },
  {
   "cell_type": "code",
   "execution_count": 64,
   "id": "5e3582d1-39e0-4912-954a-560f06d2bc5e",
   "metadata": {},
   "outputs": [
    {
     "name": "stdout",
     "output_type": "stream",
     "text": [
      "[12, 13, 9, 19, 7, 15]\n"
     ]
    }
   ],
   "source": [
    "print(list(valeur))"
   ]
  },
  {
   "cell_type": "code",
   "execution_count": 65,
   "id": "95c370dc-20b9-410a-ab50-967baad4b85d",
   "metadata": {},
   "outputs": [
    {
     "name": "stdout",
     "output_type": "stream",
     "text": [
      "lili : 12\n",
      "willy : 13\n",
      "siny3 : 9\n",
      "cally : 19\n",
      "ruby : 7\n",
      "lucy : 15\n"
     ]
    }
   ],
   "source": [
    "for nom, valeur in mon_dict.items():print(f\"{nom} : {valeur}\")"
   ]
  },
  {
   "cell_type": "code",
   "execution_count": 73,
   "id": "f929a4e6-1527-4a43-ae3d-b3b9e1ecf3b2",
   "metadata": {},
   "outputs": [
    {
     "name": "stdout",
     "output_type": "stream",
     "text": [
      "{'lili': {'maths': 12, 'science': 14}, 'willy': {'maths': 14, 'science': 17}, 'cally': {'maths': 19, 'science': 20}, 'ruby': {'maths': 11, 'science': 10}}\n"
     ]
    }
   ],
   "source": [
    "etudiant={\"lili\":{\"maths\":12,\"science\":14},\"willy\":{\"maths\":14,\"science\":17},\"cally\":{\"maths\":19,\"science\":20},\"ruby\":{\"maths\":11,\"science\":10}}\n",
    "print(etudiant)"
   ]
  },
  {
   "cell_type": "code",
   "execution_count": 75,
   "id": "77e89819-9562-4276-bd9c-4837cb8fa046",
   "metadata": {},
   "outputs": [
    {
     "data": {
      "text/plain": [
       "14"
      ]
     },
     "execution_count": 75,
     "metadata": {},
     "output_type": "execute_result"
    }
   ],
   "source": [
    "etudiant[\"lili\"][\"science\"]"
   ]
  },
  {
   "cell_type": "code",
   "execution_count": null,
   "id": "132d7a08-f657-4095-bb76-65ca3572d76e",
   "metadata": {},
   "outputs": [],
   "source": []
  },
  {
   "cell_type": "code",
   "execution_count": null,
   "id": "b6589392-a2b4-4146-b9cb-c9814a993aea",
   "metadata": {},
   "outputs": [],
   "source": []
  }
 ],
 "metadata": {
  "kernelspec": {
   "display_name": "Python 3 (ipykernel)",
   "language": "python",
   "name": "python3"
  },
  "language_info": {
   "codemirror_mode": {
    "name": "ipython",
    "version": 3
   },
   "file_extension": ".py",
   "mimetype": "text/x-python",
   "name": "python",
   "nbconvert_exporter": "python",
   "pygments_lexer": "ipython3",
   "version": "3.12.4"
  }
 },
 "nbformat": 4,
 "nbformat_minor": 5
}
