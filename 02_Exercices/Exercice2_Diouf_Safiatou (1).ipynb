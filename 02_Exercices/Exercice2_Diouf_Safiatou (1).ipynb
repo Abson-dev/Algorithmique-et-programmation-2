{
 "cells": [
  {
   "cell_type": "code",
   "execution_count": 31,
   "id": "f14ac634-d650-497c-9575-5c7c813638b4",
   "metadata": {},
   "outputs": [
    {
     "name": "stdout",
     "output_type": "stream",
     "text": [
      "[1, 0, 23, 2, 45, 17, 28, 9, 4, 3, 56]\n",
      "[1, 0, 23, 2, 100, 17, 28, 9, 4, 3, 56]\n",
      "[1, 0, 23, 2, 100, 17, 28, 9, 4, 3, 56, 200]\n",
      "[1, 0, 2, 100, 17, 28, 9, 4, 3, 56, 200]\n",
      "[0, 1, 2, 3, 4, 9, 17, 28, 56, 100, 200]\n"
     ]
    },
    {
     "data": {
      "text/plain": [
       "[0, 1, 2, 3, 4]"
      ]
     },
     "execution_count": 31,
     "metadata": {},
     "output_type": "execute_result"
    }
   ],
   "source": [
    "ma_liste=[1,0,23,2,45,17,28,9,4,3,56]\n",
    "print(ma_liste)\n",
    "ma_liste[4]=100\n",
    "print(ma_liste)\n",
    "ma_liste.append(200)\n",
    "print(ma_liste)\n",
    "del ma_liste[2]\n",
    "print(ma_liste)\n",
    "ma_liste.sort()\n",
    "print(ma_liste)\n",
    "ma_liste[:5]"
   ]
  },
  {
   "cell_type": "code",
   "execution_count": 35,
   "id": "a95fc219-2ea2-471b-b3ba-d432bb26f0e1",
   "metadata": {},
   "outputs": [
    {
     "name": "stdout",
     "output_type": "stream",
     "text": [
      "[1, 4, 9, 16, 25, 36, 49, 64, 81, 100]\n"
     ]
    }
   ],
   "source": [
    "nov_liste=list(range(1,11))\n",
    "carre=[x**2 for x in nov_liste]\n",
    "print(carre)"
   ]
  },
  {
   "cell_type": "code",
   "execution_count": 41,
   "id": "7ec66f33-2df1-4aa0-bda5-3d99b0cb5941",
   "metadata": {},
   "outputs": [
    {
     "name": "stdout",
     "output_type": "stream",
     "text": [
      "[0, 1, 2, 3, 4, 9, 17, 28, 56, 100, 200]\n",
      "[0, 2, 4, 28, 56, 100, 200]\n"
     ]
    }
   ],
   "source": [
    "liste=ma_liste\n",
    "print(liste)\n",
    "pair=[x for x in liste if x%2==0]\n",
    "print(pair)"
   ]
  },
  {
   "cell_type": "code",
   "execution_count": 43,
   "id": "28a4847a-e0d2-4df2-978f-55f56940a935",
   "metadata": {},
   "outputs": [
    {
     "name": "stdout",
     "output_type": "stream",
     "text": [
      "Tuple\n"
     ]
    }
   ],
   "source": [
    "print(\"Tuple\")"
   ]
  },
  {
   "cell_type": "code",
   "execution_count": 55,
   "id": "222eb68a-c573-4782-aea0-d7d85b14bc17",
   "metadata": {},
   "outputs": [
    {
     "name": "stdout",
     "output_type": "stream",
     "text": [
      "('Sénégal', 'Tchad', 'Comore', 'Gambie', 'Canada')\n"
     ]
    }
   ],
   "source": [
    "mon_tuple=('Sénégal','Tchad','Comore','Gambie','Canada')\n",
    "print(mon_tuple)"
   ]
  },
  {
   "cell_type": "code",
   "execution_count": 65,
   "id": "0f28e964-c09e-4554-9e53-b5420cf1d149",
   "metadata": {},
   "outputs": [
    {
     "data": {
      "text/plain": [
       "'Tchad'"
      ]
     },
     "execution_count": 65,
     "metadata": {},
     "output_type": "execute_result"
    }
   ],
   "source": [
    "mon_tuple[1]"
   ]
  },
  {
   "cell_type": "code",
   "execution_count": 63,
   "id": "566bc9c5-655f-42a4-b457-3dd7b40d1969",
   "metadata": {},
   "outputs": [
    {
     "data": {
      "text/plain": [
       "'Canada'"
      ]
     },
     "execution_count": 63,
     "metadata": {},
     "output_type": "execute_result"
    }
   ],
   "source": [
    "mon_tuple[-1]"
   ]
  },
  {
   "cell_type": "code",
   "execution_count": 70,
   "id": "4bcb1a64-414e-4686-86d9-a51b5753fbfb",
   "metadata": {},
   "outputs": [
    {
     "name": "stdout",
     "output_type": "stream",
     "text": [
      "('Cheikh', 20, 'Etats Unis')\n"
     ]
    }
   ],
   "source": [
    "tuple=('Cheikh',20,'Etats Unis')\n",
    "print(tuple)"
   ]
  },
  {
   "cell_type": "code",
   "execution_count": 72,
   "id": "f0802c55-06df-4ae3-8f15-14ea92f07efe",
   "metadata": {},
   "outputs": [
    {
     "name": "stdout",
     "output_type": "stream",
     "text": [
      "Cheikh\n",
      "20\n",
      "Etats Unis\n"
     ]
    }
   ],
   "source": [
    "var1=tuple[0]\n",
    "var2=tuple[1]\n",
    "var3=tuple[-1]\n",
    "print(var1)\n",
    "print(var2)\n",
    "print(var3)"
   ]
  },
  {
   "cell_type": "code",
   "execution_count": 74,
   "id": "da41ed14-2031-4693-807e-cb3587237916",
   "metadata": {},
   "outputs": [
    {
     "ename": "TypeError",
     "evalue": "'tuple' object does not support item assignment",
     "output_type": "error",
     "traceback": [
      "\u001b[1;31m---------------------------------------------------------------------------\u001b[0m",
      "\u001b[1;31mTypeError\u001b[0m                                 Traceback (most recent call last)",
      "Cell \u001b[1;32mIn[74], line 1\u001b[0m\n\u001b[1;32m----> 1\u001b[0m \u001b[38;5;28mtuple\u001b[39m[\u001b[38;5;241m0\u001b[39m]\u001b[38;5;241m=\u001b[39m\u001b[38;5;124m'\u001b[39m\u001b[38;5;124mSafia\u001b[39m\u001b[38;5;124m'\u001b[39m\n\u001b[0;32m      2\u001b[0m \u001b[38;5;28mprint\u001b[39m(\u001b[38;5;28mtuple\u001b[39m)\n",
      "\u001b[1;31mTypeError\u001b[0m: 'tuple' object does not support item assignment"
     ]
    }
   ],
   "source": [
    "tuple[0]='Safia'\n",
    "print(tuple)"
   ]
  },
  {
   "cell_type": "code",
   "execution_count": 76,
   "id": "61fc4f9c-44eb-432f-a3b4-4ffc3fdfa1e8",
   "metadata": {},
   "outputs": [],
   "source": [
    "# Ceci n'est pas valide puisque les éléments du tuple sont immuables"
   ]
  },
  {
   "cell_type": "code",
   "execution_count": 80,
   "id": "25b20cb5-3fd0-424d-83b9-211abfaf5b9a",
   "metadata": {},
   "outputs": [
    {
     "name": "stdout",
     "output_type": "stream",
     "text": [
      "Dictionnaire\n"
     ]
    }
   ],
   "source": [
    "print('Dictionnaire')"
   ]
  },
  {
   "cell_type": "code",
   "execution_count": 82,
   "id": "4fd65578-8b51-4bf1-95c6-454111f6e4b8",
   "metadata": {},
   "outputs": [
    {
     "name": "stdout",
     "output_type": "stream",
     "text": [
      "{'Mademba': 12, 'Sadio': 17, 'Coumba': 11, 'Nafi': 10, 'Nabou': 16}\n"
     ]
    }
   ],
   "source": [
    "dict={'Mademba':12,'Sadio':17,'Coumba':11,'Nafi':10,'Nabou':16}\n",
    "print(dict)"
   ]
  },
  {
   "cell_type": "code",
   "execution_count": 84,
   "id": "775d9c19-2603-4538-abe7-a3d4566a104c",
   "metadata": {},
   "outputs": [
    {
     "data": {
      "text/plain": [
       "11"
      ]
     },
     "execution_count": 84,
     "metadata": {},
     "output_type": "execute_result"
    }
   ],
   "source": [
    "dict['Coumba']"
   ]
  },
  {
   "cell_type": "code",
   "execution_count": 96,
   "id": "0ef4be48-5bf1-43cb-8ce4-dc1606bd24a6",
   "metadata": {},
   "outputs": [
    {
     "name": "stdout",
     "output_type": "stream",
     "text": [
      "{'Mademba': 12, 'Sadio': 17, 'Coumba': 11, 'Nafi': 10, 'Nabou': 16, 'Ahamed': 20}\n"
     ]
    }
   ],
   "source": [
    "dict.update({'Ahamed':20})\n",
    "print(dict)"
   ]
  },
  {
   "cell_type": "code",
   "execution_count": 98,
   "id": "48eb106e-afa7-4f95-abc0-18ac50c6a854",
   "metadata": {},
   "outputs": [
    {
     "name": "stdout",
     "output_type": "stream",
     "text": [
      "{'Mademba': 12, 'Sadio': 17, 'Coumba': 17, 'Nafi': 10, 'Nabou': 16, 'Ahamed': 20}\n"
     ]
    }
   ],
   "source": [
    "dict['Coumba']=17\n",
    "print(dict)"
   ]
  },
  {
   "cell_type": "code",
   "execution_count": 110,
   "id": "2016c387-b25c-4d2a-ad2f-c46355b9cfcb",
   "metadata": {},
   "outputs": [
    {
     "name": "stdout",
     "output_type": "stream",
     "text": [
      "Mademba\n",
      "Sadio\n",
      "Coumba\n",
      "Nafi\n",
      "Nabou\n",
      "Ahamed\n"
     ]
    }
   ],
   "source": [
    "for nom in dict.keys():\n",
    "    print(nom)"
   ]
  },
  {
   "cell_type": "code",
   "execution_count": 117,
   "id": "007b640c-68c2-44cb-b3ab-9fbfb0c68eab",
   "metadata": {},
   "outputs": [
    {
     "name": "stdout",
     "output_type": "stream",
     "text": [
      "12\n",
      "17\n",
      "17\n",
      "10\n",
      "16\n",
      "20\n"
     ]
    }
   ],
   "source": [
    "for valeur in dict.values():\n",
    "    print(valeur)"
   ]
  },
  {
   "cell_type": "code",
   "execution_count": 119,
   "id": "f14a4530-1879-4db5-891c-d4c3dcade901",
   "metadata": {},
   "outputs": [
    {
     "name": "stdout",
     "output_type": "stream",
     "text": [
      "('Mademba', 12)\n",
      "('Sadio', 17)\n",
      "('Coumba', 17)\n",
      "('Nafi', 10)\n",
      "('Nabou', 16)\n",
      "('Ahamed', 20)\n"
     ]
    }
   ],
   "source": [
    "for couples in dict.items():\n",
    "    print(couples)"
   ]
  },
  {
   "cell_type": "code",
   "execution_count": 123,
   "id": "1302fc17-3c61-4cb5-aa74-d37691cbaabf",
   "metadata": {},
   "outputs": [
    {
     "name": "stdout",
     "output_type": "stream",
     "text": [
      "{'Mbaye': {'maths': 20, 'sciences': 12}, 'Babacar': {'maths': 11, 'sciences': 13}, 'Salifou': {'maths': 10, 'sciences': 14}, 'Safia': {'maths': 15, 'sciences': 16}}\n"
     ]
    }
   ],
   "source": [
    "ma_dict={'Mbaye':{'maths':20,'sciences':12},'Babacar':{'maths':11,'sciences':13},'Salifou':{'maths':10,'sciences':14},'Safia':{'maths':15,'sciences':16}}\n",
    "print(ma_dict)"
   ]
  },
  {
   "cell_type": "code",
   "execution_count": 129,
   "id": "50965520-2765-434d-bd02-9aef376f45cb",
   "metadata": {},
   "outputs": [
    {
     "data": {
      "text/plain": [
       "13"
      ]
     },
     "execution_count": 129,
     "metadata": {},
     "output_type": "execute_result"
    }
   ],
   "source": [
    "ma_dict['Babacar']['sciences']"
   ]
  },
  {
   "cell_type": "code",
   "execution_count": null,
   "id": "9fc7512a-6bc7-4b05-b77f-be572417800f",
   "metadata": {},
   "outputs": [],
   "source": []
  }
 ],
 "metadata": {
  "kernelspec": {
   "display_name": "Python [conda env:base]",
   "language": "python",
   "name": "conda-base-py"
  },
  "language_info": {
   "codemirror_mode": {
    "name": "ipython",
    "version": 3
   },
   "file_extension": ".py",
   "mimetype": "text/x-python",
   "name": "python",
   "nbconvert_exporter": "python",
   "pygments_lexer": "ipython3",
   "version": "3.12.4"
  }
 },
 "nbformat": 4,
 "nbformat_minor": 5
}
