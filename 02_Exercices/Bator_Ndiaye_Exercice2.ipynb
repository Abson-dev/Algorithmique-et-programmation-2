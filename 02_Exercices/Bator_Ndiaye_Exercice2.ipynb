{
 "cells": [
  {
   "cell_type": "code",
   "execution_count": 1,
   "id": "a0b56f22-0f33-4832-b546-d26c17bc41ec",
   "metadata": {},
   "outputs": [
    {
     "name": "stdout",
     "output_type": "stream",
     "text": [
      "[12, 32, 29, 4, 20, 5, 8, 17, 36, 21]\n"
     ]
    }
   ],
   "source": [
    "ma_liste=[12, 32, 29, 4, 20, 5, 8, 17, 36, 21]\n",
    "print(ma_liste)"
   ]
  },
  {
   "cell_type": "code",
   "execution_count": 2,
   "id": "3728deb3-203e-4d06-81c0-42f6ee9d04da",
   "metadata": {},
   "outputs": [
    {
     "name": "stdout",
     "output_type": "stream",
     "text": [
      "[12, 32, 29, 4, 100, 5, 8, 17, 36, 21]\n"
     ]
    }
   ],
   "source": [
    "ma_liste[4]=100\n",
    "print(ma_liste)"
   ]
  },
  {
   "cell_type": "code",
   "execution_count": 3,
   "id": "a1d15a05-4a47-4975-8434-83e6b269bb33",
   "metadata": {},
   "outputs": [
    {
     "name": "stdout",
     "output_type": "stream",
     "text": [
      "[12, 32, 29, 4, 100, 5, 8, 17, 36, 21, 200]\n"
     ]
    }
   ],
   "source": [
    "ma_liste.append(200)\n",
    "print(ma_liste)"
   ]
  },
  {
   "cell_type": "code",
   "execution_count": 4,
   "id": "e0a75e3d-7160-49a5-aa21-251683ecc52d",
   "metadata": {},
   "outputs": [
    {
     "name": "stdout",
     "output_type": "stream",
     "text": [
      "[12, 32, 4, 100, 5, 8, 17, 36, 21, 200]\n"
     ]
    }
   ],
   "source": [
    "del ma_liste[2]\n",
    "print(ma_liste)"
   ]
  },
  {
   "cell_type": "code",
   "execution_count": 5,
   "id": "82d98d6c-48d6-4fba-8b15-8c663ba91c3a",
   "metadata": {},
   "outputs": [
    {
     "name": "stdout",
     "output_type": "stream",
     "text": [
      "[4, 5, 8, 12, 17, 21, 32, 36, 100, 200]\n"
     ]
    }
   ],
   "source": [
    "ma_liste.sort()\n",
    "print(ma_liste)"
   ]
  },
  {
   "cell_type": "code",
   "execution_count": 6,
   "id": "538a5b1a-bace-4e02-956b-07ee9894e381",
   "metadata": {},
   "outputs": [
    {
     "data": {
      "text/plain": [
       "[4, 5, 8, 12, 17]"
      ]
     },
     "execution_count": 6,
     "metadata": {},
     "output_type": "execute_result"
    }
   ],
   "source": [
    "ma_liste[:5]"
   ]
  },
  {
   "cell_type": "code",
   "execution_count": 7,
   "id": "d371e5d6-1b77-490e-b92f-3daed300b663",
   "metadata": {},
   "outputs": [
    {
     "name": "stdout",
     "output_type": "stream",
     "text": [
      "[1, 2, 3, 4, 5, 6, 7, 8, 9, 10]\n"
     ]
    }
   ],
   "source": [
    "liste=(list(range(1,11)))\n",
    "print(liste)"
   ]
  },
  {
   "cell_type": "code",
   "execution_count": 8,
   "id": "4c842812-9dea-4f8a-9407-e17d397d32db",
   "metadata": {},
   "outputs": [
    {
     "name": "stdout",
     "output_type": "stream",
     "text": [
      "[1, 4, 9, 16, 25, 36, 49, 64, 81, 100]\n"
     ]
    }
   ],
   "source": [
    "carres=[x**2 for x in liste]  \n",
    "print(carres)"
   ]
  },
  {
   "cell_type": "code",
   "execution_count": 9,
   "id": "c49cbcde-3dbb-40ae-8d33-4e9d6023d7f1",
   "metadata": {},
   "outputs": [
    {
     "name": "stdout",
     "output_type": "stream",
     "text": [
      "[4, 8, 12, 32, 36, 100, 200]\n"
     ]
    }
   ],
   "source": [
    "pairs=[x for x in ma_liste if x%2==0]\n",
    "print(pairs)"
   ]
  },
  {
   "cell_type": "code",
   "execution_count": 3,
   "id": "55006ad6-be2d-4463-bd32-7acc7ed9f84f",
   "metadata": {},
   "outputs": [
    {
     "name": "stdout",
     "output_type": "stream",
     "text": [
      "('Senegal', 'Cameroun', 'Benin', 'Niger', 'BurkinaFaso')\n"
     ]
    }
   ],
   "source": [
    "mon_tuple=(\"Senegal\", \"Cameroun\", \"Benin\", \"Niger\", \"BurkinaFaso\")\n",
    "print(mon_tuple)"
   ]
  },
  {
   "cell_type": "code",
   "execution_count": 8,
   "id": "f8658ec6-7f08-48b4-8541-19909d44fcc7",
   "metadata": {},
   "outputs": [
    {
     "data": {
      "text/plain": [
       "'Cameroun'"
      ]
     },
     "execution_count": 8,
     "metadata": {},
     "output_type": "execute_result"
    }
   ],
   "source": [
    "mon_tuple[1]"
   ]
  },
  {
   "cell_type": "code",
   "execution_count": 9,
   "id": "6b7af2e8-d142-448c-ab1f-9a0ead66754c",
   "metadata": {},
   "outputs": [
    {
     "data": {
      "text/plain": [
       "'BurkinaFaso'"
      ]
     },
     "execution_count": 9,
     "metadata": {},
     "output_type": "execute_result"
    }
   ],
   "source": [
    "mon_tuple[-1]"
   ]
  },
  {
   "cell_type": "code",
   "execution_count": 10,
   "id": "27bd5d1f-2c7f-41a8-808a-1f3ca75f4419",
   "metadata": {},
   "outputs": [
    {
     "name": "stdout",
     "output_type": "stream",
     "text": [
      "('Ndiaye', 18, 'Canada')\n"
     ]
    }
   ],
   "source": [
    "ma_tuple=(\"Ndiaye\", 18, \"Canada\")\n",
    "print(ma_tuple)"
   ]
  },
  {
   "cell_type": "code",
   "execution_count": 11,
   "id": "f014f8ce-191f-440e-a17d-c19c5963e93e",
   "metadata": {},
   "outputs": [
    {
     "name": "stdout",
     "output_type": "stream",
     "text": [
      "Ndiaye\n",
      "18\n",
      "Canada\n"
     ]
    }
   ],
   "source": [
    "var1=ma_tuple[0]\n",
    "var2=ma_tuple[1]\n",
    "var3=ma_tuple[2]\n",
    "print(var1)\n",
    "print(var2)\n",
    "print(var3)\n"
   ]
  },
  {
   "cell_type": "code",
   "execution_count": 2,
   "id": "6e1c93e0-bc29-4730-911b-a4fded8954c7",
   "metadata": {},
   "outputs": [
    {
     "name": "stdout",
     "output_type": "stream",
     "text": [
      "{'Bator': 18, 'Safiatou': 15, 'Mohamet': 5, 'Youssouf': 11, 'Ibrahim': 14}\n"
     ]
    }
   ],
   "source": [
    "etudiants={\"Bator\":18, \"Safiatou\":15, \"Mohamet\":5, \"Youssouf\":11, \"Ibrahim\":14}\n",
    "print(etudiants)"
   ]
  },
  {
   "cell_type": "code",
   "execution_count": 3,
   "id": "fb75716d-a96f-4d36-8636-fbaa76ac50d3",
   "metadata": {},
   "outputs": [
    {
     "name": "stdout",
     "output_type": "stream",
     "text": [
      "Note de Mohamet: 5\n"
     ]
    }
   ],
   "source": [
    "print(\"Note de Mohamet:\", etudiants[\"Mohamet\"])"
   ]
  },
  {
   "cell_type": "code",
   "execution_count": 5,
   "id": "5b332672-16b8-422a-b531-48e027f6f86f",
   "metadata": {},
   "outputs": [
    {
     "name": "stdout",
     "output_type": "stream",
     "text": [
      "{'Bator': 18, 'Safiatou': 15, 'Mohamet': 5, 'Youssouf': 11, 'Ibrahim': 14, 'Linda': 17}\n"
     ]
    }
   ],
   "source": [
    "etudiants.update({\"Linda\":17})\n",
    "print(etudiants)"
   ]
  },
  {
   "cell_type": "code",
   "execution_count": 6,
   "id": "ce98e64c-9a99-4340-8dc2-0932dbba3f4d",
   "metadata": {},
   "outputs": [
    {
     "name": "stdout",
     "output_type": "stream",
     "text": [
      "{'Bator': 20, 'Safiatou': 15, 'Mohamet': 5, 'Youssouf': 11, 'Ibrahim': 14, 'Linda': 17}\n"
     ]
    }
   ],
   "source": [
    "etudiants[\"Bator\"]=20\n",
    "print(etudiants)"
   ]
  },
  {
   "cell_type": "code",
   "execution_count": 14,
   "id": "2a1c97db-3636-4c6f-90b9-5be4bcd4013c",
   "metadata": {},
   "outputs": [
    {
     "name": "stdout",
     "output_type": "stream",
     "text": [
      "Bator\n",
      "Safiatou\n",
      "Mohamet\n",
      "Youssouf\n",
      "Ibrahim\n",
      "Linda\n"
     ]
    }
   ],
   "source": [
    "for note in etudiants:\n",
    "    print(note)"
   ]
  },
  {
   "cell_type": "code",
   "execution_count": 15,
   "id": "e23d1488-2e10-428b-9fd4-737b5af028c1",
   "metadata": {},
   "outputs": [
    {
     "name": "stdout",
     "output_type": "stream",
     "text": [
      "20\n",
      "15\n",
      "5\n",
      "11\n",
      "14\n",
      "17\n"
     ]
    }
   ],
   "source": [
    "for note in etudiants.values():\n",
    "    print(note)"
   ]
  },
  {
   "cell_type": "code",
   "execution_count": 19,
   "id": "159371cf-9183-432a-b0ed-15d4460f4c2f",
   "metadata": {},
   "outputs": [
    {
     "name": "stdout",
     "output_type": "stream",
     "text": [
      "Bator : 20\n",
      "Safiatou : 15\n",
      "Mohamet : 5\n",
      "Youssouf : 11\n",
      "Ibrahim : 14\n",
      "Linda : 17\n"
     ]
    }
   ],
   "source": [
    "for nom, note in etudiants.items():\n",
    "    print(nom, \":\", note)"
   ]
  },
  {
   "cell_type": "code",
   "execution_count": 21,
   "id": "f6d27f84-b7fa-42bd-9902-0078ba11c79e",
   "metadata": {},
   "outputs": [
    {
     "name": "stdout",
     "output_type": "stream",
     "text": [
      "{'Bator': {'maths': 17, 'sciences': 19}, 'Safiatou': {'maths': 13, 'sciences': 14}, 'Mohamet': {'maths': 17, 'sciences': 19}, 'Youssouf': {'maths': 5, 'sciences': 12}, 'Ibrahim': {'maths': 11, 'sciences': 17}, 'Linda': {'maths': 15, 'sciences': 8}}\n"
     ]
    }
   ],
   "source": [
    "etudiant={\"Bator\":{\"maths\":17, \"sciences\":19}, \"Safiatou\":{\"maths\":13, \"sciences\":14},\"Mohamet\":{\"maths\":17, \"sciences\":19},\n",
    "          \"Youssouf\":{\"maths\":5, \"sciences\":12},  \"Ibrahim\":{\"maths\":11, \"sciences\":17},  \"Linda\":{\"maths\":15, \"sciences\":8}}\n",
    "print(etudiant)"
   ]
  },
  {
   "cell_type": "code",
   "execution_count": 23,
   "id": "810e92dd-18bb-43c8-905d-055efacb1c68",
   "metadata": {},
   "outputs": [
    {
     "data": {
      "text/plain": [
       "19"
      ]
     },
     "execution_count": 23,
     "metadata": {},
     "output_type": "execute_result"
    }
   ],
   "source": [
    "etudiant[\"Bator\"][\"sciences\"]"
   ]
  },
  {
   "cell_type": "code",
   "execution_count": null,
   "id": "e2cc673a-9da4-47a8-b249-c4653e35fd65",
   "metadata": {},
   "outputs": [],
   "source": []
  }
 ],
 "metadata": {
  "kernelspec": {
   "display_name": "Python 3 (ipykernel)",
   "language": "python",
   "name": "python3"
  },
  "language_info": {
   "codemirror_mode": {
    "name": "ipython",
    "version": 3
   },
   "file_extension": ".py",
   "mimetype": "text/x-python",
   "name": "python",
   "nbconvert_exporter": "python",
   "pygments_lexer": "ipython3",
   "version": "3.12.7"
  }
 },
 "nbformat": 4,
 "nbformat_minor": 5
}
