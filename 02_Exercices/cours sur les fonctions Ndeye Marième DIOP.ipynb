{
 "cells": [
  {
   "cell_type": "code",
   "execution_count": 1,
   "id": "686b4e34-7236-4a06-a160-6fdd2dc9b5fc",
   "metadata": {},
   "outputs": [
    {
     "data": {
      "text/plain": [
       "False"
      ]
     },
     "execution_count": 1,
     "metadata": {},
     "output_type": "execute_result"
    }
   ],
   "source": [
    "False and False "
   ]
  },
  {
   "cell_type": "code",
   "execution_count": 3,
   "id": "9e8728e8-4808-460a-9d31-66123c91ac78",
   "metadata": {},
   "outputs": [
    {
     "data": {
      "text/plain": [
       "False"
      ]
     },
     "execution_count": 3,
     "metadata": {},
     "output_type": "execute_result"
    }
   ],
   "source": [
    "False and True "
   ]
  },
  {
   "cell_type": "code",
   "execution_count": 5,
   "id": "857a4bf7-0764-4da6-b5a6-fc39980a3cf1",
   "metadata": {},
   "outputs": [
    {
     "data": {
      "text/plain": [
       "True"
      ]
     },
     "execution_count": 5,
     "metadata": {},
     "output_type": "execute_result"
    }
   ],
   "source": [
    "True and True"
   ]
  },
  {
   "cell_type": "code",
   "execution_count": 7,
   "id": "d43370cd-5377-4efc-b63a-464d49c628cd",
   "metadata": {},
   "outputs": [
    {
     "data": {
      "text/plain": [
       "False"
      ]
     },
     "execution_count": 7,
     "metadata": {},
     "output_type": "execute_result"
    }
   ],
   "source": [
    "True and False"
   ]
  },
  {
   "cell_type": "code",
   "execution_count": 9,
   "id": "64a33c0c-cf0e-4478-8dcc-5e8f1186c220",
   "metadata": {},
   "outputs": [
    {
     "data": {
      "text/plain": [
       "True"
      ]
     },
     "execution_count": 9,
     "metadata": {},
     "output_type": "execute_result"
    }
   ],
   "source": [
    "False or True"
   ]
  },
  {
   "cell_type": "code",
   "execution_count": 11,
   "id": "6ded09b1-df1c-4732-bffa-f2f62fba1b5d",
   "metadata": {},
   "outputs": [
    {
     "data": {
      "text/plain": [
       "False"
      ]
     },
     "execution_count": 11,
     "metadata": {},
     "output_type": "execute_result"
    }
   ],
   "source": [
    "False or False"
   ]
  },
  {
   "cell_type": "code",
   "execution_count": 13,
   "id": "73556c3d-58d0-4472-b10c-af85462d2fc3",
   "metadata": {},
   "outputs": [
    {
     "data": {
      "text/plain": [
       "False"
      ]
     },
     "execution_count": 13,
     "metadata": {},
     "output_type": "execute_result"
    }
   ],
   "source": [
    "not True"
   ]
  },
  {
   "cell_type": "code",
   "execution_count": 27,
   "id": "2c441c7b-dd16-4717-9d03-64028c7ed136",
   "metadata": {},
   "outputs": [
    {
     "data": {
      "text/plain": [
       "True"
      ]
     },
     "execution_count": 27,
     "metadata": {},
     "output_type": "execute_result"
    }
   ],
   "source": [
    "#créer une liste de booliens\n",
    "liste=(True , False, True) \n",
    "any(liste)"
   ]
  },
  {
   "cell_type": "code",
   "execution_count": 29,
   "id": "508cd719-51e1-446d-815c-e22fccf0a34d",
   "metadata": {},
   "outputs": [
    {
     "data": {
      "text/plain": [
       "False"
      ]
     },
     "execution_count": 29,
     "metadata": {},
     "output_type": "execute_result"
    }
   ],
   "source": [
    "liste=(True , False, True) \n",
    "all(liste)"
   ]
  },
  {
   "cell_type": "code",
   "execution_count": 33,
   "id": "cad448da-dac1-4b11-84c2-371c5f44eb6a",
   "metadata": {},
   "outputs": [
    {
     "data": {
      "text/plain": [
       "False"
      ]
     },
     "execution_count": 33,
     "metadata": {},
     "output_type": "execute_result"
    }
   ],
   "source": [
    "liste=(True , False, True)\n",
    "not(liste)"
   ]
  },
  {
   "cell_type": "code",
   "execution_count": 49,
   "id": "f194a331-53d8-4ae6-8171-91b057a270ae",
   "metadata": {},
   "outputs": [
    {
     "data": {
      "text/plain": [
       "False"
      ]
     },
     "execution_count": 49,
     "metadata": {},
     "output_type": "execute_result"
    }
   ],
   "source": [
    "liste=(True, False)\n",
    "all(liste)"
   ]
  },
  {
   "cell_type": "code",
   "execution_count": 52,
   "id": "c281adf9-70e7-494e-b974-df8527c739b4",
   "metadata": {},
   "outputs": [],
   "source": [
    "sec_en_min=lambda s: 60/s"
   ]
  },
  {
   "cell_type": "code",
   "execution_count": 66,
   "id": "417b4ceb-d4f4-46a2-ad06-22b1f6ec764b",
   "metadata": {},
   "outputs": [
    {
     "data": {
      "text/plain": [
       "2.5"
      ]
     },
     "execution_count": 66,
     "metadata": {},
     "output_type": "execute_result"
    }
   ],
   "source": [
    "sec_en_min(24)"
   ]
  },
  {
   "cell_type": "code",
   "execution_count": null,
   "id": "7909cf86-0504-465b-b8b5-f31addaa6b51",
   "metadata": {},
   "outputs": [],
   "source": []
  },
  {
   "cell_type": "code",
   "execution_count": 90,
   "id": "6f6f4cf4-fb0c-471d-b670-18bda52513b6",
   "metadata": {},
   "outputs": [],
   "source": [
    "def min_en_sec(m):\n",
    "    return 60*m"
   ]
  },
  {
   "cell_type": "code",
   "execution_count": 105,
   "id": "603354d1-1d1f-448c-a39e-00edab8f8e26",
   "metadata": {},
   "outputs": [
    {
     "data": {
      "text/plain": [
       "2580"
      ]
     },
     "execution_count": 105,
     "metadata": {},
     "output_type": "execute_result"
    }
   ],
   "source": [
    "min_en_sec(43)\n"
   ]
  },
  {
   "cell_type": "code",
   "execution_count": 107,
   "id": "b5495912-f297-4887-a1c2-db11a9787ac3",
   "metadata": {},
   "outputs": [
    {
     "name": "stdin",
     "output_type": "stream",
     "text": [
      "donnez un nombre de secondes 34\n"
     ]
    },
    {
     "name": "stdout",
     "output_type": "stream",
     "text": [
      "le nombre de minutes pour 34 est :2040\n"
     ]
    }
   ],
   "source": [
    "s=int(input(\"donnez un nombre de secondes\"))\n",
    "print(f\"le nombre de minutes pour {s} est :{min_en_sec(s)}\")\n"
   ]
  },
  {
   "cell_type": "code",
   "execution_count": 119,
   "id": "05d72b95-da52-450e-bd85-181144f96ab2",
   "metadata": {},
   "outputs": [
    {
     "name": "stdin",
     "output_type": "stream",
     "text": [
      "donnez un nombre 45\n"
     ]
    },
    {
     "name": "stdout",
     "output_type": "stream",
     "text": [
      "135\n"
     ]
    }
   ],
   "source": [
    "n=int(input(\"donnez un nombre\"))\n",
    "def carre(n):\n",
    "    if (n<=10): \n",
    "       return(n*n)\n",
    "    else:\n",
    "       return(3*n)\n",
    "print(carre(n))  "
   ]
  },
  {
   "cell_type": "code",
   "execution_count": 4,
   "id": "fa8bee2c-9e4a-4d7d-846b-c4ed4d70a3c5",
   "metadata": {},
   "outputs": [
    {
     "name": "stdout",
     "output_type": "stream",
     "text": [
      "2\n"
     ]
    }
   ],
   "source": [
    "def trouver_min(liste):\n",
    "    return min(liste)\n",
    "print(trouver_min([2,3,8]))   "
   ]
  },
  {
   "cell_type": "code",
   "execution_count": null,
   "id": "5ed295b2-e786-47f3-9109-1079d23afc6d",
   "metadata": {},
   "outputs": [],
   "source": []
  },
  {
   "cell_type": "code",
   "execution_count": null,
   "id": "47802feb-76bf-41a8-b574-9201af71370e",
   "metadata": {},
   "outputs": [],
   "source": []
  }
 ],
 "metadata": {
  "kernelspec": {
   "display_name": "Python [conda env:base] *",
   "language": "python",
   "name": "conda-base-py"
  },
  "language_info": {
   "codemirror_mode": {
    "name": "ipython",
    "version": 3
   },
   "file_extension": ".py",
   "mimetype": "text/x-python",
   "name": "python",
   "nbconvert_exporter": "python",
   "pygments_lexer": "ipython3",
   "version": "3.12.7"
  }
 },
 "nbformat": 4,
 "nbformat_minor": 5
}
