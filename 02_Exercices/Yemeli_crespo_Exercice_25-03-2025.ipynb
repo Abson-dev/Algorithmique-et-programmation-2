{
 "cells": [
  {
   "cell_type": "code",
   "execution_count": 1,
   "id": "4e98c393-6e0b-4817-932a-d5a77468e5f7",
   "metadata": {},
   "outputs": [
    {
     "name": "stdout",
     "output_type": "stream",
     "text": [
      "[1, 2, 3, 4, 5, 6, 7, 8, 9, 10, 11, 12, 13, 14, 15, 16, 17, 18, 19, 20, 21, 22, 23, 24, 25, 26, 27, 28, 29, 30, 31, 32, 33, 34, 35, 36, 37, 38, 39, 40, 41, 42, 43, 44, 45, 46, 47, 48, 49, 50, 51, 52, 53, 54, 55, 56, 57, 58, 59, 60, 61, 62, 63, 64, 65, 66, 67, 68, 69, 70, 71, 72, 73, 74, 75, 76, 77, 78, 79, 80, 81, 82, 83, 84, 85, 86, 87, 88, 89, 90, 91, 92, 93, 94, 95, 96, 97, 98, 99, 100]\n"
     ]
    }
   ],
   "source": [
    "x = list(range(1, 101)) # Exercice 1\n",
    "print(x)"
   ]
  },
  {
   "cell_type": "code",
   "execution_count": 2,
   "id": "5a603359-4eff-40c9-bc04-2bf46b0ab974",
   "metadata": {},
   "outputs": [
    {
     "data": {
      "text/plain": [
       "30"
      ]
     },
     "execution_count": 2,
     "metadata": {},
     "output_type": "execute_result"
    }
   ],
   "source": [
    "x[29]"
   ]
  },
  {
   "cell_type": "code",
   "execution_count": 3,
   "id": "bca29632-1669-4ac2-a16b-0802ab17b38e",
   "metadata": {},
   "outputs": [
    {
     "data": {
      "text/plain": [
       "100"
      ]
     },
     "execution_count": 3,
     "metadata": {},
     "output_type": "execute_result"
    }
   ],
   "source": [
    "x[-1]"
   ]
  },
  {
   "cell_type": "code",
   "execution_count": 4,
   "id": "dd6437cd-d383-4bd5-8216-ededabdca0b7",
   "metadata": {},
   "outputs": [
    {
     "data": {
      "text/plain": [
       "100"
      ]
     },
     "execution_count": 4,
     "metadata": {},
     "output_type": "execute_result"
    }
   ],
   "source": [
    "x[99]"
   ]
  },
  {
   "cell_type": "code",
   "execution_count": 5,
   "id": "924c645d-5b13-43d8-b722-0c529e2f5038",
   "metadata": {},
   "outputs": [
    {
     "name": "stdout",
     "output_type": "stream",
     "text": [
      "[100, 99, 98, 97, 96, 95, 94, 93, 92, 91, 90, 89, 88, 87, 86, 85, 84, 83, 82, 81, 80, 79, 78, 77, 76, 75, 74, 73, 72, 71, 70, 69, 68, 67, 66, 65, 64, 63, 62, 61, 60, 59, 58, 57, 56, 55, 54, 53, 52, 51, 50, 49, 48, 47, 46, 45, 44, 43, 42, 41, 40, 39, 38, 37, 36, 35, 34, 33, 32, 31, 30, 29, 28, 27, 26, 25, 24, 23, 22, 21, 20, 19, 18, 17, 16, 15, 14, 13, 12, 11, 10, 9, 8, 7, 6, 5, 4, 3, 2, 1]\n"
     ]
    }
   ],
   "source": [
    "x.reverse()\n",
    "print(x)"
   ]
  },
  {
   "cell_type": "code",
   "execution_count": 6,
   "id": "bb1e7d2f-4df8-4015-be5d-8a8a76255b8f",
   "metadata": {},
   "outputs": [
    {
     "name": "stdout",
     "output_type": "stream",
     "text": [
      "[100, 99, 98, 97, 96, 95, 94, 93, 92, 91, 90, 89, 88, 87, 86, 85, 84, 83, 82, 81, 80, 79, 78, 77, 76, 75, 74, 73, 72, 71, 70, 69, 68, 67, 66, 65, 64, 63, 62, 61, 60, 59, 58, 57, 56, 55, 54, 53, 52, 51, 50, 49, 48, 47, 46, 45, 44, 43, 42, 41, 40, 39, 38, 37, 36, 35, 34, 33, 32, 31, 30, 29, 28, 27, 25, 24, 23, 22, 21, 20, 19, 18, 17, 16, 15, 14, 13, 12, 11, 10, 9, 8, 7, 6, 5, 4, 3, 2, 1]\n"
     ]
    }
   ],
   "source": [
    "del x[74]\n",
    "print(x)"
   ]
  },
  {
   "cell_type": "code",
   "execution_count": 96,
   "id": "00bf1ab7-33a2-4057-a551-75b228e3ed05",
   "metadata": {},
   "outputs": [
    {
     "data": {
      "text/plain": [
       "99"
      ]
     },
     "execution_count": 96,
     "metadata": {},
     "output_type": "execute_result"
    }
   ],
   "source": [
    "len(x)"
   ]
  },
  {
   "cell_type": "code",
   "execution_count": 97,
   "id": "d9fc46f3-9dcc-49eb-9cc4-dc59c7c045ba",
   "metadata": {},
   "outputs": [
    {
     "name": "stdout",
     "output_type": "stream",
     "text": [
      "[100, 99, 98, 97, 96, 95, 94, 93, 92, 91, 90, 89, 88, 87, 86, 85, 84, 83, 82, 81, 80, 79, 78, 77, 76, 75, 74, 73, 72, 71, 70, 69, 68, 67, 66, 65, 64, 63, 62, 61, 60, 59, 58, 57, 56, 55, 54, 53, 52, 51, 50, 49, 48, 47, 46, 45, 44, 43, 42, 41, 40, 39, 38, 37, 36, 35, 34, 33, 32, 31, 30, 29, 28, 27, 25, 24, 23, 22, 21, 20, 19, 18, 17, 16, 15, 14, 13, 12, 11, 10, 9, 8, 7, 6, 5, 4, 3, 2, 1]\n"
     ]
    }
   ],
   "source": [
    "print(x)"
   ]
  },
  {
   "cell_type": "code",
   "execution_count": 98,
   "id": "3e93336f-1a33-471c-b7fe-cf6677d3418f",
   "metadata": {},
   "outputs": [
    {
     "data": {
      "text/plain": [
       "[100, 99, 98, 97, 96, 95, 94, 93, 92, 91]"
      ]
     },
     "execution_count": 98,
     "metadata": {},
     "output_type": "execute_result"
    }
   ],
   "source": [
    "x[:10] # Exercice 2"
   ]
  },
  {
   "cell_type": "code",
   "execution_count": 99,
   "id": "a4b67af1-8df5-4ab5-b3fd-122afe51ade1",
   "metadata": {},
   "outputs": [
    {
     "name": "stdout",
     "output_type": "stream",
     "text": [
      "[23, 19, 18, 30, 21, 19, 21, 19, 10, 12]\n"
     ]
    }
   ],
   "source": [
    "age=[23,19,18,30,21,19,21,19,10] # Exercice 3\n",
    "age.append(12)\n",
    "print(age)"
   ]
  },
  {
   "cell_type": "code",
   "execution_count": 100,
   "id": "b55dd2d1-5c62-4009-9831-dba7ec3af11a",
   "metadata": {},
   "outputs": [
    {
     "name": "stdout",
     "output_type": "stream",
     "text": [
      "[12, 10, 19, 21, 19, 21, 30, 18, 19, 23]\n"
     ]
    }
   ],
   "source": [
    "age.reverse()\n",
    "print(age)"
   ]
  },
  {
   "cell_type": "code",
   "execution_count": 101,
   "id": "86a67700-bc7f-4a41-bef5-12308c39b41c",
   "metadata": {},
   "outputs": [
    {
     "data": {
      "text/plain": [
       "6"
      ]
     },
     "execution_count": 101,
     "metadata": {},
     "output_type": "execute_result"
    }
   ],
   "source": [
    "age.index(30)"
   ]
  },
  {
   "cell_type": "code",
   "execution_count": 102,
   "id": "c4eac5cd-5e19-4212-b793-51c7bcddd2e8",
   "metadata": {},
   "outputs": [
    {
     "name": "stdout",
     "output_type": "stream",
     "text": [
      "[12, 10, 19, 21, 19, 21, 18, 19, 23]\n"
     ]
    }
   ],
   "source": [
    "age.pop(6)\n",
    "print(age)"
   ]
  },
  {
   "cell_type": "code",
   "execution_count": 103,
   "id": "76da3eaa-53ab-414c-9558-0997dee95f23",
   "metadata": {},
   "outputs": [
    {
     "data": {
      "text/plain": [
       "[19, 21]"
      ]
     },
     "execution_count": 103,
     "metadata": {},
     "output_type": "execute_result"
    }
   ],
   "source": [
    "age[2:4]"
   ]
  },
  {
   "cell_type": "code",
   "execution_count": 104,
   "id": "f897672d-4c31-4902-9272-012d82bcff2d",
   "metadata": {},
   "outputs": [
    {
     "data": {
      "text/plain": [
       "[12, 10]"
      ]
     },
     "execution_count": 104,
     "metadata": {},
     "output_type": "execute_result"
    }
   ],
   "source": [
    "age[:2]"
   ]
  },
  {
   "cell_type": "code",
   "execution_count": 105,
   "id": "8fa4e7d0-b74e-4a0c-82b8-d61f8642f6f5",
   "metadata": {},
   "outputs": [
    {
     "data": {
      "text/plain": [
       "[19, 21, 19, 21, 18, 19, 23]"
      ]
     },
     "execution_count": 105,
     "metadata": {},
     "output_type": "execute_result"
    }
   ],
   "source": [
    "age[2:]"
   ]
  },
  {
   "cell_type": "code",
   "execution_count": 106,
   "id": "b35bb876-742d-427c-81c4-6d27b5f8504d",
   "metadata": {},
   "outputs": [
    {
     "data": {
      "text/plain": [
       "[12, 10, 19, 21, 19, 21, 18, 19, 23]"
      ]
     },
     "execution_count": 106,
     "metadata": {},
     "output_type": "execute_result"
    }
   ],
   "source": [
    "age[:]"
   ]
  },
  {
   "cell_type": "code",
   "execution_count": 107,
   "id": "63fd9dfe-441a-4a59-9f3e-4ed769d58de6",
   "metadata": {},
   "outputs": [
    {
     "data": {
      "text/plain": [
       "23"
      ]
     },
     "execution_count": 107,
     "metadata": {},
     "output_type": "execute_result"
    }
   ],
   "source": [
    "age[-1]"
   ]
  },
  {
   "cell_type": "code",
   "execution_count": 108,
   "id": "ddc06c4f-73af-4a5c-88e2-1da8308cd103",
   "metadata": {},
   "outputs": [
    {
     "data": {
      "text/plain": [
       "[10, 12, 18, 19, 19, 19, 21, 21, 23]"
      ]
     },
     "execution_count": 108,
     "metadata": {},
     "output_type": "execute_result"
    }
   ],
   "source": [
    "sorted(age)"
   ]
  },
  {
   "cell_type": "code",
   "execution_count": null,
   "id": "afeab00c-6aa7-49e9-b1eb-ed1bb2817a2e",
   "metadata": {},
   "outputs": [],
   "source": []
  }
 ],
 "metadata": {
  "kernelspec": {
   "display_name": "Python 3 (ipykernel)",
   "language": "python",
   "name": "python3"
  },
  "language_info": {
   "codemirror_mode": {
    "name": "ipython",
    "version": 3
   },
   "file_extension": ".py",
   "mimetype": "text/x-python",
   "name": "python",
   "nbconvert_exporter": "python",
   "pygments_lexer": "ipython3",
   "version": "3.12.7"
  }
 },
 "nbformat": 4,
 "nbformat_minor": 5
}
