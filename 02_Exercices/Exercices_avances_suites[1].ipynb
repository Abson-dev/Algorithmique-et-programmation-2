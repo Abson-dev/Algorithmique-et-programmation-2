{
 "cells": [
  {
   "cell_type": "code",
   "execution_count": 2,
   "id": "9b72f734-a03e-448a-8ad6-71e9dc5a1459",
   "metadata": {},
   "outputs": [
    {
     "name": "stdout",
     "output_type": "stream",
     "text": [
      "u_0 = [1.0, 1.0, 0.5, 0.16666666666666669, 0.04166666666666667, 0.008333333333333335, 0.0013888888888888894, 0.0001984126984126985, 2.4801587301587315e-05, 2.7557319223985914e-06]\n",
      "u_1 = [1.0, 1.0, 0.5, 0.16666666666666669, 0.04166666666666667, 0.008333333333333335, 0.0013888888888888894, 0.0001984126984126985, 2.4801587301587315e-05, 2.7557319223985914e-06]\n",
      "u_2 = [1.0, 1.0, 0.5, 0.16666666666666669, 0.04166666666666667, 0.008333333333333335, 0.0013888888888888894, 0.0001984126984126985, 2.4801587301587315e-05, 2.7557319223985914e-06]\n",
      "u_3 = [1.0, 1.0, 0.5, 0.16666666666666669, 0.04166666666666667, 0.008333333333333335, 0.0013888888888888894, 0.0001984126984126985, 2.4801587301587315e-05, 2.7557319223985914e-06]\n",
      "u_4 = [1.0, 1.0, 0.5, 0.16666666666666669, 0.04166666666666667, 0.008333333333333335, 0.0013888888888888894, 0.0001984126984126985, 2.4801587301587315e-05, 2.7557319223985914e-06]\n",
      "u_5 = [1.0, 1.0, 0.5, 0.16666666666666669, 0.04166666666666667, 0.008333333333333335, 0.0013888888888888894, 0.0001984126984126985, 2.4801587301587315e-05, 2.7557319223985914e-06]\n",
      "u_6 = [1.0, 1.0, 0.5, 0.16666666666666669, 0.04166666666666667, 0.008333333333333335, 0.0013888888888888894, 0.0001984126984126985, 2.4801587301587315e-05, 2.7557319223985914e-06]\n",
      "u_7 = [1.0, 1.0, 0.5, 0.16666666666666669, 0.04166666666666667, 0.008333333333333335, 0.0013888888888888894, 0.0001984126984126985, 2.4801587301587315e-05, 2.7557319223985914e-06]\n",
      "u_8 = [1.0, 1.0, 0.5, 0.16666666666666669, 0.04166666666666667, 0.008333333333333335, 0.0013888888888888894, 0.0001984126984126985, 2.4801587301587315e-05, 2.7557319223985914e-06]\n",
      "u_9 = [1.0, 1.0, 0.5, 0.16666666666666669, 0.04166666666666667, 0.008333333333333335, 0.0013888888888888894, 0.0001984126984126985, 2.4801587301587315e-05, 2.7557319223985914e-06]\n"
     ]
    }
   ],
   "source": [
    "#Exercice8\n",
    "import numpy as np\n",
    "from scipy.integrate import quad\n",
    "def suite_integrale(n_terms):\n",
    "    u = [1.0]\n",
    "    for n in range(n_terms-1):\n",
    "        integrand = lambda x: u[-1]*x**n\n",
    "        u_next, _ = quad(integrand, 0, 1)\n",
    "        u.append(u_next)\n",
    "    return u\n",
    "terms = suite_integrale(10)\n",
    "for i, term in enumerate(terms):\n",
    "    print(f\"u_{i} = {terms}\")"
   ]
  },
  {
   "cell_type": "code",
   "execution_count": 9,
   "id": "4324a617-7bf7-48bb-85ad-5519aa409594",
   "metadata": {},
   "outputs": [
    {
     "data": {
      "text/plain": [
       "2.8833333333333333"
      ]
     },
     "execution_count": 9,
     "metadata": {},
     "output_type": "execute_result"
    }
   ],
   "source": [
    "#Exercice 10\n",
    "def somme_double(n):\n",
    "    s=0\n",
    "    for i in range(1,n+1):\n",
    "        for j in (1,i+1):\n",
    "            s = s + 1 / (i * j)\n",
    "    return s\n",
    "somme_double(4)"
   ]
  },
  {
   "cell_type": "code",
   "execution_count": 5,
   "id": "a1b77d73-7b53-409d-a348-df555de61e34",
   "metadata": {},
   "outputs": [
    {
     "data": {
      "text/plain": [
       "[1, 2, 3, 4, 5, 6, 7, 8, 9, 10, 11, 12, 13, 14, 15]"
      ]
     },
     "execution_count": 5,
     "metadata": {},
     "output_type": "execute_result"
    }
   ],
   "source": [
    "#Exercice 12\n",
    "import math\n",
    "def suite_comprime(n):\n",
    "    terms = [1]\n",
    "    for i in range(1,n):\n",
    "        k = terms[-1] + 1\n",
    "        while True:\n",
    "            if math.gcd(k , terms[-1])==1:\n",
    "                terms.append(k)\n",
    "                break\n",
    "            k +=1\n",
    "    return terms\n",
    "suite_comprime(15)"
   ]
  },
  {
   "cell_type": "code",
   "execution_count": 11,
   "id": "e574c106-3b9b-49d0-871f-dc2720e77a3b",
   "metadata": {},
   "outputs": [
    {
     "name": "stdout",
     "output_type": "stream",
     "text": [
      "\n",
      "Pour p = 0.5:\n",
      "moyenne:-2.34\n",
      "variance:880.24\n",
      "\n",
      "Pour p = 0.6:\n",
      "moyenne:203.46\n",
      "variance:927.51\n",
      "\n",
      "Pour p = 0.7:\n",
      "moyenne:394.92\n",
      "variance:906.59\n"
     ]
    }
   ],
   "source": [
    "#Exercice 14\n",
    "import random\n",
    "def markov_sequence(p, n):\n",
    "    sequence = [0]\n",
    "    for _ in range(n):\n",
    "        x = 1 if random.random() < p else -1\n",
    "        sequence.append(sequence[-1] + x )\n",
    "    return sequence\n",
    "p_values = [0.5 , 0.6 , 0.7]\n",
    "n = 1000\n",
    "num_experiments = 100\n",
    "for p in p_values:\n",
    "    print(f\"\\nPour p = {p}:\")\n",
    "    sequence = [markov_sequence(p, n) for _ in range(num_experiments)]\n",
    "    last_values = [seq[-1] for seq in sequence]\n",
    "    mean = sum(last_values)/num_experiments\n",
    "    variance = sum((x - mean)**2 for x in last_values)/num_experiments \n",
    "    print(f\"moyenne:{mean:.2f}\")\n",
    "    print(f\"variance:{variance:.2f}\")\n",
    "    "
   ]
  },
  {
   "cell_type": "code",
   "execution_count": null,
   "id": "d48d74c9-112e-4d7e-9e6a-0f9a892913db",
   "metadata": {},
   "outputs": [],
   "source": []
  }
 ],
 "metadata": {
  "kernelspec": {
   "display_name": "Python 3 (ipykernel)",
   "language": "python",
   "name": "python3"
  },
  "language_info": {
   "codemirror_mode": {
    "name": "ipython",
    "version": 3
   },
   "file_extension": ".py",
   "mimetype": "text/x-python",
   "name": "python",
   "nbconvert_exporter": "python",
   "pygments_lexer": "ipython3",
   "version": "3.12.4"
  }
 },
 "nbformat": 4,
 "nbformat_minor": 5
}
