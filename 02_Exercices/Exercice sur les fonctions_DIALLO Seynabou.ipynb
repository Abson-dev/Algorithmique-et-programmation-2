{
 "cells": [
  {
   "cell_type": "code",
   "execution_count": 14,
   "id": "622c6ae3-fe62-47de-a0bc-b365a2711f3a",
   "metadata": {},
   "outputs": [
    {
     "name": "stdin",
     "output_type": "stream",
     "text": [
      "Donnez un entier positif 10\n"
     ]
    },
    {
     "name": "stdout",
     "output_type": "stream",
     "text": [
      "3628800\n"
     ]
    }
   ],
   "source": [
    "n=int(input(\"Donnez un entier positif\"))\n",
    "def factoriel(n):\n",
    "    s=1\n",
    "    for i in range(n-1):\n",
    "        s=s*(i+2)\n",
    "    return s\n",
    "print(factoriel(n))"
   ]
  },
  {
   "cell_type": "code",
   "execution_count": 27,
   "id": "300262f7-5328-4a01-87cb-2dcb70d87fd4",
   "metadata": {},
   "outputs": [
    {
     "name": "stdin",
     "output_type": "stream",
     "text": [
      "Donnez un entier positif 3\n"
     ]
    },
    {
     "name": "stdout",
     "output_type": "stream",
     "text": [
      "1\n"
     ]
    }
   ],
   "source": [
    "n=int(input(\"Donnez un entier positif\"))\n",
    "def Fibonacci(n):\n",
    "    a,b = 0,1\n",
    "    for i in range(n):\n",
    "        a,b=b,b+a\n",
    "        return a\n",
    "print(Fibonacci(n))"
   ]
  },
  {
   "cell_type": "code",
   "execution_count": null,
   "id": "49dd3a3b-b750-47e1-9fc9-d07cd6a01b3e",
   "metadata": {},
   "outputs": [],
   "source": []
  },
  {
   "cell_type": "code",
   "execution_count": null,
   "id": "1872a16e-a5aa-4001-be23-12d6ce8362e7",
   "metadata": {},
   "outputs": [],
   "source": []
  }
 ],
 "metadata": {
  "kernelspec": {
   "display_name": "Python 3 (ipykernel)",
   "language": "python",
   "name": "python3"
  },
  "language_info": {
   "codemirror_mode": {
    "name": "ipython",
    "version": 3
   },
   "file_extension": ".py",
   "mimetype": "text/x-python",
   "name": "python",
   "nbconvert_exporter": "python",
   "pygments_lexer": "ipython3",
   "version": "3.12.4"
  }
 },
 "nbformat": 4,
 "nbformat_minor": 5
}
