{
 "cells": [
  {
   "cell_type": "markdown",
   "id": "df118ede-49f5-42f0-9be6-d92072a837c2",
   "metadata": {},
   "source": [
    "EXERCICES"
   ]
  },
  {
   "cell_type": "markdown",
   "id": "88959a8a-820f-467a-b166-f40bdd543c67",
   "metadata": {},
   "source": [
    "EXERCICE 1"
   ]
  },
  {
   "cell_type": "code",
   "execution_count": 11,
   "id": "308155d4-06de-4256-ae59-bf0408a212ad",
   "metadata": {},
   "outputs": [
    {
     "name": "stdout",
     "output_type": "stream",
     "text": [
      "[1, 2, 3, 4, 5, 6, 7, 8, 9, 10, 11, 12, 13, 14, 15, 16, 17, 18, 19, 20, 21, 22, 23, 24, 25, 26, 27, 28, 29, 30, 31, 32, 33, 34, 35, 36, 37, 38, 39, 40, 41, 42, 43, 44, 45, 46, 47, 48, 49, 50, 51, 52, 53, 54, 55, 56, 57, 58, 59, 60, 61, 62, 63, 64, 65, 66, 67, 68, 69, 70, 71, 72, 73, 74, 75, 76, 77, 78, 79, 80, 81, 82, 83, 84, 85, 86, 87, 88, 89, 90, 91, 92, 93, 94, 95, 96, 97, 98, 99, 100]\n"
     ]
    }
   ],
   "source": [
    "nombres=list(range(1,101))\n",
    "print(nombres)"
   ]
  },
  {
   "cell_type": "code",
   "execution_count": 13,
   "id": "5633df35-f962-4837-9678-32c7572d8295",
   "metadata": {},
   "outputs": [
    {
     "name": "stdout",
     "output_type": "stream",
     "text": [
      "30\n"
     ]
    }
   ],
   "source": [
    "#30 ème élément\n",
    "print(nombres[29])"
   ]
  },
  {
   "cell_type": "code",
   "execution_count": 15,
   "id": "fb6d42d4-f00a-428f-a6f7-66a3a2e3258c",
   "metadata": {},
   "outputs": [
    {
     "name": "stdout",
     "output_type": "stream",
     "text": [
      "100\n",
      "100\n"
     ]
    }
   ],
   "source": [
    "#Dernier élément\n",
    "print(nombres[-1])\n",
    "print(nombres[99])"
   ]
  },
  {
   "cell_type": "code",
   "execution_count": 17,
   "id": "bf4c5edb-aa76-4156-8fc3-ad70620e0961",
   "metadata": {},
   "outputs": [
    {
     "name": "stdout",
     "output_type": "stream",
     "text": [
      "[100, 99, 98, 97, 96, 95, 94, 93, 92, 91, 90, 89, 88, 87, 86, 85, 84, 83, 82, 81, 80, 79, 78, 77, 76, 75, 74, 73, 72, 71, 70, 69, 68, 67, 66, 65, 64, 63, 62, 61, 60, 59, 58, 57, 56, 55, 54, 53, 52, 51, 50, 49, 48, 47, 46, 45, 44, 43, 42, 41, 40, 39, 38, 37, 36, 35, 34, 33, 32, 31, 30, 29, 28, 27, 26, 25, 24, 23, 22, 21, 20, 19, 18, 17, 16, 15, 14, 13, 12, 11, 10, 9, 8, 7, 6, 5, 4, 3, 2, 1]\n"
     ]
    }
   ],
   "source": [
    "#Renverser la liste\n",
    "nombres.reverse()\n",
    "print(nombres)"
   ]
  },
  {
   "cell_type": "code",
   "execution_count": 19,
   "id": "aafcc5bf-52be-49b8-81df-9cae7b3b4f2c",
   "metadata": {},
   "outputs": [],
   "source": [
    "#Supprime le 75 ème élément\n",
    "del nombres[74]"
   ]
  },
  {
   "cell_type": "code",
   "execution_count": 21,
   "id": "e225de72-4b15-43b4-a1e2-faa1572668b2",
   "metadata": {},
   "outputs": [
    {
     "data": {
      "text/plain": [
       "99"
      ]
     },
     "execution_count": 21,
     "metadata": {},
     "output_type": "execute_result"
    }
   ],
   "source": [
    "#Taille de la liste\n",
    "len(nombres)"
   ]
  },
  {
   "cell_type": "markdown",
   "id": "776cbea2-bd65-4d41-8027-ddc04dd404f3",
   "metadata": {},
   "source": [
    "EXERCICE 2"
   ]
  },
  {
   "cell_type": "code",
   "execution_count": 27,
   "id": "36549f70-07b5-4d9f-9191-204de793fede",
   "metadata": {},
   "outputs": [],
   "source": [
    "#Afficher les noms des élèves à l'exception des 5  derniers\n",
    "#eleves est le nom de la liste contenant les noms des élèves\n",
    "eleves[:-5]"
   ]
  },
  {
   "cell_type": "markdown",
   "id": "1595352e-4c91-4b91-b00c-6bb2dba707ad",
   "metadata": {},
   "source": [
    "EXERCICE 3"
   ]
  },
  {
   "cell_type": "code",
   "execution_count": 48,
   "id": "eed4f675-5847-458a-bade-0f962971bf68",
   "metadata": {},
   "outputs": [
    {
     "name": "stdout",
     "output_type": "stream",
     "text": [
      "[23, 19, 18, 30, 21, 19, 21, 20, 10]\n"
     ]
    }
   ],
   "source": [
    "age =[23, 19, 18, 30,21, 19, 21, 20,10]\n",
    "print(age)"
   ]
  },
  {
   "cell_type": "code",
   "execution_count": 50,
   "id": "f025ce06-35dd-47c0-9394-d54446c1d81f",
   "metadata": {},
   "outputs": [
    {
     "name": "stdout",
     "output_type": "stream",
     "text": [
      "[23, 19, 18, 30, 21, 19, 21, 20, 10, 12]\n"
     ]
    }
   ],
   "source": [
    "#Ajoute le nombre 12 à la liste\n",
    "age.append(12)\n",
    "print(age)"
   ]
  },
  {
   "cell_type": "code",
   "execution_count": 52,
   "id": "534490df-9035-47f8-86ce-9fc8d36feeec",
   "metadata": {},
   "outputs": [
    {
     "name": "stdout",
     "output_type": "stream",
     "text": [
      "[12, 10, 20, 21, 19, 21, 30, 18, 19, 23]\n"
     ]
    }
   ],
   "source": [
    "#Renverse la liste \n",
    "age.reverse()\n",
    "print(age)"
   ]
  },
  {
   "cell_type": "code",
   "execution_count": 54,
   "id": "86759b6e-f361-48e3-b622-193a2eb8ee8e",
   "metadata": {},
   "outputs": [
    {
     "name": "stdout",
     "output_type": "stream",
     "text": [
      "6\n"
     ]
    }
   ],
   "source": [
    "#L'index de l'élément 30\n",
    "print(age.index(30))"
   ]
  },
  {
   "cell_type": "code",
   "execution_count": 56,
   "id": "eddf1cec-6c4f-42dd-ac03-4348bbd472c3",
   "metadata": {},
   "outputs": [
    {
     "name": "stdout",
     "output_type": "stream",
     "text": [
      "[12, 10, 20, 21, 19, 21, 18, 19, 23]\n"
     ]
    }
   ],
   "source": [
    "#Supprime l'élément 30\n",
    "age.remove(30)\n",
    "print(age)\n"
   ]
  },
  {
   "cell_type": "code",
   "execution_count": 58,
   "id": "394c8345-c375-4b01-9085-d549835989a3",
   "metadata": {},
   "outputs": [
    {
     "name": "stdout",
     "output_type": "stream",
     "text": [
      "[10, 20]\n"
     ]
    }
   ],
   "source": [
    "#sous-liste du 2e et 3e élément\n",
    "print(age[1:3])"
   ]
  },
  {
   "cell_type": "code",
   "execution_count": 60,
   "id": "6395d52a-0398-4233-bde7-983080e9b68f",
   "metadata": {},
   "outputs": [
    {
     "name": "stdout",
     "output_type": "stream",
     "text": [
      "[12, 10]\n"
     ]
    }
   ],
   "source": [
    "#Asous-liste du début au 2e élément\n",
    "print(age[:2])"
   ]
  },
  {
   "cell_type": "code",
   "execution_count": 62,
   "id": "ba883cda-8172-4569-9166-f6803c37b106",
   "metadata": {},
   "outputs": [
    {
     "name": "stdout",
     "output_type": "stream",
     "text": [
      "[20, 21, 19, 21, 18, 19, 23]\n"
     ]
    }
   ],
   "source": [
    "#sous liste du 3e élément j'usqu'à la fin\n",
    "print(age[2::])"
   ]
  },
  {
   "cell_type": "code",
   "execution_count": 64,
   "id": "cd6165d5-593f-418a-9c41-11d00e7e6ece",
   "metadata": {},
   "outputs": [
    {
     "name": "stdout",
     "output_type": "stream",
     "text": [
      "[12, 10, 20, 21, 19, 21, 18, 19, 23]\n"
     ]
    }
   ],
   "source": [
    "#sous liste de la liste complète\n",
    "print(age[:])"
   ]
  },
  {
   "cell_type": "code",
   "execution_count": 66,
   "id": "ef98163b-1742-47bd-8576-824f1a290476",
   "metadata": {},
   "outputs": [
    {
     "name": "stdout",
     "output_type": "stream",
     "text": [
      "23\n"
     ]
    }
   ],
   "source": [
    "#Affiche dernier élément avec un indiçage négatif\n",
    "print(age[-1])"
   ]
  },
  {
   "cell_type": "code",
   "execution_count": 68,
   "id": "05994e78-ee75-4307-bf57-095ddd797fa2",
   "metadata": {},
   "outputs": [
    {
     "name": "stdout",
     "output_type": "stream",
     "text": [
      "[10, 12, 18, 19, 19, 20, 21, 21, 23]\n"
     ]
    }
   ],
   "source": [
    "#Triage puis affichage de la liste\n",
    "age.sort()\n",
    "print(age)"
   ]
  }
 ],
 "metadata": {
  "kernelspec": {
   "display_name": "Python [conda env:base] *",
   "language": "python",
   "name": "conda-base-py"
  },
  "language_info": {
   "codemirror_mode": {
    "name": "ipython",
    "version": 3
   },
   "file_extension": ".py",
   "mimetype": "text/x-python",
   "name": "python",
   "nbconvert_exporter": "python",
   "pygments_lexer": "ipython3",
   "version": "3.12.4"
  }
 },
 "nbformat": 4,
 "nbformat_minor": 5
}
