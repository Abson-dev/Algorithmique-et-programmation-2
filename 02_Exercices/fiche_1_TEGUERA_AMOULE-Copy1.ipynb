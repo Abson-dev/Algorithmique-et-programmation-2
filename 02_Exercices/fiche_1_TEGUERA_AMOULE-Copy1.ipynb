{
 "cells": [
  {
   "cell_type": "markdown",
   "id": "e024fcf2-6af7-491c-97ef-e911412f9334",
   "metadata": {},
   "source": [
    "# FICHE 1"
   ]
  },
  {
   "cell_type": "code",
   "execution_count": 3,
   "id": "a00edc8f-2e41-4cfe-a8a1-5fd16bc5aecb",
   "metadata": {},
   "outputs": [
    {
     "data": {
      "text/plain": [
       "[0.5131644846031199,\n",
       " 0.46013901001897584,\n",
       " 0.8827353098443186,\n",
       " 0.8096134832889632,\n",
       " 0.469117401841181,\n",
       " 0.5102030405597691,\n",
       " 0.5083803913382943,\n",
       " 0.7221841773706293,\n",
       " 0.2627841948869186,\n",
       " 0.09602977821942948]"
      ]
     },
     "execution_count": 3,
     "metadata": {},
     "output_type": "execute_result"
    }
   ],
   "source": [
    "# EXERCICE 1\n",
    "import random \n",
    "def variable(n,list=[]):\n",
    "    for i in range(n):\n",
    "        X=random.random()\n",
    "        list.append(X)\n",
    "    return list\n",
    "variable(10)\n",
    "\n"
   ]
  },
  {
   "cell_type": "code",
   "execution_count": 5,
   "id": "6f50e3e0-3628-4a3a-8ec5-25c128d3fcaf",
   "metadata": {},
   "outputs": [
    {
     "name": "stdin",
     "output_type": "stream",
     "text": [
      "Mettez le nombre de réalisations souhaitées 2\n",
      "nombre de répétitions 13\n"
     ]
    },
    {
     "data": {
      "text/plain": [
       "[0.44102451509239304,\n",
       " 0.43708436549799906,\n",
       " 0.4406726101267816,\n",
       " 0.4906158720463185,\n",
       " 0.5032082365041941,\n",
       " 0.5181179315548907,\n",
       " 0.5520806074645926,\n",
       " 0.5572165605751291,\n",
       " 0.5654068060192683,\n",
       " 0.5369032291055414,\n",
       " 0.5507609257170265,\n",
       " 0.5588707011070637,\n",
       " 0.5534264759443238]"
      ]
     },
     "execution_count": 5,
     "metadata": {},
     "output_type": "execute_result"
    }
   ],
   "source": [
    "import numpy as np\n",
    "n=int(input(\"Mettez le nombre de réalisations souhaitées\"))\n",
    "c=int(input(\"nombre de répétitions\"))\n",
    "liste=[]\n",
    "for i in range(c):\n",
    "    m=np.mean(variable(n))\n",
    "    liste.append(m)\n",
    "liste"
   ]
  },
  {
   "cell_type": "markdown",
   "id": "256813fe-17cc-409d-8dd4-1e8b4576a699",
   "metadata": {},
   "source": [
    " Pour n assez grand on observe une convergence vers 1/2"
   ]
  },
  {
   "cell_type": "code",
   "execution_count": 14,
   "id": "4af88404-5dd7-42fe-8c82-105943cc138a",
   "metadata": {},
   "outputs": [
    {
     "data": {
      "text/plain": [
       "[0.5433041502269997,\n",
       " 1.0797979781716203,\n",
       " 1.6168478738484748,\n",
       " 2.150887145419567,\n",
       " 2.6812303262387047,\n",
       " 3.2096590932530766,\n",
       " 3.733254423217655]"
      ]
     },
     "execution_count": 14,
     "metadata": {},
     "output_type": "execute_result"
    }
   ],
   "source": [
    "lst=[]\n",
    "somme=0\n",
    "for i in range(len(liste)):\n",
    "    somme+=liste[i]\n",
    "    lst.append(somme)\n",
    "lst\n",
    "    "
   ]
  },
  {
   "cell_type": "code",
   "execution_count": 16,
   "id": "4990df76-dc03-4f90-99b4-159b181b484e",
   "metadata": {
    "scrolled": true
   },
   "outputs": [
    {
     "data": {
      "image/png": "[encoded data removed]",
      "text/plain": [
       "<Figure size 640x480 with 1 Axes>"
      ]
     },
     "metadata": {},
     "output_type": "display_data"
    }
   ],
   "source": [
    "import matplotlib.pyplot as plt\n",
    "plt.plot(lst)\n",
    "plt.show()"
   ]
  },
  {
   "cell_type": "code",
   "execution_count": null,
   "id": "4666d335-c022-4b35-b160-5bae9335420b",
   "metadata": {},
   "outputs": [],
   "source": [
    "# EXERCICE 4"
   ]
  },
  {
   "cell_type": "code",
   "execution_count": 47,
   "id": "70a14986-b957-49a5-8de0-a16bc4f2b7b0",
   "metadata": {},
   "outputs": [],
   "source": [
    "from random import random\n",
    "import math\n",
    "lost=[]\n",
    "def bernouilli(p):\n",
    "    x=random()\n",
    "    if p < 0:\n",
    "        print(\"Cette probabilité est négative\")\n",
    "    elif 1 < p:\n",
    "        print(\"Votre probabilité dépasse 1\")\n",
    "    elif x < p:\n",
    "        return(1)\n",
    "    else:\n",
    "        return (0)\n",
    "        \n",
    "def binomiale(n,p):\n",
    "    s=0\n",
    "    for i in range(n):\n",
    "        s += bernouilli(p)\n",
    "        lost.append(s)\n",
    "    return s\n",
    "  \n",
    "\n"
   ]
  },
  {
   "cell_type": "code",
   "execution_count": 65,
   "id": "77362816-3d6e-4fd0-b0ba-40e25c6029c1",
   "metadata": {},
   "outputs": [
    {
     "name": "stdin",
     "output_type": "stream",
     "text": [
      "Le nombre de répétition 34\n",
      "La probabilité 0.5\n",
      "le nombre de variables souhaitées 100\n"
     ]
    },
    {
     "data": {
      "text/plain": [
       "[21,\n",
       " 16,\n",
       " 12,\n",
       " 17,\n",
       " 16,\n",
       " 17,\n",
       " 15,\n",
       " 16,\n",
       " 15,\n",
       " 16,\n",
       " 20,\n",
       " 12,\n",
       " 14,\n",
       " 17,\n",
       " 18,\n",
       " 15,\n",
       " 17,\n",
       " 20,\n",
       " 18,\n",
       " 15,\n",
       " 17,\n",
       " 20,\n",
       " 23,\n",
       " 22,\n",
       " 14,\n",
       " 17,\n",
       " 20,\n",
       " 16,\n",
       " 16,\n",
       " 22,\n",
       " 19,\n",
       " 14,\n",
       " 15,\n",
       " 15,\n",
       " 15,\n",
       " 18,\n",
       " 20,\n",
       " 19,\n",
       " 12,\n",
       " 20,\n",
       " 16,\n",
       " 18,\n",
       " 22,\n",
       " 15,\n",
       " 18,\n",
       " 16,\n",
       " 19,\n",
       " 19,\n",
       " 20,\n",
       " 19,\n",
       " 15,\n",
       " 14,\n",
       " 13,\n",
       " 19,\n",
       " 21,\n",
       " 22,\n",
       " 20,\n",
       " 21,\n",
       " 15,\n",
       " 18,\n",
       " 11,\n",
       " 11,\n",
       " 17,\n",
       " 14,\n",
       " 12,\n",
       " 19,\n",
       " 15,\n",
       " 10,\n",
       " 14,\n",
       " 19,\n",
       " 16,\n",
       " 20,\n",
       " 16,\n",
       " 20,\n",
       " 13,\n",
       " 18,\n",
       " 24,\n",
       " 14,\n",
       " 20,\n",
       " 17,\n",
       " 13,\n",
       " 18,\n",
       " 21,\n",
       " 12,\n",
       " 20,\n",
       " 19,\n",
       " 14,\n",
       " 17,\n",
       " 18,\n",
       " 18,\n",
       " 15,\n",
       " 18,\n",
       " 20,\n",
       " 17,\n",
       " 19,\n",
       " 18,\n",
       " 15,\n",
       " 16,\n",
       " 18,\n",
       " 14]"
      ]
     },
     "execution_count": 65,
     "metadata": {},
     "output_type": "execute_result"
    }
   ],
   "source": [
    "n=int(input(\"Le nombre de répétition\"))\n",
    "p=float(input(\"La probabilité\"))\n",
    "r=int(input(\"le nombre de variables souhaitées\"))\n",
    "lust=[]\n",
    "for  i in range(r):\n",
    "    lust.append(binomiale(n,p))\n",
    "lust\n"
   ]
  },
  {
   "cell_type": "code",
   "execution_count": 67,
   "id": "8f29cf17-d38d-43ab-9830-6f798a09293a",
   "metadata": {},
   "outputs": [
    {
     "data": {
      "text/plain": [
       "1701"
      ]
     },
     "execution_count": 67,
     "metadata": {},
     "output_type": "execute_result"
    }
   ],
   "source": [
    "sum(lust)"
   ]
  },
  {
   "cell_type": "code",
   "execution_count": 69,
   "id": "f44b59eb-9a5d-45b6-a24f-f7feb326bfdf",
   "metadata": {},
   "outputs": [
    {
     "data": {
      "image/png": "[encoded data removed]",
      "text/plain": [
       "<Figure size 640x480 with 1 Axes>"
      ]
     },
     "metadata": {},
     "output_type": "display_data"
    }
   ],
   "source": [
    "import matplotlib.pyplot as plt\n",
    "plt.hist(lust)\n",
    "plt.show()"
   ]
  },
  {
   "cell_type": "code",
   "execution_count": 75,
   "id": "98435d08-2b4a-4926-b547-8ccd6eb3c7f6",
   "metadata": {},
   "outputs": [
    {
     "data": {
      "text/plain": [
       "[15.138364457094983,\n",
       " 11.791406794043738,\n",
       " 15.63356430353582,\n",
       " 26.078849936813967,\n",
       " 8.48676384928602,\n",
       " 1.229722871093614,\n",
       " 15.957540961478895,\n",
       " 26.836290545681244,\n",
       " 35.034417531182626,\n",
       " 26.342158177512573,\n",
       " 8.67141193007416,\n",
       " 18.292677583191445,\n",
       " 10.739820001725857,\n",
       " 6.575932306694234,\n",
       " 4.366644625656017,\n",
       " 19.993847120498966,\n",
       " 5.105805313162383,\n",
       " 16.931744199049415,\n",
       " 13.725423265922776,\n",
       " 21.99144590120029,\n",
       " 28.437497893965855,\n",
       " 10.02881152806775,\n",
       " 11.567986799287041,\n",
       " 14.304435197583228,\n",
       " 6.611147196290402,\n",
       " 5.911358828235272,\n",
       " 23.632953476475755,\n",
       " 28.775720394230163,\n",
       " 14.225398649855475,\n",
       " 10.659061238989164,\n",
       " 24.955371799622387,\n",
       " 3.081434817090633,\n",
       " 8.01465503161766,\n",
       " 13.69616572461416]"
      ]
     },
     "execution_count": 75,
     "metadata": {},
     "output_type": "execute_result"
    }
   ],
   "source": [
    "import random\n",
    "nor=[]\n",
    "for i in range(n):\n",
    "    y=random.gauss(n*p,n*p*(1-p))\n",
    "    nor.append(y)\n",
    "nor"
   ]
  },
  {
   "cell_type": "code",
   "execution_count": 77,
   "id": "2dbd2a27-6a3f-4b48-9174-6e32565e30fa",
   "metadata": {},
   "outputs": [
    {
     "data": {
      "text/plain": [
       "512.825830250824"
      ]
     },
     "execution_count": 77,
     "metadata": {},
     "output_type": "execute_result"
    }
   ],
   "source": [
    "sum(nor)"
   ]
  },
  {
   "cell_type": "code",
   "execution_count": 79,
   "id": "4d8b8467-97b8-4fab-8bd0-c8c7c5a620b6",
   "metadata": {},
   "outputs": [
    {
     "data": {
      "image/png": "[encoded data removed]",
      "text/plain": [
       "<Figure size 640x480 with 1 Axes>"
      ]
     },
     "metadata": {},
     "output_type": "display_data"
    }
   ],
   "source": [
    "import matplotlib.pyplot as plt\n",
    "plt.hist(nor)\n",
    "plt.show()"
   ]
  },
  {
   "cell_type": "code",
   "execution_count": 147,
   "id": "9d4af65e-8cbd-4d6e-8997-9708c57c5836",
   "metadata": {},
   "outputs": [
    {
     "name": "stdin",
     "output_type": "stream",
     "text": [
      "le nombre d'essai 12\n",
      "la probabilité 0.4\n",
      "le nombre de variables souhaitées 5\n"
     ]
    },
    {
     "data": {
      "text/plain": [
       "0"
      ]
     },
     "execution_count": 147,
     "metadata": {},
     "output_type": "execute_result"
    }
   ],
   "source": [
    "#EXERCICE 3\n",
    "from random import random\n",
    "import math\n",
    "gea=[]\n",
    "def geo(n,p):\n",
    "    s=0\n",
    "    for i in range(n):   \n",
    "        a = bernouilli(p)\n",
    "        #gea.append(a)\n",
    "        if a == 0:\n",
    "            s+=1\n",
    "        else : \n",
    "            break\n",
    "    return s\n",
    "n=int(input(\"le nombre d'essai\"))\n",
    "p=float(input('la probabilité'))\n",
    "r=int(input(\"le nombre de variables souhaitées\"))\n",
    "geo(n,p)\n",
    "    "
   ]
  },
  {
   "cell_type": "code",
   "execution_count": 151,
   "id": "22aea14b-e4c0-43cc-a75a-16d76636cc2e",
   "metadata": {},
   "outputs": [
    {
     "data": {
      "text/plain": [
       "[1, 1, 4, 0, 3]"
      ]
     },
     "execution_count": 151,
     "metadata": {},
     "output_type": "execute_result"
    }
   ],
   "source": [
    "gai=[]\n",
    "for  i in range(r):\n",
    "    gai.append(geo(n,p))\n",
    "gai\n"
   ]
  },
  {
   "cell_type": "code",
   "execution_count": 153,
   "id": "04a8c6ff-57c9-4af7-aa18-e899f355e376",
   "metadata": {},
   "outputs": [
    {
     "data": {
      "image/png": "[encoded data removed]",
      "text/plain": [
       "<Figure size 640x480 with 1 Axes>"
      ]
     },
     "metadata": {},
     "output_type": "display_data"
    }
   ],
   "source": [
    "import matplotlib.pyplot as plt\n",
    "plt.hist(gai)\n",
    "plt.show()"
   ]
  },
  {
   "cell_type": "code",
   "execution_count": 157,
   "id": "8ba49603-36cf-41ef-b58d-1cb4512b7df9",
   "metadata": {},
   "outputs": [
    {
     "data": {
      "text/plain": [
       "array([6, 3, 1, 1, 1, 3, 2, 5, 2, 1, 2, 3])"
      ]
     },
     "execution_count": 157,
     "metadata": {},
     "output_type": "execute_result"
    }
   ],
   "source": [
    "import numpy.random as rd\n",
    "rd.geometric(0.4,n)"
   ]
  },
  {
   "cell_type": "code",
   "execution_count": 159,
   "id": "c530a1bb-3b84-455d-a439-5e1d6b19b536",
   "metadata": {},
   "outputs": [
    {
     "data": {
      "image/png": "[encoded data removed]",
      "text/plain": [
       "<Figure size 640x480 with 1 Axes>"
      ]
     },
     "metadata": {},
     "output_type": "display_data"
    }
   ],
   "source": [
    "import matplotlib.pyplot as plt\n",
    "plt.hist(rd.geometric(0.4,n))\n",
    "plt.show()"
   ]
  },
  {
   "cell_type": "code",
   "execution_count": 163,
   "id": "566016b2-0576-4e37-904c-a740417371b4",
   "metadata": {},
   "outputs": [
    {
     "name": "stdin",
     "output_type": "stream",
     "text": [
      "Choisissez la valeur de votre paramètre 5\n",
      "le nombre de réalisations voulues 8\n"
     ]
    },
    {
     "data": {
      "text/plain": [
       "array([8, 9, 4, 5, 7, 3, 1, 5])"
      ]
     },
     "execution_count": 163,
     "metadata": {},
     "output_type": "execute_result"
    }
   ],
   "source": [
    "#EXERCICE 6\n",
    "import numpy.random as rd\n",
    "def poisson(l,n):\n",
    "    return rd.poisson(l,n)\n",
    "l=int(input(\"Choisissez la valeur de votre paramètre\"))\n",
    "n=int(input(\"le nombre de réalisations voulues\"))\n",
    "poisson(l,n)"
   ]
  },
  {
   "cell_type": "code",
   "execution_count": 172,
   "id": "eba89b12-a6a3-46df-824e-e99747aadbff",
   "metadata": {},
   "outputs": [
    {
     "name": "stdin",
     "output_type": "stream",
     "text": [
      "Mettez la variable mu 5\n",
      "Mettez un réel positif 7\n",
      "Combien de répétitions 6\n"
     ]
    },
    {
     "data": {
      "text/plain": [
       "array([ 7.01698835, 15.02525629,  3.4087728 , -8.43517625, 16.18112389,\n",
       "        8.46028897])"
      ]
     },
     "execution_count": 172,
     "metadata": {},
     "output_type": "execute_result"
    }
   ],
   "source": [
    "def normal(m,s,n):\n",
    "    return rd.normal(m,s,n)\n",
    "m=float(input(\"Mettez la variable mu\"))\n",
    "s=int(input(\"Mettez un réel positif\"))\n",
    "n=int(input(\"Combien de répétitions\"))\n",
    "normal(m,s,n)"
   ]
  },
  {
   "cell_type": "code",
   "execution_count": 1,
   "id": "d6df673a-ac33-4bb0-a6da-077c8175dbd0",
   "metadata": {},
   "outputs": [
    {
     "name": "stdout",
     "output_type": "stream",
     "text": [
      "Fréquences observées : {'b': 0.2946, 'c': 0.1989, 'a': 0.5065}\n",
      "Entropie empirique   : 1.4799 bits\n",
      "Entropie théorique   : 1.4855 bits\n"
     ]
    }
   ],
   "source": [
    "#EXERCICE 8\n",
    "import numpy as np\n",
    "from collections import Counter\n",
    "from math import log2\n",
    "\n",
    "# 1. Simulation de la source\n",
    "alphabet = ['a', 'b', 'c']\n",
    "probs = [0.5, 0.3, 0.2]\n",
    "n = 10000\n",
    "sequence = np.random.choice(alphabet, size=n, p=probs)\n",
    "\n",
    "# 2. Entropie empirique\n",
    "counts = Counter(sequence)\n",
    "empirical_probs = {symbol: count / n for symbol, count in counts.items()}\n",
    "H_empirical = -sum(p * log2(p) for p in empirical_probs.values())\n",
    "\n",
    "# 3. Entropie théorique\n",
    "H_theoretical = -sum(p * log2(p) for p in probs)\n",
    "\n",
    "# Affichage des résultats\n",
    "print(\"Fréquences observées :\", empirical_probs)\n",
    "print(f\"Entropie empirique   : {H_empirical:.4f} bits\")\n",
    "print(f\"Entropie théorique   : {H_theoretical:.4f} bits\")\n"
   ]
  },
  {
   "cell_type": "code",
   "execution_count": 4,
   "id": "fc74ea7f-8666-4048-b4fd-979b6aaec45a",
   "metadata": {},
   "outputs": [
    {
     "name": "stdout",
     "output_type": "stream",
     "text": [
      "Distribution empirique après 10 transitions :\n",
      "État 0 : 0.2580\n",
      "État 1 : 0.4380\n",
      "État 2 : 0.3040\n"
     ]
    }
   ],
   "source": [
    "# EXERCICE 5\n",
    "import numpy as np\n",
    "from collections import Counter\n",
    "\n",
    "# 1. Matrice de transition\n",
    "P = np.array([\n",
    "    [0.1, 0.6, 0.3],\n",
    "    [0.4, 0.3, 0.3],\n",
    "    [0.2, 0.5, 0.3]\n",
    "])\n",
    "\n",
    "# 2. Paramètres de simulation\n",
    "n_steps = 10       # nombre de transitions par trajectoire\n",
    "n_trajectories = 10000  # nombre de trajectoires simulées\n",
    "n_states = P.shape[0]\n",
    "\n",
    "# 3. Simulation des trajectoires\n",
    "final_states = []\n",
    "\n",
    "for i in range(n_trajectories):\n",
    "    state = np.random.choice([0, 1, 2])  # état initial choisi au hasard\n",
    "    for i in range(n_steps):\n",
    "        state = np.random.choice([0, 1, 2], p=P[state])\n",
    "    final_states.append(state)\n",
    "\n",
    "# 4. Estimation empirique\n",
    "counts = Counter(final_states)\n",
    "empirical_distribution = {state: counts[state] / n_trajectories for state in range(n_states)}\n",
    "\n",
    "# 5. Affichage\n",
    "print(\"Distribution empirique après\", n_steps, \"transitions :\")\n",
    "for state, prob in empirical_distribution.items():\n",
    "    print(f\"État {state} : {prob:.4f}\")\n"
   ]
  },
  {
   "cell_type": "code",
   "execution_count": 9,
   "id": "05b013d6-739f-4371-9f9f-4158cf55a1ed",
   "metadata": {},
   "outputs": [
    {
     "name": "stdout",
     "output_type": "stream",
     "text": [
      "Fréquence empirique de |X̄ₙ - μ| ≥ ε : 0.0003\n",
      "Borne de Bienaymé-Tchebychev        : 0.0800\n"
     ]
    }
   ],
   "source": [
    "#EXERCICE 7\n",
    "import numpy as np\n",
    "\n",
    "# 1. Paramètres\n",
    "mu = 0          # moyenne\n",
    "sigma = 1       # écart-type (donc variance = 1)\n",
    "n = 50          # taille de l’échantillon\n",
    "epsilon = 0.5   # seuil de déviation\n",
    "n_experiments = 10000  # nombre d’échantillons simulés\n",
    "\n",
    "# 2. Simulation\n",
    "violations = 0  # compteur d'événements où |X̄ₙ - μ| ≥ ε\n",
    "\n",
    "for i in range(n_experiments):\n",
    "    sample = np.random.normal(loc=mu, scale=sigma, size=n)  # X_i ~ N(0,1)\n",
    "    x_bar = np.mean(sample)\n",
    "    if abs(x_bar - mu) >= epsilon:\n",
    "        violations += 1\n",
    "\n",
    "# 3. Fréquence empirique\n",
    "empirical_freq = violations / n_experiments\n",
    "\n",
    "# 4. Borne de Tchebychev\n",
    "tchebychev_bound = sigma**2 / (n * epsilon**2)\n",
    "\n",
    "# 5. Affichage\n",
    "print(f\"Fréquence empirique de |X̄ₙ - μ| ≥ ε : {empirical_freq:.4f}\")\n",
    "print(f\"Borne de Bienaymé-Tchebychev        : {tchebychev_bound:.4f}\")\n"
   ]
  },
  {
   "cell_type": "code",
   "execution_count": 5,
   "id": "73e93350-3748-4294-a5ae-809be4bdbab6",
   "metadata": {},
   "outputs": [
    {
     "data": {
      "image/png": "[encoded data removed]",
      "text/plain": [
       "<Figure size 640x480 with 1 Axes>"
      ]
     },
     "metadata": {},
     "output_type": "display_data"
    }
   ],
   "source": [
    "#EXERCICE 6\n",
    "import numpy as np\n",
    "import matplotlib.pyplot as plt\n",
    "\n",
    "# Paramètres\n",
    "lambda_ = 2.0  # taux d'arrivée (événements par unité de temps)\n",
    "T = 10.0       # durée totale de la simulation\n",
    "\n",
    "# Simulation des temps d'arrivée\n",
    "inter_arrival_times = np.random.exponential(1/lambda_, size=1000)\n",
    "arrival_times = np.cumsum(inter_arrival_times)\n",
    "\n",
    "# Garder les événements dans [0, T]\n",
    "arrival_times = arrival_times[arrival_times <= T]\n",
    "\n",
    "# Nombre d'événements en fonction du temps\n",
    "event_counts = np.arange(1, len(arrival_times) + 1)\n",
    "\n",
    "# Tracé\n",
    "plt.step(arrival_times, event_counts, where='post')\n",
    "plt.xlabel(\"Temps\")\n",
    "plt.ylabel(\"Nombre d'événements\")\n",
    "plt.title(\"Processus de Poisson (λ = {:.1f})\".format(lambda_))\n",
    "plt.grid(True)\n",
    "plt.show()\n",
    "\n",
    "\n"
   ]
  },
  {
   "cell_type": "code",
   "execution_count": 1,
   "id": "88eafd09-5930-4eb8-ad6b-e197c6fd5ba5",
   "metadata": {},
   "outputs": [
    {
     "data": {
      "image/png": "[encoded data removed]",
      "text/plain": [
       "<Figure size 640x480 with 1 Axes>"
      ]
     },
     "metadata": {},
     "output_type": "display_data"
    }
   ],
   "source": [
    "# EXERCICE 2.pyplot as plt\n",
    "\n",
    "# Paramètre : nombre de points à tirer\n",
    "n = 10000\n",
    "\n",
    "# 1. Tirage de n points dans le carré [0,1] x [0,1]\n",
    "x = np.random.uniform(0, 1, n)\n",
    "y = np.random.uniform(0, 1, n)\n",
    "\n",
    "# 2. Comptage des points dans le quart de disque unité (x² + y² ≤ 1)\n",
    "inside = x*2 + y*2 <= 1\n",
    "n_inside = np.cumsum(inside)  # cumulatif pour suivre l'évolution\n",
    "\n",
    "# 3. Approximation de π\n",
    "approximations_pi = 4 * n_inside / np.arange(1, n + 1)\n",
    "errors = np.abs(np.pi - approximations_pi)\n",
    "\n",
    "# Tracé de l'erreur\n",
    "plt.plot(errors)\n",
    "plt.xlabel(\"Nombre de points\")\n",
    "plt.ylabel(\"Erreur sur π\")\n",
    "plt.title(\"Erreur d'approximation de π (méthode de Monte Carlo)\")\n",
    "plt.grid(True)\n",
    "plt.show()\n"
   ]
  },
  {
   "cell_type": "code",
   "execution_count": null,
   "id": "93e6d44e-83f9-4407-9a5c-917cbbf6294f",
   "metadata": {},
   "outputs": [],
   "source": []
  }
 ],
 "metadata": {
  "kernelspec": {
   "display_name": "Python [conda env:base] *",
   "language": "python",
   "name": "conda-base-py"
  },
  "language_info": {
   "codemirror_mode": {
    "name": "ipython",
    "version": 3
   },
   "file_extension": ".py",
   "mimetype": "text/x-python",
   "name": "python",
   "nbconvert_exporter": "python",
   "pygments_lexer": "ipython3",
   "version": "3.12.7"
  }
 },
 "nbformat": 4,
 "nbformat_minor": 5
}
