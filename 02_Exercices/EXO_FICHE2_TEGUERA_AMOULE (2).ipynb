{
 "cells": [
  {
   "cell_type": "code",
   "execution_count": 1,
   "id": "ec9fc6e1-292f-4ee8-ba36-f1f715428fa6",
   "metadata": {},
   "outputs": [
    {
     "name": "stdin",
     "output_type": "stream",
     "text": [
      "Donnez le nombre d'expériences (n) :  10\n",
      "Donnez le nombre de succès (k) :  3\n",
      "Donnez la probabilité de succès (p) :  0.1667\n"
     ]
    },
    {
     "name": "stdout",
     "output_type": "stream",
     "text": [
      "\n",
      "La probabilité d'obtenir exactement 3 succès après 10 lancers est : 0.1551\n"
     ]
    },
    {
     "name": "stdin",
     "output_type": "stream",
     "text": [
      "\n",
      "Combien de fois voulez-vous simuler ?  1000\n"
     ]
    },
    {
     "name": "stdout",
     "output_type": "stream",
     "text": [
      "Fréquence expérimentale d'obtenir exactement 3 succès après 1000 simulations : 0.165\n"
     ]
    }
   ],
   "source": [
    "#Loi Binomiale – Exercice 1 : Probabilité exacte\n",
    "import math\n",
    "import random\n",
    "\n",
    "n = int(input(\"Donnez le nombre d'expériences (n) : \"))\n",
    "k = int(input(\"Donnez le nombre de succès (k) : \"))\n",
    "p = float(input(\"Donnez la probabilité de succès (p) : \"))\n",
    "\n",
    "def combinaison(n, k):\n",
    "    return math.factorial(n) / (math.factorial(k) * math.factorial(n - k))\n",
    "\n",
    "def binomial(n, k, p):\n",
    "    return combinaison(n, k) * p**k * (1 - p)**(n - k)\n",
    "\n",
    "prob = binomial(n, k, p)\n",
    "print(f\"\\nLa probabilité d'obtenir exactement {k} succès après {n} lancers est : {prob:.4f}\")\n",
    "\n",
    "s = int(input(\"\\nCombien de fois voulez-vous simuler ? \"))\n",
    "\n",
    "def simulation(s, n, k, p):\n",
    "    compteur = 0\n",
    "    for i in range(s):\n",
    "        succes = 0\n",
    "        for j in range(n):\n",
    "            if random.random() < p:\n",
    "                succes += 1\n",
    "        if succes == k:\n",
    "            compteur += 1\n",
    "    return compteur / s\n",
    "\n",
    "freq = simulation(s, n, k, p)\n",
    "print(f\"Fréquence expérimentale d'obtenir exactement {k} succès après {s} simulations : {freq:}\")\n"
   ]
  },
  {
   "cell_type": "code",
   "execution_count": 2,
   "id": "308eb8d3-8067-4a98-b2d2-5a5bd5fc6703",
   "metadata": {},
   "outputs": [
    {
     "name": "stdin",
     "output_type": "stream",
     "text": [
      "Donnez le nombre de personnes (n) :  50\n",
      "Donnez la probabilité d'être gaucher (p) :  0.3\n"
     ]
    },
    {
     "name": "stdout",
     "output_type": "stream",
     "text": [
      " La probabilité d'avoir entre 10 et 20 gauchers est de 0.8749657673069777\n",
      "Fréquence expérimentale d'obtenir exactement 19 succès après 1000 simulations : 0.062\n"
     ]
    }
   ],
   "source": [
    "#Loi Binomiale – Exercice 2 : Simulation et fréquence \n",
    "import math \n",
    "import random\n",
    "n = int(input(\"Donnez le nombre de personnes (n) : \"))\n",
    "p = float(input(\"Donnez la probabilité d'être gaucher (p) : \"))\n",
    "prob = 0\n",
    "for k in range (10,20) :\n",
    "    prob += binomial(n,k,p) \n",
    "print ( f\" La probabilité d'avoir entre 10 et 20 gauchers est de {prob}\")\n",
    "\n",
    "for k in range (10,20) :\n",
    "    freq= simulation(s,n,k,p)\n",
    "print(f\"Fréquence expérimentale d'obtenir exactement {k} succès après {s} simulations : {freq:}\")\n"
   ]
  },
  {
   "cell_type": "code",
   "execution_count": 3,
   "id": "751abe4b-cf2c-405b-9a8b-fcf19491c70b",
   "metadata": {},
   "outputs": [
    {
     "name": "stdin",
     "output_type": "stream",
     "text": [
      "Donnez le nombre d'appel moyen 5\n",
      "Donnez le nombre d'appel attendu 7\n"
     ]
    },
    {
     "name": "stdout",
     "output_type": "stream",
     "text": [
      "La probabilité de recevoir exactement 7 appels en une heure est 0.104444862957054\n"
     ]
    }
   ],
   "source": [
    "#Loi de Poisson – Exercice 1 : Arrivées téléphoniques\n",
    "import math\n",
    "n = int(input(\"Donnez le nombre d'appel moyen\"))\n",
    "k = int(input(\"Donnez le nombre d'appel attendu\"))\n",
    "def poisson (n,k) :\n",
    "     return (n**k * math.exp(-n))/math.factorial(k)\n",
    "p = poisson(n,k)\n",
    "    \n",
    "print ( f\"La probabilité de recevoir exactement {k} appels en une heure est {p}\")    "
   ]
  },
  {
   "cell_type": "code",
   "execution_count": 4,
   "id": "65dede0c-ddfb-493d-8a7a-f40fcaf0c692",
   "metadata": {},
   "outputs": [
    {
     "name": "stdin",
     "output_type": "stream",
     "text": [
      "Entrez la moyenne  :  12\n",
      "Entrez l'écart-type  :  2\n",
      "Borne inférieure :  10\n",
      "Borne supérieure :  12\n"
     ]
    },
    {
     "name": "stdout",
     "output_type": "stream",
     "text": [
      "La probabilité qu'une note soit entre 10.0 et 12.0 est : 0.3413447460685429\n"
     ]
    }
   ],
   "source": [
    "#Loi Normale – Exercice 1 : Notes d'examen\n",
    "import math\n",
    "\n",
    "mu = float(input(\"Entrez la moyenne  : \"))\n",
    "sigma = float(input(\"Entrez l'écart-type  : \"))\n",
    "a = float(input(\"Borne inférieure : \"))\n",
    "b = float(input(\"Borne supérieure : \"))\n",
    "\n",
    "def normale(mu, sigma, a, b):\n",
    "    z1 = (a - mu) / (sigma * math.sqrt(2))\n",
    "    z2 = (b - mu) / (sigma * math.sqrt(2))\n",
    "    return 0.5 * (math.erf(z2) - math.erf(z1))\n",
    "\n",
    "p = normale(mu, sigma, a, b)\n",
    "print(f\"La probabilité qu'une note soit entre {a} et {b} est : {p}\")\n"
   ]
  },
  {
   "cell_type": "code",
   "execution_count": 7,
   "id": "0da3a199-480f-42e6-972b-fe011591f4cf",
   "metadata": {},
   "outputs": [
    {
     "data": {
      "image/png": "[encoded data removed]",
      "text/plain": [
       "<Figure size 640x480 with 1 Axes>"
      ]
     },
     "metadata": {},
     "output_type": "display_data"
    }
   ],
   "source": [
    "# Loi Normale – #Exercice 2 : Simulation de la loi normale\n",
    "import numpy as np\n",
    "import matplotlib.pyplot as plt\n",
    "\n",
    "notes = np.random.normal(12, 2, 1000)\n",
    "plt.hist(notes, bins=30, density=True)\n",
    "plt.show()\n"
   ]
  },
  {
   "cell_type": "code",
   "execution_count": 8,
   "id": "e66446c7-b0c6-4f0e-aa91-f456caf17d08",
   "metadata": {},
   "outputs": [
    {
     "name": "stdin",
     "output_type": "stream",
     "text": [
      "Entrez la valeur du paramètre :  0.5\n",
      "Entrez le temps t (en heures) :  3\n"
     ]
    },
    {
     "name": "stdout",
     "output_type": "stream",
     "text": [
      " La probabilité que la panne survienne après plus de 3.0 heures est : 0.22313016014842982\n"
     ]
    }
   ],
   "source": [
    "#Loi Exponentielle – Exercice 1 : Temps entre deux pannes\n",
    "import math\n",
    "\n",
    "lambd = float(input(\"Entrez la valeur du paramètre : \"))\n",
    "t = float(input(\"Entrez le temps t (en heures) : \"))\n",
    "\n",
    "def exponentielle(lambd, t):\n",
    "    return math.exp(-lambd * t)\n",
    "\n",
    "p = exponentielle(lambd, t)\n",
    "print(f\" La probabilité que la panne survienne après plus de {t} heures est : {p}\")\n"
   ]
  },
  {
   "cell_type": "code",
   "execution_count": null,
   "id": "e8855110-4e60-431c-a85e-f01899332fd3",
   "metadata": {},
   "outputs": [],
   "source": []
  }
 ],
 "metadata": {
  "kernelspec": {
   "display_name": "anaconda-2024.02-py310",
   "language": "python",
   "name": "conda-env-anaconda-2024.02-py310-py"
  },
  "language_info": {
   "codemirror_mode": {
    "name": "ipython",
    "version": 3
   },
   "file_extension": ".py",
   "mimetype": "text/x-python",
   "name": "python",
   "nbconvert_exporter": "python",
   "pygments_lexer": "ipython3",
   "version": "3.10.14"
  }
 },
 "nbformat": 4,
 "nbformat_minor": 5
}
