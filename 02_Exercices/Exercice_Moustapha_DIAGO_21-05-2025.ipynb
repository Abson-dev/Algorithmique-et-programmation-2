{
 "cells": [
  {
   "cell_type": "markdown",
   "id": "5f9ff645-08a4-4477-ac59-93190eeea34f",
   "metadata": {},
   "source": [
    "<h2>EXERCICE 1: Détection de convergence d'une suite numérique définie par récurrence</h2>\n",
    "<div>L'algorithme sera appliquée à la suite  $(u_{n})$ convergente et définie par récurrence par: </div>\n",
    "$$\r\n",
    "u_0 = 0 \\quad \\text{et} \\quad u_{n+1} = \\sqrt{3u_n + 4}\r\n",
    "$$\r\n"
   ]
  },
  {
   "cell_type": "code",
   "execution_count": 71,
   "id": "e4efde01-4d9f-4816-a8f4-9f834a0aa0a1",
   "metadata": {},
   "outputs": [],
   "source": [
    "from math import*\n",
    "# Définition de la suite (Un)\n",
    "def f(Un):\n",
    "    return sqrt(3*Un+4)\n",
    "\n",
    "# Fnction de détection de la convergence\n",
    "def converge(f, Uo, max_it, epsilon = 1e-6):\n",
    "    u_prec = Uo\n",
    "    for i in range(1, max_it+1):\n",
    "        u_suiv = f(u_prec)\n",
    "        if abs(u_suiv - u_prec) <= epsilon:\n",
    "            return f\"La suite est convergente. La condition de convergence est réalisée après {i} itérations. Une valeur approchée de sa limite est {u_suiv:.4f}\"\n",
    "        u_prec = u_suiv\n",
    "    return \"La suite est divergente\"\n",
    "        "
   ]
  },
  {
   "cell_type": "markdown",
   "id": "642a60b1-1b17-47fd-a533-abda3a110918",
   "metadata": {},
   "source": [
    "<h5>Exemple</h5>"
   ]
  },
  {
   "cell_type": "code",
   "execution_count": 73,
   "id": "fb356433-a19d-454b-b86b-66b9853c3d6c",
   "metadata": {},
   "outputs": [
    {
     "data": {
      "text/plain": [
       "'La suite est convergente. La condition de convergence est réalisée après 17 itérations. Une valeur approchée de sa limite est 4.0000'"
      ]
     },
     "execution_count": 73,
     "metadata": {},
     "output_type": "execute_result"
    }
   ],
   "source": [
    "converge(f, 0, 50)"
   ]
  },
  {
   "cell_type": "markdown",
   "id": "7a84e6f2-3520-484b-ab84-59ca552391f7",
   "metadata": {},
   "source": [
    "<h2>EXERCICE 2: Approximation de la racine carrée d'un nombre donné avec la méthode de Newton</h2>"
   ]
  },
  {
   "cell_type": "code",
   "execution_count": null,
   "id": "546a3256-b9de-4a21-a293-2f94ef8e74ca",
   "metadata": {},
   "outputs": [],
   "source": []
  },
  {
   "cell_type": "code",
   "execution_count": 3,
   "id": "bd08ef86-7c4c-44a9-b1f4-1937b9c85d60",
   "metadata": {},
   "outputs": [],
   "source": [
    "# Définition de la suite de newton\n",
    "def x(a, n):\n",
    "    if n == 0:\n",
    "        return a\n",
    "    return (1/2) * (x(a, n-1) + a / x(a, n-1))\n",
    "\n",
    "#Calcul de la valeur approché a l'aide de la suite définie ci dessus\n",
    "def approx_racine(a):\n",
    "    if a< 0:\n",
    "        return f\"Impossible d'approcher la racine carrée de {a} car c'est un nombre négatif\"\n",
    "    return x(a, a)\n",
    "    \n",
    "    # Ici on prend comme valeur approchée de racine(a) la valeur de la suite lorsque n = a \n",
    "    #Car on constate que pour n = a, on obtient presque surement la valeur réelle de la racine\n",
    "    "
   ]
  },
  {
   "cell_type": "code",
   "execution_count": 5,
   "id": "3305b88d-45bf-4a9d-a099-57444fe4a81b",
   "metadata": {},
   "outputs": [
    {
     "name": "stdin",
     "output_type": "stream",
     "text": [
      "Quel est le nombre dont tu veux obtenir une valeur approchée de la racine carrée:  9\n"
     ]
    },
    {
     "name": "stdout",
     "output_type": "stream",
     "text": [
      "Une valeur approchée de la racine carée de 9.0 est 3.0\n"
     ]
    }
   ],
   "source": [
    "#Application\n",
    "a = float(input(\"Quel est le nombre dont tu veux obtenir une valeur approchée de la racine carrée: \"))\n",
    "print(f\"Une valeur approchée de la racine carée de {a} est {approx_racine(a)}\")"
   ]
  },
  {
   "cell_type": "code",
   "execution_count": null,
   "id": "f28dac5b-9911-4aed-936d-7234765bef11",
   "metadata": {},
   "outputs": [],
   "source": []
  },
  {
   "cell_type": "markdown",
   "id": "17c0003c-107b-4d32-877e-2efc1bc43171",
   "metadata": {},
   "source": [
    "<h2>EXERCICE 3: Nature d'une suite et expression</h2>"
   ]
  },
  {
   "cell_type": "code",
   "execution_count": 73,
   "id": "380baafa-3595-4df9-bbb6-33b8dcf268e1",
   "metadata": {},
   "outputs": [],
   "source": [
    "def detect_nature_suite(*seq):\n",
    "    if len(seq) < 2:\n",
    "        return \"Indéterminé\"\n",
    "\n",
    "    # Vérifier suite arithmétique\n",
    "    diff = seq[1] - seq[0]\n",
    "    if all(seq[i+1] - seq[i] == diff for i in range(len(seq)-1)):\n",
    "        # Expression générale : u_n = u_0 + n*d\n",
    "        expr = f\"u_n = {seq[0]} + n*{diff}\"\n",
    "        return \"Arithmétique\", expr\n",
    "\n",
    "    # Vérifier suite géométrique (éviter division par zéro)\n",
    "    if all(seq[i] != 0 for i in range(len(seq)-1)):\n",
    "        ratio = seq[1] / seq[0]\n",
    "        if all(seq[i+1] / seq[i] == ratio for i in range(len(seq)-1)):\n",
    "            # Expression générale : u_n = u_0 * r^n\n",
    "            expr = f\"u_n = {seq[0]} * ({ratio})^n\"\n",
    "            return \"Géométrique\", expr\n",
    "\n",
    "    # Vérifier suite quadratique (les différences secondes sont constantes)\n",
    "    if len(seq) >= 3:\n",
    "        second_diffs = [seq[i+2] - 2*seq[i+1] + seq[i] for i in range(len(seq)-2)]\n",
    "        if all(d == second_diffs[0] for d in second_diffs):\n",
    "            # Trouver a, b, c pour u_n = a*n^2 + b*n + c\n",
    "            # Utiliser les trois premiers termes\n",
    "            n0, n1, n2 = 0, 1, 2\n",
    "            u0, u1, u2 = seq[0], seq[1], seq[2]\n",
    "            # Résoudre le système linéaire\n",
    "            # u0 = a*0^2 + b*0 + c => c = u0\n",
    "            # u1 = a*1^2 + b*1 + c\n",
    "            # u2 = a*2^2 + b*2 + c\n",
    "            c = u0\n",
    "            b = (u1 - u0) - ((u2 - 2*u1 + u0) // 2)\n",
    "            a = (u2 - 2*u1 + u0) // 2\n",
    "            expr = f\"u_n = {a}*n^2 + {b}*n + {c}\"\n",
    "            return \"Quadratique\", expr\n",
    "\n",
    "    return \"Aucune\""
   ]
  },
  {
   "cell_type": "markdown",
   "id": "0f77892c-9ec6-4322-800a-af1194d23c30",
   "metadata": {},
   "source": [
    "<h4>Exemple d'utilisation</h4>"
   ]
  },
  {
   "cell_type": "code",
   "execution_count": 76,
   "id": "2e3781cd-00b8-4d08-907a-5d6cc3f85a5e",
   "metadata": {},
   "outputs": [
    {
     "data": {
      "text/plain": [
       "('Arithmétique', 'u_n = 2 + n*2')"
      ]
     },
     "execution_count": 76,
     "metadata": {},
     "output_type": "execute_result"
    }
   ],
   "source": [
    "detect_nature_suite(2, 4, 6, 8)      # Arithmétique"
   ]
  },
  {
   "cell_type": "code",
   "execution_count": 78,
   "id": "e9950c8b-6b2a-471e-b801-4507ce2863b1",
   "metadata": {},
   "outputs": [
    {
     "data": {
      "text/plain": [
       "('Géométrique', 'u_n = 3 * (2.0)^n')"
      ]
     },
     "execution_count": 78,
     "metadata": {},
     "output_type": "execute_result"
    }
   ],
   "source": [
    "detect_nature_suite(3, 6, 12, 24)    # Géométrique"
   ]
  },
  {
   "cell_type": "code",
   "execution_count": 80,
   "id": "3fd8067b-6332-401e-8a72-6f0ae3345bdd",
   "metadata": {},
   "outputs": [
    {
     "data": {
      "text/plain": [
       "('Quadratique', 'u_n = 1*n^2 + 2*n + 1')"
      ]
     },
     "execution_count": 80,
     "metadata": {},
     "output_type": "execute_result"
    }
   ],
   "source": [
    "detect_nature_suite(1, 4, 9, 16, 25) # Quadratique"
   ]
  },
  {
   "cell_type": "code",
   "execution_count": 82,
   "id": "9a16105a-ca01-48b5-a0f5-1a14d59640c7",
   "metadata": {},
   "outputs": [
    {
     "data": {
      "text/plain": [
       "('Quadratique', 'u_n = 0*n^2 + 1*n + 1')"
      ]
     },
     "execution_count": 82,
     "metadata": {},
     "output_type": "execute_result"
    }
   ],
   "source": [
    "detect_nature_suite(1, 2, 4, 7)      # Aucune"
   ]
  }
 ],
 "metadata": {
  "kernelspec": {
   "display_name": "Python [conda env:base] *",
   "language": "python",
   "name": "conda-base-py"
  },
  "language_info": {
   "codemirror_mode": {
    "name": "ipython",
    "version": 3
   },
   "file_extension": ".py",
   "mimetype": "text/x-python",
   "name": "python",
   "nbconvert_exporter": "python",
   "pygments_lexer": "ipython3",
   "version": "3.12.4"
  }
 },
 "nbformat": 4,
 "nbformat_minor": 5
}
