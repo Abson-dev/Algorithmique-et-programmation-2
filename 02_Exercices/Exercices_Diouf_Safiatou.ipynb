{
 "cells": [
  {
   "cell_type": "code",
   "execution_count": 17,
   "id": "171c71fe-751a-4018-bdf2-b63ed6ed24b6",
   "metadata": {},
   "outputs": [
    {
     "name": "stdout",
     "output_type": "stream",
     "text": [
      "Exercice 1\n"
     ]
    }
   ],
   "source": [
    "print(\"Exercice 1\")"
   ]
  },
  {
   "cell_type": "code",
   "execution_count": 1,
   "id": "9523ac26-b4a1-48eb-9b24-ab9339c23c6d",
   "metadata": {},
   "outputs": [
    {
     "name": "stdout",
     "output_type": "stream",
     "text": [
      "[1, 2, 3, 4, 5, 6, 7, 8, 9, 10, 11, 12, 13, 14, 15, 16, 17, 18, 19, 20, 21, 22, 23, 24, 25, 26, 27, 28, 29, 30, 31, 32, 33, 34, 35, 36, 37, 38, 39, 40, 41, 42, 43, 44, 45, 46, 47, 48, 49, 50, 51, 52, 53, 54, 55, 56, 57, 58, 59, 60, 61, 62, 63, 64, 65, 66, 67, 68, 69, 70, 71, 72, 73, 74, 75, 76, 77, 78, 79, 80, 81, 82, 83, 84, 85, 86, 87, 88, 89, 90, 91, 92, 93, 94, 95, 96, 97, 98, 99, 100]\n"
     ]
    }
   ],
   "source": [
    "nombre=list(range(1,101))\n",
    "print(nombre)"
   ]
  },
  {
   "cell_type": "code",
   "execution_count": 3,
   "id": "3d51c691-a8ea-4b9c-ba64-265c7da46ad1",
   "metadata": {},
   "outputs": [
    {
     "name": "stdout",
     "output_type": "stream",
     "text": [
      "30\n",
      "100\n",
      "100\n"
     ]
    }
   ],
   "source": [
    "print(nombre[29])\n",
    "print(nombre[99])\n",
    "print(nombre[-1])"
   ]
  },
  {
   "cell_type": "code",
   "execution_count": 5,
   "id": "a23e947b-cfde-49d8-8fa9-12e3b45aeb6b",
   "metadata": {},
   "outputs": [
    {
     "name": "stdout",
     "output_type": "stream",
     "text": [
      "[100, 99, 98, 97, 96, 95, 94, 93, 92, 91, 90, 89, 88, 87, 86, 85, 84, 83, 82, 81, 80, 79, 78, 77, 76, 75, 74, 73, 72, 71, 70, 69, 68, 67, 66, 65, 64, 63, 62, 61, 60, 59, 58, 57, 56, 55, 54, 53, 52, 51, 50, 49, 48, 47, 46, 45, 44, 43, 42, 41, 40, 39, 38, 37, 36, 35, 34, 33, 32, 31, 30, 29, 28, 27, 26, 25, 24, 23, 22, 21, 20, 19, 18, 17, 16, 15, 14, 13, 12, 11, 10, 9, 8, 7, 6, 5, 4, 3, 2, 1]\n"
     ]
    }
   ],
   "source": [
    "nombre.reverse()\n",
    "print(nombre)"
   ]
  },
  {
   "cell_type": "code",
   "execution_count": 7,
   "id": "d0b2ecb3-1ec5-4253-956b-9152c344731f",
   "metadata": {},
   "outputs": [
    {
     "name": "stdout",
     "output_type": "stream",
     "text": [
      "[100, 99, 98, 97, 96, 95, 94, 93, 92, 91, 90, 89, 88, 87, 86, 85, 84, 83, 82, 81, 80, 79, 78, 77, 76, 75, 74, 73, 72, 71, 70, 69, 68, 67, 66, 65, 64, 63, 62, 61, 60, 59, 58, 57, 56, 55, 54, 53, 52, 51, 50, 49, 48, 47, 46, 45, 44, 43, 42, 41, 40, 39, 38, 37, 36, 35, 34, 33, 32, 31, 30, 29, 28, 27, 25, 24, 23, 22, 21, 20, 19, 18, 17, 16, 15, 14, 13, 12, 11, 10, 9, 8, 7, 6, 5, 4, 3, 2, 1]\n"
     ]
    }
   ],
   "source": [
    "del nombre[74]\n",
    "print(nombre)"
   ]
  },
  {
   "cell_type": "code",
   "execution_count": 11,
   "id": "cd59eecc-555a-47c4-9beb-44e287968248",
   "metadata": {},
   "outputs": [
    {
     "name": "stdout",
     "output_type": "stream",
     "text": [
      "99\n"
     ]
    }
   ],
   "source": [
    "nbre=len(nombre)\n",
    "print(nbre)"
   ]
  },
  {
   "cell_type": "code",
   "execution_count": 13,
   "id": "3cede81c-547d-4333-9ed5-0a7be7fde5fe",
   "metadata": {},
   "outputs": [
    {
     "name": "stdout",
     "output_type": "stream",
     "text": [
      "Exercice 2\n"
     ]
    }
   ],
   "source": [
    "print(\"Exercice 2\")"
   ]
  },
  {
   "cell_type": "code",
   "execution_count": 23,
   "id": "8acaac54-9e6d-4af4-bde9-ef2cb321d2c4",
   "metadata": {},
   "outputs": [
    {
     "name": "stdout",
     "output_type": "stream",
     "text": [
      "[1, 2, 3, 4, 5, 6, 7, 8, 9, 10, 11, 12, 13, 14, 15, 16, 17, 18, 19, 20, 21, 22, 23, 24, 25, 26, 27, 28, 29, 30, 31, 32, 33, 34, 35, 36, 37, 38, 39, 40, 41, 42, 43, 44, 45, 46, 47, 48, 49, 50, 51, 52, 53, 54, 55, 56, 57, 58, 59, 60, 61, 62, 63, 64, 65, 66, 67, 68, 69, 70, 71, 72, 73, 74, 75, 76, 77, 78, 79, 80, 81, 82, 83, 84, 85, 86, 87, 88, 89, 90, 91, 92, 93, 94, 95, 96, 97, 98, 99, 100, 101, 102, 103, 104, 105, 106, 107, 108, 109, 110, 111, 112, 113, 114, 115, 116, 117, 118, 119, 120, 121, 122, 123, 124, 125, 126, 127, 128, 129, 130, 131, 132, 133, 134, 135, 136, 137, 138, 139, 140, 141, 142, 143, 144, 145, 146, 147, 148, 149, 150, 151, 152, 153, 154, 155, 156, 157, 158, 159, 160, 161, 162, 163, 164, 165, 166, 167, 168, 169, 170, 171, 172, 173, 174, 175, 176, 177, 178, 179, 180, 181, 182, 183, 184, 185, 186, 187, 188, 189, 190, 191, 192, 193, 194, 195, 196, 197, 198, 199, 200]\n"
     ]
    }
   ],
   "source": [
    "eleves=list(range(1,201))\n",
    "print(eleves)"
   ]
  },
  {
   "cell_type": "code",
   "execution_count": 31,
   "id": "00384c7d-c491-4f15-84ce-aeee6c78302d",
   "metadata": {},
   "outputs": [
    {
     "name": "stdout",
     "output_type": "stream",
     "text": [
      "[1, 2, 3, 4, 5, 6, 7, 8, 9, 10, 11, 12, 13, 14, 15, 16, 17, 18, 19, 20, 21, 22, 23, 24, 25, 26, 27, 28, 29, 30, 31, 32, 33, 34, 35, 36, 37, 38, 39, 40, 41, 42, 43, 44, 45, 46, 47, 48, 49, 50, 51, 52, 53, 54, 55, 56, 57, 58, 59, 60, 61, 62, 63, 64, 65, 66, 67, 68, 69, 70, 71, 72, 73, 74, 75, 76, 77, 78, 79, 80, 81, 82, 83, 84, 85, 86, 87, 88, 89, 90, 91, 92, 93, 94, 95, 96, 97, 98, 99, 100, 101, 102, 103, 104, 105, 106, 107, 108, 109, 110, 111, 112, 113, 114, 115, 116, 117, 118, 119, 120, 121, 122, 123, 124, 125, 126, 127, 128, 129, 130, 131, 132, 133, 134, 135, 136, 137, 138, 139, 140, 141, 142, 143, 144, 145, 146, 147, 148, 149, 150, 151, 152, 153, 154, 155, 156, 157, 158, 159, 160, 161, 162, 163, 164, 165, 166, 167, 168, 169, 170, 171, 172, 173, 174, 175, 176, 177, 178, 179, 180, 181, 182, 183, 184, 185, 186, 187, 188, 189, 190, 191, 192, 193, 194, 195]\n"
     ]
    }
   ],
   "source": [
    "print(eleves[:195])"
   ]
  },
  {
   "cell_type": "code",
   "execution_count": 33,
   "id": "506c60c8-7d42-4423-ac4b-e092d5106450",
   "metadata": {},
   "outputs": [
    {
     "name": "stdout",
     "output_type": "stream",
     "text": [
      "EXERCICE 3\n"
     ]
    }
   ],
   "source": [
    "print(\"EXERCICE 3\")"
   ]
  },
  {
   "cell_type": "code",
   "execution_count": 51,
   "id": "13b99ebd-6844-46e8-b943-9a2b66bab8c7",
   "metadata": {},
   "outputs": [
    {
     "name": "stdout",
     "output_type": "stream",
     "text": [
      "[23, 19, 18, 30, 21, 19, 21, 20, 10, 12]\n",
      "[12, 10, 20, 21, 19, 21, 30, 18, 19, 23]\n"
     ]
    }
   ],
   "source": [
    "age=[23,19,18,30,21,19,21,20,10]\n",
    "age.append(12)\n",
    "print(age)\n",
    "age.reverse()\n",
    "print(age)"
   ]
  },
  {
   "cell_type": "code",
   "execution_count": 53,
   "id": "1cbccf62-508a-4eba-a070-168c1215d337",
   "metadata": {},
   "outputs": [
    {
     "data": {
      "text/plain": [
       "6"
      ]
     },
     "execution_count": 53,
     "metadata": {},
     "output_type": "execute_result"
    }
   ],
   "source": [
    "age.index(30)"
   ]
  },
  {
   "cell_type": "code",
   "execution_count": 55,
   "id": "b5884538-00c5-451d-9477-c22604a4a8f1",
   "metadata": {},
   "outputs": [
    {
     "name": "stdout",
     "output_type": "stream",
     "text": [
      "[12, 10, 20, 21, 19, 21, 18, 19, 23]\n"
     ]
    }
   ],
   "source": [
    "age.remove(30)\n",
    "print(age)"
   ]
  },
  {
   "cell_type": "code",
   "execution_count": 63,
   "id": "bc74074d-24cf-4a90-9080-552fb28ce06e",
   "metadata": {},
   "outputs": [
    {
     "name": "stdout",
     "output_type": "stream",
     "text": [
      "[10, 20]\n",
      "[12, 10]\n",
      "[21, 19, 21, 18, 19, 23]\n"
     ]
    }
   ],
   "source": [
    "print(age[1:3])\n",
    "print(age[:2])\n",
    "print(age[3:])"
   ]
  },
  {
   "cell_type": "code",
   "execution_count": 65,
   "id": "93f11b60-b97a-49f2-a624-ba621a237d8a",
   "metadata": {},
   "outputs": [
    {
     "name": "stdout",
     "output_type": "stream",
     "text": [
      "[12, 10, 20, 21, 19, 21, 18, 19, 23]\n",
      "23\n"
     ]
    }
   ],
   "source": [
    "print(age[:])\n",
    "print(age[-1])"
   ]
  },
  {
   "cell_type": "code",
   "execution_count": 67,
   "id": "786e71be-3079-4421-aafa-0ad0e291016a",
   "metadata": {},
   "outputs": [
    {
     "name": "stdout",
     "output_type": "stream",
     "text": [
      "[10, 12, 18, 19, 19, 20, 21, 21, 23]\n"
     ]
    }
   ],
   "source": [
    "age.sort()\n",
    "print(age)"
   ]
  },
  {
   "cell_type": "code",
   "execution_count": 69,
   "id": "48d0afc9-f433-4eb7-bcd6-4b2e268a0304",
   "metadata": {},
   "outputs": [
    {
     "name": "stdout",
     "output_type": "stream",
     "text": [
      "Fin des exercices\n"
     ]
    }
   ],
   "source": [
    "print(\"Fin des exercices\")"
   ]
  },
  {
   "cell_type": "code",
   "execution_count": null,
   "id": "b8e645d3-81bf-4a1e-85d5-dbe671dadee3",
   "metadata": {},
   "outputs": [],
   "source": []
  }
 ],
 "metadata": {
  "kernelspec": {
   "display_name": "Python [conda env:base]",
   "language": "python",
   "name": "conda-base-py"
  },
  "language_info": {
   "codemirror_mode": {
    "name": "ipython",
    "version": 3
   },
   "file_extension": ".py",
   "mimetype": "text/x-python",
   "name": "python",
   "nbconvert_exporter": "python",
   "pygments_lexer": "ipython3",
   "version": "3.12.4"
  }
 },
 "nbformat": 4,
 "nbformat_minor": 5
}
