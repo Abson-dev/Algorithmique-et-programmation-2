{
 "cells": [
  {
   "cell_type": "code",
   "execution_count": 1,
   "id": "5c803077-8f64-46e8-9126-891aba4d8080",
   "metadata": {},
   "outputs": [
    {
     "name": "stdout",
     "output_type": "stream",
     "text": [
      "EXERCEICE 1\n"
     ]
    }
   ],
   "source": [
    "print( 'EXERCEICE 1')"
   ]
  },
  {
   "cell_type": "code",
   "execution_count": 2,
   "id": "1ada593a-981c-448e-9ae2-cda439394c45",
   "metadata": {},
   "outputs": [
    {
     "name": "stdout",
     "output_type": "stream",
     "text": [
      "[1, 2, 3, 4, 5, 6, 7, 8, 9, 10]\n"
     ]
    }
   ],
   "source": [
    "x=list(range(1,11))\n",
    "print(x)"
   ]
  },
  {
   "cell_type": "code",
   "execution_count": 3,
   "id": "4273c1dd-5458-43ab-acfe-ea3250a116e3",
   "metadata": {},
   "outputs": [
    {
     "name": "stdout",
     "output_type": "stream",
     "text": [
      "[1, 2, 3, 4, 100, 6, 7, 8, 9, 10]\n"
     ]
    }
   ],
   "source": [
    "x[4]=100\n",
    "print(x)\n"
   ]
  },
  {
   "cell_type": "code",
   "execution_count": 4,
   "id": "757c174c-1c31-40e1-b07b-b453a79415a8",
   "metadata": {},
   "outputs": [
    {
     "name": "stdout",
     "output_type": "stream",
     "text": [
      "[1, 2, 3, 4, 100, 6, 7, 8, 9, 10, 200]\n"
     ]
    }
   ],
   "source": [
    "x.append(200)\n",
    "print(x)"
   ]
  },
  {
   "cell_type": "code",
   "execution_count": 5,
   "id": "7d87c68b-3656-4f91-b9bb-a87a33e4ecb6",
   "metadata": {},
   "outputs": [
    {
     "name": "stdout",
     "output_type": "stream",
     "text": [
      "[1, 2, 4, 100, 6, 7, 8, 9, 10, 200]\n"
     ]
    }
   ],
   "source": [
    "del x[2]\n",
    "print(x)"
   ]
  },
  {
   "cell_type": "code",
   "execution_count": 6,
   "id": "c0c42787-804d-4951-96eb-6775be363fd3",
   "metadata": {},
   "outputs": [
    {
     "name": "stdout",
     "output_type": "stream",
     "text": [
      "[1, 2, 4, 100, 6, 7, 8, 9, 10, 200]\n"
     ]
    }
   ],
   "source": [
    "sorted(x)\n",
    "print(x)"
   ]
  },
  {
   "cell_type": "code",
   "execution_count": 7,
   "id": "71b849f1-9472-4c59-80a8-568deab98f84",
   "metadata": {},
   "outputs": [
    {
     "data": {
      "text/plain": [
       "[1, 2, 4, 100, 6]"
      ]
     },
     "execution_count": 7,
     "metadata": {},
     "output_type": "execute_result"
    }
   ],
   "source": [
    "x[0:5]"
   ]
  },
  {
   "cell_type": "code",
   "execution_count": 8,
   "id": "78391827-a5c6-49c5-a03f-41d74db6f5f2",
   "metadata": {},
   "outputs": [
    {
     "name": "stdout",
     "output_type": "stream",
     "text": [
      "[1, 4, 9, 16, 25, 36, 49, 64, 81, 100]\n"
     ]
    }
   ],
   "source": [
    "carres = [x**2 for x in range(1, 11)]\n",
    "print(carres)"
   ]
  },
  {
   "cell_type": "code",
   "execution_count": 25,
   "id": "ab1134a2-ec36-4de6-a22b-1f3537b701a2",
   "metadata": {},
   "outputs": [
    {
     "name": "stdout",
     "output_type": "stream",
     "text": [
      "[2, 4, 100, 6, 8, 10, 200]\n"
     ]
    }
   ],
   "source": [
    "y=[i for i in x if i%2==0]\n",
    "print(y)"
   ]
  },
  {
   "cell_type": "code",
   "execution_count": 26,
   "id": "7ec5daa7-9587-4548-aa01-4064ef0ea014",
   "metadata": {},
   "outputs": [
    {
     "name": "stdout",
     "output_type": "stream",
     "text": [
      "Exercice 2\n"
     ]
    }
   ],
   "source": [
    "print('Exercice 2')"
   ]
  },
  {
   "cell_type": "code",
   "execution_count": 27,
   "id": "0075f19f-1d39-4759-98f8-dbf75d03edf9",
   "metadata": {},
   "outputs": [
    {
     "name": "stdout",
     "output_type": "stream",
     "text": [
      "('Caméroun', 'Sénégal', 'Bénin', 'Bourkina Faso', 'Ninger')\n"
     ]
    }
   ],
   "source": [
    "A=('Caméroun','Sénégal','Bénin','Bourkina Faso','Ninger')\n",
    "print(A)"
   ]
  },
  {
   "cell_type": "code",
   "execution_count": 28,
   "id": "f8e7aef6-909b-4240-81e6-d606952a1610",
   "metadata": {},
   "outputs": [
    {
     "name": "stdout",
     "output_type": "stream",
     "text": [
      "Caméroun\n",
      "Ninger\n"
     ]
    }
   ],
   "source": [
    "print(A[0])\n",
    "print(A[-1])"
   ]
  },
  {
   "cell_type": "code",
   "execution_count": 29,
   "id": "84c206a6-8488-4dba-86a8-2ee48191a304",
   "metadata": {},
   "outputs": [
    {
     "name": "stdout",
     "output_type": "stream",
     "text": [
      "(23, 'CRESPO', 'Caméroun')\n"
     ]
    }
   ],
   "source": [
    "C=(23,'CRESPO','Caméroun')\n",
    "print(C)"
   ]
  },
  {
   "cell_type": "code",
   "execution_count": 30,
   "id": "5612dd79-bf28-4a19-a8d6-006bc9d255c9",
   "metadata": {},
   "outputs": [
    {
     "name": "stdout",
     "output_type": "stream",
     "text": [
      "23\n",
      "CRESPO\n",
      "Caméroun\n"
     ]
    }
   ],
   "source": [
    "a,b,c= C\n",
    "print(a)\n",
    "print(b)\n",
    "print(c)"
   ]
  },
  {
   "cell_type": "code",
   "execution_count": 20,
   "id": "2955d63c-9220-461a-b11b-6a4fe159ba79",
   "metadata": {},
   "outputs": [
    {
     "ename": "TypeError",
     "evalue": "'tuple' object does not support item assignment",
     "output_type": "error",
     "traceback": [
      "\u001b[1;31m---------------------------------------------------------------------------\u001b[0m",
      "\u001b[1;31mTypeError\u001b[0m                                 Traceback (most recent call last)",
      "Cell \u001b[1;32mIn[20], line 1\u001b[0m\n\u001b[1;32m----> 1\u001b[0m C[\u001b[38;5;241m0\u001b[39m]\u001b[38;5;241m=\u001b[39m\u001b[38;5;241m25\u001b[39m\n",
      "\u001b[1;31mTypeError\u001b[0m: 'tuple' object does not support item assignment"
     ]
    }
   ],
   "source": [
    "C[0]=25"
   ]
  },
  {
   "cell_type": "code",
   "execution_count": 53,
   "id": "dc4b2b3d-9b7e-49b2-b746-0b8c27b8cbe0",
   "metadata": {},
   "outputs": [
    {
     "name": "stdout",
     "output_type": "stream",
     "text": [
      "si on veut modifier les éléments du tuple ça renvoie une érreure\n",
      "Les tuples sont immuables car cest une règle sur phython\n",
      "les tuples sont utilisés pour: être une clé dans un dictionnaire ,ou pour la sécurité des données ,ou bien pour leur performance en fait il sont plus rapides que les listes \n"
     ]
    }
   ],
   "source": [
    "print('si on veut modifier les éléments du tuple ça renvoie une érreure')\n",
    "print('Les tuples sont immuables car cest une règle sur phython')\n",
    "print('les tuples sont utilisés pour: être une clé dans un dictionnaire ,ou pour la sécurité des données ,ou bien pour leur performance en fait il sont plus rapides que les listes ')"
   ]
  },
  {
   "cell_type": "code",
   "execution_count": 54,
   "id": "ec64f74f-8d6f-4193-b6f2-90d5cc3c22b1",
   "metadata": {},
   "outputs": [
    {
     "name": "stdout",
     "output_type": "stream",
     "text": [
      "Exercice 3\n"
     ]
    }
   ],
   "source": [
    "print(\"Exercice 3\")"
   ]
  },
  {
   "cell_type": "code",
   "execution_count": 55,
   "id": "1b33bb3f-05dd-4e28-8107-4a5000c3f57c",
   "metadata": {},
   "outputs": [
    {
     "name": "stdout",
     "output_type": "stream",
     "text": [
      "{'CRESPO': 20, 'a': 19, 'b': 18, 'c': 17, 'd': 16}\n"
     ]
    }
   ],
   "source": [
    "D={'CRESPO':20 , 'a':19 , 'b':18 , 'c':17 , 'd':16}\n",
    "print(D)"
   ]
  },
  {
   "cell_type": "code",
   "execution_count": 56,
   "id": "af71a955-2f13-4f73-b8f9-7151e9866fe9",
   "metadata": {},
   "outputs": [
    {
     "data": {
      "text/plain": [
       "18"
      ]
     },
     "execution_count": 56,
     "metadata": {},
     "output_type": "execute_result"
    }
   ],
   "source": [
    "D['b']"
   ]
  },
  {
   "cell_type": "code",
   "execution_count": 57,
   "id": "7e890426-5927-42bb-813a-8ac45d405102",
   "metadata": {},
   "outputs": [
    {
     "name": "stdout",
     "output_type": "stream",
     "text": [
      "{'CRESPO': 20, 'a': 19, 'b': 18, 'c': 17, 'd': 16, 'e': 15}\n"
     ]
    }
   ],
   "source": [
    "D['e']=15\n",
    "print(D)"
   ]
  },
  {
   "cell_type": "code",
   "execution_count": 58,
   "id": "ec6cedc4-a990-4742-81b4-debd1a88de36",
   "metadata": {},
   "outputs": [
    {
     "name": "stdout",
     "output_type": "stream",
     "text": [
      "{'CRESPO': 20, 'a': 18.5, 'b': 18, 'c': 17, 'd': 16, 'e': 15}\n"
     ]
    }
   ],
   "source": [
    "D['a']=18.5\n",
    "print(D)"
   ]
  },
  {
   "cell_type": "code",
   "execution_count": 59,
   "id": "1d0a5849-40d4-4ebc-bc6d-73e1372df0a2",
   "metadata": {},
   "outputs": [
    {
     "name": "stdout",
     "output_type": "stream",
     "text": [
      "dict_keys(['CRESPO', 'a', 'b', 'c', 'd', 'e'])\n"
     ]
    }
   ],
   "source": [
    "Noms=D.keys()\n",
    "print(Noms)"
   ]
  },
  {
   "cell_type": "code",
   "execution_count": 60,
   "id": "7b74ac4d-401e-4cba-ab7b-291d2ce4420e",
   "metadata": {},
   "outputs": [
    {
     "name": "stdout",
     "output_type": "stream",
     "text": [
      "20\n",
      "18.5\n",
      "18\n",
      "17\n",
      "16\n",
      "15\n"
     ]
    }
   ],
   "source": [
    "for cle, valeur in D.items():\n",
    "    print(valeur)"
   ]
  },
  {
   "cell_type": "code",
   "execution_count": 61,
   "id": "c1adcd90-1206-432c-95cd-95cbada58a4f",
   "metadata": {},
   "outputs": [
    {
     "name": "stdout",
     "output_type": "stream",
     "text": [
      "CRESPO : 20\n",
      "a : 18.5\n",
      "b : 18\n",
      "c : 17\n",
      "d : 16\n",
      "e : 15\n"
     ]
    }
   ],
   "source": [
    "for cle, valeur in D.items():\n",
    "    print(cle, ':', valeur)"
   ]
  },
  {
   "cell_type": "code",
   "execution_count": 62,
   "id": "356b8ad7-3db7-409b-807a-a7fa665f7900",
   "metadata": {},
   "outputs": [
    {
     "name": "stdout",
     "output_type": "stream",
     "text": [
      "{'CRESPO': {'Maths': 20, 'science': 20}, 'bb': {'Maths': 19, 'science': 18}, 'cc': {'Maths': 17, 'scienc': 15}}\n"
     ]
    }
   ],
   "source": [
    "E={'CRESPO':{'Maths':20, 'science':20}, 'bb':{'Maths':19, 'science':18}, 'cc':{'Maths':17, 'scienc':15}}\n",
    "print(E)"
   ]
  },
  {
   "cell_type": "code",
   "execution_count": 63,
   "id": "1bfa67af-53f9-43b6-912e-0a46a82029c0",
   "metadata": {},
   "outputs": [
    {
     "data": {
      "text/plain": [
       "20"
      ]
     },
     "execution_count": 63,
     "metadata": {},
     "output_type": "execute_result"
    }
   ],
   "source": [
    "E['CRESPO']['science']"
   ]
  },
  {
   "cell_type": "code",
   "execution_count": 51,
   "id": "269ac9da-822a-4cab-86c9-bcb288bacf19",
   "metadata": {},
   "outputs": [
    {
     "name": "stdout",
     "output_type": "stream",
     "text": [
      "Fin\n"
     ]
    }
   ],
   "source": [
    "print('Fin')"
   ]
  },
  {
   "cell_type": "code",
   "execution_count": null,
   "id": "4a62a757-b574-4e63-a6c2-a44130636f8d",
   "metadata": {},
   "outputs": [],
   "source": []
  }
 ],
 "metadata": {
  "kernelspec": {
   "display_name": "Python 3 (ipykernel)",
   "language": "python",
   "name": "python3"
  },
  "language_info": {
   "codemirror_mode": {
    "name": "ipython",
    "version": 3
   },
   "file_extension": ".py",
   "mimetype": "text/x-python",
   "name": "python",
   "nbconvert_exporter": "python",
   "pygments_lexer": "ipython3",
   "version": "3.12.7"
  }
 },
 "nbformat": 4,
 "nbformat_minor": 5
}
