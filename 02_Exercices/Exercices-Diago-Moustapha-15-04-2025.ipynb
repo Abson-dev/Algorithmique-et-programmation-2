{
 "cells": [
  {
   "cell_type": "markdown",
   "id": "46a08272-f8a0-4ef2-80c2-ddbcddff2aca",
   "metadata": {},
   "source": [
    "-----------------------------------LIST----------------------------------------"
   ]
  },
  {
   "cell_type": "markdown",
   "id": "aa63e6d7-390f-4009-89dc-976f0fab4933",
   "metadata": {},
   "source": [
    "-- Création et modification--"
   ]
  },
  {
   "cell_type": "code",
   "execution_count": 3,
   "id": "9f5edd65-ed76-465a-b581-645d0f43bcc4",
   "metadata": {},
   "outputs": [],
   "source": [
    "num = [19,18,25,17,16,15,14,22,5,1]"
   ]
  },
  {
   "cell_type": "code",
   "execution_count": 10,
   "id": "f998f76e-a37c-4db0-82bb-8c4e915d81eb",
   "metadata": {},
   "outputs": [
    {
     "name": "stdout",
     "output_type": "stream",
     "text": [
      "100\n"
     ]
    }
   ],
   "source": [
    "#•\tRemplace le 5e élément par la valeur 100\n",
    "num[4]=100\n",
    "print(num[4])"
   ]
  },
  {
   "cell_type": "code",
   "execution_count": 12,
   "id": "891153f5-925e-4c0e-9410-ea9149fbf688",
   "metadata": {},
   "outputs": [
    {
     "data": {
      "text/plain": [
       "[19, 18, 25, 17, 100, 15, 14, 22, 5, 1, 200]"
      ]
     },
     "execution_count": 12,
     "metadata": {},
     "output_type": "execute_result"
    }
   ],
   "source": [
    "#•\tAjoute le nombre 200 à la fin de la liste.\n",
    "num.append(200)\n",
    "num"
   ]
  },
  {
   "cell_type": "code",
   "execution_count": 14,
   "id": "97f031c8-9770-444a-a831-bc8d0243073a",
   "metadata": {},
   "outputs": [
    {
     "data": {
      "text/plain": [
       "[19, 18, 17, 100, 15, 14, 22, 5, 1, 200]"
      ]
     },
     "execution_count": 14,
     "metadata": {},
     "output_type": "execute_result"
    }
   ],
   "source": [
    "#•\tSupprime le 3e élément.\n",
    "del num[2]\n",
    "num"
   ]
  },
  {
   "cell_type": "markdown",
   "id": "b0e40000-641a-47ed-b135-f89d0495a48d",
   "metadata": {},
   "source": [
    "--Tri et découpage (slicing)--"
   ]
  },
  {
   "cell_type": "code",
   "execution_count": 16,
   "id": "7a3fc517-5293-4829-8ea2-4f29d65bf50a",
   "metadata": {},
   "outputs": [
    {
     "data": {
      "text/plain": [
       "[1, 5, 14, 15, 17, 18, 19, 22, 100, 200]"
      ]
     },
     "execution_count": 16,
     "metadata": {},
     "output_type": "execute_result"
    }
   ],
   "source": [
    "#•\tTrie la liste par ordre croissant.\n",
    "num.sort()\n",
    "num"
   ]
  },
  {
   "cell_type": "code",
   "execution_count": 18,
   "id": "effc2e42-8983-40fc-9299-229d8bb82c8c",
   "metadata": {},
   "outputs": [
    {
     "data": {
      "text/plain": [
       "[1, 5, 14, 15, 17]"
      ]
     },
     "execution_count": 18,
     "metadata": {},
     "output_type": "execute_result"
    }
   ],
   "source": [
    "#Afficher les 5 premiers éléments de la liste\n",
    "num[:5]"
   ]
  },
  {
   "cell_type": "markdown",
   "id": "3258ed79-d0a2-4caf-b6d7-7dc5764c0a0d",
   "metadata": {},
   "source": [
    "COMPREHENSION DE LISTE"
   ]
  },
  {
   "cell_type": "code",
   "execution_count": 24,
   "id": "36d7efa7-af17-4b35-af8a-59ab9be217c7",
   "metadata": {},
   "outputs": [
    {
     "data": {
      "text/plain": [
       "[1, 4, 9, 16, 25, 36, 49, 64, 81, 100]"
      ]
     },
     "execution_count": 24,
     "metadata": {},
     "output_type": "execute_result"
    }
   ],
   "source": [
    "# liste des carrés des nombres de 1 à 10.\n",
    "num2 = list(range(1,11))\n",
    "carres = [x**2 for x in num2]\n",
    "carres"
   ]
  },
  {
   "cell_type": "code",
   "execution_count": 30,
   "id": "2fdfbe07-f40b-4b3f-8a1f-7541898a54f6",
   "metadata": {},
   "outputs": [
    {
     "data": {
      "text/plain": [
       "[14, 18, 22, 100, 200]"
      ]
     },
     "execution_count": 30,
     "metadata": {},
     "output_type": "execute_result"
    }
   ],
   "source": [
    "#•\tCrée une liste contenant uniquement les nombres pairs de la liste d’origine\n",
    "pairs = [x for x in num if x%2==0]\n",
    "pairs"
   ]
  },
  {
   "cell_type": "markdown",
   "id": "1546dd5b-fb27-4e5d-8250-6b8771b2d2ed",
   "metadata": {},
   "source": [
    "---------------------------------------------------TUPLES-----------------------------------------------"
   ]
  },
  {
   "cell_type": "markdown",
   "id": "5bd6a02f-bf2f-4d67-8c36-a5659e02837e",
   "metadata": {},
   "source": [
    "Bases des tuples"
   ]
  },
  {
   "cell_type": "code",
   "execution_count": 36,
   "id": "60ea8bd5-488a-4260-b32b-f28f69941614",
   "metadata": {},
   "outputs": [
    {
     "data": {
      "text/plain": [
       "'Burbika Faso'"
      ]
     },
     "execution_count": 36,
     "metadata": {},
     "output_type": "execute_result"
    }
   ],
   "source": [
    "pays = (\"Sénégal\", \"Burbika Faso\", \"Niger\", \"Caméroune\", \"Bénin\")\n",
    "pays[1]"
   ]
  },
  {
   "cell_type": "code",
   "execution_count": 38,
   "id": "9d625fc8-5192-409a-ae4e-b0261293c4e1",
   "metadata": {},
   "outputs": [
    {
     "data": {
      "text/plain": [
       "'Bénin'"
      ]
     },
     "execution_count": 38,
     "metadata": {},
     "output_type": "execute_result"
    }
   ],
   "source": [
    "pays[-1]"
   ]
  },
  {
   "cell_type": "markdown",
   "id": "4cb8dcc7-d404-47db-8f9e-6574d54a3542",
   "metadata": {},
   "source": [
    "Déballage de tuples (Unpacking)"
   ]
  },
  {
   "cell_type": "code",
   "execution_count": 40,
   "id": "3fd33ad4-43ae-465c-8b7e-c59c0973dd3b",
   "metadata": {},
   "outputs": [
    {
     "data": {
      "text/plain": [
       "('Diago', '20', 'Sénégal')"
      ]
     },
     "execution_count": 40,
     "metadata": {},
     "output_type": "execute_result"
    }
   ],
   "source": [
    "info = (\"Diago\", \"20\", \"Sénégal\")\n",
    "info"
   ]
  },
  {
   "cell_type": "code",
   "execution_count": 42,
   "id": "4856e7ad-0486-4e80-99af-03c9f48cb869",
   "metadata": {},
   "outputs": [
    {
     "data": {
      "text/plain": [
       "'Diago'"
      ]
     },
     "execution_count": 42,
     "metadata": {},
     "output_type": "execute_result"
    }
   ],
   "source": [
    "(nom, age, pays) = info\n",
    "nom"
   ]
  },
  {
   "cell_type": "code",
   "execution_count": 44,
   "id": "af037f7b-5762-4563-9b6e-4d914f37f789",
   "metadata": {},
   "outputs": [
    {
     "data": {
      "text/plain": [
       "'20'"
      ]
     },
     "execution_count": 44,
     "metadata": {},
     "output_type": "execute_result"
    }
   ],
   "source": [
    "age"
   ]
  },
  {
   "cell_type": "code",
   "execution_count": 46,
   "id": "33bc5dce-3529-44c6-a6bb-65e707c26a4d",
   "metadata": {},
   "outputs": [
    {
     "data": {
      "text/plain": [
       "'Sénégal'"
      ]
     },
     "execution_count": 46,
     "metadata": {},
     "output_type": "execute_result"
    }
   ],
   "source": [
    "pays"
   ]
  },
  {
   "cell_type": "markdown",
   "id": "df74e4a4-89b3-452f-be35-c45662d65d98",
   "metadata": {},
   "source": [
    "Tuples et immutabilité"
   ]
  },
  {
   "cell_type": "code",
   "execution_count": 56,
   "id": "003458fc-0285-48fe-824a-f01f5a471e51",
   "metadata": {},
   "outputs": [
    {
     "ename": "TypeError",
     "evalue": "'tuple' object does not support item assignment",
     "output_type": "error",
     "traceback": [
      "\u001b[1;31m---------------------------------------------------------------------------\u001b[0m",
      "\u001b[1;31mTypeError\u001b[0m                                 Traceback (most recent call last)",
      "Cell \u001b[1;32mIn[56], line 1\u001b[0m\n\u001b[1;32m----> 1\u001b[0m info[\u001b[38;5;241m0\u001b[39m] \u001b[38;5;241m=\u001b[39m \u001b[38;5;124m\"\u001b[39m\u001b[38;5;124mMoustapha\u001b[39m\u001b[38;5;124m\"\u001b[39m\n",
      "\u001b[1;31mTypeError\u001b[0m: 'tuple' object does not support item assignment"
     ]
    }
   ],
   "source": [
    "info[0] = \"Moustapha\" #Il n'est pas possible de modifier les éléments d'un tuple"
   ]
  },
  {
   "cell_type": "markdown",
   "id": "dec86292-54b1-4c3e-890b-ede913386b2e",
   "metadata": {},
   "source": [
    "Les tuples sont immuables, ce qui signifie que leurs éléments ne peuvent pas être modifiés une fois qu'ils ont été créés. Cette caractéristique garantit que les données stockées dans un tuple restent constantes.  En raison de leur immuabilité, les tuples peuvent protéger les données contre les modifications accidentelles ou indésirables. "
   ]
  },
  {
   "cell_type": "markdown",
   "id": "a44f2cf0-af1d-407c-9ffe-8dd243d36224",
   "metadata": {},
   "source": [
    " Comme les tuples sont immuables, ils peuvent être utilisés comme clé dans un dictionnaire ce qui n'est pas le cas des listes."
   ]
  },
  {
   "cell_type": "markdown",
   "id": "8e9c99e4-0ccd-4b3b-b67f-91e6b0409809",
   "metadata": {},
   "source": [
    "-------------------------------------------------Dictionnaires--------------------------------------------"
   ]
  },
  {
   "cell_type": "markdown",
   "id": "304b4c64-74e2-45f6-870b-d1cee5f3901d",
   "metadata": {},
   "source": [
    "Création et accès"
   ]
  },
  {
   "cell_type": "code",
   "execution_count": 54,
   "id": "8277bc64-481f-4e34-a31b-9120dc681df8",
   "metadata": {},
   "outputs": [],
   "source": [
    "notes = {\"Alpha\":17, \"Ngor\":18, \"Fatou\":20, \"Demba\":16,\"Ndèye\":14}\n"
   ]
  },
  {
   "cell_type": "code",
   "execution_count": 64,
   "id": "2f43f091-0f31-4052-ae1b-2f2d1ca7d399",
   "metadata": {},
   "outputs": [
    {
     "data": {
      "text/plain": [
       "20"
      ]
     },
     "execution_count": 64,
     "metadata": {},
     "output_type": "execute_result"
    }
   ],
   "source": [
    "notes[\"Fatou\"]"
   ]
  },
  {
   "cell_type": "markdown",
   "id": "7d2a39b2-7536-49e3-b3bf-6c1abde37651",
   "metadata": {},
   "source": [
    "Ajout et modification"
   ]
  },
  {
   "cell_type": "code",
   "execution_count": 66,
   "id": "7fd1f361-8c46-401e-9eba-e0409aa6a7c2",
   "metadata": {},
   "outputs": [
    {
     "data": {
      "text/plain": [
       "{'Alpha': 17, 'Ngor': 18, 'Fatou': 20, 'Demba': 16, 'Ndèye': 14, 'Tapha': 19}"
      ]
     },
     "execution_count": 66,
     "metadata": {},
     "output_type": "execute_result"
    }
   ],
   "source": [
    "notes[\"Tapha\"]=19\n",
    "notes"
   ]
  },
  {
   "cell_type": "code",
   "execution_count": 68,
   "id": "e9c41d07-b274-4f92-a77e-da0ca60a333c",
   "metadata": {},
   "outputs": [
    {
     "data": {
      "text/plain": [
       "11"
      ]
     },
     "execution_count": 68,
     "metadata": {},
     "output_type": "execute_result"
    }
   ],
   "source": [
    "notes[\"Alpha\"] = 11\n",
    "notes[\"Alpha\"]"
   ]
  },
  {
   "cell_type": "code",
   "execution_count": null,
   "id": "e7df718c-04d3-42d5-9356-43b3263a0db0",
   "metadata": {},
   "outputs": [],
   "source": [
    "Boucles sur les dictionnaires"
   ]
  },
  {
   "cell_type": "code",
   "execution_count": 76,
   "id": "b6bc432e-2341-4d31-9532-473ffb2a4f06",
   "metadata": {},
   "outputs": [
    {
     "name": "stdout",
     "output_type": "stream",
     "text": [
      "Alpha\n",
      "Ngor\n",
      "Fatou\n",
      "Demba\n",
      "Ndèye\n",
      "Tapha\n"
     ]
    }
   ],
   "source": [
    "for key in notes.keys():\n",
    "    print(key)\n"
   ]
  },
  {
   "cell_type": "code",
   "execution_count": 72,
   "id": "d685e333-b087-4546-9349-cc6a3bf8bdcd",
   "metadata": {},
   "outputs": [
    {
     "name": "stdout",
     "output_type": "stream",
     "text": [
      "11\n",
      "18\n",
      "20\n",
      "16\n",
      "14\n",
      "19\n"
     ]
    }
   ],
   "source": [
    "for value in notes.values():\n",
    "    print(value)\n"
   ]
  },
  {
   "cell_type": "code",
   "execution_count": null,
   "id": "500a4458-d0a3-40a1-942d-c0b900f7523c",
   "metadata": {},
   "outputs": [],
   "source": []
  },
  {
   "cell_type": "code",
   "execution_count": 74,
   "id": "e2817214-4231-46df-ae85-80e4c3008798",
   "metadata": {},
   "outputs": [
    {
     "name": "stdout",
     "output_type": "stream",
     "text": [
      "('Alpha', 11)\n",
      "('Ngor', 18)\n",
      "('Fatou', 20)\n",
      "('Demba', 16)\n",
      "('Ndèye', 14)\n",
      "('Tapha', 19)\n"
     ]
    }
   ],
   "source": [
    "for item in notes.items():\n",
    "    print(item)\n"
   ]
  },
  {
   "cell_type": "markdown",
   "id": "5f7fa803-a2a3-4149-884b-1216787b367e",
   "metadata": {},
   "source": [
    "Dictionnaires imbriqués"
   ]
  },
  {
   "cell_type": "code",
   "execution_count": 89,
   "id": "44746dd1-0e43-4fce-a5a1-11f66e27abba",
   "metadata": {},
   "outputs": [
    {
     "data": {
      "text/plain": [
       "{'Tapha': {'maths': 20, 'sciences': 18},\n",
       " 'Fatou': {'maths': 16, 'sciences': 15},\n",
       " 'Bator': {'maths': 19, 'sciences': 17},\n",
       " 'Babou': {'maths': 15, 'sciences': 16},\n",
       " 'Mossa': {'maths': 10, 'sciences': 9}}"
      ]
     },
     "execution_count": 89,
     "metadata": {},
     "output_type": "execute_result"
    }
   ],
   "source": [
    "sem =  {\n",
    "            \"Tapha\":{\"maths\":20, \"sciences\":18},\n",
    "            \"Fatou\":{\"maths\":16, \"sciences\":15},\n",
    "            \"Bator\":{\"maths\":19, \"sciences\":17},\n",
    "            \"Babou\":{\"maths\":15, \"sciences\":16},\n",
    "            \"Mossa\":{\"maths\":10, \"sciences\":9},\n",
    "        }\n",
    "sem"
   ]
  },
  {
   "cell_type": "code",
   "execution_count": 97,
   "id": "6337041c-a570-415a-abf4-7300e33bd1d6",
   "metadata": {},
   "outputs": [
    {
     "data": {
      "text/plain": [
       "16"
      ]
     },
     "execution_count": 97,
     "metadata": {},
     "output_type": "execute_result"
    }
   ],
   "source": [
    "(sem[\"Babou\"])[\"sciences\"]"
   ]
  }
 ],
 "metadata": {
  "kernelspec": {
   "display_name": "Python [conda env:base] *",
   "language": "python",
   "name": "conda-base-py"
  },
  "language_info": {
   "codemirror_mode": {
    "name": "ipython",
    "version": 3
   },
   "file_extension": ".py",
   "mimetype": "text/x-python",
   "name": "python",
   "nbconvert_exporter": "python",
   "pygments_lexer": "ipython3",
   "version": "3.12.4"
  }
 },
 "nbformat": 4,
 "nbformat_minor": 5
}
