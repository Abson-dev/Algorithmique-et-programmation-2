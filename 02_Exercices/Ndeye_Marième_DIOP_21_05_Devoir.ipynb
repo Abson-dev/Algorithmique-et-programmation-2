{
 "cells": [
  {
   "cell_type": "code",
   "execution_count": 25,
   "id": "a9e2e305-a398-4a9c-9980-e18e09e64c89",
   "metadata": {},
   "outputs": [],
   "source": [
    "def fonction(u):\n",
    " return 0.5 * (u + 3) "
   ]
  },
  {
   "cell_type": "code",
   "execution_count": 13,
   "id": "c5f93896-abbc-4b15-aca4-57021a3f3cd9",
   "metadata": {},
   "outputs": [],
   "source": [
    "# exercice 1\n",
    "def converge(f, u0, epsilon=1e-6, max_iteration=1000):\n",
    "    u = u0\n",
    "    for _ in range(max_iteration):\n",
    "        next_u = f(u)\n",
    "        if abs(next_u - u) < epsilon:\n",
    "            return \" f est convergente\"\n",
    "        u = next_u\n",
    "    return \" f est divergente\""
   ]
  },
  {
   "cell_type": "code",
   "execution_count": 29,
   "id": "96072937-ea98-484b-b8ad-a530a640b319",
   "metadata": {},
   "outputs": [
    {
     "name": "stdout",
     "output_type": "stream",
     "text": [
      " f est convergente\n"
     ]
    }
   ],
   "source": [
    "print(converge(fonction,3,1e-6,1000))"
   ]
  },
  {
   "cell_type": "code",
   "execution_count": 33,
   "id": "3d50abf2-383a-4d93-8a1a-6e5e304c8647",
   "metadata": {},
   "outputs": [],
   "source": [
    "# exercice 2\n",
    "def racine_newton(A):\n",
    "    x = A / 2  # point de départ\n",
    "    for _ in range(10):  # on fait par exemple 10 itérations fixes\n",
    "        x = 0.5 * (x + A / x)\n",
    "    return x\n"
   ]
  },
  {
   "cell_type": "code",
   "execution_count": 37,
   "id": "bf497551-e218-4900-8be7-314462529a44",
   "metadata": {},
   "outputs": [
    {
     "name": "stdout",
     "output_type": "stream",
     "text": [
      "3.162277660168379\n"
     ]
    }
   ],
   "source": [
    "print(racine_newton(10))"
   ]
  },
  {
   "cell_type": "code",
   "execution_count": 43,
   "id": "0f7c7e73-5cc4-4f09-9136-aef080fe9ed7",
   "metadata": {},
   "outputs": [],
   "source": [
    "#Exercice 3\n",
    "def detect_type(liste):\n",
    "    n = len(liste) #On récupère le nombre de termes dans la liste\n",
    "\n",
    "    if n < 2:\n",
    "        return \"Pas assez de termes\" #Si la liste est trop courte, on ne peut rien conclure.\n",
    "\n",
    "    # Vérifie si la suite est arithmétique\n",
    "    r = liste[1] - liste[0]\n",
    "    if all(liste[i+1] - liste[i] == r for i in range(n - 1)):\n",
    "        return \"Arithmétique\", f\"u(n) = {liste[0]} + {r} * n\"\n",
    "\n",
    "    # Vérifie si la suite est géométrique\n",
    "    if all(liste[i] != 0 for i in range(n)) and all(liste[i+1] / liste[i] == liste[1] / liste[0] for i in range(n - 1)):\n",
    "        q = liste[1] / liste[0]\n",
    "        return \"Géométrique\", f\"u(n) = {liste[0]} * ({q})^n\"\n",
    "\n",
    "    # Vérifie si la suite est quadratique (secondes différences constantes)\n",
    "    d1 = [liste[i+1] - liste[i] for i in range(n - 1)]\n",
    "    d2 = [d1[i+1] - d1[i] for i in range(len(d1) - 1)]\n",
    "    if all(v == d2[0] for v in d2):\n",
    "        return \"Quadratique\", \"u(n) est de la forme an² + bn + c\"\n",
    "\n",
    "    return \"Inconnue\", \"La suite ne correspond à aucun type classique\" # Si aucun type n’est détecté\n"
   ]
  },
  {
   "cell_type": "code",
   "execution_count": 45,
   "id": "0ac5b534-d1f2-45e4-a2e6-9c444388fe08",
   "metadata": {},
   "outputs": [
    {
     "name": "stdout",
     "output_type": "stream",
     "text": [
      "('Arithmétique', 'u(n) = 2 + 2 * n')\n"
     ]
    }
   ],
   "source": [
    "print(detect_type([2,4,6,8]))"
   ]
  },
  {
   "cell_type": "code",
   "execution_count": null,
   "id": "a4c0b3fb-4413-463a-8708-719b79231f4f",
   "metadata": {},
   "outputs": [],
   "source": []
  }
 ],
 "metadata": {
  "kernelspec": {
   "display_name": "Python [conda env:base] *",
   "language": "python",
   "name": "conda-base-py"
  },
  "language_info": {
   "codemirror_mode": {
    "name": "ipython",
    "version": 3
   },
   "file_extension": ".py",
   "mimetype": "text/x-python",
   "name": "python",
   "nbconvert_exporter": "python",
   "pygments_lexer": "ipython3",
   "version": "3.12.7"
  }
 },
 "nbformat": 4,
 "nbformat_minor": 5
}
