{
 "cells": [
  {
   "cell_type": "markdown",
   "id": "4ad59fa4-0402-4f9a-93ca-a04cba075f03",
   "metadata": {},
   "source": [
    "# EXERCICE 1"
   ]
  },
  {
   "cell_type": "code",
   "execution_count": 18,
   "id": "ad8c3ce9-caa4-4660-ad32-b9fc6666e35e",
   "metadata": {},
   "outputs": [],
   "source": [
    "def Converge(f, u0, Tol=1e-6, max_int=1000):\n",
    "    u = u0\n",
    "    for i in range(max_int):\n",
    "        u_next = f(u)\n",
    "        if abs(u_next - u) < Tol:\n",
    "            return f\"La suite converge vers {u_next} après {i+1} itérations.\"\n",
    "        u = u_next\n",
    "    return f\"La suite ne converge pas après {max_int} itérations.\""
   ]
  },
  {
   "cell_type": "code",
   "execution_count": 19,
   "id": "53dc4873-117b-465f-aacc-dbc1f626aa60",
   "metadata": {},
   "outputs": [
    {
     "name": "stdout",
     "output_type": "stream",
     "text": [
      "La suite ne converge pas après 1000 itérations.\n"
     ]
    }
   ],
   "source": [
    "# Définir la fonction de récurrence\n",
    "def recurrence(u):\n",
    "    return 3 * u + 1\n",
    "\n",
    "# Lancer la vérification\n",
    "print(Converge(recurrence, u0=0))"
   ]
  },
  {
   "cell_type": "markdown",
   "id": "61e2e566-70bc-4459-9b69-90a4895fed6d",
   "metadata": {},
   "source": [
    "# EXERCICE 2"
   ]
  },
  {
   "cell_type": "code",
   "execution_count": 21,
   "id": "25873f29-9c60-4b69-81aa-4db6ae4d4c17",
   "metadata": {},
   "outputs": [
    {
     "name": "stdin",
     "output_type": "stream",
     "text": [
      "Entrer un réel positif 4\n"
     ]
    },
    {
     "name": "stdout",
     "output_type": "stream",
     "text": [
      "√4 ≈ 2.000000000000002\n"
     ]
    }
   ],
   "source": [
    "def racine_carree_newton(A):\n",
    "    try:\n",
    "        if A < 0:\n",
    "            print(\"le réél doit être positif\")\n",
    "            return \"racine carrée n'est pas définie\"\n",
    "        elif A==0 :\n",
    "            print(f'√{A} =0')\n",
    "            return 0\n",
    "        else:\n",
    "            x = A  # point de départ : A\n",
    "            tol = 1e-6\n",
    "            max_iter = 1000\n",
    "        \n",
    "            for _ in range(max_iter):\n",
    "                x_new = 0.5 * (x + A / x)\n",
    "                if abs(x_new - x) < tol:\n",
    "                    return x_new\n",
    "                x = x_new\n",
    "        \n",
    "            return x  # valeur approximative si tolérance non atteinte\n",
    "    except Exception as e:\n",
    "        print(f\"une erreur s'est produite: {e}\")\n",
    "\n",
    "# Exemple d'utilisation\n",
    "A = int(input(\"Entrer un réel positif\"))\n",
    "approximation = racine_carree_newton(A)\n",
    "print(f\"√{A} ≈ {approximation}\")"
   ]
  },
  {
   "cell_type": "markdown",
   "id": "1bb9bdbc-1e8b-4730-b01e-4c9dc2865c9e",
   "metadata": {},
   "source": [
    "# EXERCICE 3"
   ]
  },
  {
   "cell_type": "code",
   "execution_count": 6,
   "id": "9684c2c1-b2c6-4987-bd4f-2c4e925b059e",
   "metadata": {},
   "outputs": [],
   "source": [
    "import sympy as sp\n",
    "\n",
    "def detect_sequence_type(seq):\n",
    "    n = len(seq)\n",
    "    if n < 3:\n",
    "        return \"Pas assez de termes pour détecter un motif donner plus de trois valeur numérique.\"\n",
    "\n",
    "    # Vérifier suite arithmétique\n",
    "    diffs = [seq[i+1] - seq[i] for i in range(n-1)]\n",
    "    if all(abs(d - diffs[0]) < 1e-9 for d in diffs):\n",
    "        a = seq[0]\n",
    "        d = diffs[0]\n",
    "        return f\"Suite arithmétique : a_n = {a} + {d}n\"\n",
    "\n",
    "    # Vérifier suite géométrique\n",
    "    try:\n",
    "        ratios = [seq[i+1] / seq[i] for i in range(n-1) if seq[i] != 0]\n",
    "        if len(ratios) == n - 1 and all(abs(r - ratios[0]) < 1e-9 for r in ratios):\n",
    "            a = seq[0]\n",
    "            r = ratios[0]\n",
    "            return f\"Suite géométrique : a_n = {a} * ({r})^n\"\n",
    "    except ZeroDivisionError:\n",
    "        pass\n",
    "\n",
    "    # Vérifier suite quadratique : trouver un polynôme du second degré\n",
    "    x = sp.Symbol('n')\n",
    "    try:\n",
    "        indices = list(range(n))\n",
    "        poly = sp.interpolate(list(zip(indices, seq)), x)\n",
    "        deg = sp.degree(poly)\n",
    "        if deg == 2:\n",
    "            return f\"Suite quadratique : a_n = {sp.simplify(poly)}\"\n",
    "    except:\n",
    "        pass\n",
    "\n",
    "    return \"Type de suite non reconnu ou non supporté.\"\n",
    "\n",
    "\n",
    "  "
   ]
  },
  {
   "cell_type": "code",
   "execution_count": 7,
   "id": "531e8541-3828-4910-a726-4f6f43047c55",
   "metadata": {},
   "outputs": [
    {
     "name": "stdout",
     "output_type": "stream",
     "text": [
      " Si vous sohaitez arrêter de donner vôtre liste de valeur vous pouvais tout simplement n'importe quel caracthère non numérique\n"
     ]
    },
    {
     "name": "stdin",
     "output_type": "stream",
     "text": [
      "Entrer un nombre 1\n",
      "Entrer un nombre 2\n",
      "Entrer un nombre 4\n",
      "Entrer un nombre 8\n",
      "Entrer un nombre 16\n",
      "Entrer un nombre 32\n",
      "Entrer un nombre 64\n",
      "Entrer un nombre +\n"
     ]
    }
   ],
   "source": [
    "print(\" Si vous sohaitez arrêter de donner vôtre liste de valeur vous pouvais tout simplement n'importe quel caracthère non numérique\")\n",
    "try:\n",
    "    n=int(input(\"Entrer un nombre\"))\n",
    "    liste = [n]\n",
    "    while True:\n",
    "        n=int(input(\"Entrer un nombre\"))\n",
    "        liste.append(n)\n",
    "except:\n",
    "    liste = liste"
   ]
  },
  {
   "cell_type": "code",
   "execution_count": 8,
   "id": "d1fe6e94-4a9c-4533-be1d-55764057a057",
   "metadata": {},
   "outputs": [
    {
     "data": {
      "text/plain": [
       "[1, 2, 4, 8, 16, 32, 64]"
      ]
     },
     "execution_count": 8,
     "metadata": {},
     "output_type": "execute_result"
    }
   ],
   "source": [
    "liste"
   ]
  },
  {
   "cell_type": "code",
   "execution_count": 9,
   "id": "79f0e2b2-60a1-44c1-b227-a4e4923e18a9",
   "metadata": {},
   "outputs": [
    {
     "name": "stdout",
     "output_type": "stream",
     "text": [
      "Suite géométrique : a_n = 1 * (2.0)^n\n"
     ]
    }
   ],
   "source": [
    "print(detect_sequence_type(liste)) "
   ]
  },
  {
   "cell_type": "code",
   "execution_count": null,
   "id": "b099dbb3-f443-41c0-b289-393972d49a96",
   "metadata": {},
   "outputs": [],
   "source": []
  }
 ],
 "metadata": {
  "kernelspec": {
   "display_name": "Python 3 (ipykernel)",
   "language": "python",
   "name": "python3"
  },
  "language_info": {
   "codemirror_mode": {
    "name": "ipython",
    "version": 3
   },
   "file_extension": ".py",
   "mimetype": "text/x-python",
   "name": "python",
   "nbconvert_exporter": "python",
   "pygments_lexer": "ipython3",
   "version": "3.12.7"
  }
 },
 "nbformat": 4,
 "nbformat_minor": 5
}
