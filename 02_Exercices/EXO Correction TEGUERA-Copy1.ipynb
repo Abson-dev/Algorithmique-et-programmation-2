{
 "cells": [
  {
   "cell_type": "code",
   "execution_count": 13,
   "id": "8d99256b-6ead-4211-9de1-6f54002d1070",
   "metadata": {},
   "outputs": [
    {
     "name": "stdout",
     "output_type": "stream",
     "text": [
      "[1, 19, 81, 42, 15, 25, 14, 26, 29, 35]\n"
     ]
    }
   ],
   "source": [
    "import random\n",
    "n=10\n",
    "liste=[random.randint(1,100) for x in range(n)]\n",
    "print(liste)"
   ]
  },
  {
   "cell_type": "code",
   "execution_count": 17,
   "id": "08b58531-5e2f-4b1e-99e4-15783d1b4d9f",
   "metadata": {},
   "outputs": [
    {
     "data": {
      "text/plain": [
       "[1, 19, 81, 42, 100, 25, 14, 26, 29, 35]"
      ]
     },
     "execution_count": 17,
     "metadata": {},
     "output_type": "execute_result"
    }
   ],
   "source": [
    "liste[4]=100\n",
    "liste"
   ]
  },
  {
   "cell_type": "code",
   "execution_count": 19,
   "id": "8176af74-3996-4602-9cad-88dbd9762b3c",
   "metadata": {},
   "outputs": [
    {
     "data": {
      "text/plain": [
       "[1, 19, 81, 42, 100, 25, 14, 26, 29, 35, 200]"
      ]
     },
     "execution_count": 19,
     "metadata": {},
     "output_type": "execute_result"
    }
   ],
   "source": [
    "liste.append(200)\n",
    "liste"
   ]
  },
  {
   "cell_type": "code",
   "execution_count": 25,
   "id": "2977a694-5e4b-4acd-896e-445316b91799",
   "metadata": {},
   "outputs": [
    {
     "data": {
      "text/plain": [
       "[1, 19, 42, 100, 25, 14, 26, 29, 35, 200]"
      ]
     },
     "execution_count": 25,
     "metadata": {},
     "output_type": "execute_result"
    }
   ],
   "source": [
    "del liste[2]\n",
    "liste"
   ]
  },
  {
   "cell_type": "code",
   "execution_count": 27,
   "id": "64af14d7-71a9-4f04-9ccd-45bb56a6cdda",
   "metadata": {},
   "outputs": [
    {
     "name": "stdout",
     "output_type": "stream",
     "text": [
      "Trie et découpage\n"
     ]
    }
   ],
   "source": [
    "print(\"Trie et découpage\")"
   ]
  },
  {
   "cell_type": "code",
   "execution_count": 29,
   "id": "8ddb2d4f-cefd-425a-9f3e-69b3627b9b44",
   "metadata": {},
   "outputs": [
    {
     "data": {
      "text/plain": [
       "[1, 14, 19, 25, 26, 29, 35, 42, 100, 200]"
      ]
     },
     "execution_count": 29,
     "metadata": {},
     "output_type": "execute_result"
    }
   ],
   "source": [
    "liste.sort()\n",
    "liste"
   ]
  },
  {
   "cell_type": "code",
   "execution_count": 31,
   "id": "51a54710-1105-421b-a763-6d2452ba625e",
   "metadata": {},
   "outputs": [
    {
     "name": "stdout",
     "output_type": "stream",
     "text": [
      "Pour la trier par ordre décroissant\n"
     ]
    }
   ],
   "source": [
    "print(\"Pour la trier par ordre décroissant\")"
   ]
  },
  {
   "cell_type": "code",
   "execution_count": 33,
   "id": "2785aaef-2b0b-48b7-acc4-74b06605e438",
   "metadata": {},
   "outputs": [
    {
     "data": {
      "text/plain": [
       "[200, 100, 42, 35, 29, 26, 25, 19, 14, 1]"
      ]
     },
     "execution_count": 33,
     "metadata": {},
     "output_type": "execute_result"
    }
   ],
   "source": [
    "liste.sort(reverse=True)\n",
    "liste"
   ]
  },
  {
   "cell_type": "code",
   "execution_count": 41,
   "id": "7af5d8c5-450a-475f-94fb-c5039720a498",
   "metadata": {},
   "outputs": [
    {
     "data": {
      "text/plain": [
       "[200, 100, 42, 35, 29]"
      ]
     },
     "execution_count": 41,
     "metadata": {},
     "output_type": "execute_result"
    }
   ],
   "source": [
    "liste[:5]"
   ]
  },
  {
   "cell_type": "code",
   "execution_count": 43,
   "id": "39ecf648-fe72-495c-ba3f-1f966ca44f9a",
   "metadata": {},
   "outputs": [
    {
     "name": "stdout",
     "output_type": "stream",
     "text": [
      "Compréhension de liste\n"
     ]
    }
   ],
   "source": [
    "print(\"Compréhension de liste\")"
   ]
  },
  {
   "cell_type": "code",
   "execution_count": 49,
   "id": "c5fe0418-f1f1-4445-a84c-428170757e9f",
   "metadata": {},
   "outputs": [
    {
     "name": "stdout",
     "output_type": "stream",
     "text": [
      "[40000, 10000, 1764, 1225, 841, 676, 625, 361, 196, 1]\n"
     ]
    }
   ],
   "source": [
    "carrés=[x**2 for x in liste]\n",
    "print(carrés)"
   ]
  },
  {
   "cell_type": "code",
   "execution_count": 51,
   "id": "021bc792-0152-44e0-9f7b-1d04ae45bc42",
   "metadata": {},
   "outputs": [
    {
     "data": {
      "text/plain": [
       "[200, 100, 42, 26, 14]"
      ]
     },
     "execution_count": 51,
     "metadata": {},
     "output_type": "execute_result"
    }
   ],
   "source": [
    "paire=[x for x in liste if x%2==0]\n",
    "paire"
   ]
  },
  {
   "cell_type": "code",
   "execution_count": 53,
   "id": "e6fb34a1-ab6e-49b7-8d51-c3aaff93e431",
   "metadata": {},
   "outputs": [
    {
     "name": "stdout",
     "output_type": "stream",
     "text": [
      "TUPLE\n"
     ]
    }
   ],
   "source": [
    "print(\"TUPLE\")"
   ]
  },
  {
   "cell_type": "code",
   "execution_count": 57,
   "id": "1eb9f2ec-17cb-4c1d-bf01-49342933cd76",
   "metadata": {},
   "outputs": [
    {
     "data": {
      "text/plain": [
       "('Mali', 'Kenya', 'Niger', 'Nigeria', 'Iran')"
      ]
     },
     "execution_count": 57,
     "metadata": {},
     "output_type": "execute_result"
    }
   ],
   "source": [
    "tuple=(\"Mali\",\"Kenya\",\"Niger\",\"Nigeria\",\"Iran\")\n",
    "tuple"
   ]
  },
  {
   "cell_type": "code",
   "execution_count": 61,
   "id": "c0d47c55-ebe0-48bd-a807-804fc78b036f",
   "metadata": {},
   "outputs": [
    {
     "data": {
      "text/plain": [
       "'Niger'"
      ]
     },
     "execution_count": 61,
     "metadata": {},
     "output_type": "execute_result"
    }
   ],
   "source": [
    "tuple[2]"
   ]
  },
  {
   "cell_type": "code",
   "execution_count": 64,
   "id": "7808639d-7104-4a26-ac0f-9dacbe44755c",
   "metadata": {},
   "outputs": [
    {
     "data": {
      "text/plain": [
       "'Iran'"
      ]
     },
     "execution_count": 64,
     "metadata": {},
     "output_type": "execute_result"
    }
   ],
   "source": [
    "tuple[4]"
   ]
  },
  {
   "cell_type": "code",
   "execution_count": 66,
   "id": "aeb1d64a-0287-494e-a8ff-3ca554fa6067",
   "metadata": {},
   "outputs": [
    {
     "name": "stdout",
     "output_type": "stream",
     "text": [
      "déballage de tuple\n"
     ]
    }
   ],
   "source": [
    "print(\"déballage de tuple\")"
   ]
  },
  {
   "cell_type": "code",
   "execution_count": 74,
   "id": "84171ff5-3c32-4636-b870-2b2feb63abef",
   "metadata": {},
   "outputs": [
    {
     "data": {
      "text/plain": [
       "('nom', 'pays', 'âge')"
      ]
     },
     "execution_count": 74,
     "metadata": {},
     "output_type": "execute_result"
    }
   ],
   "source": [
    "tuple2=(\"nom\",\"pays\",\"âge\")\n",
    "tuple2"
   ]
  },
  {
   "cell_type": "code",
   "execution_count": 76,
   "id": "70b2a357-6e26-46e2-b416-11ebbeed8e76",
   "metadata": {},
   "outputs": [
    {
     "name": "stdout",
     "output_type": "stream",
     "text": [
      "nom\n",
      "pays\n",
      "âge\n"
     ]
    }
   ],
   "source": [
    "a,b,c = tuple2\n",
    "print(a)\n",
    "print(b)\n",
    "print(c)"
   ]
  },
  {
   "cell_type": "code",
   "execution_count": 78,
   "id": "102209ba-b340-4050-870d-f4bfd534ccd8",
   "metadata": {},
   "outputs": [
    {
     "name": "stdout",
     "output_type": "stream",
     "text": [
      "Tuple et immuabilité\n"
     ]
    }
   ],
   "source": [
    "print(\"Tuple et immuabilité\")"
   ]
  },
  {
   "cell_type": "code",
   "execution_count": 80,
   "id": "e05c5e58-f882-496c-b3ea-555b913deb52",
   "metadata": {},
   "outputs": [
    {
     "ename": "TypeError",
     "evalue": "'tuple' object does not support item assignment",
     "output_type": "error",
     "traceback": [
      "\u001b[1;31m---------------------------------------------------------------------------\u001b[0m",
      "\u001b[1;31mTypeError\u001b[0m                                 Traceback (most recent call last)",
      "Cell \u001b[1;32mIn[80], line 1\u001b[0m\n\u001b[1;32m----> 1\u001b[0m \u001b[38;5;28mtuple\u001b[39m[\u001b[38;5;241m2\u001b[39m]\u001b[38;5;241m=\u001b[39m\u001b[38;5;124m\"\u001b[39m\u001b[38;5;124mvert\u001b[39m\u001b[38;5;124m\"\u001b[39m\n",
      "\u001b[1;31mTypeError\u001b[0m: 'tuple' object does not support item assignment"
     ]
    }
   ],
   "source": [
    "tuple[2]=\"vert\""
   ]
  },
  {
   "cell_type": "code",
   "execution_count": 84,
   "id": "ec5f739c-3509-4331-b9e8-7353bf2eb09f",
   "metadata": {},
   "outputs": [
    {
     "name": "stdout",
     "output_type": "stream",
     "text": [
      "En essayant de modifier la valeur d'un tuple une erreur apparaît.\n",
      "Car contrairement aux listes les éléments d'un tuple ne peuvent pas être modifiés\n"
     ]
    }
   ],
   "source": [
    "print(\"En essayant de modifier la valeur d'un tuple une erreur apparaît.\")\n",
    "print(\"Car contrairement aux listes les éléments d'un tuple ne peuvent pas être modifiés\")"
   ]
  },
  {
   "cell_type": "code",
   "execution_count": 88,
   "id": "e337092f-116f-4013-b7d5-2dc0a538a262",
   "metadata": {},
   "outputs": [
    {
     "name": "stdout",
     "output_type": "stream",
     "text": [
      "Les tuples sont généralement utilisés pour stocker des valeurs. Un exemple d'application est conservation de coordonnées gps\n"
     ]
    }
   ],
   "source": [
    "print(\"Les tuples sont généralement utilisés pour stocker des valeurs. Un exemple d'application est conservation de coordonnées gps\")"
   ]
  },
  {
   "cell_type": "code",
   "execution_count": 90,
   "id": "d390f51a-64c4-4737-a85c-8f0ad576019b",
   "metadata": {},
   "outputs": [
    {
     "name": "stdout",
     "output_type": "stream",
     "text": [
      "Dictionnaire\n"
     ]
    }
   ],
   "source": [
    "print(\"Dictionnaire\")"
   ]
  },
  {
   "cell_type": "code",
   "execution_count": 94,
   "id": "5c59ea6a-2559-492b-adc7-c67ed2e830b6",
   "metadata": {},
   "outputs": [
    {
     "name": "stdout",
     "output_type": "stream",
     "text": [
      "{'Moctar': 13, 'Jules': 10, 'Ali': 11, 'Bari': 16, 'Soul': 15}\n"
     ]
    }
   ],
   "source": [
    "dictionnaire={\"Moctar\":13,\"Jules\":10,\"Ali\":11,\"Bari\":16,\"Soul\":15}\n",
    "print(dictionnaire)"
   ]
  },
  {
   "cell_type": "code",
   "execution_count": 96,
   "id": "ea63a792-3498-432e-a64b-6f9804faecec",
   "metadata": {},
   "outputs": [
    {
     "name": "stdout",
     "output_type": "stream",
     "text": [
      "11\n"
     ]
    }
   ],
   "source": [
    "print(dictionnaire[\"Ali\"])"
   ]
  },
  {
   "cell_type": "code",
   "execution_count": 104,
   "id": "f9976998-b6c5-4494-aeb0-54a6cdbc27b0",
   "metadata": {},
   "outputs": [
    {
     "data": {
      "text/plain": [
       "{'Moctar': 13, 'Jules': 10, 'Ali': 11, 'Bari': 16, 'Soul': 15, 'Bob': 12}"
      ]
     },
     "execution_count": 104,
     "metadata": {},
     "output_type": "execute_result"
    }
   ],
   "source": [
    "dictionnaire[\"Bob\"]=12\n",
    "dictionnaire"
   ]
  },
  {
   "cell_type": "code",
   "execution_count": 108,
   "id": "f7b3d64b-8c3c-4a12-87dc-92609d73b9d9",
   "metadata": {},
   "outputs": [
    {
     "data": {
      "text/plain": [
       "{'Moctar': 13, 'Jules': 14, 'Ali': 11, 'Bari': 16, 'Soul': 15, 'Bob': 12}"
      ]
     },
     "execution_count": 108,
     "metadata": {},
     "output_type": "execute_result"
    }
   ],
   "source": [
    "dictionnaire[\"Jules\"]=14\n",
    "dictionnaire"
   ]
  },
  {
   "cell_type": "code",
   "execution_count": 110,
   "id": "60c566ac-de7f-4235-8486-057712622df3",
   "metadata": {},
   "outputs": [
    {
     "name": "stdout",
     "output_type": "stream",
     "text": [
      "Moctar\n",
      "Jules\n",
      "Ali\n",
      "Bari\n",
      "Soul\n",
      "Bob\n"
     ]
    }
   ],
   "source": [
    "for x in dictionnaire:\n",
    "    print(x)"
   ]
  },
  {
   "cell_type": "code",
   "execution_count": 112,
   "id": "811a4349-1a70-4d59-bcff-e2a3a435bdac",
   "metadata": {},
   "outputs": [
    {
     "name": "stdout",
     "output_type": "stream",
     "text": [
      "13\n",
      "14\n",
      "11\n",
      "16\n",
      "15\n",
      "12\n"
     ]
    }
   ],
   "source": [
    "for x in dictionnaire:\n",
    "    print(dictionnaire[x])"
   ]
  },
  {
   "cell_type": "code",
   "execution_count": 114,
   "id": "64a7bf82-6967-420b-b05a-9c32b7a3e7bd",
   "metadata": {},
   "outputs": [
    {
     "name": "stdout",
     "output_type": "stream",
     "text": [
      "Moctar 13\n",
      "Jules 14\n",
      "Ali 11\n",
      "Bari 16\n",
      "Soul 15\n",
      "Bob 12\n"
     ]
    }
   ],
   "source": [
    "for x in dictionnaire:\n",
    "    print(x,dictionnaire[x])"
   ]
  },
  {
   "cell_type": "code",
   "execution_count": 126,
   "id": "08d29c76-b1f0-45f9-914c-f57622a51813",
   "metadata": {},
   "outputs": [
    {
     "name": "stdout",
     "output_type": "stream",
     "text": [
      "{'Moctar': {'SCI': 10, 'Math': 14}, 'Jules': {'SCI': 13, 'Math': 11}, 'Ali': {'SCI': 16, 'Math': 9}, 'Bari': {'SCI': 15, 'Math': 10}, 'Soul': {'SCI': 18, 'Math': 11}, 'Bob': {'SCI': 14, 'Math': 12}}\n"
     ]
    }
   ],
   "source": [
    "dictionnaire2={\"Moctar\":{\"SCI\":10,\"Math\":14},\"Jules\":{\"SCI\":13,\"Math\":11},\"Ali\":{\"SCI\":16,\"Math\":9},\"Bari\":{\"SCI\":15,\"Math\":10},\"Soul\":{\"SCI\":18,\"Math\":11},\"Bob\":{\"SCI\":14,\"Math\":12}}\n",
    "print(dictionnaire2)"
   ]
  },
  {
   "cell_type": "code",
   "execution_count": 134,
   "id": "706da9d4-1491-470d-844d-ea81613fb7d8",
   "metadata": {},
   "outputs": [
    {
     "name": "stdout",
     "output_type": "stream",
     "text": [
      "10\n"
     ]
    }
   ],
   "source": [
    "print(dictionnaire2[\"Moctar\"][\"SCI\"])"
   ]
  },
  {
   "cell_type": "code",
   "execution_count": 136,
   "id": "42f78ccd-b639-4a5a-ae12-506a3b65a755",
   "metadata": {},
   "outputs": [
    {
     "name": "stdout",
     "output_type": "stream",
     "text": [
      "FIN\n"
     ]
    }
   ],
   "source": [
    "print(\"FIN\")"
   ]
  },
  {
   "cell_type": "code",
   "execution_count": null,
   "id": "72404bb5-27c6-413e-ba1d-d2b113faada4",
   "metadata": {},
   "outputs": [],
   "source": []
  }
 ],
 "metadata": {
  "kernelspec": {
   "display_name": "Python [conda env:base] *",
   "language": "python",
   "name": "conda-base-py"
  },
  "language_info": {
   "codemirror_mode": {
    "name": "ipython",
    "version": 3
   },
   "file_extension": ".py",
   "mimetype": "text/x-python",
   "name": "python",
   "nbconvert_exporter": "python",
   "pygments_lexer": "ipython3",
   "version": "3.12.7"
  }
 },
 "nbformat": 4,
 "nbformat_minor": 5
}
