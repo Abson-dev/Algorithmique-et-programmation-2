{
 "cells": [
  {
   "cell_type": "code",
   "execution_count": 2,
   "id": "7edf4eaf-2448-4041-a62f-1183ff0de409",
   "metadata": {},
   "outputs": [
    {
     "name": "stdin",
     "output_type": "stream",
     "text": [
      "Donner un réel u0 0.5\n",
      "Donner un réél 4.2\n"
     ]
    },
    {
     "name": "stdout",
     "output_type": "stream",
     "text": [
      "Convergence atteinte après 6 itérations.\n"
     ]
    },
    {
     "data": {
      "text/plain": [
       "True"
      ]
     },
     "execution_count": 2,
     "metadata": {},
     "output_type": "execute_result"
    }
   ],
   "source": [
    "u0 = float ( input(\"Donner un réel u0\"))\n",
    "a =float (input((\"Donner un réél\")))\n",
    "def converge(f, u0, epsilon=1e-6, max_iteration=1000):\n",
    "    u_n = u0\n",
    "    for i in range(max_iteration):\n",
    "        u_next = f(u_n)\n",
    "        if abs(u_next - u_n) < epsilon:\n",
    "            print(f\"Convergence atteinte après {i+1} itérations.\")\n",
    "            return True\n",
    "        u_n = u_next\n",
    "    print(\"La suite ne converge pas dans le nombre d’itérations donné.\")\n",
    "    return False\n",
    "def f(x):\n",
    "    return (1/2)*(x+a/x)\n",
    "\n",
    "converge (f,u0)\n"
   ]
  },
  {
   "cell_type": "code",
   "execution_count": null,
   "id": "18203bce-ca6b-46bb-8f81-1f67aac090ab",
   "metadata": {},
   "outputs": [],
   "source": []
  }
 ],
 "metadata": {
  "kernelspec": {
   "display_name": "anaconda-2024.02-py310",
   "language": "python",
   "name": "conda-env-anaconda-2024.02-py310-py"
  },
  "language_info": {
   "codemirror_mode": {
    "name": "ipython",
    "version": 3
   },
   "file_extension": ".py",
   "mimetype": "text/x-python",
   "name": "python",
   "nbconvert_exporter": "python",
   "pygments_lexer": "ipython3",
   "version": "3.10.14"
  }
 },
 "nbformat": 4,
 "nbformat_minor": 5
}
