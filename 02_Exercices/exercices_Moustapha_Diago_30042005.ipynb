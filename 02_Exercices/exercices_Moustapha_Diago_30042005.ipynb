{
 "cells": [
  {
   "cell_type": "markdown",
   "id": "aacb9ce1-2d6b-49cf-b8dd-7f13b4a1df0b",
   "metadata": {},
   "source": [
    "Exercice 1: Créez une fonction qui calcule la suite de fibonacci"
   ]
  },
  {
   "cell_type": "code",
   "execution_count": 47,
   "id": "b9c9f0ce-f79e-4464-a06a-1164bde2c329",
   "metadata": {},
   "outputs": [],
   "source": [
    "def fibo(n):\n",
    "    f=0\n",
    "    #Comme Io et I1 ne sont pas donnés par une relation particulière (Io=0 et I1=1), ces des premières conditions permettent de les prendre en compte\n",
    "    if n == 0:\n",
    "        return 0\n",
    "    elif n == 1:\n",
    "        return 1\n",
    "    else:\n",
    "        p = 0   #Io\n",
    "        q = 1   #I1\n",
    "        for i in range(2,n+1): \n",
    "            f = p+q \n",
    "            p = q   \n",
    "            q = f   \n",
    "        return(q)"
   ]
  },
  {
   "cell_type": "code",
   "execution_count": 49,
   "id": "a90a7220-6ac0-489d-873a-19f4566cc087",
   "metadata": {},
   "outputs": [
    {
     "data": {
      "text/plain": [
       "55"
      ]
     },
     "execution_count": 49,
     "metadata": {},
     "output_type": "execute_result"
    }
   ],
   "source": [
    "fibo(10)"
   ]
  },
  {
   "cell_type": "markdown",
   "id": "5ddcaf1b-922c-417f-860a-6e0a8fd1f775",
   "metadata": {},
   "source": [
    "Exercice 2: Créez une fonction qui calcul le factorial d'un nombre"
   ]
  },
  {
   "cell_type": "code",
   "execution_count": 52,
   "id": "cb5f3441-5ad7-4c7a-9c14-e7b29aeb0c3e",
   "metadata": {},
   "outputs": [],
   "source": [
    "def fact(n):\n",
    "    f=1\n",
    "    for i in range(1,n+1):\n",
    "        f*=i\n",
    "    return f"
   ]
  },
  {
   "cell_type": "code",
   "execution_count": 60,
   "id": "b6197e26-6c86-4ac6-8465-3f777c45a12d",
   "metadata": {},
   "outputs": [
    {
     "data": {
      "text/plain": [
       "24"
      ]
     },
     "execution_count": 60,
     "metadata": {},
     "output_type": "execute_result"
    }
   ],
   "source": [
    "fact(4)"
   ]
  },
  {
   "cell_type": "code",
   "execution_count": null,
   "id": "f4629f7c-09e4-4cc5-9509-9e59a0cf6904",
   "metadata": {},
   "outputs": [],
   "source": []
  }
 ],
 "metadata": {
  "kernelspec": {
   "display_name": "Python [conda env:base] *",
   "language": "python",
   "name": "conda-base-py"
  },
  "language_info": {
   "codemirror_mode": {
    "name": "ipython",
    "version": 3
   },
   "file_extension": ".py",
   "mimetype": "text/x-python",
   "name": "python",
   "nbconvert_exporter": "python",
   "pygments_lexer": "ipython3",
   "version": "3.12.4"
  }
 },
 "nbformat": 4,
 "nbformat_minor": 5
}
