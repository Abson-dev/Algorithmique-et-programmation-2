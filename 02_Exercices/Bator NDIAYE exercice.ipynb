{
 "cells": [
  {
   "cell_type": "code",
   "execution_count": 1,
   "id": "720f6b21-3da5-485b-a24e-9b4f10ea000b",
   "metadata": {},
   "outputs": [],
   "source": [
    "def fibonacci(n):\n",
    "  a=1\n",
    "  b=1\n",
    "  for i in range(n):\n",
    "    a,b=b, a+b\n",
    "  return a"
   ]
  },
  {
   "cell_type": "code",
   "execution_count": 2,
   "id": "b0bc1743-28aa-432a-8d13-e10d1ebfaee5",
   "metadata": {},
   "outputs": [
    {
     "name": "stdout",
     "output_type": "stream",
     "text": [
      "8\n"
     ]
    }
   ],
   "source": [
    "print(fibonacci(5))"
   ]
  },
  {
   "cell_type": "code",
   "execution_count": 10,
   "id": "c373e1eb-b075-4a58-b5ed-c5d05330b5f3",
   "metadata": {},
   "outputs": [],
   "source": [
    "def factoriel(n):\n",
    "    if n < 0:\n",
    "        return \"Erreur : nombre négatif\"\n",
    "    f = 1\n",
    "    for i in range(1, n + 1):\n",
    "        f *= i\n",
    "    return f\n"
   ]
  },
  {
   "cell_type": "code",
   "execution_count": 11,
   "id": "2b183c87-f654-469f-bf72-cc045eb44be2",
   "metadata": {},
   "outputs": [
    {
     "name": "stdout",
     "output_type": "stream",
     "text": [
      "24\n"
     ]
    }
   ],
   "source": [
    "print(factoriel(4))"
   ]
  },
  {
   "cell_type": "code",
   "execution_count": null,
   "id": "a644ff1e-03d1-421d-b124-4adf4cc14141",
   "metadata": {},
   "outputs": [],
   "source": []
  }
 ],
 "metadata": {
  "kernelspec": {
   "display_name": "Python 3 (ipykernel)",
   "language": "python",
   "name": "python3"
  },
  "language_info": {
   "codemirror_mode": {
    "name": "ipython",
    "version": 3
   },
   "file_extension": ".py",
   "mimetype": "text/x-python",
   "name": "python",
   "nbconvert_exporter": "python",
   "pygments_lexer": "ipython3",
   "version": "3.12.7"
  }
 },
 "nbformat": 4,
 "nbformat_minor": 5
}
