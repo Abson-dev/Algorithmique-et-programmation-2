{
 "cells": [
  {
   "cell_type": "code",
   "execution_count": 11,
   "id": "e627fd7e-04c1-428b-9e9c-86ad55bd8d19",
   "metadata": {},
   "outputs": [
    {
     "data": {
      "text/plain": [
       "'La suite converge'"
      ]
     },
     "execution_count": 11,
     "metadata": {},
     "output_type": "execute_result"
    }
   ],
   "source": [
    "import numpy as np\n",
    "def cv(f,u0,epsilon=1e-6,max=1000):\n",
    "    u=u0\n",
    "    for i in range(max):\n",
    "        u_next=f(u)\n",
    "        if np.abs(u_next-u)<epsilon:\n",
    "            return \"La suite converge\"\n",
    "        u=u_next\n",
    "    return \"La suite ne converge pas\",ep\n",
    "\n",
    "\n",
    "def f_test(x):\n",
    "    return 1/x\n",
    "\n",
    "cv(f_test,1.0)"
   ]
  },
  {
   "cell_type": "code",
   "execution_count": 108,
   "id": "a931b1f5-1ef5-4153-b9d3-4388ac7bfea4",
   "metadata": {},
   "outputs": [
    {
     "name": "stdout",
     "output_type": "stream",
     "text": [
      "la racine carrée approximative de 25 est 13.0\n"
     ]
    }
   ],
   "source": [
    "import numpy as np\n",
    "def rn(A,epsilon=1e-10,max=10000):\n",
    "    x=1.0\n",
    "    for i in range(max):\n",
    "        new_x=0.5*(x+A/x)\n",
    "        if np.abs(new_x-x)<epsilon:\n",
    "            return new_x\n",
    "        x=new_x\n",
    "        return x\n",
    "\n",
    "A=25\n",
    "result=rn(A)\n",
    "print(\"la racine carrée approximative de\", A ,\"est\", result)"
   ]
  },
  {
   "cell_type": "code",
   "execution_count": 122,
   "id": "66f30c9e-80bd-4605-b07f-5aabd09f9526",
   "metadata": {},
   "outputs": [
    {
     "name": "stdout",
     "output_type": "stream",
     "text": [
      "Type : géométrique\n",
      "Formule : Un = 1 * 4.0^n\n"
     ]
    }
   ],
   "source": [
    "def detect_suite(liste):\n",
    "    n = len(liste)\n",
    "    r = liste[1] - liste[0]\n",
    "    q = liste[1] / liste[0]\n",
    "    if all(liste[i+1] - liste[i] == r for i in range(n - 1)):\n",
    "        return \"arithmétique\", \"Un = {} + {} * n\".format(liste[0],r)\n",
    "    elif (liste[i+1] / liste[i] == liste[1] / liste[0] for i in range(n-1)) and (liste[i]!=0 for i in range(n)):\n",
    "        return \"géométrique\", \"Un = {} * {}^n\".format(liste[0],q)\n",
    "    elif n >= 3:\n",
    "        a = (liste[2] - 2*liste[1] + liste[0]) / 2\n",
    "        b = liste[1] - liste[0] - 3 * a\n",
    "        c = liste[0]\n",
    "        if all(liste[i] == a * i**2 + b * i + c for i in range(n)):\n",
    "            return \"quadratique\", \"Un = {}*n² + {}*n + {}\".format(a,b,c)\n",
    "        else:\n",
    "            return \"inconnue\", \"forme non détectée\"\n",
    "\n",
    "# Exemple d'utilisation\n",
    "suite = [1, 4, 9, 16, 25]  # Un = n²\n",
    "type_suite, formule = detect_suite(suite)\n",
    "print(\"Type : {}\".format(type_suite))\n",
    "print(\"Formule : {}\".format(formule))"
   ]
  },
  {
   "cell_type": "code",
   "execution_count": null,
   "id": "5b9e9d50-faad-4e53-a828-7a4882ec3389",
   "metadata": {},
   "outputs": [],
   "source": []
  }
 ],
 "metadata": {
  "kernelspec": {
   "display_name": "Python [conda env:base]",
   "language": "python",
   "name": "conda-base-py"
  },
  "language_info": {
   "codemirror_mode": {
    "name": "ipython",
    "version": 3
   },
   "file_extension": ".py",
   "mimetype": "text/x-python",
   "name": "python",
   "nbconvert_exporter": "python",
   "pygments_lexer": "ipython3",
   "version": "3.12.4"
  }
 },
 "nbformat": 4,
 "nbformat_minor": 5
}
