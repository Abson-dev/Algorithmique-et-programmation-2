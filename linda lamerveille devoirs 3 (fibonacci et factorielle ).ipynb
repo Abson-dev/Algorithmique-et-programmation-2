{
 "cells": [
  {
   "cell_type": "code",
   "execution_count": 40,
   "id": "4054ac08-e26b-4a9b-a06c-2d9e5738940a",
   "metadata": {},
   "outputs": [
    {
     "name": "stdin",
     "output_type": "stream",
     "text": [
      "entrez le nombre de terme que vous voulez afficher : 5\n"
     ]
    },
    {
     "name": "stdout",
     "output_type": "stream",
     "text": [
      "Les 5 premiers termes de la suite de Fibonacci sont :\n",
      "[0, 1, 2, 4, 8]\n"
     ]
    }
   ],
   "source": [
    "# calcul de la suite de Fibonacci\n",
    "def fibonacci (n):\n",
    "    f0 = 0 \n",
    "    f1 = 1\n",
    "    liste=[]\n",
    "    for i in range(n):\n",
    "        liste.append (f0)\n",
    "        f0 = f1\n",
    "        f1 = f1 + f0 \n",
    "    return liste\n",
    "n = int(input(\"entrez le nombre de terme que vous voulez afficher :\"))\n",
    "print(f\"Les {n} premiers termes de la suite de Fibonacci sont :\")\n",
    "print(fibonacci(n))\n",
    "\n"
   ]
  },
  {
   "cell_type": "code",
   "execution_count": 48,
   "id": "8425bee0-6e02-4081-8ce6-589d63a89034",
   "metadata": {},
   "outputs": [
    {
     "name": "stdin",
     "output_type": "stream",
     "text": [
      "entrez le nombre de terme que vous voulez afficher : 7\n"
     ]
    },
    {
     "name": "stdout",
     "output_type": "stream",
     "text": [
      "Le factorielle de  7 est 5040 :\n"
     ]
    }
   ],
   "source": [
    "# calcul du factorielle \n",
    "def fact(n):\n",
    "    s = 1 \n",
    "    for i in range(n) :\n",
    "        s = s*(i+1)\n",
    "    return s     \n",
    "n = int(input(\"entrez le nombre de terme que vous voulez afficher :\"))\n",
    "print(f\"Le factorielle de  {n} est {fact(n)} :\")"
   ]
  },
  {
   "cell_type": "code",
   "execution_count": null,
   "id": "23f58605-cf32-44e2-a667-aaca1d543834",
   "metadata": {},
   "outputs": [],
   "source": []
  },
  {
   "cell_type": "code",
   "execution_count": null,
   "id": "6684fbe1-d2d8-4151-89b8-4048a5684888",
   "metadata": {},
   "outputs": [],
   "source": []
  },
  {
   "cell_type": "code",
   "execution_count": null,
   "id": "14ca059d-6336-4987-bc33-94310a79cf0f",
   "metadata": {},
   "outputs": [],
   "source": []
  },
  {
   "cell_type": "code",
   "execution_count": null,
   "id": "bf14df64-5133-48c8-9787-1bf10171f747",
   "metadata": {},
   "outputs": [],
   "source": []
  }
 ],
 "metadata": {
  "kernelspec": {
   "display_name": "Python [conda env:base] *",
   "language": "python",
   "name": "conda-base-py"
  },
  "language_info": {
   "codemirror_mode": {
    "name": "ipython",
    "version": 3
   },
   "file_extension": ".py",
   "mimetype": "text/x-python",
   "name": "python",
   "nbconvert_exporter": "python",
   "pygments_lexer": "ipython3",
   "version": "3.12.7"
  }
 },
 "nbformat": 4,
 "nbformat_minor": 5
}
