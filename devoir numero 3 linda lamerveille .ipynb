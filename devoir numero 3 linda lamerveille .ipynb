{
 "cells": [
  {
   "cell_type": "code",
   "execution_count": 3,
   "id": "24e1137d-e812-4d0e-b86b-467c73b995b4",
   "metadata": {},
   "outputs": [],
   "source": [
    "##exercice 2\n",
    "def racine_newton(A, epsilon=1e-6, max_iteration=1000):\n",
    "    if A < 0:\n",
    "        raise ValueError(\"A doit être positif\")\n",
    "\n",
    "    Xn = A / 2  \n",
    "    iteration = 0\n",
    "\n",
    "    while iteration < max_iteration:\n",
    "        Xn_next = 0.5 * (Xn + A / Xn)\n",
    "        if abs(Xn_next - Xn) < epsilon:\n",
    "            return Xn_next\n",
    "        Xn = Xn_next\n",
    "        iteration += 1\n",
    "\n",
    "    \n",
    "    return Xn"
   ]
  },
  {
   "cell_type": "code",
   "execution_count": 5,
   "id": "159c90e8-5bb6-4b61-b401-1d0b6ee8bbf7",
   "metadata": {},
   "outputs": [
    {
     "data": {
      "text/plain": [
       "3.162277660168379"
      ]
     },
     "execution_count": 5,
     "metadata": {},
     "output_type": "execute_result"
    }
   ],
   "source": [
    "racine_newton(10)"
   ]
  },
  {
   "cell_type": "code",
   "execution_count": 11,
   "id": "aa69889a-326e-4112-8b33-b7bc86d22d49",
   "metadata": {},
   "outputs": [],
   "source": [
    "###exercice 1\n",
    "def U(n):\n",
    "    if n == 0:\n",
    "        return print(\"nombre positif\")\n",
    "    else:\n",
    "        return 1/n\n",
    "def test_convergence(U, n0, epsilon=1e-6, max_iter=1000):\n",
    "    for i in range(n0, n0 + max_iter):\n",
    "        if abs(U(i+1) - U(i)) < epsilon:\n",
    "           return print(\"La suite (Un) converge\")\n",
    "    else:\n",
    "        return print(\"La suite (Un) ne converge pas\")"
   ]
  },
  {
   "cell_type": "code",
   "execution_count": 9,
   "id": "4d23d02d-26d2-4ea8-97bf-0debe10355c3",
   "metadata": {},
   "outputs": [
    {
     "name": "stdout",
     "output_type": "stream",
     "text": [
      "La suite (Un) converge\n"
     ]
    }
   ],
   "source": [
    "test_convergence(U,10)"
   ]
  },
  {
   "cell_type": "code",
   "execution_count": 5,
   "id": "0094f860-3d39-4373-8c53-41df8a15d471",
   "metadata": {},
   "outputs": [],
   "source": [
    "## exercice 3 \n",
    "def nature_suite(liste):\n",
    "    if len(liste) < 2:\n",
    "        return \"Liste trop courte pour identifier le type\", None\n",
    "\n",
    "    # Vérification suite arithmétique\n",
    "    r = liste[1] - liste[0]\n",
    "    est_arithmetique = True\n",
    "    for i in range(len(liste) - 1):\n",
    "        if liste[i+1] - liste[i] != r:\n",
    "            est_arithmetique = False\n",
    "            break\n",
    "    if est_arithmetique:\n",
    "        a = liste[0]\n",
    "        return \"Suite arithmétique\", f\"uₙ = {a} + {r}n\"\n",
    "\n",
    "    # Vérification suite géométrique\n",
    "    if all(liste[i] != 0 for i in range(len(liste) - 1)):\n",
    "        q = liste[1] / liste[0]\n",
    "        est_geometrique = True\n",
    "        for i in range(len(liste) - 1):\n",
    "            if abs(liste[i+1] / liste[i] - q) > 1e-9:\n",
    "                est_geometrique = False\n",
    "                break\n",
    "        if est_geometrique:\n",
    "            a = liste[0]\n",
    "            return \"Suite géométrique\", f\"uₙ = {a} × ({q})ⁿ\"\n",
    "\n",
    "    # Vérification suite quadratique (polynôme du 2nd degré)\n",
    "    if len(liste) >= 3:\n",
    "        # On vérifie que la suite a une seconde différence constante\n",
    "        second_diff = [liste[i+2] - 2*liste[i+1] + liste[i] for i in range(len(liste)-2)]\n",
    "        if all(abs(d - second_diff[0]) < 1e-9 for d in second_diff):\n",
    "            # On résout un système à 3 équations pour trouver a, b, c\n",
    "            u0, u1, u2 = liste[0], liste[1], liste[2]\n",
    "            # u0 = a*0² + b*0 + c → c = u0\n",
    "            c = u0\n",
    "            # u1 = a*1² + b*1 + c\n",
    "            # u2 = a*2² + b*2 + c\n",
    "            b = (4*(u1 - u0) - (u2 - u0)) / 2\n",
    "            a = (u2 - u0 - 2*b) / 4\n",
    "            # On arrondit pour l'affichage\n",
    "            a, b, c = round(a, 4), round(b, 4), round(c, 4)\n",
    "            return \"Suite quadratique\", f\"uₙ = {a}n² + {b}n + {c}\"\n",
    "\n",
    "    return \"Type de suite non reconnu\", None\n"
   ]
  },
  {
   "cell_type": "code",
   "execution_count": 7,
   "id": "615d3cb3-1660-4a67-88ea-308e0d5da101",
   "metadata": {},
   "outputs": [
    {
     "name": "stdout",
     "output_type": "stream",
     "text": [
      "('Suite arithmétique', 'uₙ = 2 + 2n')\n",
      "('Suite géométrique', 'uₙ = 3 × (2.0)ⁿ')\n",
      "('Suite quadratique', 'uₙ = 1.0n² + 2.0n + 1')\n",
      "('Suite quadratique', 'uₙ = 0.5n² + 0.5n + 1')\n"
     ]
    }
   ],
   "source": [
    "print(nature_suite([2, 4, 6, 8]))           # Suite arithmétique\n",
    "print(nature_suite([3, 6, 12, 24]))         # Suite géométrique\n",
    "print(nature_suite([1, 4, 9, 16, 25]))      # Suite quadratique\n",
    "print(nature_suite([1, 2, 4, 7]))"
   ]
  }
 ],
 "metadata": {
  "kernelspec": {
   "display_name": "Python [conda env:base] *",
   "language": "python",
   "name": "conda-base-py"
  },
  "language_info": {
   "codemirror_mode": {
    "name": "ipython",
    "version": 3
   },
   "file_extension": ".py",
   "mimetype": "text/x-python",
   "name": "python",
   "nbconvert_exporter": "python",
   "pygments_lexer": "ipython3",
   "version": "3.12.7"
  }
 },
 "nbformat": 4,
 "nbformat_minor": 5
}
