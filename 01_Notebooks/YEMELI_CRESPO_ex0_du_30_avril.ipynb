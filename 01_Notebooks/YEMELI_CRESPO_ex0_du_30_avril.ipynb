{
 "cells": [
  {
   "cell_type": "code",
   "execution_count": 2,
   "id": "96a1a27d-dfb9-4cfb-9ca0-64d267f1f6d4",
   "metadata": {},
   "outputs": [
    {
     "name": "stdout",
     "output_type": "stream",
     "text": [
      "EXERCICE 1: Suite de FIBONACCI\n"
     ]
    }
   ],
   "source": [
    "print (\"EXERCICE 1: Suite de FIBONACCI\")"
   ]
  },
  {
   "cell_type": "code",
   "execution_count": 26,
   "id": "ae29dec4-961a-49be-b50d-eb323cdacb1b",
   "metadata": {},
   "outputs": [
    {
     "name": "stdin",
     "output_type": "stream",
     "text": [
      "Combien de termes de la suite de Fibonacci voulez-vous afficher ?  30\n"
     ]
    },
    {
     "name": "stdout",
     "output_type": "stream",
     "text": [
      "Les 30 premiers termes de la suite de Fibonacci sont :\n",
      "Un= [1, 1, 2, 3, 5, 8, 13, 21, 34, 55, 89, 144, 233, 377, 610, 987, 1597, 2584, 4181, 6765, 10946, 17711, 28657, 46368, 75025, 121393, 196418, 317811, 514229, 832040]\n"
     ]
    }
   ],
   "source": [
    "n = int(input(\"Combien de termes de la suite de Fibonacci voulez-vous afficher ? \"))\n",
    "def FIBO(n):\n",
    "    Un = [1, 1]\n",
    "    for i in range(0, n-2):\n",
    "        Un.append(Un[i] + Un[i+1])\n",
    "    return Un\n",
    "Un = FIBO(n)\n",
    "print(f\"Les {n} premiers termes de la suite de Fibonacci sont :\")\n",
    "print(\"Un=\", Un)"
   ]
  },
  {
   "cell_type": "code",
   "execution_count": 27,
   "id": "e19cd6d6-c7b5-4de0-92a8-54a7c1020396",
   "metadata": {},
   "outputs": [
    {
     "name": "stdout",
     "output_type": "stream",
     "text": [
      "EXERCICE 2: Factoriel\n"
     ]
    }
   ],
   "source": [
    "print(\"EXERCICE 2: Factoriel\")"
   ]
  },
  {
   "cell_type": "code",
   "execution_count": 8,
   "id": "905e5c39-8f7a-465b-a06b-1c3b5fd2d300",
   "metadata": {},
   "outputs": [
    {
     "name": "stdin",
     "output_type": "stream",
     "text": [
      "Entrez un entier  positif  :  100\n"
     ]
    },
    {
     "name": "stdout",
     "output_type": "stream",
     "text": [
      "!100 = 93326215443944152681699238856266700490715968264381621468592963895217599993229915608941463976156518286253697920827223758251185210916864000000000000000000000000\n"
     ]
    }
   ],
   "source": [
    "def factorielle(n):\n",
    "    f = 1\n",
    "    for i in range(2, n + 1):\n",
    "        f *= i\n",
    "    return f\n",
    "\n",
    "try:\n",
    "    n = int(input(\"Entrez un entier  positif  : \"))\n",
    "    if n < 0:\n",
    "        print(\"Veuillez entrer un entier  positif.\")\n",
    "    elif n==0 :\n",
    "        print(\"!0=1\")\n",
    "    else:\n",
    "        print(f\"!{n} = {factorielle(n)}\")\n",
    "except ValueError:\n",
    "    print(\"Veuillez entrer un entier valide.\")"
   ]
  },
  {
   "cell_type": "code",
   "execution_count": null,
   "id": "9e0e238c-bbe7-4eb0-a6df-49e33676109b",
   "metadata": {},
   "outputs": [],
   "source": []
  }
 ],
 "metadata": {
  "kernelspec": {
   "display_name": "Python 3 (ipykernel)",
   "language": "python",
   "name": "python3"
  },
  "language_info": {
   "codemirror_mode": {
    "name": "ipython",
    "version": 3
   },
   "file_extension": ".py",
   "mimetype": "text/x-python",
   "name": "python",
   "nbconvert_exporter": "python",
   "pygments_lexer": "ipython3",
   "version": "3.12.7"
  }
 },
 "nbformat": 4,
 "nbformat_minor": 5
}
