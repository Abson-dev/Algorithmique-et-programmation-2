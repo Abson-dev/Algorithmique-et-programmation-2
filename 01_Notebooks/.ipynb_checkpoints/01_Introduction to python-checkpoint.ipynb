{
 "cells": [
  {
   "cell_type": "markdown",
   "id": "b9a1fe41",
   "metadata": {},
   "source": [
    "## Sujets abordés\n",
    "\n",
    "### Installation de Python\n",
    "\n",
    "- Démarrer avec Python\n",
    "- Téléchargement et installation d'Anaconda Navigator\n",
    "- Travailler avec Jupyter Notebook\n",
    "\n",
    "\n",
    "### Introduction à Python\n",
    "\n",
    "- Variables et Types de base en Python\n",
    "- Les opérateurs en Python\n",
    "- Structures de contrôle en Python (condition, boucle, itérateur, range)\n",
    "- Fonctions en Python (définition, paramètres et arguments, appel, expression lambda)\n",
    "\n",
    "### Les structures de données en Python\n",
    "\n",
    "- Listes \n",
    "- Tuples \n",
    "- Dictionnaires\n",
    "- Collections\n",
    "\n",
    "### Statistiques descriptives\n",
    "\n",
    "- Les statistiques de base\n",
    "- Mesures de tendance centrale\n",
    "- Mesures de dispersion\n",
    "- Coefficient de covariance et de corrélation\n",
    "- Analyse exploratoire des données"
   ]
  },
  {
   "cell_type": "markdown",
   "id": "fa160d3d",
   "metadata": {},
   "source": [
    "### Installation de Python\n",
    "\n",
    "#### 1-  Démarrer avec Python\n",
    "\n",
    "Python peut être utilisé pour effectuer diverses tâches liées à la science des données, telles que le nettoyage des données, la visualisation des données, l'entraînement des modèles, le déploiement des modèles, etc.\n",
    "\n",
    "Python a également d'autres applications telles que le développement web, le développement de jeux, etc.\n",
    "\n",
    "#### 2- Téléchargement et installation d'Anaconda Navigator\n",
    "\n",
    "L'édition individuelle d'[Anaconda](https://www.anaconda.com/download) est utilisée à des fins personnelles. Les éditions Enterprise, Team et commerciale offrent des fonctionnalités plus avancées et leur utilisation est payante.\n",
    "\n",
    "L'application Anaconda Navigator permet d'accéder à tous les outils fournis avec Anaconda.\n",
    "La distribution Anaconda est livrée avec de nombreuses bibliothèques Python préinstallées. Certaines des bibliothèques les plus utilisées sont NumPy, pandas, etc.\n",
    "\n",
    "**Etapes de téléchargement et d'installation d'Anaconda Navigator**\n",
    "\n",
    "- Aller sur le lien de téléchargement d'[Anaconda Navigator](https://www.anaconda.com/download) \n",
    "\n",
    "\n",
    "#### 3- Jupyter Notebook"
   ]
  },
  {
   "cell_type": "markdown",
   "id": "e54e4912",
   "metadata": {},
   "source": [
    "\n",
    "### Introduction à Python\n",
    "\n",
    "- Variables et Types de base en Python\n",
    "\n",
    "**Déclarer et assigner une valeur à une variable.**\n",
    "\n",
    "Nous utilisons l'opérateur d'affectation '**=**' pour attribuer une valeur à une variable.\n"
   ]
  },
  {
   "cell_type": "code",
   "execution_count": 1,
   "id": "3a92eade",
   "metadata": {},
   "outputs": [],
   "source": [
    "num = 10"
   ]
  },
  {
   "cell_type": "markdown",
   "id": "bf24ce13",
   "metadata": {},
   "source": [
    "L'opérande à gauche de l'opérateur = est le nom de la variable et l'opérande à droite de l'opérateur = est la valeur stockée dans la variable. Ici, nous avons créé une variable nommée « num » et nous avons assigné la valeur 10 à la variable « num ».\n",
    "\n",
    "**Affectations multiples**\n",
    "\n",
    "Python permet d'affecter une même valeur à plusieurs variables simultanément. Par exemple:"
   ]
  },
  {
   "cell_type": "code",
   "execution_count": 2,
   "id": "4bd30672",
   "metadata": {},
   "outputs": [],
   "source": [
    "# Ici, un objet entier est créé avec la valeur 5, et les trois variables sont assignées au même emplacement de mémoire\n",
    "x = y = z = 5"
   ]
  },
  {
   "cell_type": "markdown",
   "id": "cf8f35ec",
   "metadata": {},
   "source": [
    "Vous pouvez également affecter plusieurs objets à plusieurs variables."
   ]
  },
  {
   "cell_type": "code",
   "execution_count": 3,
   "id": "ea592391",
   "metadata": {},
   "outputs": [],
   "source": [
    "age,poids,sexe = 15,40.1,\"Fille\""
   ]
  },
  {
   "cell_type": "markdown",
   "id": "a970a125",
   "metadata": {},
   "source": [
    "**Ré-assignation d'une variable**"
   ]
  },
  {
   "cell_type": "code",
   "execution_count": 4,
   "id": "69a05c84",
   "metadata": {},
   "outputs": [
    {
     "data": {
      "text/plain": [
       "25"
      ]
     },
     "execution_count": 4,
     "metadata": {},
     "output_type": "execute_result"
    }
   ],
   "source": [
    "var1 = 25\n",
    "var2 = \"Ndeye\"\n",
    "var2 = var1\n",
    "var2"
   ]
  },
  {
   "cell_type": "markdown",
   "id": "77161ede",
   "metadata": {},
   "source": [
    "**Règles et conventions de dénomination**"
   ]
  },
  {
   "cell_type": "markdown",
   "id": "5a0bd260",
   "metadata": {},
   "source": [
    "**Types de variables**\n",
    "\n",
    "Un type de variable est un attribut des données qui indique au compilateur ou à l'interprète comment le programmeur a l'intention d'utiliser les variables. Python prend en charge les types de données suivants : *1. Les nombres 2. Chaînes de caractères 3. Les booléens 4. Listes 5. Tuples 6. Dictionnaires 7. Ensembles*\n",
    "\n",
    "**Les nombres en Python**\n",
    "\n",
    "Il existe quatre types de variable numériques en Python :\n",
    "\n",
    "a. *int* (entiers signés)\n",
    "\n",
    "b. *float* (valeurs réelles à virgule flottante)\n",
    "\n",
    "c. *long* (nombres entiers longs, ils peuvent également être représentés en octal et en hexadécimal)\n",
    "\n",
    "d. *complex* (nombres complexes)"
   ]
  },
  {
   "cell_type": "markdown",
   "id": "3d66bbaf",
   "metadata": {},
   "source": [
    "<table>\n",
    "  <tr>\n",
    "  <th>int</th>\n",
    "  <th>float</th>\n",
    "  <th>long</th>\n",
    "  <th>complex</th>\n",
    "  </tr>\n",
    "  <tr>\n",
    "  <td>10</td>\n",
    "  <td>54.4</td>\n",
    "  <td>012345L</td>\n",
    "  <td>2+5j</td>  \n",
    "  </tr>\n",
    "  <tr>\n",
    "  <td>70</td>\n",
    "  <td>0.01</td>\n",
    "  <td>-987652L</td>\n",
    "  <td>1.18j</td>\n",
    "  </tr>\n",
    "  <tr>\n",
    "  <td>-150</td>\n",
    "  <td>1.626e16</td>\n",
    "  <td>10000000000000000</td>\n",
    "  <td>-10j</td>\n",
    "  </tr>\n",
    "  <tr>\n",
    "  <td>0x69</td>\n",
    "  <td>74.15</td>\n",
    "  <td>-4335685298777L</td>\n",
    "  <td>45j</td>\n",
    "  </tr>\n",
    "  <tr>\n",
    "  <td>-0x260</td>\n",
    "  <td>89.33</td>\n",
    "  <td>0348L\t</td>\n",
    "  <td>3e+26J</td>\n",
    "  </tr>\n",
    "</table>"
   ]
  },
  {
   "cell_type": "markdown",
   "id": "9ab03960",
   "metadata": {},
   "source": [
    "#### int\n",
    "\n",
    "'int' est l'abréviation de integer (entier). Ce type de données Python contient des entiers signés. Nous pouvons utiliser la fonction type() pour savoir à quelle classe il appartient."
   ]
  },
  {
   "cell_type": "code",
   "execution_count": 6,
   "id": "296f966d",
   "metadata": {},
   "outputs": [
    {
     "data": {
      "text/plain": [
       "int"
      ]
     },
     "execution_count": 6,
     "metadata": {},
     "output_type": "execute_result"
    }
   ],
   "source": [
    "a = -23\n",
    "type(a)"
   ]
  },
  {
   "cell_type": "code",
   "execution_count": 7,
   "id": "68d34fb0",
   "metadata": {},
   "outputs": [
    {
     "data": {
      "text/plain": [
       "int"
      ]
     },
     "execution_count": 7,
     "metadata": {},
     "output_type": "execute_result"
    }
   ],
   "source": [
    "x = 1000\n",
    "type(a)"
   ]
  },
  {
   "cell_type": "markdown",
   "id": "ef92a696",
   "metadata": {},
   "source": [
    "#### float"
   ]
  },
  {
   "cell_type": "code",
   "execution_count": 8,
   "id": "a829f355",
   "metadata": {},
   "outputs": [
    {
     "data": {
      "text/plain": [
       "float"
      ]
     },
     "execution_count": 8,
     "metadata": {},
     "output_type": "execute_result"
    }
   ],
   "source": [
    "a = 1.1\n",
    "type(a)"
   ]
  },
  {
   "cell_type": "code",
   "execution_count": 9,
   "id": "f541ead2",
   "metadata": {},
   "outputs": [
    {
     "data": {
      "text/plain": [
       "float"
      ]
     },
     "execution_count": 9,
     "metadata": {},
     "output_type": "execute_result"
    }
   ],
   "source": [
    "x = -3.14\n",
    "type(x)"
   ]
  },
  {
   "cell_type": "code",
   "execution_count": 10,
   "id": "67b2d99b",
   "metadata": {},
   "outputs": [
    {
     "data": {
      "text/plain": [
       "float"
      ]
     },
     "execution_count": 10,
     "metadata": {},
     "output_type": "execute_result"
    }
   ],
   "source": [
    "y = 1.626e16\n",
    "type(y)"
   ]
  },
  {
   "cell_type": "markdown",
   "id": "83242624",
   "metadata": {},
   "source": [
    "#### long"
   ]
  },
  {
   "cell_type": "code",
   "execution_count": 11,
   "id": "120f76f2",
   "metadata": {},
   "outputs": [
    {
     "data": {
      "text/plain": [
       "int"
      ]
     },
     "execution_count": 11,
     "metadata": {},
     "output_type": "execute_result"
    }
   ],
   "source": [
    "x =999999999999999999999999999999999999999999999\n",
    "type(x)"
   ]
  },
  {
   "cell_type": "markdown",
   "id": "ca84171a",
   "metadata": {},
   "source": [
    "#### complex"
   ]
  },
  {
   "cell_type": "code",
   "execution_count": 12,
   "id": "92ec9c35",
   "metadata": {},
   "outputs": [
    {
     "data": {
      "text/plain": [
       "complex"
      ]
     },
     "execution_count": 12,
     "metadata": {},
     "output_type": "execute_result"
    }
   ],
   "source": [
    "x = 3+7j\n",
    "type(x)"
   ]
  },
  {
   "cell_type": "code",
   "execution_count": 13,
   "id": "08fe00cf",
   "metadata": {},
   "outputs": [
    {
     "data": {
      "text/plain": [
       "complex"
      ]
     },
     "execution_count": 13,
     "metadata": {},
     "output_type": "execute_result"
    }
   ],
   "source": [
    "y = 3e+4j\n",
    "type(y)"
   ]
  },
  {
   "cell_type": "markdown",
   "id": "4f830262",
   "metadata": {},
   "source": [
    "### **Chaînes de caractères en Python**"
   ]
  },
  {
   "cell_type": "markdown",
   "id": "f439aa5a",
   "metadata": {},
   "source": [
    "Une chaîne de caractères est une séquence de caractères. Python n'a pas de type de données char, contrairement à C++ ou Java. Vous pouvez délimiter une chaîne de caractères en utilisant des guillemets simples ('chaîne de caractères') ou des guillemets doubles (\"chaîne de caractères\")."
   ]
  },
  {
   "cell_type": "code",
   "execution_count": 14,
   "id": "8f61aebd",
   "metadata": {},
   "outputs": [
    {
     "data": {
      "text/plain": [
       "'ENSAE de Dakar'"
      ]
     },
     "execution_count": 14,
     "metadata": {},
     "output_type": "execute_result"
    }
   ],
   "source": [
    "string = \"ENSAE de Dakar\"\n",
    "string"
   ]
  },
  {
   "cell_type": "markdown",
   "id": "70011aca",
   "metadata": {},
   "source": [
    "Le signe plus (+) est l'opérateur de concaténation de chaînes et l'astérisque (*) est l'opérateur de répétition."
   ]
  },
  {
   "cell_type": "code",
   "execution_count": 15,
   "id": "619be5d3",
   "metadata": {},
   "outputs": [
    {
     "data": {
      "text/plain": [
       "'HemaAboubacar'"
      ]
     },
     "execution_count": 15,
     "metadata": {},
     "output_type": "execute_result"
    }
   ],
   "source": [
    "str1 = \"Hema\"\n",
    "str2 = \"Aboubacar\"\n",
    "str3 = str1+str2\n",
    "str3                      # Affiche la chaîne concaténée"
   ]
  },
  {
   "cell_type": "code",
   "execution_count": 16,
   "id": "f65e582b",
   "metadata": {},
   "outputs": [
    {
     "data": {
      "text/plain": [
       "'HemaAboubacarHemaAboubacarHemaAboubacar'"
      ]
     },
     "execution_count": 16,
     "metadata": {},
     "output_type": "execute_result"
    }
   ],
   "source": [
    "str3*3                    # Affiche trois fois la chaîne de caractères"
   ]
  },
  {
   "cell_type": "markdown",
   "id": "9a39b604",
   "metadata": {},
   "source": [
    "Vous ne pouvez pas utiliser l'opérateur moins (-) et l'opérateur de division (/) sur les chaînes de caractères.\n",
    "\n",
    "Des sous-ensembles de chaînes peuvent être extraits à l'aide de l'opérateur de tranche ([ ]). Vous pouvez afficher un caractère d'une chaîne en utilisant son index dans la chaîne. N'oubliez pas que l'indexation commence à 0."
   ]
  },
  {
   "cell_type": "code",
   "execution_count": 17,
   "id": "a22d81b9",
   "metadata": {},
   "outputs": [
    {
     "data": {
      "text/plain": [
       "'S'"
      ]
     },
     "execution_count": 17,
     "metadata": {},
     "output_type": "execute_result"
    }
   ],
   "source": [
    "string[2]                 # Affiche le 3e caractère de string"
   ]
  },
  {
   "cell_type": "markdown",
   "id": "8387825f",
   "metadata": {},
   "source": [
    "Vous pouvez également afficher une série de caractères dans une chaîne à l'aide de l'opérateur de découpage, avec des index commençant à 0 au début de la chaîne et allant jusqu'à -1 à la fin."
   ]
  },
  {
   "cell_type": "code",
   "execution_count": 19,
   "id": "c0e3b1fd",
   "metadata": {},
   "outputs": [
    {
     "data": {
      "text/plain": [
       "'AE de '"
      ]
     },
     "execution_count": 19,
     "metadata": {},
     "output_type": "execute_result"
    }
   ],
   "source": [
    "string[3:9]             # Question : Que constatez vous?"
   ]
  },
  {
   "cell_type": "markdown",
   "id": "7937ddce",
   "metadata": {},
   "source": [
    "Les chaînes sont <em>immutables</em>. La ligne de code suivante génère une erreur."
   ]
  },
  {
   "cell_type": "code",
   "execution_count": 21,
   "id": "8c4a230b",
   "metadata": {},
   "outputs": [
    {
     "ename": "TypeError",
     "evalue": "'str' object does not support item assignment",
     "output_type": "error",
     "traceback": [
      "\u001b[1;31m---------------------------------------------------------------------------\u001b[0m",
      "\u001b[1;31mTypeError\u001b[0m                                 Traceback (most recent call last)",
      "Cell \u001b[1;32mIn[21], line 1\u001b[0m\n\u001b[1;32m----> 1\u001b[0m string[\u001b[38;5;241m0\u001b[39m] \u001b[38;5;241m=\u001b[39m \u001b[38;5;124m'\u001b[39m\u001b[38;5;124mP\u001b[39m\u001b[38;5;124m'\u001b[39m\n",
      "\u001b[1;31mTypeError\u001b[0m: 'str' object does not support item assignment"
     ]
    }
   ],
   "source": [
    "string[0] = 'P'"
   ]
  },
  {
   "cell_type": "markdown",
   "id": "94d363d8",
   "metadata": {},
   "source": [
    "### **Booléen en Python**\n",
    "\n",
    "Dans le langage de programmation Python, le type de variable booléen est un type de variable primitif ayant l'une des deux valeurs suivantes : **True** ou **False**. Il est souvent le résultat de certaines conditions."
   ]
  },
  {
   "cell_type": "code",
   "execution_count": 22,
   "id": "e6547c13",
   "metadata": {},
   "outputs": [
    {
     "data": {
      "text/plain": [
       "bool"
      ]
     },
     "execution_count": 22,
     "metadata": {},
     "output_type": "execute_result"
    }
   ],
   "source": [
    "var = True\n",
    "type(var)"
   ]
  },
  {
   "cell_type": "code",
   "execution_count": 23,
   "id": "b4cdce6d",
   "metadata": {},
   "outputs": [
    {
     "name": "stdout",
     "output_type": "stream",
     "text": [
      "True\n"
     ]
    }
   ],
   "source": [
    "print(10 > 9)"
   ]
  },
  {
   "cell_type": "code",
   "execution_count": 24,
   "id": "6d40ed63",
   "metadata": {},
   "outputs": [
    {
     "name": "stdout",
     "output_type": "stream",
     "text": [
      "False\n"
     ]
    }
   ],
   "source": [
    "print(10 == 9)"
   ]
  },
  {
   "cell_type": "code",
   "execution_count": 25,
   "id": "1b6a3f6a",
   "metadata": {},
   "outputs": [
    {
     "name": "stdout",
     "output_type": "stream",
     "text": [
      "False\n"
     ]
    }
   ],
   "source": [
    "print(10 < 9)"
   ]
  },
  {
   "cell_type": "markdown",
   "id": "10a72cb8",
   "metadata": {},
   "source": [
    "## **Conversion de type**\n",
    "\n",
    "Python étant un langage de type dynamique, il se peut que vous souhaitiez convertir une valeur en un autre type. Python supporte différentes fonctions de conversion de type comme int(), float(), str() etc."
   ]
  },
  {
   "cell_type": "markdown",
   "id": "25170136",
   "metadata": {},
   "source": [
    "#### float()\n",
    "\n",
    "Il convertit la valeur transmise en un nombre flottant."
   ]
  },
  {
   "cell_type": "code",
   "execution_count": 26,
   "id": "55ef6015",
   "metadata": {},
   "outputs": [
    {
     "data": {
      "text/plain": [
       "11.0"
      ]
     },
     "execution_count": 26,
     "metadata": {},
     "output_type": "execute_result"
    }
   ],
   "source": [
    "float(11)"
   ]
  },
  {
   "cell_type": "markdown",
   "id": "e0fae78a",
   "metadata": {},
   "source": [
    "Vous pouvez transformer un booléen en un flottant."
   ]
  },
  {
   "cell_type": "code",
   "execution_count": 27,
   "id": "c650522a",
   "metadata": {},
   "outputs": [
    {
     "data": {
      "text/plain": [
       "1.0"
      ]
     },
     "execution_count": 27,
     "metadata": {},
     "output_type": "execute_result"
    }
   ],
   "source": [
    "float (True)"
   ]
  },
  {
   "cell_type": "code",
   "execution_count": 28,
   "id": "d0b72454",
   "metadata": {},
   "outputs": [
    {
     "data": {
      "text/plain": [
       "0.0"
      ]
     },
     "execution_count": 28,
     "metadata": {},
     "output_type": "execute_result"
    }
   ],
   "source": [
    "float(False)"
   ]
  },
  {
   "cell_type": "markdown",
   "id": "f3bb9bc8",
   "metadata": {},
   "source": [
    "Vous ne pouvez pas transformer une chaîne de caractères en un nombre flottant. Cela provoque une erreur. Cependant, si la chaîne ne contient que des nombres, vous pouvez le faire."
   ]
  },
  {
   "cell_type": "code",
   "execution_count": 29,
   "id": "b107e9b0",
   "metadata": {},
   "outputs": [
    {
     "ename": "ValueError",
     "evalue": "could not convert string to float: 'abc'",
     "output_type": "error",
     "traceback": [
      "\u001b[1;31m---------------------------------------------------------------------------\u001b[0m",
      "\u001b[1;31mValueError\u001b[0m                                Traceback (most recent call last)",
      "Cell \u001b[1;32mIn[29], line 1\u001b[0m\n\u001b[1;32m----> 1\u001b[0m \u001b[38;5;28mfloat\u001b[39m(\u001b[38;5;124m\"\u001b[39m\u001b[38;5;124mabc\u001b[39m\u001b[38;5;124m\"\u001b[39m)\n",
      "\u001b[1;31mValueError\u001b[0m: could not convert string to float: 'abc'"
     ]
    }
   ],
   "source": [
    "float(\"abc\")"
   ]
  },
  {
   "cell_type": "code",
   "execution_count": 30,
   "id": "aba99de9",
   "metadata": {},
   "outputs": [
    {
     "data": {
      "text/plain": [
       "11.0"
      ]
     },
     "execution_count": 30,
     "metadata": {},
     "output_type": "execute_result"
    }
   ],
   "source": [
    "float(\"11\")"
   ]
  },
  {
   "cell_type": "code",
   "execution_count": 31,
   "id": "a81ad031",
   "metadata": {},
   "outputs": [
    {
     "data": {
      "text/plain": [
       "0.0224"
      ]
     },
     "execution_count": 31,
     "metadata": {},
     "output_type": "execute_result"
    }
   ],
   "source": [
    "# Vous pouvez également utiliser 'e' pour désigner un nombre exponentiel\n",
    "\n",
    "float(\"2.24e-2\") # Ce nombre fonctionne même sans la fonction float()"
   ]
  },
  {
   "cell_type": "markdown",
   "id": "23a5da26",
   "metadata": {},
   "source": [
    "#### int\n",
    "\n",
    "La conversion de float en int arrondira la valeur (la rapprochera de zéro)."
   ]
  },
  {
   "cell_type": "code",
   "execution_count": 32,
   "id": "eae49720",
   "metadata": {},
   "outputs": [
    {
     "data": {
      "text/plain": [
       "11"
      ]
     },
     "execution_count": 32,
     "metadata": {},
     "output_type": "execute_result"
    }
   ],
   "source": [
    "int(11.7)"
   ]
  },
  {
   "cell_type": "code",
   "execution_count": 33,
   "id": "d5ba9a9d",
   "metadata": {},
   "outputs": [
    {
     "data": {
      "text/plain": [
       "-11"
      ]
     },
     "execution_count": 33,
     "metadata": {},
     "output_type": "execute_result"
    }
   ],
   "source": [
    "int(-11.7)"
   ]
  },
  {
   "cell_type": "markdown",
   "id": "035059f4",
   "metadata": {},
   "source": [
    "Vous pouvez également transformer un booléen en un int."
   ]
  },
  {
   "cell_type": "code",
   "execution_count": 34,
   "id": "77ab9c62",
   "metadata": {},
   "outputs": [
    {
     "data": {
      "text/plain": [
       "1"
      ]
     },
     "execution_count": 34,
     "metadata": {},
     "output_type": "execute_result"
    }
   ],
   "source": [
    "int(True)"
   ]
  },
  {
   "cell_type": "code",
   "execution_count": 35,
   "id": "93086ff1",
   "metadata": {},
   "outputs": [
    {
     "data": {
      "text/plain": [
       "0"
      ]
     },
     "execution_count": 35,
     "metadata": {},
     "output_type": "execute_result"
    }
   ],
   "source": [
    "int(False)"
   ]
  },
  {
   "cell_type": "markdown",
   "id": "9d07861b",
   "metadata": {},
   "source": [
    "Vous ne pouvez pas transformer une chaîne de caractères en un int. Cela provoque une erreur. Cependant, si la chaîne ne contient que des chiffres, vous pouvez le faire."
   ]
  },
  {
   "cell_type": "code",
   "execution_count": 36,
   "id": "852c3c1a",
   "metadata": {},
   "outputs": [
    {
     "ename": "ValueError",
     "evalue": "invalid literal for int() with base 10: 'ENSAE'",
     "output_type": "error",
     "traceback": [
      "\u001b[1;31m---------------------------------------------------------------------------\u001b[0m",
      "\u001b[1;31mValueError\u001b[0m                                Traceback (most recent call last)",
      "Cell \u001b[1;32mIn[36], line 1\u001b[0m\n\u001b[1;32m----> 1\u001b[0m \u001b[38;5;28mint\u001b[39m(\u001b[38;5;124m\"\u001b[39m\u001b[38;5;124mENSAE\u001b[39m\u001b[38;5;124m\"\u001b[39m)\n",
      "\u001b[1;31mValueError\u001b[0m: invalid literal for int() with base 10: 'ENSAE'"
     ]
    }
   ],
   "source": [
    "int(\"ENSAE\")"
   ]
  },
  {
   "cell_type": "code",
   "execution_count": 37,
   "id": "98c94c09",
   "metadata": {},
   "outputs": [
    {
     "data": {
      "text/plain": [
       "11"
      ]
     },
     "execution_count": 37,
     "metadata": {},
     "output_type": "execute_result"
    }
   ],
   "source": [
    "int(\"11\")"
   ]
  },
  {
   "cell_type": "markdown",
   "id": "0ef3bd68",
   "metadata": {},
   "source": [
    "#### str()\n",
    "\n",
    "<em>str()</em> convertit la valeur en une chaîne de caractères."
   ]
  },
  {
   "cell_type": "code",
   "execution_count": 38,
   "id": "5d4c2a93",
   "metadata": {},
   "outputs": [
    {
     "data": {
      "text/plain": [
       "'2.24'"
      ]
     },
     "execution_count": 38,
     "metadata": {},
     "output_type": "execute_result"
    }
   ],
   "source": [
    "str(2.24)"
   ]
  },
  {
   "cell_type": "code",
   "execution_count": 39,
   "id": "7d859259",
   "metadata": {},
   "outputs": [
    {
     "data": {
      "text/plain": [
       "'True'"
      ]
     },
     "execution_count": 39,
     "metadata": {},
     "output_type": "execute_result"
    }
   ],
   "source": [
    "str(True)"
   ]
  },
  {
   "cell_type": "code",
   "execution_count": 40,
   "id": "8d03b2c4",
   "metadata": {},
   "outputs": [
    {
     "data": {
      "text/plain": [
       "'False'"
      ]
     },
     "execution_count": 40,
     "metadata": {},
     "output_type": "execute_result"
    }
   ],
   "source": [
    "str(False)"
   ]
  },
  {
   "cell_type": "code",
   "execution_count": 41,
   "id": "2c8cc193",
   "metadata": {},
   "outputs": [
    {
     "data": {
      "text/plain": [
       "'10'"
      ]
     },
     "execution_count": 41,
     "metadata": {},
     "output_type": "execute_result"
    }
   ],
   "source": [
    "str(10)"
   ]
  },
  {
   "cell_type": "markdown",
   "id": "a36d8160",
   "metadata": {},
   "source": [
    "## **La fonction  print()**"
   ]
  },
  {
   "cell_type": "markdown",
   "id": "b418f4e1",
   "metadata": {},
   "source": [
    "Syntaxe:\n",
    "\n",
    "                         print(*objects, sep=' ', end='\\n', file=sys.stdout, flush=False)"
   ]
  },
  {
   "cell_type": "markdown",
   "id": "f26d4ba0",
   "metadata": {},
   "source": [
    "**objects** - objet à afficher. * indique qu'il peut y avoir plus d'un objet"
   ]
  },
  {
   "cell_type": "markdown",
   "id": "63f2c42b",
   "metadata": {},
   "source": [
    "**sep** - les objets sont séparés par sep. Valeur par défaut : ' '<br>\n",
    "\n",
    "**end** - la fin est imprimée en dernier\n",
    "\n",
    "**file** - doit être un objet avec la méthode write(string). S'il est omis, sys.stdout sera utilisé pour afficher les objets à l'écran.\n",
    "\n",
    "**flush** - Si True, le flux est forcé de se vider. Default value: False<br><br>"
   ]
  },
  {
   "cell_type": "code",
   "execution_count": 42,
   "id": "36848559",
   "metadata": {},
   "outputs": [
    {
     "name": "stdout",
     "output_type": "stream",
     "text": [
      "Nous sommes dans la classe des AS1 de l'ENSAE\n"
     ]
    }
   ],
   "source": [
    "print(\"Nous sommes dans la classe des AS1 de l'ENSAE\")"
   ]
  },
  {
   "cell_type": "code",
   "execution_count": 43,
   "id": "599eb879",
   "metadata": {},
   "outputs": [
    {
     "name": "stdout",
     "output_type": "stream",
     "text": [
      "x = 2\n"
     ]
    }
   ],
   "source": [
    "# Initialiser une variable\n",
    "x = 2\n",
    "print(\"x =\", x) # Ici nous passons deux objets"
   ]
  },
  {
   "cell_type": "markdown",
   "id": "396afe5d",
   "metadata": {},
   "source": [
    "Seul le paramètre objet est passé dans la fonction print() ci-dessus."
   ]
  },
  {
   "cell_type": "markdown",
   "id": "7b6ea8b3",
   "metadata": {},
   "source": [
    "#### print() avec les paramètres de séparation et de fin\n",
    "\n",
    "Par défaut, la fonction print() se termine par une nouvelle ligne. \n",
    "\n",
    "La valeur par défaut de ce paramètre est '\\n' , le caractère de retour à la ligne. \n",
    "Vous pouvez terminer une instruction d'impression par n'importe quel caractère ou chaîne de caractères à l'aide de ce paramètre.\n",
    "\n",
    "Parfois, vous avez besoin d'imprimer une ligne vide dans votre programme Python."
   ]
  },
  {
   "cell_type": "code",
   "execution_count": 44,
   "id": "9abf3b31",
   "metadata": {},
   "outputs": [
    {
     "name": "stdout",
     "output_type": "stream",
     "text": [
      "x = 2\n",
      "\n",
      "\n",
      "a = 8j"
     ]
    }
   ],
   "source": [
    "x = 2\n",
    "a = 8\n",
    "print(\"x =\", x, end='\\n\\n\\n')\n",
    "print(\"a =\", 8, end = 'j')"
   ]
  },
  {
   "cell_type": "markdown",
   "id": "54229d68",
   "metadata": {},
   "source": [
    "Les objets seront séparés en fonction de la valeur du paramètre <em>sep</em>."
   ]
  },
  {
   "cell_type": "code",
   "execution_count": 45,
   "id": "42dba340",
   "metadata": {},
   "outputs": [
    {
     "name": "stdout",
     "output_type": "stream",
     "text": [
      "x =$$2\n",
      "a =j8\n"
     ]
    }
   ],
   "source": [
    "x = 2\n",
    "a = 8\n",
    "print(\"x =\", x, sep='$$')\n",
    "print(\"a =\", 8, sep = 'j')"
   ]
  },
  {
   "cell_type": "markdown",
   "id": "33813e75",
   "metadata": {},
   "source": [
    "## **User Input**\n",
    "\n",
    "La fonction  input() est utilisée pour lire des données à partir d'une entrée standard telle qu'un clavier et traite les données reçues comme une chaîne de caractères. Lorsque nous entrons une valeur numérique, la fonction input() de Python 3 la stocke sous la forme d'une chaîne de caractères. Ainsi, pour convertir une valeur de chaîne en valeur entière, nous utiliserons la fonction int() comme indiqué ci-dessous."
   ]
  },
  {
   "cell_type": "code",
   "execution_count": 47,
   "id": "483ffb9e",
   "metadata": {},
   "outputs": [
    {
     "name": "stdout",
     "output_type": "stream",
     "text": [
      "Saisir son age: 31\n",
      "31\n"
     ]
    },
    {
     "data": {
      "text/plain": [
       "int"
      ]
     },
     "execution_count": 47,
     "metadata": {},
     "output_type": "execute_result"
    }
   ],
   "source": [
    "age = int(input(\"Saisir son age: \"))\n",
    "print(age)\n",
    "type(age)"
   ]
  },
  {
   "cell_type": "code",
   "execution_count": 48,
   "id": "d3048651",
   "metadata": {},
   "outputs": [
    {
     "name": "stdout",
     "output_type": "stream",
     "text": [
      "Saisir son nom: Hema\n",
      "Hema\n"
     ]
    },
    {
     "data": {
      "text/plain": [
       "str"
      ]
     },
     "execution_count": 48,
     "metadata": {},
     "output_type": "execute_result"
    }
   ],
   "source": [
    "nom = input(\"Saisir son nom: \")\n",
    "print(nom)\n",
    "type(nom)"
   ]
  },
  {
   "cell_type": "markdown",
   "id": "cc555bc1",
   "metadata": {},
   "source": [
    "Lorsque la fonction <em>input()</em> s'exécute, le déroulement du programme est interrompu jusqu'à ce que l'utilisateur ait saisi une valeur. Le message affiché sur l'écran de sortie pour demander à l'utilisateur d'entrer une valeur est facultatif, c'est-à-dire que l'invite qui sera imprimée sur l'écran est facultative.\n",
    "Quelle que soit la valeur saisie, la fonction input la convertit en chaîne de caractères. Si vous saisissez une valeur entière, la fonction input() la convertit toujours en chaîne de caractères. Vous devez la convertir explicitement en un entier dans votre code en utilisant le typecasting."
   ]
  },
  {
   "cell_type": "markdown",
   "id": "a3ad7031",
   "metadata": {},
   "source": [
    "## **Opérateurs en Python**\n",
    "\n",
    "### **Opérateur arithmétique**\n",
    "\n",
    "Les opérateurs arithmétiques sont utilisés pour effectuer des opérations mathématiques telles que l'addition, la soustraction, la multiplication, etc."
   ]
  },
  {
   "cell_type": "code",
   "execution_count": 51,
   "id": "399ea81c",
   "metadata": {},
   "outputs": [
    {
     "name": "stdout",
     "output_type": "stream",
     "text": [
      "a + b = 14\n",
      "a - b = 10\n",
      "a * b = 24\n",
      "a % b = 0\n",
      "a / b = 6.0\n",
      "a // b = 6\n",
      "a ** b = 144\n"
     ]
    }
   ],
   "source": [
    "a = 12\n",
    "b = 2\n",
    "# Opérateur '+'\n",
    "print('a + b =',a+b) # Affiche l'addition de a et b\n",
    "\n",
    "#opérateur '-' \n",
    "print('a - b =',a-b) # Affiche la soustraction de a et b\n",
    "\n",
    "# opérateur '*'\n",
    "print('a * b =',a*b) # Affiche la multiplication de a et b\n",
    "\n",
    "# opérateur '%'\n",
    "print('a % b =',a%b) # Affiche le reste de la division entre a et b\n",
    "\n",
    "# opérateur '/'\n",
    "print('a / b =',a/b) # Affiche la division de a et b\n",
    "\n",
    "# opérateur '//'\n",
    "print('a // b =',a//b) # Affiche la valeur intermédiaire de la division entre a et b \n",
    "\n",
    "# Opérateur '**'\n",
    "print('a ** b =',a**b) # Affiche le résultat de a à la puissance b"
   ]
  },
  {
   "cell_type": "markdown",
   "id": "8feb2b5c",
   "metadata": {},
   "source": [
    "### **Opérateur de comparaison**\n",
    "\n",
    "Les opérateurs de comparaison effectuent la comparaison entre les opérandes. Il indique si une opérande est plus grand que l'autre, plus petit, égal ou une combinaison de ces éléments. Il renvoie True ou False en fonction de la condition."
   ]
  },
  {
   "cell_type": "code",
   "execution_count": 53,
   "id": "4e71ced6",
   "metadata": {},
   "outputs": [
    {
     "name": "stdout",
     "output_type": "stream",
     "text": [
      "a > b est False\n",
      "a < b est True\n",
      "a == b est False\n",
      "a != b est True\n",
      "a >= b est False\n",
      "a <= b est True\n"
     ]
    }
   ],
   "source": [
    "a = 10\n",
    "b = 20\n",
    "\n",
    "# Opérateur '>'.\n",
    "print('a > b est',a>b) # Affiche Faux puisque a est plus petit que b\n",
    "\n",
    "# opérateur '<'\n",
    "print('a < b est',a<b) # Affiche Vrai puisque a est plus petit que b\n",
    "\n",
    "# Opérateur '=='\n",
    "print('a == b est',a==b) # Affiche Faux puisque a et b ne sont pas égaux\n",
    "\n",
    "# opérateur '!='\n",
    "print('a != b est',a!=b) # Affiche Vrai car a n'est pas égal à b\n",
    "\n",
    "# opérateur '>='\n",
    "print('a >= b est',a>=b) # Affiche Faux puisque a n'est ni plus petit ni égal à b\n",
    "\n",
    "# opérateur '<= y'\n",
    "print('a <= b est',a<=b) # Affiche Vrai car a est plus petit que b"
   ]
  },
  {
   "cell_type": "markdown",
   "id": "11720f2e",
   "metadata": {},
   "source": [
    "### **Opérateur d'affectation**\n",
    "\n",
    "Un opérateur d'affectation affecte une valeur à une variable. Il peut manipuler la valeur par un facteur avant de l'affecter."
   ]
  },
  {
   "cell_type": "code",
   "execution_count": 54,
   "id": "45cebe36",
   "metadata": {},
   "outputs": [
    {
     "name": "stdout",
     "output_type": "stream",
     "text": [
      "x =  5\n",
      "La valeur mise à jour de x après (x += 5) est  10\n",
      "La valeur actualisée de x après (x -=2) est  8\n",
      "La valeur actualisée de x après (x *= 2) est  16\n",
      "La valeur actualisée de x après (x /= 4) est 4.0\n"
     ]
    }
   ],
   "source": [
    "# Opérateur '='\n",
    "x = 5 # Assigne la valeur à la variable de gauche\n",
    "print(\"x = \", x)\n",
    "\n",
    "# opérateur '+='                 \n",
    "x += 5 \n",
    "print(\"La valeur mise à jour de x après (x += 5) est \", x)    # Additionne les valeurs de part et d'autre et les affecte à l'expression de gauche. x+=5 est identique à x=x+5\n",
    "\n",
    "# Opérateur '-='\n",
    "x -=2\n",
    "print(\"La valeur actualisée de x après (x -=2) est \", x)     # Soustrait 2 de la dernière valeur de x et l'affecte à x(qui est 10)\n",
    "\n",
    "# Opérateur '*='\n",
    "x *= 2\n",
    "print(\"La valeur actualisée de x après (x *= 2) est \", x)    # multiplie la valeur actuelle de x par 2 et affecte le résultat à la même variable\n",
    "\n",
    "# Opérateur '/='\n",
    "x /= 4 \n",
    "print('La valeur actualisée de x après (x /= 4) est', x)    # Divise la valeur actuelle de x par 4 et affecte le résultat à la même variable"
   ]
  },
  {
   "cell_type": "markdown",
   "id": "ff98eed9",
   "metadata": {},
   "source": [
    "<em>i+=1 est la même chose que i=i+1, alors que i=+1 signifie simplement i=(+1)</em>."
   ]
  },
  {
   "cell_type": "markdown",
   "id": "efb0d31a",
   "metadata": {},
   "source": [
    "### **Opérateurs logiques**\n",
    "\n",
    "Les opérateurs logiques sont comme des conjonctions que vous pouvez utiliser pour combiner plusieurs conditions. Nous disposons de trois opérateurs logiques Python - **<em>and</em>**, **<em>or</em>**, et **<em>not</em>** qui relèvent des opérateurs python.\n",
    "\n",
    "#### Opérateur 'and'\n",
    "\n",
    "Si les conditions des deux côtés de l'opérateur sont vraies, alors l'expression dans son ensemble est vraie."
   ]
  },
  {
   "cell_type": "code",
   "execution_count": 55,
   "id": "4a8069fc",
   "metadata": {},
   "outputs": [
    {
     "name": "stdout",
     "output_type": "stream",
     "text": [
      "True\n"
     ]
    }
   ],
   "source": [
    "x = 11\n",
    "a = x>10 and x<20\n",
    "print(a)"
   ]
  },
  {
   "cell_type": "markdown",
   "id": "409b82f6",
   "metadata": {},
   "source": [
    "Ici, les deux conditions sont remplies. La sortie est donc True."
   ]
  },
  {
   "cell_type": "code",
   "execution_count": 56,
   "id": "30c15269",
   "metadata": {},
   "outputs": [
    {
     "name": "stdout",
     "output_type": "stream",
     "text": [
      "False\n"
     ]
    }
   ],
   "source": [
    "x = 11\n",
    "a = x>10 and x==12\n",
    "print(a)"
   ]
  },
  {
   "cell_type": "markdown",
   "id": "689d23c6",
   "metadata": {},
   "source": [
    "Ici, l'une des conditions n'est pas remplie. Par conséquent, la sortie est fausse."
   ]
  },
  {
   "cell_type": "markdown",
   "id": "6f5ca8c1",
   "metadata": {},
   "source": [
    "#### Opérateur 'or'\n",
    "\n",
    "L'expression n'est fausse que si les deux énoncés autour de l'opérateur sont faux. Sinon, elle est vraie."
   ]
  },
  {
   "cell_type": "code",
   "execution_count": 57,
   "id": "f4c958e5",
   "metadata": {},
   "outputs": [
    {
     "name": "stdout",
     "output_type": "stream",
     "text": [
      "True\n"
     ]
    }
   ],
   "source": [
    "x = 11\n",
    "a = x>10 or x==20\n",
    "print(a)"
   ]
  },
  {
   "cell_type": "markdown",
   "id": "097c437f",
   "metadata": {},
   "source": [
    "Ici, l'une des conditions est remplie. La sortie est donc True."
   ]
  },
  {
   "cell_type": "code",
   "execution_count": 58,
   "id": "69f0cac5",
   "metadata": {},
   "outputs": [
    {
     "name": "stdout",
     "output_type": "stream",
     "text": [
      "False\n"
     ]
    }
   ],
   "source": [
    "x = 11\n",
    "a = x>12 or x==20\n",
    "print(a)"
   ]
  },
  {
   "cell_type": "markdown",
   "id": "db62cd68",
   "metadata": {},
   "source": [
    "Aucune des conditions ci-dessus n'est vraie. Par conséquent, le résultat est Faux."
   ]
  },
  {
   "cell_type": "markdown",
   "id": "06ee662d",
   "metadata": {},
   "source": [
    "## **Introduction aux listes**\n",
    "\n",
    "### **Construction de listes**\n",
    "\n",
    "Pour créer une liste, utilisez des crochets **[]** et séparez les éléments de la liste par des virgules.\n",
    "Une liste peut être vide ou contenir un nombre quelconque d'éléments avec différents types de données (entiers, flottants, chaînes de caractères, etc.)."
   ]
  },
  {
   "cell_type": "code",
   "execution_count": 59,
   "id": "2769823f",
   "metadata": {},
   "outputs": [
    {
     "data": {
      "text/plain": [
       "[]"
      ]
     },
     "execution_count": 59,
     "metadata": {},
     "output_type": "execute_result"
    }
   ],
   "source": [
    "# Créer une liste vide\n",
    "liste_vide = []\n",
    "liste_vide"
   ]
  },
  {
   "cell_type": "markdown",
   "id": "af06f190",
   "metadata": {},
   "source": [
    "**Note : Une liste peut également contenir une autre liste comme élément, on parle alors de listes imbriquées.**"
   ]
  },
  {
   "cell_type": "code",
   "execution_count": 60,
   "id": "58c3e43f",
   "metadata": {},
   "outputs": [
    {
     "data": {
      "text/plain": [
       "[['Data Science', 'Machine Learning'], [135, 232, 321]]"
      ]
     },
     "execution_count": 60,
     "metadata": {},
     "output_type": "execute_result"
    }
   ],
   "source": [
    "# Liste imbriquée\n",
    "ma_liste = [['Data Science', 'Machine Learning'],[135,232,321]]\n",
    "ma_liste"
   ]
  },
  {
   "cell_type": "markdown",
   "id": "27f6f9ea",
   "metadata": {},
   "source": [
    "### **Accéder aux éléments d'une liste**\n",
    "\n",
    "Vous pouvez accéder aux éléments d'une liste en vous référant au numéro d'index.\n",
    "\n",
    "**Indexation :**\n",
    "\n",
    "Nous utilisons l'opérateur d'indexation []. Chaque élément d'une liste a une valeur d'index assignée. Notez que l'index commence à 0 en python et doit être un entier.\n",
    "\n",
    "#### Afficher le deuxième élément de la liste"
   ]
  },
  {
   "cell_type": "code",
   "execution_count": 61,
   "id": "72e89122",
   "metadata": {},
   "outputs": [
    {
     "name": "stdout",
     "output_type": "stream",
     "text": [
      "machine learning\n"
     ]
    }
   ],
   "source": [
    "# Définir une liste\n",
    "cours = ['data science', 'machine learning', 'python', 'html', 'big data' ]\n",
    "\n",
    "# Accéder au deuxième élément d'une liste à l'index 1\n",
    "print(cours[1])"
   ]
  },
  {
   "cell_type": "markdown",
   "id": "98d8fbbd",
   "metadata": {},
   "source": [
    "**Indexation négative**:<br>\n",
    "L'indexation négative signifie que l'on commence par la fin, -1 fait référence au dernier élément et -2 à l'avant-dernier élément.\n",
    "\n",
    "#### Afficher l'avant-dernier élément de la liste"
   ]
  },
  {
   "cell_type": "code",
   "execution_count": 62,
   "id": "4c83f6df",
   "metadata": {},
   "outputs": [
    {
     "name": "stdout",
     "output_type": "stream",
     "text": [
      "html\n"
     ]
    }
   ],
   "source": [
    "# Définir une liste\n",
    "cours = ['data science', 'machine learning', 'python', 'html', 'big data' ]\n",
    "\n",
    "# Accéder au deuxième élément d'une liste à l'index -2\n",
    "print(cours[-2])"
   ]
  },
  {
   "cell_type": "markdown",
   "id": "fc2387f5",
   "metadata": {},
   "source": [
    "### **Découpage d'une liste**\n",
    "\n",
    "List utilise l'opérateur de découpage **:** (deux points) pour extraire une partie de la séquence.\n",
    "\n",
    "#### Retourner les trois premiers éléments de la liste"
   ]
  },
  {
   "cell_type": "code",
   "execution_count": 63,
   "id": "e46a6d13",
   "metadata": {},
   "outputs": [
    {
     "data": {
      "text/plain": [
       "['data science', 'machine learning', 'python']"
      ]
     },
     "execution_count": 63,
     "metadata": {},
     "output_type": "execute_result"
    }
   ],
   "source": [
    "# Définir une liste\n",
    "cours = ['data science', 'machine learning', 'python', 'html', 'big data' ]\n",
    "\n",
    "# Afficher les trois premiers éléments de la liste\n",
    "cours[:3]"
   ]
  },
  {
   "cell_type": "markdown",
   "id": "15eac3b3",
   "metadata": {},
   "source": [
    "Sélectionner les éléments du début à la fin"
   ]
  },
  {
   "cell_type": "code",
   "execution_count": 64,
   "id": "bf9f179a",
   "metadata": {},
   "outputs": [
    {
     "data": {
      "text/plain": [
       "['data science', 'machine learning', 'python', 'html', 'big data']"
      ]
     },
     "execution_count": 64,
     "metadata": {},
     "output_type": "execute_result"
    }
   ],
   "source": [
    "# Définir une liste\n",
    "cours = ['data science', 'machine learning', 'python', 'html', 'big data' ]\n",
    "\n",
    "# Afficher tous les éléments\n",
    "cours[ :]"
   ]
  },
  {
   "cell_type": "markdown",
   "id": "ca98c969",
   "metadata": {},
   "source": [
    "Si les trois paramètres « start », « stop » et « step » sont fournis, il génère une partie de la séquence après l'index « start » jusqu'à « stop » avec une incrémentation de l'index « step »."
   ]
  },
  {
   "cell_type": "code",
   "execution_count": 65,
   "id": "e725ace0",
   "metadata": {},
   "outputs": [
    {
     "name": "stdout",
     "output_type": "stream",
     "text": [
      "[3, 5, 7]\n"
     ]
    }
   ],
   "source": [
    "a = [1,2,3,4,5,6,7,8,9,10]\n",
    "print(a[2:7:2])"
   ]
  },
  {
   "cell_type": "markdown",
   "id": "ce866f49",
   "metadata": {},
   "source": [
    "### **Modifier la valeur d'une liste**\n",
    "\n",
    "Consulter le numéro d'index pour modifier la valeur d'un élément spécifique"
   ]
  },
  {
   "cell_type": "code",
   "execution_count": 66,
   "id": "305902fb",
   "metadata": {},
   "outputs": [
    {
     "data": {
      "text/plain": [
       "['data science', 'machine learning', 'python', 'statistiques', 'big data']"
      ]
     },
     "execution_count": 66,
     "metadata": {},
     "output_type": "execute_result"
    }
   ],
   "source": [
    "# Définir une liste\n",
    "cours = ['data science', 'machine learning', 'python', 'html', 'big data' ]\n",
    "\n",
    "# Modifier le troisième élément\n",
    "cours[3] = 'statistiques'\n",
    "cours"
   ]
  },
  {
   "cell_type": "markdown",
   "id": "21223ce6",
   "metadata": {},
   "source": [
    "### **Méthodes de liste**\n",
    "\n",
    "Python dispose d'un ensemble de méthodes intégrées que vous pouvez utiliser sur les listes et les tableaux.\n",
    "<br>\n",
    "append()<br>\n",
    "insert()<br>\n",
    "extend()<br>\n",
    "del <br>\n",
    "remove()<br>\n",
    "pop()<br>\n",
    "reverse()<br>"
   ]
  },
  {
   "cell_type": "markdown",
   "id": "528ba2c0",
   "metadata": {},
   "source": [
    "**list.append(élément)**<br>\n",
    "\n",
    "La méthode **list.append(élément)** ajoute l'élément à la fin d'une liste."
   ]
  },
  {
   "cell_type": "code",
   "execution_count": 67,
   "id": "3dc31a8b",
   "metadata": {},
   "outputs": [
    {
     "data": {
      "text/plain": [
       "['data science',\n",
       " 'machine learning',\n",
       " 'python',\n",
       " 'html',\n",
       " 'big data',\n",
       " ['statistiques']]"
      ]
     },
     "execution_count": 67,
     "metadata": {},
     "output_type": "execute_result"
    }
   ],
   "source": [
    "# Définir une liste\n",
    "cours1 = ['data science', 'machine learning', 'python', 'html', 'big data' ]\n",
    "cours2 = ['statistiques']\n",
    "\n",
    "# Ajouter un élément à la liste\n",
    "cours1.append(cours2)\n",
    "cours1"
   ]
  },
  {
   "cell_type": "markdown",
   "id": "b51c7f08",
   "metadata": {},
   "source": [
    "**list.insert(i, élément)**<br>\n",
    "\n",
    "Cette méthode permet d'insérer un élément au *ième indice* d'une liste."
   ]
  },
  {
   "cell_type": "code",
   "execution_count": 68,
   "id": "e7f0bd70",
   "metadata": {},
   "outputs": [
    {
     "data": {
      "text/plain": [
       "['data science',\n",
       " 'machine learning',\n",
       " 'statistiques',\n",
       " 'python',\n",
       " 'html',\n",
       " 'big data']"
      ]
     },
     "execution_count": 68,
     "metadata": {},
     "output_type": "execute_result"
    }
   ],
   "source": [
    "# Définir une liste\n",
    "cours = ['data science', 'machine learning', 'python', 'html', 'big data' ]\n",
    "\n",
    "# Insérer un élément au 2ème index d'une liste\n",
    "cours.insert(2, 'statistiques')\n",
    "cours"
   ]
  },
  {
   "cell_type": "markdown",
   "id": "4cb95fec",
   "metadata": {},
   "source": [
    "**list.extend(élément)**<br>\n",
    "\n",
    "La méthode **extend** permet de concaténer des listes."
   ]
  },
  {
   "cell_type": "code",
   "execution_count": 70,
   "id": "5394af21",
   "metadata": {},
   "outputs": [
    {
     "data": {
      "text/plain": [
       "['data science',\n",
       " 'machine learning',\n",
       " 'python',\n",
       " 'html',\n",
       " 'big data',\n",
       " 'intelligence artificielle']"
      ]
     },
     "execution_count": 70,
     "metadata": {},
     "output_type": "execute_result"
    }
   ],
   "source": [
    "# Définir une première liste\n",
    "cours1 = ['data science', 'machine learning', 'python', 'html', 'big data']\n",
    "\n",
    "# Définir une deuxième liste\n",
    "cours2 = ['intelligence artificielle']\n",
    "\n",
    "# Concaténer la liste\n",
    "cours1.extend(cours2)\n",
    "cours1"
   ]
  },
  {
   "cell_type": "markdown",
   "id": "26abe6ae",
   "metadata": {},
   "source": [
    "**Suppression d'éléments de la liste**<br>\n",
    "\n",
    "Utilisez les mots-clés **del** pour supprimer un élément à un index spécifique."
   ]
  },
  {
   "cell_type": "code",
   "execution_count": 72,
   "id": "2a1ab741",
   "metadata": {},
   "outputs": [
    {
     "data": {
      "text/plain": [
       "['data science', 'machine learning', 'html', 'big data']"
      ]
     },
     "execution_count": 72,
     "metadata": {},
     "output_type": "execute_result"
    }
   ],
   "source": [
    "# Définir une première liste\n",
    "cours = ['data science', 'machine learning', 'python', 'html', 'big data' ]\n",
    "\n",
    "# Supprimer le troisième élément de la liste\n",
    "del cours[2]\n",
    "\n",
    "# Afficher la sortie\n",
    "cours"
   ]
  },
  {
   "cell_type": "markdown",
   "id": "57ae7040",
   "metadata": {},
   "source": [
    "**list.remove(élément)**<br>\n",
    "\n",
    "Cette fonction permet de rechercher et de supprimer uniquement la première occurrence d'un élément."
   ]
  },
  {
   "cell_type": "code",
   "execution_count": 73,
   "id": "fee754a3",
   "metadata": {},
   "outputs": [
    {
     "data": {
      "text/plain": [
       "['data science', 'machine learning', 'python', 'big data', 'html']"
      ]
     },
     "execution_count": 73,
     "metadata": {},
     "output_type": "execute_result"
    }
   ],
   "source": [
    "# Définir une première liste\n",
    "cours = ['data science', 'machine learning', 'python', 'html', 'big data', 'html' ]\n",
    "\n",
    "cours.remove('html')\n",
    "\n",
    "cours"
   ]
  },
  {
   "cell_type": "markdown",
   "id": "503e31db",
   "metadata": {},
   "source": [
    "**list.pop()**<br>\n",
    "\n",
    "Supprime et renvoie le dernier élément d'une liste."
   ]
  },
  {
   "cell_type": "code",
   "execution_count": 75,
   "id": "3ba62de2",
   "metadata": {},
   "outputs": [
    {
     "data": {
      "text/plain": [
       "'html'"
      ]
     },
     "execution_count": 75,
     "metadata": {},
     "output_type": "execute_result"
    }
   ],
   "source": [
    "# Définir une première liste\n",
    "cours = ['data science', 'machine learning', 'python', 'html', 'big data', 'html' ]\n",
    "\n",
    "cours.pop()"
   ]
  },
  {
   "cell_type": "markdown",
   "id": "19906dfc",
   "metadata": {},
   "source": [
    "**list.reverse()**<br>\n",
    "\n",
    "La méthode **reverse()** inverse l'ordre de tri des éléments."
   ]
  },
  {
   "cell_type": "code",
   "execution_count": 76,
   "id": "16bbd2bb",
   "metadata": {},
   "outputs": [
    {
     "data": {
      "text/plain": [
       "['html', 'big data', 'html', 'python', 'machine learning', 'data science']"
      ]
     },
     "execution_count": 76,
     "metadata": {},
     "output_type": "execute_result"
    }
   ],
   "source": [
    "# Définir une première liste\n",
    "cours = ['data science', 'machine learning', 'python', 'html', 'big data', 'html' ]\n",
    "\n",
    "cours.reverse()\n",
    "\n",
    "cours"
   ]
  },
  {
   "cell_type": "markdown",
   "id": "8d5c774f",
   "metadata": {},
   "source": [
    "### **Opérations de listes communes**\n",
    "\n",
    "**Concaténation (+)**<br>\n",
    "La concaténation utilise l'opérateur +. Elle permet de combiner des listes."
   ]
  },
  {
   "cell_type": "code",
   "execution_count": 78,
   "id": "a1786796",
   "metadata": {},
   "outputs": [
    {
     "data": {
      "text/plain": [
       "['data science',\n",
       " 'machine learning',\n",
       " 'python',\n",
       " 'html',\n",
       " 'big data',\n",
       " 'intelligence artificielle']"
      ]
     },
     "execution_count": 78,
     "metadata": {},
     "output_type": "execute_result"
    }
   ],
   "source": [
    "# Définir une première liste\n",
    "cours1 = ['data science', 'machine learning', 'python', 'html', 'big data' ]\n",
    "\n",
    "# Définir une deuxième liste\n",
    "cours2 = ['intelligence artificielle']\n",
    "\n",
    "# Concaténer la liste\n",
    "cours1 + cours2"
   ]
  },
  {
   "cell_type": "markdown",
   "id": "4fe8243e",
   "metadata": {},
   "source": [
    "**Répétition (*)**<br>\n",
    "Utilise l'opérateur *. Concatène une liste un nombre répété de fois."
   ]
  },
  {
   "cell_type": "code",
   "execution_count": 79,
   "id": "14ed1a86",
   "metadata": {},
   "outputs": [
    {
     "data": {
      "text/plain": [
       "['data science',\n",
       " 'machine learning',\n",
       " 'python',\n",
       " 'html',\n",
       " 'big data',\n",
       " 'data science',\n",
       " 'machine learning',\n",
       " 'python',\n",
       " 'html',\n",
       " 'big data']"
      ]
     },
     "execution_count": 79,
     "metadata": {},
     "output_type": "execute_result"
    }
   ],
   "source": [
    "# Définir une première liste\n",
    "cours1 = ['data science', 'machine learning', 'python', 'html', 'big data' ]\n",
    "\n",
    "cours1*2"
   ]
  },
  {
   "cell_type": "markdown",
   "id": "b462ce62",
   "metadata": {},
   "source": [
    "## **Introduction aux Tuple**\n",
    "\n",
    "### **Création d'un tuple**\n",
    "\n",
    "Nous créons ici quelques tuples. Nous pouvons avoir des n-uplets composés d'éléments de données du même type ou d'éléments de données de types différents."
   ]
  },
  {
   "cell_type": "code",
   "execution_count": 80,
   "id": "82ecce07",
   "metadata": {},
   "outputs": [
    {
     "name": "stdout",
     "output_type": "stream",
     "text": [
      "(123, 2.228, 'Salut la classe AS1')\n"
     ]
    }
   ],
   "source": [
    "# Tuple de int, float, string\n",
    "mon_tuple = (123, 2.228, \"Salut la classe AS1\")\n",
    "print(mon_tuple)"
   ]
  },
  {
   "cell_type": "code",
   "execution_count": 81,
   "id": "ee8b080a",
   "metadata": {},
   "outputs": [
    {
     "name": "stdout",
     "output_type": "stream",
     "text": [
      "('AS1', [12, 12, 31])\n"
     ]
    }
   ],
   "source": [
    "# Tuple de string et de list\n",
    "mon_tuple = (\"AS1\", [12, 12, 31])\n",
    "print(mon_tuple)"
   ]
  },
  {
   "cell_type": "markdown",
   "id": "cd192fe8",
   "metadata": {},
   "source": [
    "### **Accéder aux éléments d'un tuple**\n",
    "\n",
    "Nous utilisons des index pour accéder aux éléments d'un tuple."
   ]
  },
  {
   "cell_type": "code",
   "execution_count": 82,
   "id": "6e30c67a",
   "metadata": {},
   "outputs": [
    {
     "data": {
      "text/plain": [
       "'jaune'"
      ]
     },
     "execution_count": 82,
     "metadata": {},
     "output_type": "execute_result"
    }
   ],
   "source": [
    "# Tuple de chaînes de caractères\n",
    "mon_tuple = (\"mangue\", \"jaune\", \"vert\",\"bleu\")\n",
    "\n",
    "# Accéder au deuxième élément de la liste\n",
    "mon_tuple[1]"
   ]
  },
  {
   "cell_type": "markdown",
   "id": "4256a2a2",
   "metadata": {},
   "source": [
    "**Indexation négative**<br>\n",
    "L'indexation négative signifie que l'on commence par la fin, -1 fait référence au dernier élément, -2 fait référence à l'avant-dernier élément du tuple."
   ]
  },
  {
   "cell_type": "code",
   "execution_count": 83,
   "id": "8bdf1042",
   "metadata": {},
   "outputs": [
    {
     "data": {
      "text/plain": [
       "'bleu'"
      ]
     },
     "execution_count": 83,
     "metadata": {},
     "output_type": "execute_result"
    }
   ],
   "source": [
    "# Tuple de chaînes de caractères\n",
    "mon_tuple = (\"mangue\", \"jaune\", \"vert\",\"bleu\")\n",
    "\n",
    "# Accéder au dernier élément de la liste\n",
    "mon_tuple[-1]"
   ]
  },
  {
   "cell_type": "markdown",
   "id": "d8de53c9",
   "metadata": {},
   "source": [
    "### **Modifier les valeurs d'un tuple**\n",
    "\n",
    "Il n'est pas possible de modifier les éléments d'un tuple car ceux-ci sont immuables. Cependant, nous pouvons modifier les éléments des éléments imbriqués qui sont mutables."
   ]
  },
  {
   "cell_type": "code",
   "execution_count": 84,
   "id": "79c517c0",
   "metadata": {},
   "outputs": [
    {
     "name": "stdout",
     "output_type": "stream",
     "text": [
      "(123, ['s', 'a', 'v'], 'ENSAE')\n",
      "(123, ['s', 'a', 99], 'ENSAE')\n"
     ]
    }
   ],
   "source": [
    "mon_tuple = (123, ['s', 'a', 'v'], \"ENSAE\")\n",
    "print(mon_tuple)\n",
    "\n",
    "# Changement d'un élément de la liste \n",
    "# Ceci est valide car la liste est mutable\n",
    "mon_tuple[1][2] = 99\n",
    "print(mon_tuple)"
   ]
  },
  {
   "cell_type": "code",
   "execution_count": 85,
   "id": "67b41982",
   "metadata": {},
   "outputs": [
    {
     "ename": "TypeError",
     "evalue": "'tuple' object does not support item assignment",
     "output_type": "error",
     "traceback": [
      "\u001b[1;31m---------------------------------------------------------------------------\u001b[0m",
      "\u001b[1;31mTypeError\u001b[0m                                 Traceback (most recent call last)",
      "Cell \u001b[1;32mIn[85], line 6\u001b[0m\n\u001b[0;32m      2\u001b[0m my_tuple \u001b[38;5;241m=\u001b[39m (\u001b[38;5;124m\"\u001b[39m\u001b[38;5;124mmangue\u001b[39m\u001b[38;5;124m\"\u001b[39m, \u001b[38;5;124m\"\u001b[39m\u001b[38;5;124mjaune\u001b[39m\u001b[38;5;124m\"\u001b[39m, \u001b[38;5;124m\"\u001b[39m\u001b[38;5;124mvert\u001b[39m\u001b[38;5;124m\"\u001b[39m,\u001b[38;5;124m\"\u001b[39m\u001b[38;5;124mbleu\u001b[39m\u001b[38;5;124m\"\u001b[39m, \u001b[38;5;241m353\u001b[39m, \u001b[38;5;241m363.2\u001b[39m, \u001b[38;5;124m'\u001b[39m\u001b[38;5;124mw\u001b[39m\u001b[38;5;124m'\u001b[39m)\n\u001b[0;32m      4\u001b[0m \u001b[38;5;66;03m# Changer l'élément du tuple\u001b[39;00m\n\u001b[0;32m      5\u001b[0m \u001b[38;5;66;03m# Ceci n'est pas valide puisque les éléments du tuple sont immuables\u001b[39;00m\n\u001b[1;32m----> 6\u001b[0m mon_tuple[\u001b[38;5;241m0\u001b[39m] \u001b[38;5;241m=\u001b[39m \u001b[38;5;124m'\u001b[39m\u001b[38;5;124morange\u001b[39m\u001b[38;5;124m'\u001b[39m\n",
      "\u001b[1;31mTypeError\u001b[0m: 'tuple' object does not support item assignment"
     ]
    }
   ],
   "source": [
    "# Définir le tuple\n",
    "mon_tuple = (\"mangue\", \"jaune\", \"vert\",\"bleu\", 353, 363.2, 'w')\n",
    "\n",
    "# Changer l'élément du tuple\n",
    "# Ceci n'est pas valide puisque les éléments du tuple sont immuables\n",
    "mon_tuple[0] = 'orange'"
   ]
  },
  {
   "cell_type": "markdown",
   "id": "7bcd270c",
   "metadata": {},
   "source": [
    "### **Opération de suppression sur un tuple**\n",
    "\n",
    "Nous avons déjà expliqué plus haut que les éléments d'un tuple sont immuables, ce qui signifie également que nous ne pouvons pas supprimer les éléments d'un tuple. Cependant, il est possible de supprimer un tuple entier."
   ]
  },
  {
   "cell_type": "code",
   "execution_count": 86,
   "id": "0ebe4816",
   "metadata": {},
   "outputs": [
    {
     "ename": "TypeError",
     "evalue": "'tuple' object doesn't support item deletion",
     "output_type": "error",
     "traceback": [
      "\u001b[1;31m---------------------------------------------------------------------------\u001b[0m",
      "\u001b[1;31mTypeError\u001b[0m                                 Traceback (most recent call last)",
      "Cell \u001b[1;32mIn[86], line 3\u001b[0m\n\u001b[0;32m      1\u001b[0m \u001b[38;5;66;03m# Définir le tuple\u001b[39;00m\n\u001b[0;32m      2\u001b[0m mon_tuple \u001b[38;5;241m=\u001b[39m (\u001b[38;5;124m\"\u001b[39m\u001b[38;5;124mmangue\u001b[39m\u001b[38;5;124m\"\u001b[39m, \u001b[38;5;124m\"\u001b[39m\u001b[38;5;124mjaune\u001b[39m\u001b[38;5;124m\"\u001b[39m, \u001b[38;5;124m\"\u001b[39m\u001b[38;5;124mvert\u001b[39m\u001b[38;5;124m\"\u001b[39m,\u001b[38;5;124m\"\u001b[39m\u001b[38;5;124mbleu\u001b[39m\u001b[38;5;124m\"\u001b[39m, \u001b[38;5;241m353\u001b[39m, \u001b[38;5;241m363.2\u001b[39m, \u001b[38;5;124m'\u001b[39m\u001b[38;5;124mw\u001b[39m\u001b[38;5;124m'\u001b[39m)\n\u001b[1;32m----> 3\u001b[0m \u001b[38;5;28;01mdel\u001b[39;00m mon_tuple[\u001b[38;5;241m0\u001b[39m]\n",
      "\u001b[1;31mTypeError\u001b[0m: 'tuple' object doesn't support item deletion"
     ]
    }
   ],
   "source": [
    "# Définir le tuple\n",
    "mon_tuple = (\"mangue\", \"jaune\", \"vert\",\"bleu\", 353, 363.2, 'w')\n",
    "del mon_tuple[0]"
   ]
  },
  {
   "cell_type": "markdown",
   "id": "0175c36f",
   "metadata": {},
   "source": [
    "### **Méthodes pour les tuple**\n",
    "\n",
    "Python dispose de trois méthodes intégrées que vous pouvez utiliser sur les tuples:<br>\n",
    "count()<br>\n",
    "index()<br>\n",
    "sorted()"
   ]
  },
  {
   "cell_type": "markdown",
   "id": "ad98982a",
   "metadata": {},
   "source": [
    "**count()**<br>\n",
    "\n",
    "Renvoie le nombre de fois qu'une valeur spécifiée apparaît dans un tuple."
   ]
  },
  {
   "cell_type": "code",
   "execution_count": 87,
   "id": "1bf8e774",
   "metadata": {},
   "outputs": [
    {
     "data": {
      "text/plain": [
       "4"
      ]
     },
     "execution_count": 87,
     "metadata": {},
     "output_type": "execute_result"
    }
   ],
   "source": [
    "mon_tuple = ('a','p','p','l','e','e','d','e', 'd','e','a','c','w')\n",
    "mon_tuple.count('e')"
   ]
  },
  {
   "cell_type": "markdown",
   "id": "2fa58dc3",
   "metadata": {},
   "source": [
    "**index()**<br>\n",
    "Recherche dans le tuple une valeur spécifiée et renvoie la position de l'endroit où elle a été trouvée."
   ]
  },
  {
   "cell_type": "code",
   "execution_count": 88,
   "id": "8b2d9795",
   "metadata": {},
   "outputs": [
    {
     "data": {
      "text/plain": [
       "3"
      ]
     },
     "execution_count": 88,
     "metadata": {},
     "output_type": "execute_result"
    }
   ],
   "source": [
    "mon_tuple = ('a','p','p','l','e','e','d','e', 'd','e','a','c','w')\n",
    "mon_tuple.index('l')"
   ]
  },
  {
   "cell_type": "markdown",
   "id": "8de55066",
   "metadata": {},
   "source": [
    "**sorted()**<br>\n",
    "\n",
    "Elle trie un tuple et renvoie toujours une liste dont les éléments sont triés."
   ]
  },
  {
   "cell_type": "code",
   "execution_count": 89,
   "id": "bdd04540",
   "metadata": {},
   "outputs": [
    {
     "data": {
      "text/plain": [
       "[2, 2, 3, 3, 4, 5, 6, 7, 8, 9, 9]"
      ]
     },
     "execution_count": 89,
     "metadata": {},
     "output_type": "execute_result"
    }
   ],
   "source": [
    "mon_tuple = (2,3,5,6,4,7,8,9,9,2,3)\n",
    "sorted(mon_tuple)"
   ]
  },
  {
   "cell_type": "code",
   "execution_count": null,
   "id": "5c6008a3",
   "metadata": {},
   "outputs": [],
   "source": []
  }
 ],
 "metadata": {
  "kernelspec": {
   "display_name": "Python 3 (ipykernel)",
   "language": "python",
   "name": "python3"
  },
  "language_info": {
   "codemirror_mode": {
    "name": "ipython",
    "version": 3
   },
   "file_extension": ".py",
   "mimetype": "text/x-python",
   "name": "python",
   "nbconvert_exporter": "python",
   "pygments_lexer": "ipython3",
   "version": "3.11.5"
  }
 },
 "nbformat": 4,
 "nbformat_minor": 5
}
