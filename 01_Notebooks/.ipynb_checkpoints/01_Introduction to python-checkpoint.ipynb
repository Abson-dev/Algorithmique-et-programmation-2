{
 "cells": [
  {
   "cell_type": "markdown",
   "id": "ec033744",
   "metadata": {},
   "source": [
    "## Sujets abordés\n",
    "\n",
    "### Installation de Python\n",
    "\n",
    "- Démarrer avec Python\n",
    "- Téléchargement et installation d'Anaconda Navigator\n",
    "- Travailler avec Jupyter Notebook\n",
    "\n",
    "\n",
    "### Introduction à Python\n",
    "\n",
    "- Variables et Types de base en Python\n",
    "- Les opérateurs en Python\n",
    "- Structures de contrôle en Python (condition, boucle, itérateur, range)\n",
    "- Fonctions en Python (définition, paramètres et arguments, appel, expression lambda)\n",
    "\n",
    "### Les structures de données en Python\n",
    "\n",
    "- Listes \n",
    "- Tuples \n",
    "- Dictionnaires\n",
    "- Collections\n",
    "\n",
    "### Statistiques descriptives\n",
    "\n",
    "- Les statistiques de base\n",
    "- Mesures de tendance centrale\n",
    "- Mesures de dispersion\n",
    "- Coefficient de covariance et de corrélation\n",
    "- Analyse exploratoire des données"
   ]
  },
  {
   "cell_type": "markdown",
   "id": "4ae24017",
   "metadata": {},
   "source": [
    "### Installation de Python\n",
    "\n",
    "#### 1-  Démarrer avec Python\n",
    "\n",
    "Python peut être utilisé pour effectuer diverses tâches liées à la science des données, telles que le nettoyage des données, la visualisation des données, l'entraînement des modèles, le déploiement des modèles, etc.\n",
    "\n",
    "Python a également d'autres applications telles que le développement web, le développement de jeux, etc.\n",
    "\n",
    "#### 2- Téléchargement et installation d'Anaconda Navigator\n",
    "\n",
    "L'édition individuelle d'[Anaconda](https://www.anaconda.com/download) est utilisée à des fins personnelles. Les éditions Enterprise, Team et commerciale offrent des fonctionnalités plus avancées et leur utilisation est payante.\n",
    "\n",
    "L'application Anaconda Navigator permet d'accéder à tous les outils fournis avec Anaconda.\n",
    "La distribution Anaconda est livrée avec de nombreuses bibliothèques Python préinstallées. Certaines des bibliothèques les plus utilisées sont NumPy, pandas, etc.\n",
    "\n",
    "**Etapes de téléchargement et d'installation d'Anaconda Navigator**\n",
    "\n",
    "- Aller sur le lien de téléchargement d'[Anaconda Navigator](https://www.anaconda.com/download) \n",
    "\n",
    "\n",
    "#### 3- Jupyter Notebook"
   ]
  },
  {
   "cell_type": "markdown",
   "id": "eae42da7",
   "metadata": {},
   "source": [
    "\n",
    "### Introduction à Python\n",
    "\n",
    "- Variables et Types de base en Python\n",
    "\n",
    "**Déclarer et assigner une valeur à une variable.**\n",
    "\n",
    "Nous utilisons l'opérateur d'affectation '**=**' pour attribuer une valeur à une variable.\n"
   ]
  },
  {
   "cell_type": "code",
   "execution_count": 1,
   "id": "85b86074",
   "metadata": {},
   "outputs": [],
   "source": [
    "num = 10"
   ]
  },
  {
   "cell_type": "markdown",
   "id": "713b7b82",
   "metadata": {},
   "source": [
    "L'opérande à gauche de l'opérateur = est le nom de la variable et l'opérande à droite de l'opérateur = est la valeur stockée dans la variable. Ici, nous avons créé une variable nommée « num » et nous avons assigné la valeur 10 à la variable « num ».\n",
    "\n",
    "**Affectations multiples**\n",
    "\n",
    "Python permet d'affecter une même valeur à plusieurs variables simultanément. Par exemple:"
   ]
  },
  {
   "cell_type": "code",
   "execution_count": 2,
   "id": "474cf33d",
   "metadata": {},
   "outputs": [],
   "source": [
    "# Ici, un objet entier est créé avec la valeur 5, et les trois variables sont assignées au même emplacement de mémoire\n",
    "x = y = z = 5"
   ]
  },
  {
   "cell_type": "markdown",
   "id": "d4552599",
   "metadata": {},
   "source": [
    "Vous pouvez également affecter plusieurs objets à plusieurs variables."
   ]
  },
  {
   "cell_type": "code",
   "execution_count": 3,
   "id": "dc524c55",
   "metadata": {},
   "outputs": [],
   "source": [
    "age,poids,sexe = 15,40.1,\"Fille\""
   ]
  },
  {
   "cell_type": "markdown",
   "id": "b063b475",
   "metadata": {},
   "source": [
    "**Ré-assignation d'une variable**"
   ]
  },
  {
   "cell_type": "code",
   "execution_count": 4,
   "id": "ae588050",
   "metadata": {},
   "outputs": [
    {
     "data": {
      "text/plain": [
       "25"
      ]
     },
     "execution_count": 4,
     "metadata": {},
     "output_type": "execute_result"
    }
   ],
   "source": [
    "var1 = 25\n",
    "var2 = \"Ndeye\"\n",
    "var2 = var1\n",
    "var2"
   ]
  },
  {
   "cell_type": "markdown",
   "id": "5b32094c",
   "metadata": {},
   "source": [
    "**Règles et conventions de dénomination**"
   ]
  },
  {
   "cell_type": "markdown",
   "id": "8765b20a",
   "metadata": {},
   "source": [
    "**Types de variables**\n",
    "\n",
    "Un type de variable est un attribut des données qui indique au compilateur ou à l'interprète comment le programmeur a l'intention d'utiliser les variables. Python prend en charge les types de données suivants : *1. Les nombres 2. Chaînes de caractères 3. Les booléens 4. Listes 5. Tuples 6. Dictionnaires 7. Ensembles*\n",
    "\n",
    "**Les nombres en Python**\n",
    "\n",
    "Il existe quatre types de variable numériques en Python :\n",
    "\n",
    "a. *int* (entiers signés)\n",
    "\n",
    "b. *float* (valeurs réelles à virgule flottante)\n",
    "\n",
    "c. *long* (nombres entiers longs, ils peuvent également être représentés en octal et en hexadécimal)\n",
    "\n",
    "d. *complex* (nombres complexes)"
   ]
  },
  {
   "cell_type": "markdown",
   "id": "049969a8",
   "metadata": {},
   "source": [
    "<table>\n",
    "  <tr>\n",
    "  <th>int</th>\n",
    "  <th>float</th>\n",
    "  <th>long</th>\n",
    "  <th>complex</th>\n",
    "  </tr>\n",
    "  <tr>\n",
    "  <td>10</td>\n",
    "  <td>54.4</td>\n",
    "  <td>012345L</td>\n",
    "  <td>2+5j</td>  \n",
    "  </tr>\n",
    "  <tr>\n",
    "  <td>70</td>\n",
    "  <td>0.01</td>\n",
    "  <td>-987652L</td>\n",
    "  <td>1.18j</td>\n",
    "  </tr>\n",
    "  <tr>\n",
    "  <td>-150</td>\n",
    "  <td>1.626e16</td>\n",
    "  <td>10000000000000000</td>\n",
    "  <td>-10j</td>\n",
    "  </tr>\n",
    "  <tr>\n",
    "  <td>0x69</td>\n",
    "  <td>74.15</td>\n",
    "  <td>-4335685298777L</td>\n",
    "  <td>45j</td>\n",
    "  </tr>\n",
    "  <tr>\n",
    "  <td>-0x260</td>\n",
    "  <td>89.33</td>\n",
    "  <td>0348L\t</td>\n",
    "  <td>3e+26J</td>\n",
    "  </tr>\n",
    "</table>"
   ]
  },
  {
   "cell_type": "markdown",
   "id": "02c3ff19",
   "metadata": {},
   "source": [
    "#### int\n",
    "\n",
    "'int' est l'abréviation de integer (entier). Ce type de données Python contient des entiers signés. Nous pouvons utiliser la fonction type() pour savoir à quelle classe il appartient."
   ]
  },
  {
   "cell_type": "code",
   "execution_count": 6,
   "id": "d0fce5e0",
   "metadata": {},
   "outputs": [
    {
     "data": {
      "text/plain": [
       "int"
      ]
     },
     "execution_count": 6,
     "metadata": {},
     "output_type": "execute_result"
    }
   ],
   "source": [
    "a = -23\n",
    "type(a)"
   ]
  },
  {
   "cell_type": "code",
   "execution_count": 7,
   "id": "d2164c79",
   "metadata": {},
   "outputs": [
    {
     "data": {
      "text/plain": [
       "int"
      ]
     },
     "execution_count": 7,
     "metadata": {},
     "output_type": "execute_result"
    }
   ],
   "source": [
    "x = 1000\n",
    "type(a)"
   ]
  },
  {
   "cell_type": "markdown",
   "id": "ec35eb49",
   "metadata": {},
   "source": [
    "#### float"
   ]
  },
  {
   "cell_type": "code",
   "execution_count": 8,
   "id": "aad1026f",
   "metadata": {},
   "outputs": [
    {
     "data": {
      "text/plain": [
       "float"
      ]
     },
     "execution_count": 8,
     "metadata": {},
     "output_type": "execute_result"
    }
   ],
   "source": [
    "a = 1.1\n",
    "type(a)"
   ]
  },
  {
   "cell_type": "code",
   "execution_count": 9,
   "id": "59ffa593",
   "metadata": {},
   "outputs": [
    {
     "data": {
      "text/plain": [
       "float"
      ]
     },
     "execution_count": 9,
     "metadata": {},
     "output_type": "execute_result"
    }
   ],
   "source": [
    "x = -3.14\n",
    "type(x)"
   ]
  },
  {
   "cell_type": "code",
   "execution_count": 10,
   "id": "68477e8b",
   "metadata": {},
   "outputs": [
    {
     "data": {
      "text/plain": [
       "float"
      ]
     },
     "execution_count": 10,
     "metadata": {},
     "output_type": "execute_result"
    }
   ],
   "source": [
    "y = 1.626e16\n",
    "type(y)"
   ]
  },
  {
   "cell_type": "markdown",
   "id": "87fd0663",
   "metadata": {},
   "source": [
    "#### long"
   ]
  },
  {
   "cell_type": "code",
   "execution_count": 11,
   "id": "a1277646",
   "metadata": {},
   "outputs": [
    {
     "data": {
      "text/plain": [
       "int"
      ]
     },
     "execution_count": 11,
     "metadata": {},
     "output_type": "execute_result"
    }
   ],
   "source": [
    "x =999999999999999999999999999999999999999999999\n",
    "type(x)"
   ]
  },
  {
   "cell_type": "markdown",
   "id": "5b87bd23",
   "metadata": {},
   "source": [
    "#### complex"
   ]
  },
  {
   "cell_type": "code",
   "execution_count": 12,
   "id": "4b75f969",
   "metadata": {},
   "outputs": [
    {
     "data": {
      "text/plain": [
       "complex"
      ]
     },
     "execution_count": 12,
     "metadata": {},
     "output_type": "execute_result"
    }
   ],
   "source": [
    "x = 3+7j\n",
    "type(x)"
   ]
  },
  {
   "cell_type": "code",
   "execution_count": 13,
   "id": "6baec876",
   "metadata": {},
   "outputs": [
    {
     "data": {
      "text/plain": [
       "complex"
      ]
     },
     "execution_count": 13,
     "metadata": {},
     "output_type": "execute_result"
    }
   ],
   "source": [
    "y = 3e+4j\n",
    "type(y)"
   ]
  },
  {
   "cell_type": "markdown",
   "id": "f5641d6e",
   "metadata": {},
   "source": [
    "### **Chaînes de caractères en Python**"
   ]
  },
  {
   "cell_type": "markdown",
   "id": "165b50a8",
   "metadata": {},
   "source": [
    "Une chaîne de caractères est une séquence de caractères. Python n'a pas de type de données char, contrairement à C++ ou Java. Vous pouvez délimiter une chaîne de caractères en utilisant des guillemets simples ('chaîne de caractères') ou des guillemets doubles (\"chaîne de caractères\")."
   ]
  },
  {
   "cell_type": "code",
   "execution_count": 14,
   "id": "f8b49c76",
   "metadata": {},
   "outputs": [
    {
     "data": {
      "text/plain": [
       "'ENSAE de Dakar'"
      ]
     },
     "execution_count": 14,
     "metadata": {},
     "output_type": "execute_result"
    }
   ],
   "source": [
    "string = \"ENSAE de Dakar\"\n",
    "string"
   ]
  },
  {
   "cell_type": "markdown",
   "id": "c86ccda7",
   "metadata": {},
   "source": [
    "Le signe plus (+) est l'opérateur de concaténation de chaînes et l'astérisque (*) est l'opérateur de répétition."
   ]
  },
  {
   "cell_type": "code",
   "execution_count": 15,
   "id": "06a9eb34",
   "metadata": {},
   "outputs": [
    {
     "data": {
      "text/plain": [
       "'HemaAboubacar'"
      ]
     },
     "execution_count": 15,
     "metadata": {},
     "output_type": "execute_result"
    }
   ],
   "source": [
    "str1 = \"Hema\"\n",
    "str2 = \"Aboubacar\"\n",
    "str3 = str1+str2\n",
    "str3                      # Affiche la chaîne concaténée"
   ]
  },
  {
   "cell_type": "code",
   "execution_count": 16,
   "id": "c8c36016",
   "metadata": {},
   "outputs": [
    {
     "data": {
      "text/plain": [
       "'HemaAboubacarHemaAboubacarHemaAboubacar'"
      ]
     },
     "execution_count": 16,
     "metadata": {},
     "output_type": "execute_result"
    }
   ],
   "source": [
    "str3*3                    # Affiche trois fois la chaîne de caractères"
   ]
  },
  {
   "cell_type": "markdown",
   "id": "6d1df2d1",
   "metadata": {},
   "source": [
    "Vous ne pouvez pas utiliser l'opérateur moins (-) et l'opérateur de division (/) sur les chaînes de caractères.\n",
    "\n",
    "Des sous-ensembles de chaînes peuvent être extraits à l'aide de l'opérateur de tranche ([ ]). Vous pouvez afficher un caractère d'une chaîne en utilisant son index dans la chaîne. N'oubliez pas que l'indexation commence à 0."
   ]
  },
  {
   "cell_type": "code",
   "execution_count": 17,
   "id": "bd76f1b9",
   "metadata": {},
   "outputs": [
    {
     "data": {
      "text/plain": [
       "'S'"
      ]
     },
     "execution_count": 17,
     "metadata": {},
     "output_type": "execute_result"
    }
   ],
   "source": [
    "string[2]                 # Affiche le 3e caractère de string"
   ]
  },
  {
   "cell_type": "markdown",
   "id": "95ebc7ee",
   "metadata": {},
   "source": [
    "Vous pouvez également afficher une série de caractères dans une chaîne à l'aide de l'opérateur de découpage, avec des index commençant à 0 au début de la chaîne et allant jusqu'à -1 à la fin."
   ]
  },
  {
   "cell_type": "code",
   "execution_count": 19,
   "id": "d405f254",
   "metadata": {},
   "outputs": [
    {
     "data": {
      "text/plain": [
       "'AE de '"
      ]
     },
     "execution_count": 19,
     "metadata": {},
     "output_type": "execute_result"
    }
   ],
   "source": [
    "string[3:9]             # Question : Que constatez vous?"
   ]
  },
  {
   "cell_type": "markdown",
   "id": "fd9f9efd",
   "metadata": {},
   "source": [
    "Les chaînes sont <em>immutables</em>. La ligne de code suivante génère une erreur."
   ]
  },
  {
   "cell_type": "code",
   "execution_count": 21,
   "id": "8db624a0",
   "metadata": {},
   "outputs": [
    {
     "ename": "TypeError",
     "evalue": "'str' object does not support item assignment",
     "output_type": "error",
     "traceback": [
      "\u001b[1;31m---------------------------------------------------------------------------\u001b[0m",
      "\u001b[1;31mTypeError\u001b[0m                                 Traceback (most recent call last)",
      "Cell \u001b[1;32mIn[21], line 1\u001b[0m\n\u001b[1;32m----> 1\u001b[0m string[\u001b[38;5;241m0\u001b[39m] \u001b[38;5;241m=\u001b[39m \u001b[38;5;124m'\u001b[39m\u001b[38;5;124mP\u001b[39m\u001b[38;5;124m'\u001b[39m\n",
      "\u001b[1;31mTypeError\u001b[0m: 'str' object does not support item assignment"
     ]
    }
   ],
   "source": [
    "string[0] = 'P'"
   ]
  },
  {
   "cell_type": "code",
   "execution_count": null,
   "id": "9afca1be",
   "metadata": {},
   "outputs": [],
   "source": []
  }
 ],
 "metadata": {
  "kernelspec": {
   "display_name": "Python 3 (ipykernel)",
   "language": "python",
   "name": "python3"
  },
  "language_info": {
   "codemirror_mode": {
    "name": "ipython",
    "version": 3
   },
   "file_extension": ".py",
   "mimetype": "text/x-python",
   "name": "python",
   "nbconvert_exporter": "python",
   "pygments_lexer": "ipython3",
   "version": "3.11.5"
  }
 },
 "nbformat": 4,
 "nbformat_minor": 5
}
