{
 "cells": [
  {
   "cell_type": "markdown",
   "id": "f1910445",
   "metadata": {},
   "source": [
    "## Sujets abordés\n",
    "\n",
    "### Installation de Python\n",
    "\n",
    "- Démarrer avec Python\n",
    "- Téléchargement et installation d'Anaconda Navigator\n",
    "- Travailler avec Jupyter Notebook\n",
    "\n",
    "\n",
    "### Introduction à Python\n",
    "\n",
    "- Variables et Types de base en Python\n",
    "- Les opérateurs en Python\n",
    "- Structures de contrôle en Python (condition, boucle, itérateur, range)\n",
    "- Fonctions en Python (définition, paramètres et arguments, appel, expression lambda)\n",
    "\n",
    "### Les structures de données en Python\n",
    "\n",
    "- Listes \n",
    "- Tuples \n",
    "- Dictionnaires\n",
    "- Collections\n",
    "\n",
    "### Statistiques descriptives\n",
    "\n",
    "- Les statistiques de base\n",
    "- Mesures de tendance centrale\n",
    "- Mesures de dispersion\n",
    "- Coefficient de covariance et de corrélation\n",
    "- Analyse exploratoire des données"
   ]
  },
  {
   "cell_type": "markdown",
   "id": "3f182dd1",
   "metadata": {},
   "source": [
    "### Installation de Python\n",
    "\n",
    "#### 1-  Démarrer avec Python\n",
    "\n",
    "Python peut être utilisé pour effectuer diverses tâches liées à la science des données, telles que le nettoyage des données, la visualisation des données, l'entraînement des modèles, le déploiement des modèles, etc.\n",
    "\n",
    "Python a également d'autres applications telles que le développement web, le développement de jeux, etc.\n",
    "\n",
    "#### 2- Téléchargement et installation d'Anaconda Navigator\n",
    "\n",
    "L'édition individuelle d'[Anaconda](https://www.anaconda.com/download) est utilisée à des fins personnelles. Les éditions Enterprise, Team et commerciale offrent des fonctionnalités plus avancées et leur utilisation est payante.\n",
    "\n",
    "L'application Anaconda Navigator permet d'accéder à tous les outils fournis avec Anaconda.\n",
    "La distribution Anaconda est livrée avec de nombreuses bibliothèques Python préinstallées. Certaines des bibliothèques les plus utilisées sont NumPy, pandas, etc.\n",
    "\n",
    "**Etapes de téléchargement et d'installation d'Anaconda Navigator**\n",
    "\n",
    "- Aller sur le lien de téléchargement d'[Anaconda Navigator](https://www.anaconda.com/download) \n",
    "\n",
    "\n",
    "#### 3- Jupyter Notebook"
   ]
  },
  {
   "cell_type": "markdown",
   "id": "21774e3d",
   "metadata": {},
   "source": [
    "\n",
    "### Introduction à Python\n",
    "\n",
    "- Variables et Types de base en Python\n",
    "\n",
    "**Déclarer et assigner une valeur à une variable.**\n",
    "\n",
    "Nous utilisons l'opérateur d'affectation '**=**' pour attribuer une valeur à une variable.\n"
   ]
  },
  {
   "cell_type": "code",
   "execution_count": 1,
   "id": "3b5f36fd",
   "metadata": {},
   "outputs": [],
   "source": [
    "num = 10"
   ]
  },
  {
   "cell_type": "markdown",
   "id": "41f731b3",
   "metadata": {},
   "source": [
    "L'opérande à gauche de l'opérateur = est le nom de la variable et l'opérande à droite de l'opérateur = est la valeur stockée dans la variable. Ici, nous avons créé une variable nommée « num » et nous avons assigné la valeur 10 à la variable « num ».\n",
    "\n",
    "**Affectations multiples**\n",
    "\n",
    "Python permet d'affecter une même valeur à plusieurs variables simultanément. Par exemple:"
   ]
  },
  {
   "cell_type": "code",
   "execution_count": 2,
   "id": "c65d1a04",
   "metadata": {},
   "outputs": [],
   "source": [
    "# Ici, un objet entier est créé avec la valeur 5, et les trois variables sont assignées au même emplacement de mémoire\n",
    "x = y = z = 5"
   ]
  },
  {
   "cell_type": "markdown",
   "id": "942d0ea0",
   "metadata": {},
   "source": [
    "Vous pouvez également affecter plusieurs objets à plusieurs variables."
   ]
  },
  {
   "cell_type": "code",
   "execution_count": 3,
   "id": "1eb418f6",
   "metadata": {},
   "outputs": [],
   "source": [
    "age,poids,sexe = 15,40.1,\"Fille\""
   ]
  },
  {
   "cell_type": "markdown",
   "id": "91b220e9",
   "metadata": {},
   "source": [
    "**Ré-assignation d'une variable**"
   ]
  },
  {
   "cell_type": "code",
   "execution_count": 4,
   "id": "7f7c6d4d",
   "metadata": {},
   "outputs": [
    {
     "data": {
      "text/plain": [
       "25"
      ]
     },
     "execution_count": 4,
     "metadata": {},
     "output_type": "execute_result"
    }
   ],
   "source": [
    "var1 = 25\n",
    "var2 = \"Ndeye\"\n",
    "var2 = var1\n",
    "var2"
   ]
  },
  {
   "cell_type": "markdown",
   "id": "cce98b88",
   "metadata": {},
   "source": [
    "**Règles et conventions de dénomination**"
   ]
  },
  {
   "cell_type": "code",
   "execution_count": null,
   "id": "fe2afbdd",
   "metadata": {},
   "outputs": [],
   "source": []
  }
 ],
 "metadata": {
  "kernelspec": {
   "display_name": "Python 3 (ipykernel)",
   "language": "python",
   "name": "python3"
  },
  "language_info": {
   "codemirror_mode": {
    "name": "ipython",
    "version": 3
   },
   "file_extension": ".py",
   "mimetype": "text/x-python",
   "name": "python",
   "nbconvert_exporter": "python",
   "pygments_lexer": "ipython3",
   "version": "3.11.5"
  }
 },
 "nbformat": 4,
 "nbformat_minor": 5
}
