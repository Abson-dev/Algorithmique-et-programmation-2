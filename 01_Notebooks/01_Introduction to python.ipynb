{
 "cells": [
  {
   "cell_type": "markdown",
   "id": "3f8cf444",
   "metadata": {},
   "source": [
    "## Sujets abordés\n",
    "\n",
    "### Installation de Python\n",
    "\n",
    "- Démarrer avec Python\n",
    "- Téléchargement et installation d'Anaconda Navigator\n",
    "- Travailler avec Jupyter Notebook\n",
    "\n",
    "\n",
    "### Introduction à Python\n",
    "\n",
    "- Variables et Types de base en Python\n",
    "- Les opérateurs en Python\n",
    "- Structures de contrôle en Python (condition, boucle, itérateur, range)\n",
    "- Fonctions en Python (définition, paramètres et arguments, appel, expression lambda)\n",
    "\n",
    "### Les structures de données en Python\n",
    "\n",
    "- Listes \n",
    "- Tuples \n",
    "- Dictionnaires\n",
    "- Collections\n",
    "\n",
    "### Statistiques descriptives\n",
    "\n",
    "- Les statistiques de base\n",
    "- Mesures de tendance centrale\n",
    "- Mesures de dispersion\n",
    "- Coefficient de covariance et de corrélation\n",
    "- Analyse exploratoire des données"
   ]
  },
  {
   "cell_type": "markdown",
   "id": "facec0a7",
   "metadata": {},
   "source": [
    "### Installation de Python\n",
    "\n",
    "#### 1-  Démarrer avec Python\n",
    "\n",
    "Python peut être utilisé pour effectuer diverses tâches liées à la science des données, telles que le nettoyage des données, la visualisation des données, l'entraînement des modèles, le déploiement des modèles, etc.\n",
    "\n",
    "Python a également d'autres applications telles que le développement web, le développement de jeux, etc.\n",
    "\n",
    "#### 2- Téléchargement et installation d'Anaconda Navigator\n",
    "\n",
    "L'édition individuelle d'[Anaconda](https://www.anaconda.com/download) est utilisée à des fins personnelles. Les éditions Enterprise, Team et commerciale offrent des fonctionnalités plus avancées et leur utilisation est payante.\n",
    "\n",
    "L'application Anaconda Navigator permet d'accéder à tous les outils fournis avec Anaconda.\n",
    "La distribution Anaconda est livrée avec de nombreuses bibliothèques Python préinstallées. Certaines des bibliothèques les plus utilisées sont NumPy, pandas, etc.\n",
    "\n",
    "**Etapes de téléchargement et d'installation d'Anaconda Navigator**\n",
    "\n",
    "- Aller sur le lien de téléchargement d'[Anaconda Navigator](https://www.anaconda.com/download) \n",
    "\n",
    "\n",
    "#### 3- Jupyter Notebook"
   ]
  },
  {
   "cell_type": "markdown",
   "id": "c22bea3a",
   "metadata": {},
   "source": [
    "\n",
    "### Introduction à Python\n",
    "\n",
    "- Variables et Types de base en Python\n",
    "\n",
    "**Déclarer et assigner une valeur à une variable.**\n",
    "\n",
    "Nous utilisons l'opérateur d'affectation '**=**' pour attribuer une valeur à une variable.\n"
   ]
  },
  {
   "cell_type": "code",
   "execution_count": 1,
   "id": "ce0897bd",
   "metadata": {},
   "outputs": [],
   "source": [
    "num = 10"
   ]
  },
  {
   "cell_type": "markdown",
   "id": "80b8303a",
   "metadata": {},
   "source": [
    "L'opérande à gauche de l'opérateur = est le nom de la variable et l'opérande à droite de l'opérateur = est la valeur stockée dans la variable. Ici, nous avons créé une variable nommée « num » et nous avons assigné la valeur 10 à la variable « num ».\n",
    "\n",
    "**Affectations multiples**\n",
    "\n",
    "Python permet d'affecter une même valeur à plusieurs variables simultanément. Par exemple:"
   ]
  },
  {
   "cell_type": "code",
   "execution_count": 2,
   "id": "7e31944e",
   "metadata": {},
   "outputs": [],
   "source": [
    "# Ici, un objet entier est créé avec la valeur 5, et les trois variables sont assignées au même emplacement de mémoire\n",
    "x = y = z = 5"
   ]
  },
  {
   "cell_type": "markdown",
   "id": "94a79ee7",
   "metadata": {},
   "source": [
    "Vous pouvez également affecter plusieurs objets à plusieurs variables."
   ]
  },
  {
   "cell_type": "code",
   "execution_count": 3,
   "id": "f27d4fe5",
   "metadata": {},
   "outputs": [],
   "source": [
    "age,poids,sexe = 15,40.1,\"Fille\""
   ]
  },
  {
   "cell_type": "markdown",
   "id": "906f1b0a",
   "metadata": {},
   "source": [
    "**Ré-assignation d'une variable**"
   ]
  },
  {
   "cell_type": "code",
   "execution_count": 4,
   "id": "247f0d59",
   "metadata": {},
   "outputs": [
    {
     "data": {
      "text/plain": [
       "25"
      ]
     },
     "execution_count": 4,
     "metadata": {},
     "output_type": "execute_result"
    }
   ],
   "source": [
    "var1 = 25\n",
    "var2 = \"Ndeye\"\n",
    "var2 = var1\n",
    "var2"
   ]
  },
  {
   "cell_type": "markdown",
   "id": "da1c341f",
   "metadata": {},
   "source": [
    "**Règles et conventions de dénomination**"
   ]
  },
  {
   "cell_type": "markdown",
   "id": "2ba0e061",
   "metadata": {},
   "source": [
    "**Types de variables**\n",
    "\n",
    "Un type de variable est un attribut des données qui indique au compilateur ou à l'interprète comment le programmeur a l'intention d'utiliser les variables. Python prend en charge les types de données suivants : *1. Les nombres 2. Chaînes de caractères 3. Les booléens 4. Listes 5. Tuples 6. Dictionnaires 7. Ensembles*\n",
    "\n",
    "**Les nombres en Python**\n",
    "\n",
    "Il existe quatre types de variable numériques en Python :\n",
    "\n",
    "a. *int* (entiers signés)\n",
    "\n",
    "b. *float* (valeurs réelles à virgule flottante)\n",
    "\n",
    "c. *long* (nombres entiers longs, ils peuvent également être représentés en octal et en hexadécimal)\n",
    "\n",
    "d. *complex* (nombres complexes)"
   ]
  },
  {
   "cell_type": "markdown",
   "id": "3d50bc4f",
   "metadata": {},
   "source": [
    "<table>\n",
    "  <tr>\n",
    "  <th>int</th>\n",
    "  <th>float</th>\n",
    "  <th>long</th>\n",
    "  <th>complex</th>\n",
    "  </tr>\n",
    "  <tr>\n",
    "  <td>10</td>\n",
    "  <td>54.4</td>\n",
    "  <td>012345L</td>\n",
    "  <td>2+5j</td>  \n",
    "  </tr>\n",
    "  <tr>\n",
    "  <td>70</td>\n",
    "  <td>0.01</td>\n",
    "  <td>-987652L</td>\n",
    "  <td>1.18j</td>\n",
    "  </tr>\n",
    "  <tr>\n",
    "  <td>-150</td>\n",
    "  <td>1.626e16</td>\n",
    "  <td>10000000000000000</td>\n",
    "  <td>-10j</td>\n",
    "  </tr>\n",
    "  <tr>\n",
    "  <td>0x69</td>\n",
    "  <td>74.15</td>\n",
    "  <td>-4335685298777L</td>\n",
    "  <td>45j</td>\n",
    "  </tr>\n",
    "  <tr>\n",
    "  <td>-0x260</td>\n",
    "  <td>89.33</td>\n",
    "  <td>0348L\t</td>\n",
    "  <td>3e+26J</td>\n",
    "  </tr>\n",
    "</table>"
   ]
  },
  {
   "cell_type": "markdown",
   "id": "609362c7",
   "metadata": {},
   "source": [
    "#### int\n",
    "\n",
    "'int' est l'abréviation de integer (entier). Ce type de données Python contient des entiers signés. Nous pouvons utiliser la fonction type() pour savoir à quelle classe il appartient."
   ]
  },
  {
   "cell_type": "code",
   "execution_count": 6,
   "id": "c788ca34",
   "metadata": {},
   "outputs": [
    {
     "data": {
      "text/plain": [
       "int"
      ]
     },
     "execution_count": 6,
     "metadata": {},
     "output_type": "execute_result"
    }
   ],
   "source": [
    "a = -23\n",
    "type(a)"
   ]
  },
  {
   "cell_type": "code",
   "execution_count": 7,
   "id": "2e7bc28e",
   "metadata": {},
   "outputs": [
    {
     "data": {
      "text/plain": [
       "int"
      ]
     },
     "execution_count": 7,
     "metadata": {},
     "output_type": "execute_result"
    }
   ],
   "source": [
    "x = 1000\n",
    "type(a)"
   ]
  },
  {
   "cell_type": "markdown",
   "id": "18de4944",
   "metadata": {},
   "source": [
    "#### float"
   ]
  },
  {
   "cell_type": "code",
   "execution_count": 8,
   "id": "32f5fcb8",
   "metadata": {},
   "outputs": [
    {
     "data": {
      "text/plain": [
       "float"
      ]
     },
     "execution_count": 8,
     "metadata": {},
     "output_type": "execute_result"
    }
   ],
   "source": [
    "a = 1.1\n",
    "type(a)"
   ]
  },
  {
   "cell_type": "code",
   "execution_count": 9,
   "id": "0dde13b6",
   "metadata": {},
   "outputs": [
    {
     "data": {
      "text/plain": [
       "float"
      ]
     },
     "execution_count": 9,
     "metadata": {},
     "output_type": "execute_result"
    }
   ],
   "source": [
    "x = -3.14\n",
    "type(x)"
   ]
  },
  {
   "cell_type": "code",
   "execution_count": 10,
   "id": "9352f411",
   "metadata": {},
   "outputs": [
    {
     "data": {
      "text/plain": [
       "float"
      ]
     },
     "execution_count": 10,
     "metadata": {},
     "output_type": "execute_result"
    }
   ],
   "source": [
    "y = 1.626e16\n",
    "type(y)"
   ]
  },
  {
   "cell_type": "markdown",
   "id": "08227dbc",
   "metadata": {},
   "source": [
    "#### long"
   ]
  },
  {
   "cell_type": "code",
   "execution_count": 11,
   "id": "a5123ad0",
   "metadata": {},
   "outputs": [
    {
     "data": {
      "text/plain": [
       "int"
      ]
     },
     "execution_count": 11,
     "metadata": {},
     "output_type": "execute_result"
    }
   ],
   "source": [
    "x =999999999999999999999999999999999999999999999\n",
    "type(x)"
   ]
  },
  {
   "cell_type": "markdown",
   "id": "555903a9",
   "metadata": {},
   "source": [
    "#### complex"
   ]
  },
  {
   "cell_type": "code",
   "execution_count": 12,
   "id": "38e32b44",
   "metadata": {},
   "outputs": [
    {
     "data": {
      "text/plain": [
       "complex"
      ]
     },
     "execution_count": 12,
     "metadata": {},
     "output_type": "execute_result"
    }
   ],
   "source": [
    "x = 3+7j\n",
    "type(x)"
   ]
  },
  {
   "cell_type": "code",
   "execution_count": 13,
   "id": "c8fc0bc6",
   "metadata": {},
   "outputs": [
    {
     "data": {
      "text/plain": [
       "complex"
      ]
     },
     "execution_count": 13,
     "metadata": {},
     "output_type": "execute_result"
    }
   ],
   "source": [
    "y = 3e+4j\n",
    "type(y)"
   ]
  },
  {
   "cell_type": "markdown",
   "id": "87885976",
   "metadata": {},
   "source": [
    "### **Chaînes de caractères en Python**"
   ]
  },
  {
   "cell_type": "markdown",
   "id": "2af8ef16",
   "metadata": {},
   "source": [
    "Une chaîne de caractères est une séquence de caractères. Python n'a pas de type de données char, contrairement à C++ ou Java. Vous pouvez délimiter une chaîne de caractères en utilisant des guillemets simples ('chaîne de caractères') ou des guillemets doubles (\"chaîne de caractères\")."
   ]
  },
  {
   "cell_type": "code",
   "execution_count": 14,
   "id": "663a58c3",
   "metadata": {},
   "outputs": [
    {
     "data": {
      "text/plain": [
       "'ENSAE de Dakar'"
      ]
     },
     "execution_count": 14,
     "metadata": {},
     "output_type": "execute_result"
    }
   ],
   "source": [
    "string = \"ENSAE de Dakar\"\n",
    "string"
   ]
  },
  {
   "cell_type": "markdown",
   "id": "b6935ca2",
   "metadata": {},
   "source": [
    "Le signe plus (+) est l'opérateur de concaténation de chaînes et l'astérisque (*) est l'opérateur de répétition."
   ]
  },
  {
   "cell_type": "code",
   "execution_count": 15,
   "id": "90fdd9db",
   "metadata": {},
   "outputs": [
    {
     "data": {
      "text/plain": [
       "'HemaAboubacar'"
      ]
     },
     "execution_count": 15,
     "metadata": {},
     "output_type": "execute_result"
    }
   ],
   "source": [
    "str1 = \"Hema\"\n",
    "str2 = \"Aboubacar\"\n",
    "str3 = str1+str2\n",
    "str3                      # Affiche la chaîne concaténée"
   ]
  },
  {
   "cell_type": "code",
   "execution_count": 16,
   "id": "11ac6d17",
   "metadata": {},
   "outputs": [
    {
     "data": {
      "text/plain": [
       "'HemaAboubacarHemaAboubacarHemaAboubacar'"
      ]
     },
     "execution_count": 16,
     "metadata": {},
     "output_type": "execute_result"
    }
   ],
   "source": [
    "str3*3                    # Affiche trois fois la chaîne de caractères"
   ]
  },
  {
   "cell_type": "markdown",
   "id": "f2762b54",
   "metadata": {},
   "source": [
    "Vous ne pouvez pas utiliser l'opérateur moins (-) et l'opérateur de division (/) sur les chaînes de caractères.\n",
    "\n",
    "Des sous-ensembles de chaînes peuvent être extraits à l'aide de l'opérateur de tranche ([ ]). Vous pouvez afficher un caractère d'une chaîne en utilisant son index dans la chaîne. N'oubliez pas que l'indexation commence à 0."
   ]
  },
  {
   "cell_type": "code",
   "execution_count": 17,
   "id": "e41c9a68",
   "metadata": {},
   "outputs": [
    {
     "data": {
      "text/plain": [
       "'S'"
      ]
     },
     "execution_count": 17,
     "metadata": {},
     "output_type": "execute_result"
    }
   ],
   "source": [
    "string[2]                 # Affiche le 3e caractère de string"
   ]
  },
  {
   "cell_type": "markdown",
   "id": "14f72d9f",
   "metadata": {},
   "source": [
    "Vous pouvez également afficher une série de caractères dans une chaîne à l'aide de l'opérateur de découpage, avec des index commençant à 0 au début de la chaîne et allant jusqu'à -1 à la fin."
   ]
  },
  {
   "cell_type": "code",
   "execution_count": 19,
   "id": "68cc9fd6",
   "metadata": {},
   "outputs": [
    {
     "data": {
      "text/plain": [
       "'AE de '"
      ]
     },
     "execution_count": 19,
     "metadata": {},
     "output_type": "execute_result"
    }
   ],
   "source": [
    "string[3:9]             # Question : Que constatez vous?"
   ]
  },
  {
   "cell_type": "markdown",
   "id": "5c8d1a64",
   "metadata": {},
   "source": [
    "Les chaînes sont <em>immutables</em>. La ligne de code suivante génère une erreur."
   ]
  },
  {
   "cell_type": "code",
   "execution_count": 21,
   "id": "7d22d71c",
   "metadata": {},
   "outputs": [
    {
     "ename": "TypeError",
     "evalue": "'str' object does not support item assignment",
     "output_type": "error",
     "traceback": [
      "\u001b[1;31m---------------------------------------------------------------------------\u001b[0m",
      "\u001b[1;31mTypeError\u001b[0m                                 Traceback (most recent call last)",
      "Cell \u001b[1;32mIn[21], line 1\u001b[0m\n\u001b[1;32m----> 1\u001b[0m string[\u001b[38;5;241m0\u001b[39m] \u001b[38;5;241m=\u001b[39m \u001b[38;5;124m'\u001b[39m\u001b[38;5;124mP\u001b[39m\u001b[38;5;124m'\u001b[39m\n",
      "\u001b[1;31mTypeError\u001b[0m: 'str' object does not support item assignment"
     ]
    }
   ],
   "source": [
    "string[0] = 'P'"
   ]
  },
  {
   "cell_type": "markdown",
   "id": "5d19ee88",
   "metadata": {},
   "source": [
    "### **Booléen en Python**\n",
    "\n",
    "Dans le langage de programmation Python, le type de variable booléen est un type de variable primitif ayant l'une des deux valeurs suivantes : **True** ou **False**. Il est souvent le résultat de certaines conditions."
   ]
  },
  {
   "cell_type": "code",
   "execution_count": 22,
   "id": "36f41620",
   "metadata": {},
   "outputs": [
    {
     "data": {
      "text/plain": [
       "bool"
      ]
     },
     "execution_count": 22,
     "metadata": {},
     "output_type": "execute_result"
    }
   ],
   "source": [
    "var = True\n",
    "type(var)"
   ]
  },
  {
   "cell_type": "code",
   "execution_count": 23,
   "id": "c7e81be4",
   "metadata": {},
   "outputs": [
    {
     "name": "stdout",
     "output_type": "stream",
     "text": [
      "True\n"
     ]
    }
   ],
   "source": [
    "print(10 > 9)"
   ]
  },
  {
   "cell_type": "code",
   "execution_count": 24,
   "id": "ca1a033e",
   "metadata": {},
   "outputs": [
    {
     "name": "stdout",
     "output_type": "stream",
     "text": [
      "False\n"
     ]
    }
   ],
   "source": [
    "print(10 == 9)"
   ]
  },
  {
   "cell_type": "code",
   "execution_count": 25,
   "id": "8c66a998",
   "metadata": {},
   "outputs": [
    {
     "name": "stdout",
     "output_type": "stream",
     "text": [
      "False\n"
     ]
    }
   ],
   "source": [
    "print(10 < 9)"
   ]
  },
  {
   "cell_type": "markdown",
   "id": "c5b808be",
   "metadata": {},
   "source": [
    "## **Conversion de type**\n",
    "\n",
    "Python étant un langage de type dynamique, il se peut que vous souhaitiez convertir une valeur en un autre type. Python supporte différentes fonctions de conversion de type comme int(), float(), str() etc."
   ]
  },
  {
   "cell_type": "markdown",
   "id": "3f0ad265",
   "metadata": {},
   "source": [
    "#### float()\n",
    "\n",
    "Il convertit la valeur transmise en un nombre flottant."
   ]
  },
  {
   "cell_type": "code",
   "execution_count": 26,
   "id": "aa405026",
   "metadata": {},
   "outputs": [
    {
     "data": {
      "text/plain": [
       "11.0"
      ]
     },
     "execution_count": 26,
     "metadata": {},
     "output_type": "execute_result"
    }
   ],
   "source": [
    "float(11)"
   ]
  },
  {
   "cell_type": "markdown",
   "id": "a10f0cbe",
   "metadata": {},
   "source": [
    "Vous pouvez transformer un booléen en un flottant."
   ]
  },
  {
   "cell_type": "code",
   "execution_count": 27,
   "id": "55a6579e",
   "metadata": {},
   "outputs": [
    {
     "data": {
      "text/plain": [
       "1.0"
      ]
     },
     "execution_count": 27,
     "metadata": {},
     "output_type": "execute_result"
    }
   ],
   "source": [
    "float (True)"
   ]
  },
  {
   "cell_type": "code",
   "execution_count": 28,
   "id": "b3d3a510",
   "metadata": {},
   "outputs": [
    {
     "data": {
      "text/plain": [
       "0.0"
      ]
     },
     "execution_count": 28,
     "metadata": {},
     "output_type": "execute_result"
    }
   ],
   "source": [
    "float(False)"
   ]
  },
  {
   "cell_type": "markdown",
   "id": "a07e12c0",
   "metadata": {},
   "source": [
    "Vous ne pouvez pas transformer une chaîne de caractères en un nombre flottant. Cela provoque une erreur. Cependant, si la chaîne ne contient que des nombres, vous pouvez le faire."
   ]
  },
  {
   "cell_type": "code",
   "execution_count": 29,
   "id": "9d62837b",
   "metadata": {},
   "outputs": [
    {
     "ename": "ValueError",
     "evalue": "could not convert string to float: 'abc'",
     "output_type": "error",
     "traceback": [
      "\u001b[1;31m---------------------------------------------------------------------------\u001b[0m",
      "\u001b[1;31mValueError\u001b[0m                                Traceback (most recent call last)",
      "Cell \u001b[1;32mIn[29], line 1\u001b[0m\n\u001b[1;32m----> 1\u001b[0m \u001b[38;5;28mfloat\u001b[39m(\u001b[38;5;124m\"\u001b[39m\u001b[38;5;124mabc\u001b[39m\u001b[38;5;124m\"\u001b[39m)\n",
      "\u001b[1;31mValueError\u001b[0m: could not convert string to float: 'abc'"
     ]
    }
   ],
   "source": [
    "float(\"abc\")"
   ]
  },
  {
   "cell_type": "code",
   "execution_count": 30,
   "id": "7b4c3cb4",
   "metadata": {},
   "outputs": [
    {
     "data": {
      "text/plain": [
       "11.0"
      ]
     },
     "execution_count": 30,
     "metadata": {},
     "output_type": "execute_result"
    }
   ],
   "source": [
    "float(\"11\")"
   ]
  },
  {
   "cell_type": "code",
   "execution_count": 31,
   "id": "0c739f41",
   "metadata": {},
   "outputs": [
    {
     "data": {
      "text/plain": [
       "0.0224"
      ]
     },
     "execution_count": 31,
     "metadata": {},
     "output_type": "execute_result"
    }
   ],
   "source": [
    "# Vous pouvez également utiliser 'e' pour désigner un nombre exponentiel\n",
    "\n",
    "float(\"2.24e-2\") # Ce nombre fonctionne même sans la fonction float()"
   ]
  },
  {
   "cell_type": "markdown",
   "id": "616f5600",
   "metadata": {},
   "source": [
    "#### int\n",
    "\n",
    "La conversion de float en int arrondira la valeur (la rapprochera de zéro)."
   ]
  },
  {
   "cell_type": "code",
   "execution_count": 32,
   "id": "6abec619",
   "metadata": {},
   "outputs": [
    {
     "data": {
      "text/plain": [
       "11"
      ]
     },
     "execution_count": 32,
     "metadata": {},
     "output_type": "execute_result"
    }
   ],
   "source": [
    "int(11.7)"
   ]
  },
  {
   "cell_type": "code",
   "execution_count": 33,
   "id": "3caa9f29",
   "metadata": {},
   "outputs": [
    {
     "data": {
      "text/plain": [
       "-11"
      ]
     },
     "execution_count": 33,
     "metadata": {},
     "output_type": "execute_result"
    }
   ],
   "source": [
    "int(-11.7)"
   ]
  },
  {
   "cell_type": "markdown",
   "id": "dd97f5f4",
   "metadata": {},
   "source": [
    "Vous pouvez également transformer un booléen en un int."
   ]
  },
  {
   "cell_type": "code",
   "execution_count": 34,
   "id": "ee98f581",
   "metadata": {},
   "outputs": [
    {
     "data": {
      "text/plain": [
       "1"
      ]
     },
     "execution_count": 34,
     "metadata": {},
     "output_type": "execute_result"
    }
   ],
   "source": [
    "int(True)"
   ]
  },
  {
   "cell_type": "code",
   "execution_count": 35,
   "id": "bb09d4e6",
   "metadata": {},
   "outputs": [
    {
     "data": {
      "text/plain": [
       "0"
      ]
     },
     "execution_count": 35,
     "metadata": {},
     "output_type": "execute_result"
    }
   ],
   "source": [
    "int(False)"
   ]
  },
  {
   "cell_type": "markdown",
   "id": "408b5415",
   "metadata": {},
   "source": [
    "Vous ne pouvez pas transformer une chaîne de caractères en un int. Cela provoque une erreur. Cependant, si la chaîne ne contient que des chiffres, vous pouvez le faire."
   ]
  },
  {
   "cell_type": "code",
   "execution_count": 36,
   "id": "3a84e2a4",
   "metadata": {},
   "outputs": [
    {
     "ename": "ValueError",
     "evalue": "invalid literal for int() with base 10: 'ENSAE'",
     "output_type": "error",
     "traceback": [
      "\u001b[1;31m---------------------------------------------------------------------------\u001b[0m",
      "\u001b[1;31mValueError\u001b[0m                                Traceback (most recent call last)",
      "Cell \u001b[1;32mIn[36], line 1\u001b[0m\n\u001b[1;32m----> 1\u001b[0m \u001b[38;5;28mint\u001b[39m(\u001b[38;5;124m\"\u001b[39m\u001b[38;5;124mENSAE\u001b[39m\u001b[38;5;124m\"\u001b[39m)\n",
      "\u001b[1;31mValueError\u001b[0m: invalid literal for int() with base 10: 'ENSAE'"
     ]
    }
   ],
   "source": [
    "int(\"ENSAE\")"
   ]
  },
  {
   "cell_type": "code",
   "execution_count": 37,
   "id": "18cb8d93",
   "metadata": {},
   "outputs": [
    {
     "data": {
      "text/plain": [
       "11"
      ]
     },
     "execution_count": 37,
     "metadata": {},
     "output_type": "execute_result"
    }
   ],
   "source": [
    "int(\"11\")"
   ]
  },
  {
   "cell_type": "markdown",
   "id": "646b71a0",
   "metadata": {},
   "source": [
    "#### str()\n",
    "\n",
    "<em>str()</em> convertit la valeur en une chaîne de caractères."
   ]
  },
  {
   "cell_type": "code",
   "execution_count": 38,
   "id": "008d65c3",
   "metadata": {},
   "outputs": [
    {
     "data": {
      "text/plain": [
       "'2.24'"
      ]
     },
     "execution_count": 38,
     "metadata": {},
     "output_type": "execute_result"
    }
   ],
   "source": [
    "str(2.24)"
   ]
  },
  {
   "cell_type": "code",
   "execution_count": 39,
   "id": "24e8fb14",
   "metadata": {},
   "outputs": [
    {
     "data": {
      "text/plain": [
       "'True'"
      ]
     },
     "execution_count": 39,
     "metadata": {},
     "output_type": "execute_result"
    }
   ],
   "source": [
    "str(True)"
   ]
  },
  {
   "cell_type": "code",
   "execution_count": 40,
   "id": "3ec0ff1e",
   "metadata": {},
   "outputs": [
    {
     "data": {
      "text/plain": [
       "'False'"
      ]
     },
     "execution_count": 40,
     "metadata": {},
     "output_type": "execute_result"
    }
   ],
   "source": [
    "str(False)"
   ]
  },
  {
   "cell_type": "code",
   "execution_count": 41,
   "id": "5ab5cfe1",
   "metadata": {},
   "outputs": [
    {
     "data": {
      "text/plain": [
       "'10'"
      ]
     },
     "execution_count": 41,
     "metadata": {},
     "output_type": "execute_result"
    }
   ],
   "source": [
    "str(10)"
   ]
  },
  {
   "cell_type": "markdown",
   "id": "ee4cc9d0",
   "metadata": {},
   "source": [
    "## **La fonction  print()**"
   ]
  },
  {
   "cell_type": "markdown",
   "id": "214f4e03",
   "metadata": {},
   "source": [
    "Syntaxe:\n",
    "\n",
    "                         print(*objects, sep=' ', end='\\n', file=sys.stdout, flush=False)"
   ]
  },
  {
   "cell_type": "markdown",
   "id": "3ee51289",
   "metadata": {},
   "source": [
    "**objects** - objet à afficher. * indique qu'il peut y avoir plus d'un objet"
   ]
  },
  {
   "cell_type": "markdown",
   "id": "a89d8dab",
   "metadata": {},
   "source": [
    "**sep** - les objets sont séparés par sep. Valeur par défaut : ' '<br>\n",
    "\n",
    "**end** - la fin est imprimée en dernier\n",
    "\n",
    "**file** - doit être un objet avec la méthode write(string). S'il est omis, sys.stdout sera utilisé pour afficher les objets à l'écran.\n",
    "\n",
    "**flush** - Si True, le flux est forcé de se vider. Default value: False<br><br>"
   ]
  },
  {
   "cell_type": "code",
   "execution_count": 42,
   "id": "1b3da183",
   "metadata": {},
   "outputs": [
    {
     "name": "stdout",
     "output_type": "stream",
     "text": [
      "Nous sommes dans la classe des AS1 de l'ENSAE\n"
     ]
    }
   ],
   "source": [
    "print(\"Nous sommes dans la classe des AS1 de l'ENSAE\")"
   ]
  },
  {
   "cell_type": "code",
   "execution_count": 43,
   "id": "ee3679a3",
   "metadata": {},
   "outputs": [
    {
     "name": "stdout",
     "output_type": "stream",
     "text": [
      "x = 2\n"
     ]
    }
   ],
   "source": [
    "# Initialiser une variable\n",
    "x = 2\n",
    "print(\"x =\", x) # Ici nous passons deux objets"
   ]
  },
  {
   "cell_type": "markdown",
   "id": "0fc69b87",
   "metadata": {},
   "source": [
    "Seul le paramètre objet est passé dans la fonction print() ci-dessus."
   ]
  },
  {
   "cell_type": "markdown",
   "id": "3604a056",
   "metadata": {},
   "source": [
    "#### print() avec les paramètres de séparation et de fin\n",
    "\n",
    "Par défaut, la fonction print() se termine par une nouvelle ligne. \n",
    "\n",
    "La valeur par défaut de ce paramètre est '\\n' , le caractère de retour à la ligne. \n",
    "Vous pouvez terminer une instruction d'impression par n'importe quel caractère ou chaîne de caractères à l'aide de ce paramètre.\n",
    "\n",
    "Parfois, vous avez besoin d'imprimer une ligne vide dans votre programme Python."
   ]
  },
  {
   "cell_type": "code",
   "execution_count": 44,
   "id": "f8a9818b",
   "metadata": {},
   "outputs": [
    {
     "name": "stdout",
     "output_type": "stream",
     "text": [
      "x = 2\n",
      "\n",
      "\n",
      "a = 8j"
     ]
    }
   ],
   "source": [
    "x = 2\n",
    "a = 8\n",
    "print(\"x =\", x, end='\\n\\n\\n')\n",
    "print(\"a =\", 8, end = 'j')"
   ]
  },
  {
   "cell_type": "markdown",
   "id": "61950c8b",
   "metadata": {},
   "source": [
    "Les objets seront séparés en fonction de la valeur du paramètre <em>sep</em>."
   ]
  },
  {
   "cell_type": "code",
   "execution_count": 45,
   "id": "f97861f7",
   "metadata": {},
   "outputs": [
    {
     "name": "stdout",
     "output_type": "stream",
     "text": [
      "x =$$2\n",
      "a =j8\n"
     ]
    }
   ],
   "source": [
    "x = 2\n",
    "a = 8\n",
    "print(\"x =\", x, sep='$$')\n",
    "print(\"a =\", 8, sep = 'j')"
   ]
  },
  {
   "cell_type": "markdown",
   "id": "406c3e0c",
   "metadata": {},
   "source": [
    "## **User Input**\n",
    "\n",
    "La fonction  input() est utilisée pour lire des données à partir d'une entrée standard telle qu'un clavier et traite les données reçues comme une chaîne de caractères. Lorsque nous entrons une valeur numérique, la fonction input() de Python 3 la stocke sous la forme d'une chaîne de caractères. Ainsi, pour convertir une valeur de chaîne en valeur entière, nous utiliserons la fonction int() comme indiqué ci-dessous."
   ]
  },
  {
   "cell_type": "code",
   "execution_count": 47,
   "id": "9fce3a82",
   "metadata": {},
   "outputs": [
    {
     "name": "stdout",
     "output_type": "stream",
     "text": [
      "Saisir son age: 31\n",
      "31\n"
     ]
    },
    {
     "data": {
      "text/plain": [
       "int"
      ]
     },
     "execution_count": 47,
     "metadata": {},
     "output_type": "execute_result"
    }
   ],
   "source": [
    "age = int(input(\"Saisir son age: \"))\n",
    "print(age)\n",
    "type(age)"
   ]
  },
  {
   "cell_type": "code",
   "execution_count": 48,
   "id": "b714eb72",
   "metadata": {},
   "outputs": [
    {
     "name": "stdout",
     "output_type": "stream",
     "text": [
      "Saisir son nom: Hema\n",
      "Hema\n"
     ]
    },
    {
     "data": {
      "text/plain": [
       "str"
      ]
     },
     "execution_count": 48,
     "metadata": {},
     "output_type": "execute_result"
    }
   ],
   "source": [
    "nom = input(\"Saisir son nom: \")\n",
    "print(nom)\n",
    "type(nom)"
   ]
  },
  {
   "cell_type": "markdown",
   "id": "05f6733d",
   "metadata": {},
   "source": [
    "Lorsque la fonction <em>input()</em> s'exécute, le déroulement du programme est interrompu jusqu'à ce que l'utilisateur ait saisi une valeur. Le message affiché sur l'écran de sortie pour demander à l'utilisateur d'entrer une valeur est facultatif, c'est-à-dire que l'invite qui sera imprimée sur l'écran est facultative.\n",
    "Quelle que soit la valeur saisie, la fonction input la convertit en chaîne de caractères. Si vous saisissez une valeur entière, la fonction input() la convertit toujours en chaîne de caractères. Vous devez la convertir explicitement en un entier dans votre code en utilisant le typecasting."
   ]
  },
  {
   "cell_type": "markdown",
   "id": "b2afe60d",
   "metadata": {},
   "source": [
    "## **Opérateurs en Python**\n",
    "\n",
    "### **Opérateur arithmétique**\n",
    "\n",
    "Les opérateurs arithmétiques sont utilisés pour effectuer des opérations mathématiques telles que l'addition, la soustraction, la multiplication, etc."
   ]
  },
  {
   "cell_type": "code",
   "execution_count": 51,
   "id": "459c8b2f",
   "metadata": {},
   "outputs": [
    {
     "name": "stdout",
     "output_type": "stream",
     "text": [
      "a + b = 14\n",
      "a - b = 10\n",
      "a * b = 24\n",
      "a % b = 0\n",
      "a / b = 6.0\n",
      "a // b = 6\n",
      "a ** b = 144\n"
     ]
    }
   ],
   "source": [
    "a = 12\n",
    "b = 2\n",
    "# Opérateur '+'\n",
    "print('a + b =',a+b) # Affiche l'addition de a et b\n",
    "\n",
    "#opérateur '-' \n",
    "print('a - b =',a-b) # Affiche la soustraction de a et b\n",
    "\n",
    "# opérateur '*'\n",
    "print('a * b =',a*b) # Affiche la multiplication de a et b\n",
    "\n",
    "# opérateur '%'\n",
    "print('a % b =',a%b) # Affiche le reste de la division entre a et b\n",
    "\n",
    "# opérateur '/'\n",
    "print('a / b =',a/b) # Affiche la division de a et b\n",
    "\n",
    "# opérateur '//'\n",
    "print('a // b =',a//b) # Affiche la valeur intermédiaire de la division entre a et b \n",
    "\n",
    "# Opérateur '**'\n",
    "print('a ** b =',a**b) # Affiche le résultat de a à la puissance b"
   ]
  },
  {
   "cell_type": "markdown",
   "id": "9d749394",
   "metadata": {},
   "source": [
    "### **Opérateur de comparaison**\n",
    "\n",
    "Les opérateurs de comparaison effectuent la comparaison entre les opérandes. Il indique si une opérande est plus grand que l'autre, plus petit, égal ou une combinaison de ces éléments. Il renvoie True ou False en fonction de la condition."
   ]
  },
  {
   "cell_type": "code",
   "execution_count": 53,
   "id": "f62ad6e2",
   "metadata": {},
   "outputs": [
    {
     "name": "stdout",
     "output_type": "stream",
     "text": [
      "a > b est False\n",
      "a < b est True\n",
      "a == b est False\n",
      "a != b est True\n",
      "a >= b est False\n",
      "a <= b est True\n"
     ]
    }
   ],
   "source": [
    "a = 10\n",
    "b = 20\n",
    "\n",
    "# Opérateur '>'.\n",
    "print('a > b est',a>b) # Affiche Faux puisque a est plus petit que b\n",
    "\n",
    "# opérateur '<'\n",
    "print('a < b est',a<b) # Affiche Vrai puisque a est plus petit que b\n",
    "\n",
    "# Opérateur '=='\n",
    "print('a == b est',a==b) # Affiche Faux puisque a et b ne sont pas égaux\n",
    "\n",
    "# opérateur '!='\n",
    "print('a != b est',a!=b) # Affiche Vrai car a n'est pas égal à b\n",
    "\n",
    "# opérateur '>='\n",
    "print('a >= b est',a>=b) # Affiche Faux puisque a n'est ni plus petit ni égal à b\n",
    "\n",
    "# opérateur '<= y'\n",
    "print('a <= b est',a<=b) # Affiche Vrai car a est plus petit que b"
   ]
  },
  {
   "cell_type": "markdown",
   "id": "87017957",
   "metadata": {},
   "source": [
    "### **Opérateur d'affectation**\n",
    "\n",
    "Un opérateur d'affectation affecte une valeur à une variable. Il peut manipuler la valeur par un facteur avant de l'affecter."
   ]
  },
  {
   "cell_type": "code",
   "execution_count": 54,
   "id": "9a0a7ff6",
   "metadata": {},
   "outputs": [
    {
     "name": "stdout",
     "output_type": "stream",
     "text": [
      "x =  5\n",
      "La valeur mise à jour de x après (x += 5) est  10\n",
      "La valeur actualisée de x après (x -=2) est  8\n",
      "La valeur actualisée de x après (x *= 2) est  16\n",
      "La valeur actualisée de x après (x /= 4) est 4.0\n"
     ]
    }
   ],
   "source": [
    "# Opérateur '='\n",
    "x = 5 # Assigne la valeur à la variable de gauche\n",
    "print(\"x = \", x)\n",
    "\n",
    "# opérateur '+='                 \n",
    "x += 5 \n",
    "print(\"La valeur mise à jour de x après (x += 5) est \", x)    # Additionne les valeurs de part et d'autre et les affecte à l'expression de gauche. x+=5 est identique à x=x+5\n",
    "\n",
    "# Opérateur '-='\n",
    "x -=2\n",
    "print(\"La valeur actualisée de x après (x -=2) est \", x)     # Soustrait 2 de la dernière valeur de x et l'affecte à x(qui est 10)\n",
    "\n",
    "# Opérateur '*='\n",
    "x *= 2\n",
    "print(\"La valeur actualisée de x après (x *= 2) est \", x)    # multiplie la valeur actuelle de x par 2 et affecte le résultat à la même variable\n",
    "\n",
    "# Opérateur '/='\n",
    "x /= 4 \n",
    "print('La valeur actualisée de x après (x /= 4) est', x)    # Divise la valeur actuelle de x par 4 et affecte le résultat à la même variable"
   ]
  },
  {
   "cell_type": "markdown",
   "id": "ad309883",
   "metadata": {},
   "source": [
    "<em>i+=1 est la même chose que i=i+1, alors que i=+1 signifie simplement i=(+1)</em>."
   ]
  },
  {
   "cell_type": "markdown",
   "id": "cc5f78c1",
   "metadata": {},
   "source": [
    "### **Opérateurs logiques**"
   ]
  }
 ],
 "metadata": {
  "kernelspec": {
   "display_name": "Python 3 (ipykernel)",
   "language": "python",
   "name": "python3"
  },
  "language_info": {
   "codemirror_mode": {
    "name": "ipython",
    "version": 3
   },
   "file_extension": ".py",
   "mimetype": "text/x-python",
   "name": "python",
   "nbconvert_exporter": "python",
   "pygments_lexer": "ipython3",
   "version": "3.11.5"
  }
 },
 "nbformat": 4,
 "nbformat_minor": 5
}
