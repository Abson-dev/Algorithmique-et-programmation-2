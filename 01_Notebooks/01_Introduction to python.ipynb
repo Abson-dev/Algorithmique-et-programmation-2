{
 "cells": [
  {
   "cell_type": "markdown",
   "id": "f799ccab",
   "metadata": {},
   "source": [
    "## Sujets abordés\n",
    "\n",
    "### Installation de Python\n",
    "\n",
    "- Démarrer avec Python\n",
    "- Téléchargement et installation d'Anaconda Navigator\n",
    "- Travailler avec Jupyter Notebook\n",
    "\n",
    "\n",
    "### Introduction à Python\n",
    "\n",
    "- Variables et Types de base en Python\n",
    "- Les opérateurs en Python\n",
    "- Structures de contrôle en Python (condition, boucle, itérateur, range)\n",
    "- Fonctions en Python (définition, paramètres et arguments, appel, expression lambda)\n",
    "\n",
    "### Les structures de données en Python\n",
    "\n",
    "- Listes, tuples, dictionnaires et collections\n"
   ]
  },
  {
   "cell_type": "code",
   "execution_count": null,
   "id": "4a741f31",
   "metadata": {},
   "outputs": [],
   "source": []
  }
 ],
 "metadata": {
  "kernelspec": {
   "display_name": "Python 3 (ipykernel)",
   "language": "python",
   "name": "python3"
  },
  "language_info": {
   "codemirror_mode": {
    "name": "ipython",
    "version": 3
   },
   "file_extension": ".py",
   "mimetype": "text/x-python",
   "name": "python",
   "nbconvert_exporter": "python",
   "pygments_lexer": "ipython3",
   "version": "3.11.5"
  }
 },
 "nbformat": 4,
 "nbformat_minor": 5
}
