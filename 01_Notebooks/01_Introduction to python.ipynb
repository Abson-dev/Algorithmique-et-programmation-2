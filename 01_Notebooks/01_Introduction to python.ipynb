{
 "cells": [
  {
   "cell_type": "markdown",
   "id": "52a252d7",
   "metadata": {},
   "source": [
    "## Sujets abordés\n",
    "\n",
    "### Installation de Python\n",
    "\n",
    "- Démarrer avec Python\n",
    "- Téléchargement et installation d'Anaconda Navigator\n",
    "- Travailler avec Jupyter Notebook\n",
    "\n",
    "\n",
    "### Introduction à Python\n",
    "\n",
    "- Variables et Types de base en Python\n",
    "- Les opérateurs en Python\n",
    "- Structures de contrôle en Python (condition, boucle, itérateur, range)\n",
    "- Fonctions en Python (définition, paramètres et arguments, appel, expression lambda)\n",
    "\n",
    "### Les structures de données en Python\n",
    "\n",
    "- Listes \n",
    "- Tuples \n",
    "- Dictionnaires\n",
    "- Collections\n",
    "\n",
    "### Statistiques descriptives\n",
    "\n",
    "- Les statistiques de base\n",
    "- Mesures de tendance centrale\n",
    "- Mesures de dispersion\n",
    "- Coefficient de covariance et de corrélation\n",
    "- Analyse exploratoire des données"
   ]
  },
  {
   "cell_type": "markdown",
   "id": "b041e049",
   "metadata": {},
   "source": [
    "### Installation de Python\n",
    "\n",
    "#### 1-  Démarrer avec Python\n",
    "\n",
    "Python peut être utilisé pour effectuer diverses tâches liées à la science des données, telles que le nettoyage des données, la visualisation des données, l'entraînement des modèles, le déploiement des modèles, etc.\n",
    "\n",
    "Python a également d'autres applications telles que le développement web, le développement de jeux, etc.\n",
    "\n",
    "#### 2- Téléchargement et installation d'Anaconda Navigator\n",
    "\n",
    "L'édition individuelle d'[Anaconda](https://www.anaconda.com/download) est utilisée à des fins personnelles. Les éditions Enterprise, Team et commerciale offrent des fonctionnalités plus avancées et leur utilisation est payante.\n",
    "\n",
    "L'application Anaconda Navigator permet d'accéder à tous les outils fournis avec Anaconda.\n",
    "La distribution Anaconda est livrée avec de nombreuses bibliothèques Python préinstallées. Certaines des bibliothèques les plus utilisées sont NumPy, pandas, etc.\n",
    "\n",
    "**Etapes de téléchargement et d'installation d'Anaconda Navigator**\n",
    "\n",
    "- Aller sur le lien de téléchargement d'[Anaconda Navigator](https://www.anaconda.com/download) \n",
    "\n",
    "\n",
    "#### 3- Jupyter Notebook"
   ]
  },
  {
   "cell_type": "markdown",
   "id": "22eaa748",
   "metadata": {},
   "source": [
    "\n",
    "### Introduction à Python\n",
    "\n",
    "- Variables et Types de base en Python\n",
    "\n",
    "**Déclarer et assigner une valeur à une variable.**\n",
    "\n",
    "Nous utilisons l'opérateur d'affectation '**=**' pour attribuer une valeur à une variable.\n"
   ]
  },
  {
   "cell_type": "code",
   "execution_count": 1,
   "id": "9514a820",
   "metadata": {},
   "outputs": [],
   "source": [
    "num = 10"
   ]
  },
  {
   "cell_type": "markdown",
   "id": "9366bc9a",
   "metadata": {},
   "source": [
    "L'opérande à gauche de l'opérateur = est le nom de la variable et l'opérande à droite de l'opérateur = est la valeur stockée dans la variable. Ici, nous avons créé une variable nommée « num » et nous avons assigné la valeur 10 à la variable « num ».\n",
    "\n",
    "**Affectations multiples**\n",
    "\n",
    "Python permet d'affecter une même valeur à plusieurs variables simultanément. Par exemple:"
   ]
  },
  {
   "cell_type": "code",
   "execution_count": 2,
   "id": "517e6a25",
   "metadata": {},
   "outputs": [],
   "source": [
    "# Ici, un objet entier est créé avec la valeur 5, et les trois variables sont assignées au même emplacement de mémoire\n",
    "x = y = z = 5"
   ]
  },
  {
   "cell_type": "markdown",
   "id": "e78e09b6",
   "metadata": {},
   "source": [
    "Vous pouvez également affecter plusieurs objets à plusieurs variables."
   ]
  },
  {
   "cell_type": "code",
   "execution_count": 3,
   "id": "d1fd0d47",
   "metadata": {},
   "outputs": [],
   "source": [
    "age,poids,sexe = 15,40.1,\"Fille\""
   ]
  },
  {
   "cell_type": "markdown",
   "id": "7573c4da",
   "metadata": {},
   "source": [
    "**Ré-assignation d'une variable**"
   ]
  },
  {
   "cell_type": "code",
   "execution_count": 4,
   "id": "7cba12be",
   "metadata": {},
   "outputs": [
    {
     "data": {
      "text/plain": [
       "25"
      ]
     },
     "execution_count": 4,
     "metadata": {},
     "output_type": "execute_result"
    }
   ],
   "source": [
    "var1 = 25\n",
    "var2 = \"Ndeye\"\n",
    "var2 = var1\n",
    "var2"
   ]
  },
  {
   "cell_type": "markdown",
   "id": "ea852828",
   "metadata": {},
   "source": [
    "**Règles et conventions de dénomination**"
   ]
  },
  {
   "cell_type": "markdown",
   "id": "feff7cac",
   "metadata": {},
   "source": [
    "**Types de variables**\n",
    "\n",
    "Un type de variable est un attribut des données qui indique au compilateur ou à l'interprète comment le programmeur a l'intention d'utiliser les variables. Python prend en charge les types de données suivants : *1. Les nombres 2. Chaînes de caractères 3. Les booléens 4. Listes 5. Tuples 6. Dictionnaires 7. Ensembles*\n",
    "\n",
    "**Les nombres en Python**\n",
    "\n",
    "Il existe quatre types de variable numériques en Python :\n",
    "\n",
    "a. *int* (entiers signés)\n",
    "\n",
    "b. *float* (valeurs réelles à virgule flottante)\n",
    "\n",
    "c. *long* (nombres entiers longs, ils peuvent également être représentés en octal et en hexadécimal)\n",
    "\n",
    "d. *complex* (nombres complexes)"
   ]
  },
  {
   "cell_type": "markdown",
   "id": "d798ca61",
   "metadata": {},
   "source": [
    "<table>\n",
    "  <tr>\n",
    "  <th>int</th>\n",
    "  <th>float</th>\n",
    "  <th>long</th>\n",
    "  <th>complex</th>\n",
    "  </tr>\n",
    "  <tr>\n",
    "  <td>10</td>\n",
    "  <td>54.4</td>\n",
    "  <td>012345L</td>\n",
    "  <td>2+5j</td>  \n",
    "  </tr>\n",
    "  <tr>\n",
    "  <td>70</td>\n",
    "  <td>0.01</td>\n",
    "  <td>-987652L</td>\n",
    "  <td>1.18j</td>\n",
    "  </tr>\n",
    "  <tr>\n",
    "  <td>-150</td>\n",
    "  <td>1.626e16</td>\n",
    "  <td>10000000000000000</td>\n",
    "  <td>-10j</td>\n",
    "  </tr>\n",
    "  <tr>\n",
    "  <td>0x69</td>\n",
    "  <td>74.15</td>\n",
    "  <td>-4335685298777L</td>\n",
    "  <td>45j</td>\n",
    "  </tr>\n",
    "  <tr>\n",
    "  <td>-0x260</td>\n",
    "  <td>89.33</td>\n",
    "  <td>0348L\t</td>\n",
    "  <td>3e+26J</td>\n",
    "  </tr>\n",
    "</table>"
   ]
  },
  {
   "cell_type": "markdown",
   "id": "c13997db",
   "metadata": {},
   "source": [
    "#### int\n",
    "\n",
    "'int' est l'abréviation de integer (entier). Ce type de données Python contient des entiers signés. Nous pouvons utiliser la fonction type() pour savoir à quelle classe il appartient."
   ]
  },
  {
   "cell_type": "code",
   "execution_count": 6,
   "id": "10cc7a82",
   "metadata": {},
   "outputs": [
    {
     "data": {
      "text/plain": [
       "int"
      ]
     },
     "execution_count": 6,
     "metadata": {},
     "output_type": "execute_result"
    }
   ],
   "source": [
    "a = -23\n",
    "type(a)"
   ]
  },
  {
   "cell_type": "code",
   "execution_count": 7,
   "id": "8ba05931",
   "metadata": {},
   "outputs": [
    {
     "data": {
      "text/plain": [
       "int"
      ]
     },
     "execution_count": 7,
     "metadata": {},
     "output_type": "execute_result"
    }
   ],
   "source": [
    "x = 1000\n",
    "type(a)"
   ]
  },
  {
   "cell_type": "markdown",
   "id": "6c89919b",
   "metadata": {},
   "source": [
    "#### float"
   ]
  },
  {
   "cell_type": "code",
   "execution_count": 8,
   "id": "01ef4c4f",
   "metadata": {},
   "outputs": [
    {
     "data": {
      "text/plain": [
       "float"
      ]
     },
     "execution_count": 8,
     "metadata": {},
     "output_type": "execute_result"
    }
   ],
   "source": [
    "a = 1.1\n",
    "type(a)"
   ]
  },
  {
   "cell_type": "code",
   "execution_count": 9,
   "id": "439b91f4",
   "metadata": {},
   "outputs": [
    {
     "data": {
      "text/plain": [
       "float"
      ]
     },
     "execution_count": 9,
     "metadata": {},
     "output_type": "execute_result"
    }
   ],
   "source": [
    "x = -3.14\n",
    "type(x)"
   ]
  },
  {
   "cell_type": "code",
   "execution_count": 10,
   "id": "539c8cc7",
   "metadata": {},
   "outputs": [
    {
     "data": {
      "text/plain": [
       "float"
      ]
     },
     "execution_count": 10,
     "metadata": {},
     "output_type": "execute_result"
    }
   ],
   "source": [
    "y = 1.626e16\n",
    "type(y)"
   ]
  },
  {
   "cell_type": "markdown",
   "id": "0ec3dab2",
   "metadata": {},
   "source": [
    "#### long"
   ]
  },
  {
   "cell_type": "code",
   "execution_count": 11,
   "id": "eaa5f6e1",
   "metadata": {},
   "outputs": [
    {
     "data": {
      "text/plain": [
       "int"
      ]
     },
     "execution_count": 11,
     "metadata": {},
     "output_type": "execute_result"
    }
   ],
   "source": [
    "x =999999999999999999999999999999999999999999999\n",
    "type(x)"
   ]
  },
  {
   "cell_type": "markdown",
   "id": "3486a011",
   "metadata": {},
   "source": [
    "#### complex"
   ]
  },
  {
   "cell_type": "code",
   "execution_count": 12,
   "id": "d61a3041",
   "metadata": {},
   "outputs": [
    {
     "data": {
      "text/plain": [
       "complex"
      ]
     },
     "execution_count": 12,
     "metadata": {},
     "output_type": "execute_result"
    }
   ],
   "source": [
    "x = 3+7j\n",
    "type(x)"
   ]
  },
  {
   "cell_type": "code",
   "execution_count": 13,
   "id": "ddd7d7ed",
   "metadata": {},
   "outputs": [
    {
     "data": {
      "text/plain": [
       "complex"
      ]
     },
     "execution_count": 13,
     "metadata": {},
     "output_type": "execute_result"
    }
   ],
   "source": [
    "y = 3e+4j\n",
    "type(y)"
   ]
  },
  {
   "cell_type": "markdown",
   "id": "b7d2ed79",
   "metadata": {},
   "source": [
    "### **Chaînes de caractères en Python**"
   ]
  },
  {
   "cell_type": "markdown",
   "id": "2f1baccf",
   "metadata": {},
   "source": [
    "Une chaîne de caractères est une séquence de caractères. Python n'a pas de type de données char, contrairement à C++ ou Java. Vous pouvez délimiter une chaîne de caractères en utilisant des guillemets simples ('chaîne de caractères') ou des guillemets doubles (\"chaîne de caractères\")."
   ]
  },
  {
   "cell_type": "code",
   "execution_count": 14,
   "id": "a1ab873b",
   "metadata": {},
   "outputs": [
    {
     "data": {
      "text/plain": [
       "'ENSAE de Dakar'"
      ]
     },
     "execution_count": 14,
     "metadata": {},
     "output_type": "execute_result"
    }
   ],
   "source": [
    "string = \"ENSAE de Dakar\"\n",
    "string"
   ]
  },
  {
   "cell_type": "markdown",
   "id": "24856db6",
   "metadata": {},
   "source": [
    "Le signe plus (+) est l'opérateur de concaténation de chaînes et l'astérisque (*) est l'opérateur de répétition."
   ]
  },
  {
   "cell_type": "code",
   "execution_count": 15,
   "id": "18038e87",
   "metadata": {},
   "outputs": [
    {
     "data": {
      "text/plain": [
       "'HemaAboubacar'"
      ]
     },
     "execution_count": 15,
     "metadata": {},
     "output_type": "execute_result"
    }
   ],
   "source": [
    "str1 = \"Hema\"\n",
    "str2 = \"Aboubacar\"\n",
    "str3 = str1+str2\n",
    "str3                      # Affiche la chaîne concaténée"
   ]
  },
  {
   "cell_type": "code",
   "execution_count": 16,
   "id": "abaa09c2",
   "metadata": {},
   "outputs": [
    {
     "data": {
      "text/plain": [
       "'HemaAboubacarHemaAboubacarHemaAboubacar'"
      ]
     },
     "execution_count": 16,
     "metadata": {},
     "output_type": "execute_result"
    }
   ],
   "source": [
    "str3*3                    # Affiche trois fois la chaîne de caractères"
   ]
  },
  {
   "cell_type": "markdown",
   "id": "72cbb042",
   "metadata": {},
   "source": [
    "Vous ne pouvez pas utiliser l'opérateur moins (-) et l'opérateur de division (/) sur les chaînes de caractères.\n",
    "\n",
    "Des sous-ensembles de chaînes peuvent être extraits à l'aide de l'opérateur de tranche ([ ]). Vous pouvez afficher un caractère d'une chaîne en utilisant son index dans la chaîne. N'oubliez pas que l'indexation commence à 0."
   ]
  },
  {
   "cell_type": "code",
   "execution_count": 17,
   "id": "4eb617ea",
   "metadata": {},
   "outputs": [
    {
     "data": {
      "text/plain": [
       "'S'"
      ]
     },
     "execution_count": 17,
     "metadata": {},
     "output_type": "execute_result"
    }
   ],
   "source": [
    "string[2]                 # Affiche le 3e caractère de string"
   ]
  },
  {
   "cell_type": "markdown",
   "id": "067126f1",
   "metadata": {},
   "source": [
    "Vous pouvez également afficher une série de caractères dans une chaîne à l'aide de l'opérateur de découpage, avec des index commençant à 0 au début de la chaîne et allant jusqu'à -1 à la fin."
   ]
  },
  {
   "cell_type": "code",
   "execution_count": 19,
   "id": "a5afc42b",
   "metadata": {},
   "outputs": [
    {
     "data": {
      "text/plain": [
       "'AE de '"
      ]
     },
     "execution_count": 19,
     "metadata": {},
     "output_type": "execute_result"
    }
   ],
   "source": [
    "string[3:9]             # Question : Que constatez vous?"
   ]
  },
  {
   "cell_type": "markdown",
   "id": "cdacd0b4",
   "metadata": {},
   "source": [
    "Les chaînes sont <em>immutables</em>. La ligne de code suivante génère une erreur."
   ]
  },
  {
   "cell_type": "code",
   "execution_count": 21,
   "id": "96caad47",
   "metadata": {},
   "outputs": [
    {
     "ename": "TypeError",
     "evalue": "'str' object does not support item assignment",
     "output_type": "error",
     "traceback": [
      "\u001b[1;31m---------------------------------------------------------------------------\u001b[0m",
      "\u001b[1;31mTypeError\u001b[0m                                 Traceback (most recent call last)",
      "Cell \u001b[1;32mIn[21], line 1\u001b[0m\n\u001b[1;32m----> 1\u001b[0m string[\u001b[38;5;241m0\u001b[39m] \u001b[38;5;241m=\u001b[39m \u001b[38;5;124m'\u001b[39m\u001b[38;5;124mP\u001b[39m\u001b[38;5;124m'\u001b[39m\n",
      "\u001b[1;31mTypeError\u001b[0m: 'str' object does not support item assignment"
     ]
    }
   ],
   "source": [
    "string[0] = 'P'"
   ]
  },
  {
   "cell_type": "markdown",
   "id": "a73589d2",
   "metadata": {},
   "source": [
    "### **Booléen en Python**\n",
    "\n",
    "Dans le langage de programmation Python, le type de variable booléen est un type de variable primitif ayant l'une des deux valeurs suivantes : **True** ou **False**. Il est souvent le résultat de certaines conditions."
   ]
  },
  {
   "cell_type": "code",
   "execution_count": 22,
   "id": "7635a9cb",
   "metadata": {},
   "outputs": [
    {
     "data": {
      "text/plain": [
       "bool"
      ]
     },
     "execution_count": 22,
     "metadata": {},
     "output_type": "execute_result"
    }
   ],
   "source": [
    "var = True\n",
    "type(var)"
   ]
  },
  {
   "cell_type": "code",
   "execution_count": 23,
   "id": "3875e7ae",
   "metadata": {},
   "outputs": [
    {
     "name": "stdout",
     "output_type": "stream",
     "text": [
      "True\n"
     ]
    }
   ],
   "source": [
    "print(10 > 9)"
   ]
  },
  {
   "cell_type": "code",
   "execution_count": 24,
   "id": "07405653",
   "metadata": {},
   "outputs": [
    {
     "name": "stdout",
     "output_type": "stream",
     "text": [
      "False\n"
     ]
    }
   ],
   "source": [
    "print(10 == 9)"
   ]
  },
  {
   "cell_type": "code",
   "execution_count": 25,
   "id": "8acf0f6b",
   "metadata": {},
   "outputs": [
    {
     "name": "stdout",
     "output_type": "stream",
     "text": [
      "False\n"
     ]
    }
   ],
   "source": [
    "print(10 < 9)"
   ]
  },
  {
   "cell_type": "markdown",
   "id": "b5505ea3",
   "metadata": {},
   "source": [
    "## **Conversion de type**\n",
    "\n",
    "Python étant un langage de type dynamique, il se peut que vous souhaitiez convertir une valeur en un autre type. Python supporte différentes fonctions de conversion de type comme int(), float(), str() etc."
   ]
  },
  {
   "cell_type": "markdown",
   "id": "dec6d0ea",
   "metadata": {},
   "source": [
    "#### float()\n",
    "\n",
    "Il convertit la valeur transmise en un nombre flottant."
   ]
  },
  {
   "cell_type": "code",
   "execution_count": 26,
   "id": "8aa594a6",
   "metadata": {},
   "outputs": [
    {
     "data": {
      "text/plain": [
       "11.0"
      ]
     },
     "execution_count": 26,
     "metadata": {},
     "output_type": "execute_result"
    }
   ],
   "source": [
    "float(11)"
   ]
  },
  {
   "cell_type": "markdown",
   "id": "fde678b9",
   "metadata": {},
   "source": [
    "Vous pouvez transformer un booléen en un flottant."
   ]
  },
  {
   "cell_type": "code",
   "execution_count": 27,
   "id": "8c89a137",
   "metadata": {},
   "outputs": [
    {
     "data": {
      "text/plain": [
       "1.0"
      ]
     },
     "execution_count": 27,
     "metadata": {},
     "output_type": "execute_result"
    }
   ],
   "source": [
    "float (True)"
   ]
  },
  {
   "cell_type": "code",
   "execution_count": 28,
   "id": "e5c59a11",
   "metadata": {},
   "outputs": [
    {
     "data": {
      "text/plain": [
       "0.0"
      ]
     },
     "execution_count": 28,
     "metadata": {},
     "output_type": "execute_result"
    }
   ],
   "source": [
    "float(False)"
   ]
  },
  {
   "cell_type": "markdown",
   "id": "1eaa41fc",
   "metadata": {},
   "source": [
    "Vous ne pouvez pas transformer une chaîne de caractères en un nombre flottant. Cela provoque une erreur. Cependant, si la chaîne ne contient que des nombres, vous pouvez le faire."
   ]
  },
  {
   "cell_type": "code",
   "execution_count": 29,
   "id": "2712983d",
   "metadata": {},
   "outputs": [
    {
     "ename": "ValueError",
     "evalue": "could not convert string to float: 'abc'",
     "output_type": "error",
     "traceback": [
      "\u001b[1;31m---------------------------------------------------------------------------\u001b[0m",
      "\u001b[1;31mValueError\u001b[0m                                Traceback (most recent call last)",
      "Cell \u001b[1;32mIn[29], line 1\u001b[0m\n\u001b[1;32m----> 1\u001b[0m \u001b[38;5;28mfloat\u001b[39m(\u001b[38;5;124m\"\u001b[39m\u001b[38;5;124mabc\u001b[39m\u001b[38;5;124m\"\u001b[39m)\n",
      "\u001b[1;31mValueError\u001b[0m: could not convert string to float: 'abc'"
     ]
    }
   ],
   "source": [
    "float(\"abc\")"
   ]
  },
  {
   "cell_type": "code",
   "execution_count": 30,
   "id": "d0e4eb17",
   "metadata": {},
   "outputs": [
    {
     "data": {
      "text/plain": [
       "11.0"
      ]
     },
     "execution_count": 30,
     "metadata": {},
     "output_type": "execute_result"
    }
   ],
   "source": [
    "float(\"11\")"
   ]
  },
  {
   "cell_type": "code",
   "execution_count": 31,
   "id": "510ec704",
   "metadata": {},
   "outputs": [
    {
     "data": {
      "text/plain": [
       "0.0224"
      ]
     },
     "execution_count": 31,
     "metadata": {},
     "output_type": "execute_result"
    }
   ],
   "source": [
    "# Vous pouvez également utiliser 'e' pour désigner un nombre exponentiel\n",
    "\n",
    "float(\"2.24e-2\") # Ce nombre fonctionne même sans la fonction float()"
   ]
  },
  {
   "cell_type": "markdown",
   "id": "5b15210d",
   "metadata": {},
   "source": [
    "#### int\n",
    "\n",
    "La conversion de float en int arrondira la valeur (la rapprochera de zéro)."
   ]
  },
  {
   "cell_type": "code",
   "execution_count": 32,
   "id": "dbf845f9",
   "metadata": {},
   "outputs": [
    {
     "data": {
      "text/plain": [
       "11"
      ]
     },
     "execution_count": 32,
     "metadata": {},
     "output_type": "execute_result"
    }
   ],
   "source": [
    "int(11.7)"
   ]
  },
  {
   "cell_type": "code",
   "execution_count": 33,
   "id": "d3ec693d",
   "metadata": {},
   "outputs": [
    {
     "data": {
      "text/plain": [
       "-11"
      ]
     },
     "execution_count": 33,
     "metadata": {},
     "output_type": "execute_result"
    }
   ],
   "source": [
    "int(-11.7)"
   ]
  },
  {
   "cell_type": "markdown",
   "id": "8acd08c8",
   "metadata": {},
   "source": [
    "Vous pouvez également transformer un booléen en un int."
   ]
  },
  {
   "cell_type": "code",
   "execution_count": 34,
   "id": "decb98af",
   "metadata": {},
   "outputs": [
    {
     "data": {
      "text/plain": [
       "1"
      ]
     },
     "execution_count": 34,
     "metadata": {},
     "output_type": "execute_result"
    }
   ],
   "source": [
    "int(True)"
   ]
  },
  {
   "cell_type": "code",
   "execution_count": 35,
   "id": "f63dd428",
   "metadata": {},
   "outputs": [
    {
     "data": {
      "text/plain": [
       "0"
      ]
     },
     "execution_count": 35,
     "metadata": {},
     "output_type": "execute_result"
    }
   ],
   "source": [
    "int(False)"
   ]
  },
  {
   "cell_type": "markdown",
   "id": "ae83f079",
   "metadata": {},
   "source": [
    "Vous ne pouvez pas transformer une chaîne de caractères en un int. Cela provoque une erreur. Cependant, si la chaîne ne contient que des chiffres, vous pouvez le faire."
   ]
  },
  {
   "cell_type": "code",
   "execution_count": 36,
   "id": "afe8cdc1",
   "metadata": {},
   "outputs": [
    {
     "ename": "ValueError",
     "evalue": "invalid literal for int() with base 10: 'ENSAE'",
     "output_type": "error",
     "traceback": [
      "\u001b[1;31m---------------------------------------------------------------------------\u001b[0m",
      "\u001b[1;31mValueError\u001b[0m                                Traceback (most recent call last)",
      "Cell \u001b[1;32mIn[36], line 1\u001b[0m\n\u001b[1;32m----> 1\u001b[0m \u001b[38;5;28mint\u001b[39m(\u001b[38;5;124m\"\u001b[39m\u001b[38;5;124mENSAE\u001b[39m\u001b[38;5;124m\"\u001b[39m)\n",
      "\u001b[1;31mValueError\u001b[0m: invalid literal for int() with base 10: 'ENSAE'"
     ]
    }
   ],
   "source": [
    "int(\"ENSAE\")"
   ]
  },
  {
   "cell_type": "code",
   "execution_count": 37,
   "id": "29304615",
   "metadata": {},
   "outputs": [
    {
     "data": {
      "text/plain": [
       "11"
      ]
     },
     "execution_count": 37,
     "metadata": {},
     "output_type": "execute_result"
    }
   ],
   "source": [
    "int(\"11\")"
   ]
  },
  {
   "cell_type": "markdown",
   "id": "d6654dbf",
   "metadata": {},
   "source": [
    "#### str()\n",
    "\n",
    "<em>str()</em> convertit la valeur en une chaîne de caractères."
   ]
  },
  {
   "cell_type": "code",
   "execution_count": 38,
   "id": "283db376",
   "metadata": {},
   "outputs": [
    {
     "data": {
      "text/plain": [
       "'2.24'"
      ]
     },
     "execution_count": 38,
     "metadata": {},
     "output_type": "execute_result"
    }
   ],
   "source": [
    "str(2.24)"
   ]
  },
  {
   "cell_type": "code",
   "execution_count": 39,
   "id": "626f670a",
   "metadata": {},
   "outputs": [
    {
     "data": {
      "text/plain": [
       "'True'"
      ]
     },
     "execution_count": 39,
     "metadata": {},
     "output_type": "execute_result"
    }
   ],
   "source": [
    "str(True)"
   ]
  },
  {
   "cell_type": "code",
   "execution_count": 40,
   "id": "6c3ed36d",
   "metadata": {},
   "outputs": [
    {
     "data": {
      "text/plain": [
       "'False'"
      ]
     },
     "execution_count": 40,
     "metadata": {},
     "output_type": "execute_result"
    }
   ],
   "source": [
    "str(False)"
   ]
  },
  {
   "cell_type": "code",
   "execution_count": 41,
   "id": "f53cd37c",
   "metadata": {},
   "outputs": [
    {
     "data": {
      "text/plain": [
       "'10'"
      ]
     },
     "execution_count": 41,
     "metadata": {},
     "output_type": "execute_result"
    }
   ],
   "source": [
    "str(10)"
   ]
  },
  {
   "cell_type": "markdown",
   "id": "8e4907e1",
   "metadata": {},
   "source": [
    "## **La fonction  print()**"
   ]
  },
  {
   "cell_type": "markdown",
   "id": "a9a16fb5",
   "metadata": {},
   "source": [
    "Syntaxe:\n",
    "\n",
    "                         print(*objects, sep=' ', end='\\n', file=sys.stdout, flush=False)"
   ]
  },
  {
   "cell_type": "markdown",
   "id": "c027c344",
   "metadata": {},
   "source": [
    "**objects** - objet à afficher. * indique qu'il peut y avoir plus d'un objet"
   ]
  },
  {
   "cell_type": "markdown",
   "id": "6714d5cf",
   "metadata": {},
   "source": [
    "**sep** - les objets sont séparés par sep. Valeur par défaut : ' '<br>\n",
    "\n",
    "**end** - la fin est imprimée en dernier\n",
    "\n",
    "**file** - doit être un objet avec la méthode write(string). S'il est omis, sys.stdout sera utilisé pour afficher les objets à l'écran.\n",
    "\n",
    "**flush** - Si True, le flux est forcé de se vider. Default value: False<br><br>"
   ]
  },
  {
   "cell_type": "code",
   "execution_count": 42,
   "id": "05281ea6",
   "metadata": {},
   "outputs": [
    {
     "name": "stdout",
     "output_type": "stream",
     "text": [
      "Nous sommes dans la classe des AS1 de l'ENSAE\n"
     ]
    }
   ],
   "source": [
    "print(\"Nous sommes dans la classe des AS1 de l'ENSAE\")"
   ]
  },
  {
   "cell_type": "code",
   "execution_count": 43,
   "id": "96cf6f83",
   "metadata": {},
   "outputs": [
    {
     "name": "stdout",
     "output_type": "stream",
     "text": [
      "x = 2\n"
     ]
    }
   ],
   "source": [
    "# Initialiser une variable\n",
    "x = 2\n",
    "print(\"x =\", x) # Ici nous passons deux objets"
   ]
  },
  {
   "cell_type": "markdown",
   "id": "714dc8b5",
   "metadata": {},
   "source": [
    "Seul le paramètre objet est passé dans la fonction print() ci-dessus."
   ]
  },
  {
   "cell_type": "markdown",
   "id": "45bb5b33",
   "metadata": {},
   "source": [
    "#### print() avec les paramètres de séparation et de fin\n",
    "\n",
    "Par défaut, la fonction print() se termine par une nouvelle ligne. \n",
    "\n",
    "La valeur par défaut de ce paramètre est '\\n' , le caractère de retour à la ligne. \n",
    "Vous pouvez terminer une instruction d'impression par n'importe quel caractère ou chaîne de caractères à l'aide de ce paramètre.\n",
    "\n",
    "Parfois, vous avez besoin d'imprimer une ligne vide dans votre programme Python."
   ]
  },
  {
   "cell_type": "code",
   "execution_count": 44,
   "id": "0d12384c",
   "metadata": {},
   "outputs": [
    {
     "name": "stdout",
     "output_type": "stream",
     "text": [
      "x = 2\n",
      "\n",
      "\n",
      "a = 8j"
     ]
    }
   ],
   "source": [
    "x = 2\n",
    "a = 8\n",
    "print(\"x =\", x, end='\\n\\n\\n')\n",
    "print(\"a =\", 8, end = 'j')"
   ]
  },
  {
   "cell_type": "markdown",
   "id": "9bf493d2",
   "metadata": {},
   "source": [
    "Les objets seront séparés en fonction de la valeur du paramètre <em>sep</em>."
   ]
  },
  {
   "cell_type": "code",
   "execution_count": 45,
   "id": "fdfc289f",
   "metadata": {},
   "outputs": [
    {
     "name": "stdout",
     "output_type": "stream",
     "text": [
      "x =$$2\n",
      "a =j8\n"
     ]
    }
   ],
   "source": [
    "x = 2\n",
    "a = 8\n",
    "print(\"x =\", x, sep='$$')\n",
    "print(\"a =\", 8, sep = 'j')"
   ]
  },
  {
   "cell_type": "markdown",
   "id": "b6a16bc7",
   "metadata": {},
   "source": [
    "## **User Input**\n",
    "\n",
    "La fonction  input() est utilisée pour lire des données à partir d'une entrée standard telle qu'un clavier et traite les données reçues comme une chaîne de caractères. Lorsque nous entrons une valeur numérique, la fonction input() de Python 3 la stocke sous la forme d'une chaîne de caractères. Ainsi, pour convertir une valeur de chaîne en valeur entière, nous utiliserons la fonction int() comme indiqué ci-dessous."
   ]
  },
  {
   "cell_type": "code",
   "execution_count": 47,
   "id": "d3ff202d",
   "metadata": {},
   "outputs": [
    {
     "name": "stdout",
     "output_type": "stream",
     "text": [
      "Saisir son age: 31\n",
      "31\n"
     ]
    },
    {
     "data": {
      "text/plain": [
       "int"
      ]
     },
     "execution_count": 47,
     "metadata": {},
     "output_type": "execute_result"
    }
   ],
   "source": [
    "age = int(input(\"Saisir son age: \"))\n",
    "print(age)\n",
    "type(age)"
   ]
  },
  {
   "cell_type": "code",
   "execution_count": 48,
   "id": "f973ef16",
   "metadata": {},
   "outputs": [
    {
     "name": "stdout",
     "output_type": "stream",
     "text": [
      "Saisir son nom: Hema\n",
      "Hema\n"
     ]
    },
    {
     "data": {
      "text/plain": [
       "str"
      ]
     },
     "execution_count": 48,
     "metadata": {},
     "output_type": "execute_result"
    }
   ],
   "source": [
    "nom = input(\"Saisir son nom: \")\n",
    "print(nom)\n",
    "type(nom)"
   ]
  },
  {
   "cell_type": "markdown",
   "id": "12a70119",
   "metadata": {},
   "source": [
    "Lorsque la fonction <em>input()</em> s'exécute, le déroulement du programme est interrompu jusqu'à ce que l'utilisateur ait saisi une valeur. Le message affiché sur l'écran de sortie pour demander à l'utilisateur d'entrer une valeur est facultatif, c'est-à-dire que l'invite qui sera imprimée sur l'écran est facultative.\n",
    "Quelle que soit la valeur saisie, la fonction input la convertit en chaîne de caractères. Si vous saisissez une valeur entière, la fonction input() la convertit toujours en chaîne de caractères. Vous devez la convertir explicitement en un entier dans votre code en utilisant le typecasting."
   ]
  },
  {
   "cell_type": "code",
   "execution_count": null,
   "id": "dc16c213",
   "metadata": {},
   "outputs": [],
   "source": []
  }
 ],
 "metadata": {
  "kernelspec": {
   "display_name": "Python 3 (ipykernel)",
   "language": "python",
   "name": "python3"
  },
  "language_info": {
   "codemirror_mode": {
    "name": "ipython",
    "version": 3
   },
   "file_extension": ".py",
   "mimetype": "text/x-python",
   "name": "python",
   "nbconvert_exporter": "python",
   "pygments_lexer": "ipython3",
   "version": "3.11.5"
  }
 },
 "nbformat": 4,
 "nbformat_minor": 5
}
