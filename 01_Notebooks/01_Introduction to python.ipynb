{
 "cells": [
  {
   "cell_type": "markdown",
   "id": "56c26dc4",
   "metadata": {},
   "source": [
    "## Sujets abordés\n",
    "\n",
    "### Installation de Python\n",
    "\n",
    "- Démarrer avec Python\n",
    "- Téléchargement et installation d'Anaconda Navigator\n",
    "- Travailler avec Jupyter Notebook\n",
    "\n",
    "\n",
    "### Introduction à Python\n",
    "\n",
    "- Variables et Types de base en Python\n",
    "- Les opérateurs en Python\n",
    "- Structures de contrôle en Python (condition, boucle, itérateur, range)\n",
    "- Fonctions en Python (définition, paramètres et arguments, appel, expression lambda)\n",
    "\n",
    "### Les structures de données en Python\n",
    "\n",
    "- Listes \n",
    "- Tuples \n",
    "- Dictionnaires\n",
    "- Collections\n",
    "\n",
    "### Statistiques descriptives\n",
    "\n",
    "- Les statistiques de base\n",
    "- Mesures de tendance centrale\n",
    "- Mesures de dispersion\n",
    "- Coefficient de covariance et de corrélation\n",
    "- Analyse exploratoire des données"
   ]
  },
  {
   "cell_type": "markdown",
   "id": "abd6737e",
   "metadata": {},
   "source": [
    "### Installation de Python\n",
    "\n",
    "#### 1-  Démarrer avec Python\n",
    "\n",
    "Python peut être utilisé pour effectuer diverses tâches liées à la science des données, telles que le nettoyage des données, la visualisation des données, l'entraînement des modèles, le déploiement des modèles, etc.\n",
    "\n",
    "Python a également d'autres applications telles que le développement web, le développement de jeux, etc.\n",
    "\n",
    "#### 2- Téléchargement et installation d'Anaconda Navigator\n",
    "\n",
    "L'édition individuelle d'[Anaconda](https://www.anaconda.com/download) est utilisée à des fins personnelles. Les éditions Enterprise, Team et commerciale offrent des fonctionnalités plus avancées et leur utilisation est payante.\n",
    "\n",
    "L'application Anaconda Navigator permet d'accéder à tous les outils fournis avec Anaconda.\n",
    "La distribution Anaconda est livrée avec de nombreuses bibliothèques Python préinstallées. Certaines des bibliothèques les plus utilisées sont NumPy, pandas, etc.\n",
    "\n",
    "**Etapes de téléchargement et d'installation d'Anaconda Navigator**\n",
    "\n",
    "- Aller sur le lien de téléchargement d'[Anaconda Navigator](https://www.anaconda.com/download) \n",
    "\n",
    "\n",
    "#### 3- Jupyter Notebook"
   ]
  },
  {
   "cell_type": "markdown",
   "id": "ba7f5cd1",
   "metadata": {},
   "source": [
    "\n",
    "### Introduction à Python\n",
    "\n",
    "- Variables et Types de base en Python\n",
    "\n",
    "**Déclarer et assigner une valeur à une variable.**\n",
    "\n",
    "Nous utilisons l'opérateur d'affectation '**=**' pour attribuer une valeur à une variable.\n"
   ]
  },
  {
   "cell_type": "code",
   "execution_count": 1,
   "id": "d271e68c",
   "metadata": {},
   "outputs": [],
   "source": [
    "num = 10"
   ]
  },
  {
   "cell_type": "markdown",
   "id": "8fab8199",
   "metadata": {},
   "source": [
    "L'opérande à gauche de l'opérateur = est le nom de la variable et l'opérande à droite de l'opérateur = est la valeur stockée dans la variable. Ici, nous avons créé une variable nommée « num » et nous avons assigné la valeur 10 à la variable « num ».\n",
    "\n",
    "**Affectations multiples**\n",
    "\n",
    "Python permet d'affecter une même valeur à plusieurs variables simultanément. Par exemple:"
   ]
  },
  {
   "cell_type": "code",
   "execution_count": 2,
   "id": "7a1ab001",
   "metadata": {},
   "outputs": [],
   "source": [
    "# Ici, un objet entier est créé avec la valeur 5, et les trois variables sont assignées au même emplacement de mémoire\n",
    "x = y = z = 5"
   ]
  },
  {
   "cell_type": "markdown",
   "id": "f2a4edc5",
   "metadata": {},
   "source": [
    "Vous pouvez également affecter plusieurs objets à plusieurs variables."
   ]
  },
  {
   "cell_type": "code",
   "execution_count": 3,
   "id": "38c46c98",
   "metadata": {},
   "outputs": [],
   "source": [
    "age,poids,sexe = 15,40.1,\"Fille\""
   ]
  },
  {
   "cell_type": "markdown",
   "id": "e2dbc263",
   "metadata": {},
   "source": [
    "**Ré-assignation d'une variable**"
   ]
  },
  {
   "cell_type": "code",
   "execution_count": 4,
   "id": "25f2ab85",
   "metadata": {},
   "outputs": [
    {
     "data": {
      "text/plain": [
       "25"
      ]
     },
     "execution_count": 4,
     "metadata": {},
     "output_type": "execute_result"
    }
   ],
   "source": [
    "var1 = 25\n",
    "var2 = \"Ndeye\"\n",
    "var2 = var1\n",
    "var2"
   ]
  },
  {
   "cell_type": "markdown",
   "id": "7848ca1c",
   "metadata": {},
   "source": [
    "**Règles et conventions de dénomination**"
   ]
  },
  {
   "cell_type": "markdown",
   "id": "975b368f",
   "metadata": {},
   "source": [
    "**Types de variables**\n",
    "\n",
    "Un type de variable est un attribut des données qui indique au compilateur ou à l'interprète comment le programmeur a l'intention d'utiliser les variables. Python prend en charge les types de données suivants : *1. Les nombres 2. Chaînes de caractères 3. Les booléens 4. Listes 5. Tuples 6. Dictionnaires 7. Ensembles*\n",
    "\n",
    "**Les nombres en Python**\n",
    "\n",
    "Il existe quatre types de variable numériques en Python :\n",
    "\n",
    "a. *int* (entiers signés)\n",
    "\n",
    "b. *float* (valeurs réelles à virgule flottante)\n",
    "\n",
    "c. *long* (nombres entiers longs, ils peuvent également être représentés en octal et en hexadécimal)\n",
    "\n",
    "d. *complex* (nombres complexes)"
   ]
  },
  {
   "cell_type": "markdown",
   "id": "bbd6e069",
   "metadata": {},
   "source": [
    "<table>\n",
    "  <tr>\n",
    "  <th>int</th>\n",
    "  <th>float</th>\n",
    "  <th>long</th>\n",
    "  <th>complex</th>\n",
    "  </tr>\n",
    "  <tr>\n",
    "  <td>10</td>\n",
    "  <td>54.4</td>\n",
    "  <td>012345L</td>\n",
    "  <td>2+5j</td>  \n",
    "  </tr>\n",
    "  <tr>\n",
    "  <td>70</td>\n",
    "  <td>0.01</td>\n",
    "  <td>-987652L</td>\n",
    "  <td>1.18j</td>\n",
    "  </tr>\n",
    "  <tr>\n",
    "  <td>-150</td>\n",
    "  <td>1.626e16</td>\n",
    "  <td>10000000000000000</td>\n",
    "  <td>-10j</td>\n",
    "  </tr>\n",
    "  <tr>\n",
    "  <td>0x69</td>\n",
    "  <td>74.15</td>\n",
    "  <td>-4335685298777L</td>\n",
    "  <td>45j</td>\n",
    "  </tr>\n",
    "  <tr>\n",
    "  <td>-0x260</td>\n",
    "  <td>89.33</td>\n",
    "  <td>0348L\t</td>\n",
    "  <td>3e+26J</td>\n",
    "  </tr>\n",
    "</table>"
   ]
  },
  {
   "cell_type": "markdown",
   "id": "77232cf2",
   "metadata": {},
   "source": [
    "#### int\n",
    "\n",
    "'int' est l'abréviation de integer (entier). Ce type de données Python contient des entiers signés. Nous pouvons utiliser la fonction type() pour savoir à quelle classe il appartient."
   ]
  },
  {
   "cell_type": "code",
   "execution_count": 6,
   "id": "a73b8613",
   "metadata": {},
   "outputs": [
    {
     "data": {
      "text/plain": [
       "int"
      ]
     },
     "execution_count": 6,
     "metadata": {},
     "output_type": "execute_result"
    }
   ],
   "source": [
    "a = -23\n",
    "type(a)"
   ]
  },
  {
   "cell_type": "code",
   "execution_count": 7,
   "id": "db01dc32",
   "metadata": {},
   "outputs": [
    {
     "data": {
      "text/plain": [
       "int"
      ]
     },
     "execution_count": 7,
     "metadata": {},
     "output_type": "execute_result"
    }
   ],
   "source": [
    "x = 1000\n",
    "type(a)"
   ]
  },
  {
   "cell_type": "markdown",
   "id": "4b80de5a",
   "metadata": {},
   "source": [
    "#### float"
   ]
  },
  {
   "cell_type": "code",
   "execution_count": 8,
   "id": "1a6474b2",
   "metadata": {},
   "outputs": [
    {
     "data": {
      "text/plain": [
       "float"
      ]
     },
     "execution_count": 8,
     "metadata": {},
     "output_type": "execute_result"
    }
   ],
   "source": [
    "a = 1.1\n",
    "type(a)"
   ]
  },
  {
   "cell_type": "code",
   "execution_count": 9,
   "id": "f004ba52",
   "metadata": {},
   "outputs": [
    {
     "data": {
      "text/plain": [
       "float"
      ]
     },
     "execution_count": 9,
     "metadata": {},
     "output_type": "execute_result"
    }
   ],
   "source": [
    "x = -3.14\n",
    "type(x)"
   ]
  },
  {
   "cell_type": "code",
   "execution_count": 10,
   "id": "83b8385f",
   "metadata": {},
   "outputs": [
    {
     "data": {
      "text/plain": [
       "float"
      ]
     },
     "execution_count": 10,
     "metadata": {},
     "output_type": "execute_result"
    }
   ],
   "source": [
    "y = 1.626e16\n",
    "type(y)"
   ]
  },
  {
   "cell_type": "markdown",
   "id": "9ac06bc4",
   "metadata": {},
   "source": [
    "#### long"
   ]
  },
  {
   "cell_type": "code",
   "execution_count": 11,
   "id": "3f05960a",
   "metadata": {},
   "outputs": [
    {
     "data": {
      "text/plain": [
       "int"
      ]
     },
     "execution_count": 11,
     "metadata": {},
     "output_type": "execute_result"
    }
   ],
   "source": [
    "x =999999999999999999999999999999999999999999999\n",
    "type(x)"
   ]
  },
  {
   "cell_type": "markdown",
   "id": "3a7fb609",
   "metadata": {},
   "source": [
    "#### complex"
   ]
  },
  {
   "cell_type": "code",
   "execution_count": 12,
   "id": "4c509a17",
   "metadata": {},
   "outputs": [
    {
     "data": {
      "text/plain": [
       "complex"
      ]
     },
     "execution_count": 12,
     "metadata": {},
     "output_type": "execute_result"
    }
   ],
   "source": [
    "x = 3+7j\n",
    "type(x)"
   ]
  },
  {
   "cell_type": "code",
   "execution_count": 13,
   "id": "fac28cda",
   "metadata": {},
   "outputs": [
    {
     "data": {
      "text/plain": [
       "complex"
      ]
     },
     "execution_count": 13,
     "metadata": {},
     "output_type": "execute_result"
    }
   ],
   "source": [
    "y = 3e+4j\n",
    "type(y)"
   ]
  },
  {
   "cell_type": "markdown",
   "id": "6bd35e5b",
   "metadata": {},
   "source": [
    "### **Chaînes de caractères en Python**"
   ]
  },
  {
   "cell_type": "markdown",
   "id": "80f4f272",
   "metadata": {},
   "source": [
    "Une chaîne de caractères est une séquence de caractères. Python n'a pas de type de données char, contrairement à C++ ou Java. Vous pouvez délimiter une chaîne de caractères en utilisant des guillemets simples ('chaîne de caractères') ou des guillemets doubles (\"chaîne de caractères\")."
   ]
  },
  {
   "cell_type": "code",
   "execution_count": 14,
   "id": "e6c56e92",
   "metadata": {},
   "outputs": [
    {
     "data": {
      "text/plain": [
       "'ENSAE de Dakar'"
      ]
     },
     "execution_count": 14,
     "metadata": {},
     "output_type": "execute_result"
    }
   ],
   "source": [
    "string = \"ENSAE de Dakar\"\n",
    "string"
   ]
  },
  {
   "cell_type": "markdown",
   "id": "de8fbd31",
   "metadata": {},
   "source": [
    "Le signe plus (+) est l'opérateur de concaténation de chaînes et l'astérisque (*) est l'opérateur de répétition."
   ]
  },
  {
   "cell_type": "code",
   "execution_count": 15,
   "id": "132928ea",
   "metadata": {},
   "outputs": [
    {
     "data": {
      "text/plain": [
       "'HemaAboubacar'"
      ]
     },
     "execution_count": 15,
     "metadata": {},
     "output_type": "execute_result"
    }
   ],
   "source": [
    "str1 = \"Hema\"\n",
    "str2 = \"Aboubacar\"\n",
    "str3 = str1+str2\n",
    "str3                      # Affiche la chaîne concaténée"
   ]
  },
  {
   "cell_type": "code",
   "execution_count": 16,
   "id": "d76c4457",
   "metadata": {},
   "outputs": [
    {
     "data": {
      "text/plain": [
       "'HemaAboubacarHemaAboubacarHemaAboubacar'"
      ]
     },
     "execution_count": 16,
     "metadata": {},
     "output_type": "execute_result"
    }
   ],
   "source": [
    "str3*3                    # Affiche trois fois la chaîne de caractères"
   ]
  },
  {
   "cell_type": "markdown",
   "id": "71c619af",
   "metadata": {},
   "source": [
    "Vous ne pouvez pas utiliser l'opérateur moins (-) et l'opérateur de division (/) sur les chaînes de caractères.\n",
    "\n",
    "Des sous-ensembles de chaînes peuvent être extraits à l'aide de l'opérateur de tranche ([ ]). Vous pouvez afficher un caractère d'une chaîne en utilisant son index dans la chaîne. N'oubliez pas que l'indexation commence à 0."
   ]
  },
  {
   "cell_type": "code",
   "execution_count": 17,
   "id": "c5a4aef8",
   "metadata": {},
   "outputs": [
    {
     "data": {
      "text/plain": [
       "'S'"
      ]
     },
     "execution_count": 17,
     "metadata": {},
     "output_type": "execute_result"
    }
   ],
   "source": [
    "string[2]                 # Affiche le 3e caractère de string"
   ]
  },
  {
   "cell_type": "markdown",
   "id": "eb38245d",
   "metadata": {},
   "source": [
    "Vous pouvez également afficher une série de caractères dans une chaîne à l'aide de l'opérateur de découpage, avec des index commençant à 0 au début de la chaîne et allant jusqu'à -1 à la fin."
   ]
  },
  {
   "cell_type": "code",
   "execution_count": 19,
   "id": "a3260470",
   "metadata": {},
   "outputs": [
    {
     "data": {
      "text/plain": [
       "'AE de '"
      ]
     },
     "execution_count": 19,
     "metadata": {},
     "output_type": "execute_result"
    }
   ],
   "source": [
    "string[3:9]             # Question : Que constatez vous?"
   ]
  },
  {
   "cell_type": "markdown",
   "id": "8cd20f7f",
   "metadata": {},
   "source": [
    "Les chaînes sont <em>immutables</em>. La ligne de code suivante génère une erreur."
   ]
  },
  {
   "cell_type": "code",
   "execution_count": 21,
   "id": "26169b69",
   "metadata": {},
   "outputs": [
    {
     "ename": "TypeError",
     "evalue": "'str' object does not support item assignment",
     "output_type": "error",
     "traceback": [
      "\u001b[1;31m---------------------------------------------------------------------------\u001b[0m",
      "\u001b[1;31mTypeError\u001b[0m                                 Traceback (most recent call last)",
      "Cell \u001b[1;32mIn[21], line 1\u001b[0m\n\u001b[1;32m----> 1\u001b[0m string[\u001b[38;5;241m0\u001b[39m] \u001b[38;5;241m=\u001b[39m \u001b[38;5;124m'\u001b[39m\u001b[38;5;124mP\u001b[39m\u001b[38;5;124m'\u001b[39m\n",
      "\u001b[1;31mTypeError\u001b[0m: 'str' object does not support item assignment"
     ]
    }
   ],
   "source": [
    "string[0] = 'P'"
   ]
  },
  {
   "cell_type": "markdown",
   "id": "d645a73d",
   "metadata": {},
   "source": [
    "### **Booléen en Python**\n",
    "\n",
    "Dans le langage de programmation Python, le type de variable booléen est un type de variable primitif ayant l'une des deux valeurs suivantes : **True** ou **False**. Il est souvent le résultat de certaines conditions."
   ]
  },
  {
   "cell_type": "code",
   "execution_count": 22,
   "id": "bec585a1",
   "metadata": {},
   "outputs": [
    {
     "data": {
      "text/plain": [
       "bool"
      ]
     },
     "execution_count": 22,
     "metadata": {},
     "output_type": "execute_result"
    }
   ],
   "source": [
    "var = True\n",
    "type(var)"
   ]
  },
  {
   "cell_type": "code",
   "execution_count": 23,
   "id": "10e0159a",
   "metadata": {},
   "outputs": [
    {
     "name": "stdout",
     "output_type": "stream",
     "text": [
      "True\n"
     ]
    }
   ],
   "source": [
    "print(10 > 9)"
   ]
  },
  {
   "cell_type": "code",
   "execution_count": 24,
   "id": "339eff6e",
   "metadata": {},
   "outputs": [
    {
     "name": "stdout",
     "output_type": "stream",
     "text": [
      "False\n"
     ]
    }
   ],
   "source": [
    "print(10 == 9)"
   ]
  },
  {
   "cell_type": "code",
   "execution_count": 25,
   "id": "2f398cba",
   "metadata": {},
   "outputs": [
    {
     "name": "stdout",
     "output_type": "stream",
     "text": [
      "False\n"
     ]
    }
   ],
   "source": [
    "print(10 < 9)"
   ]
  },
  {
   "cell_type": "markdown",
   "id": "b8c71481",
   "metadata": {},
   "source": [
    "## **Conversion de type**\n",
    "\n",
    "Python étant un langage de type dynamique, il se peut que vous souhaitiez convertir une valeur en un autre type. Python supporte différentes fonctions de conversion de type comme int(), float(), str() etc."
   ]
  },
  {
   "cell_type": "markdown",
   "id": "c303b3cb",
   "metadata": {},
   "source": [
    "#### float()\n",
    "\n",
    "Il convertit la valeur transmise en un nombre flottant."
   ]
  },
  {
   "cell_type": "code",
   "execution_count": 26,
   "id": "bcd20d6b",
   "metadata": {},
   "outputs": [
    {
     "data": {
      "text/plain": [
       "11.0"
      ]
     },
     "execution_count": 26,
     "metadata": {},
     "output_type": "execute_result"
    }
   ],
   "source": [
    "float(11)"
   ]
  },
  {
   "cell_type": "markdown",
   "id": "3e183629",
   "metadata": {},
   "source": [
    "Vous pouvez transformer un booléen en un flottant."
   ]
  },
  {
   "cell_type": "code",
   "execution_count": 27,
   "id": "2c4b9a9c",
   "metadata": {},
   "outputs": [
    {
     "data": {
      "text/plain": [
       "1.0"
      ]
     },
     "execution_count": 27,
     "metadata": {},
     "output_type": "execute_result"
    }
   ],
   "source": [
    "float (True)"
   ]
  },
  {
   "cell_type": "code",
   "execution_count": 28,
   "id": "ea625cb6",
   "metadata": {},
   "outputs": [
    {
     "data": {
      "text/plain": [
       "0.0"
      ]
     },
     "execution_count": 28,
     "metadata": {},
     "output_type": "execute_result"
    }
   ],
   "source": [
    "float(False)"
   ]
  },
  {
   "cell_type": "markdown",
   "id": "69d4adef",
   "metadata": {},
   "source": [
    "Vous ne pouvez pas transformer une chaîne de caractères en un nombre flottant. Cela provoque une erreur. Cependant, si la chaîne ne contient que des nombres, vous pouvez le faire."
   ]
  },
  {
   "cell_type": "code",
   "execution_count": 29,
   "id": "753b7e90",
   "metadata": {},
   "outputs": [
    {
     "ename": "ValueError",
     "evalue": "could not convert string to float: 'abc'",
     "output_type": "error",
     "traceback": [
      "\u001b[1;31m---------------------------------------------------------------------------\u001b[0m",
      "\u001b[1;31mValueError\u001b[0m                                Traceback (most recent call last)",
      "Cell \u001b[1;32mIn[29], line 1\u001b[0m\n\u001b[1;32m----> 1\u001b[0m \u001b[38;5;28mfloat\u001b[39m(\u001b[38;5;124m\"\u001b[39m\u001b[38;5;124mabc\u001b[39m\u001b[38;5;124m\"\u001b[39m)\n",
      "\u001b[1;31mValueError\u001b[0m: could not convert string to float: 'abc'"
     ]
    }
   ],
   "source": [
    "float(\"abc\")"
   ]
  },
  {
   "cell_type": "code",
   "execution_count": 30,
   "id": "b290b490",
   "metadata": {},
   "outputs": [
    {
     "data": {
      "text/plain": [
       "11.0"
      ]
     },
     "execution_count": 30,
     "metadata": {},
     "output_type": "execute_result"
    }
   ],
   "source": [
    "float(\"11\")"
   ]
  },
  {
   "cell_type": "code",
   "execution_count": 31,
   "id": "cc607978",
   "metadata": {},
   "outputs": [
    {
     "data": {
      "text/plain": [
       "0.0224"
      ]
     },
     "execution_count": 31,
     "metadata": {},
     "output_type": "execute_result"
    }
   ],
   "source": [
    "# Vous pouvez également utiliser 'e' pour désigner un nombre exponentiel\n",
    "\n",
    "float(\"2.24e-2\") # Ce nombre fonctionne même sans la fonction float()"
   ]
  },
  {
   "cell_type": "markdown",
   "id": "d3b3289c",
   "metadata": {},
   "source": [
    "#### int\n",
    "\n",
    "La conversion de float en int arrondira la valeur (la rapprochera de zéro)."
   ]
  },
  {
   "cell_type": "code",
   "execution_count": 32,
   "id": "51e8793d",
   "metadata": {},
   "outputs": [
    {
     "data": {
      "text/plain": [
       "11"
      ]
     },
     "execution_count": 32,
     "metadata": {},
     "output_type": "execute_result"
    }
   ],
   "source": [
    "int(11.7)"
   ]
  },
  {
   "cell_type": "code",
   "execution_count": 33,
   "id": "49a5f3f3",
   "metadata": {},
   "outputs": [
    {
     "data": {
      "text/plain": [
       "-11"
      ]
     },
     "execution_count": 33,
     "metadata": {},
     "output_type": "execute_result"
    }
   ],
   "source": [
    "int(-11.7)"
   ]
  },
  {
   "cell_type": "markdown",
   "id": "f21e1115",
   "metadata": {},
   "source": [
    "Vous pouvez également transformer un booléen en un int."
   ]
  },
  {
   "cell_type": "code",
   "execution_count": 34,
   "id": "eebaa084",
   "metadata": {},
   "outputs": [
    {
     "data": {
      "text/plain": [
       "1"
      ]
     },
     "execution_count": 34,
     "metadata": {},
     "output_type": "execute_result"
    }
   ],
   "source": [
    "int(True)"
   ]
  },
  {
   "cell_type": "code",
   "execution_count": 35,
   "id": "fd31ebc8",
   "metadata": {},
   "outputs": [
    {
     "data": {
      "text/plain": [
       "0"
      ]
     },
     "execution_count": 35,
     "metadata": {},
     "output_type": "execute_result"
    }
   ],
   "source": [
    "int(False)"
   ]
  },
  {
   "cell_type": "markdown",
   "id": "1f949f16",
   "metadata": {},
   "source": [
    "Vous ne pouvez pas transformer une chaîne de caractères en un int. Cela provoque une erreur. Cependant, si la chaîne ne contient que des chiffres, vous pouvez le faire."
   ]
  },
  {
   "cell_type": "code",
   "execution_count": 36,
   "id": "0b06680f",
   "metadata": {},
   "outputs": [
    {
     "ename": "ValueError",
     "evalue": "invalid literal for int() with base 10: 'ENSAE'",
     "output_type": "error",
     "traceback": [
      "\u001b[1;31m---------------------------------------------------------------------------\u001b[0m",
      "\u001b[1;31mValueError\u001b[0m                                Traceback (most recent call last)",
      "Cell \u001b[1;32mIn[36], line 1\u001b[0m\n\u001b[1;32m----> 1\u001b[0m \u001b[38;5;28mint\u001b[39m(\u001b[38;5;124m\"\u001b[39m\u001b[38;5;124mENSAE\u001b[39m\u001b[38;5;124m\"\u001b[39m)\n",
      "\u001b[1;31mValueError\u001b[0m: invalid literal for int() with base 10: 'ENSAE'"
     ]
    }
   ],
   "source": [
    "int(\"ENSAE\")"
   ]
  },
  {
   "cell_type": "code",
   "execution_count": 37,
   "id": "25e9e2d9",
   "metadata": {},
   "outputs": [
    {
     "data": {
      "text/plain": [
       "11"
      ]
     },
     "execution_count": 37,
     "metadata": {},
     "output_type": "execute_result"
    }
   ],
   "source": [
    "int(\"11\")"
   ]
  },
  {
   "cell_type": "markdown",
   "id": "f4919fa5",
   "metadata": {},
   "source": [
    "#### str()\n",
    "\n",
    "<em>str()</em> convertit la valeur en une chaîne de caractères."
   ]
  },
  {
   "cell_type": "code",
   "execution_count": 38,
   "id": "6ddeb6eb",
   "metadata": {},
   "outputs": [
    {
     "data": {
      "text/plain": [
       "'2.24'"
      ]
     },
     "execution_count": 38,
     "metadata": {},
     "output_type": "execute_result"
    }
   ],
   "source": [
    "str(2.24)"
   ]
  },
  {
   "cell_type": "code",
   "execution_count": 39,
   "id": "e8620989",
   "metadata": {},
   "outputs": [
    {
     "data": {
      "text/plain": [
       "'True'"
      ]
     },
     "execution_count": 39,
     "metadata": {},
     "output_type": "execute_result"
    }
   ],
   "source": [
    "str(True)"
   ]
  },
  {
   "cell_type": "code",
   "execution_count": 40,
   "id": "13f57a33",
   "metadata": {},
   "outputs": [
    {
     "data": {
      "text/plain": [
       "'False'"
      ]
     },
     "execution_count": 40,
     "metadata": {},
     "output_type": "execute_result"
    }
   ],
   "source": [
    "str(False)"
   ]
  },
  {
   "cell_type": "code",
   "execution_count": 41,
   "id": "bd4e96f1",
   "metadata": {},
   "outputs": [
    {
     "data": {
      "text/plain": [
       "'10'"
      ]
     },
     "execution_count": 41,
     "metadata": {},
     "output_type": "execute_result"
    }
   ],
   "source": [
    "str(10)"
   ]
  },
  {
   "cell_type": "markdown",
   "id": "d5854ca8",
   "metadata": {},
   "source": [
    "## **La fonction  print()**"
   ]
  },
  {
   "cell_type": "markdown",
   "id": "072b5de1",
   "metadata": {},
   "source": [
    "Syntaxe:\n",
    "\n",
    "                         print(*objects, sep=' ', end='\\n', file=sys.stdout, flush=False)"
   ]
  },
  {
   "cell_type": "markdown",
   "id": "6bd116db",
   "metadata": {},
   "source": [
    "**objects** - objet à afficher. * indique qu'il peut y avoir plus d'un objet"
   ]
  },
  {
   "cell_type": "markdown",
   "id": "b34ce83f",
   "metadata": {},
   "source": [
    "**sep** - les objets sont séparés par sep. Valeur par défaut : ' '<br>\n",
    "\n",
    "**end** - la fin est imprimée en dernier\n",
    "\n",
    "**file** - doit être un objet avec la méthode write(string). S'il est omis, sys.stdout sera utilisé pour afficher les objets à l'écran.\n",
    "\n",
    "**flush** - Si True, le flux est forcé de se vider. Default value: False<br><br>"
   ]
  },
  {
   "cell_type": "code",
   "execution_count": 42,
   "id": "79986b57",
   "metadata": {},
   "outputs": [
    {
     "name": "stdout",
     "output_type": "stream",
     "text": [
      "Nous sommes dans la classe des AS1 de l'ENSAE\n"
     ]
    }
   ],
   "source": [
    "print(\"Nous sommes dans la classe des AS1 de l'ENSAE\")"
   ]
  },
  {
   "cell_type": "code",
   "execution_count": 43,
   "id": "b75427e5",
   "metadata": {},
   "outputs": [
    {
     "name": "stdout",
     "output_type": "stream",
     "text": [
      "x = 2\n"
     ]
    }
   ],
   "source": [
    "# Initialiser une variable\n",
    "x = 2\n",
    "print(\"x =\", x) # Ici nous passons deux objets"
   ]
  },
  {
   "cell_type": "markdown",
   "id": "35630794",
   "metadata": {},
   "source": [
    "Seul le paramètre objet est passé dans la fonction print() ci-dessus."
   ]
  },
  {
   "cell_type": "markdown",
   "id": "9c5d714b",
   "metadata": {},
   "source": [
    "#### print() avec les paramètres de séparation et de fin\n",
    "\n",
    "Par défaut, la fonction print() se termine par une nouvelle ligne. \n",
    "\n",
    "La valeur par défaut de ce paramètre est '\\n' , le caractère de retour à la ligne. \n",
    "Vous pouvez terminer une instruction d'impression par n'importe quel caractère ou chaîne de caractères à l'aide de ce paramètre.\n",
    "\n",
    "Parfois, vous avez besoin d'imprimer une ligne vide dans votre programme Python."
   ]
  },
  {
   "cell_type": "code",
   "execution_count": 44,
   "id": "985c0c4a",
   "metadata": {},
   "outputs": [
    {
     "name": "stdout",
     "output_type": "stream",
     "text": [
      "x = 2\n",
      "\n",
      "\n",
      "a = 8j"
     ]
    }
   ],
   "source": [
    "x = 2\n",
    "a = 8\n",
    "print(\"x =\", x, end='\\n\\n\\n')\n",
    "print(\"a =\", 8, end = 'j')"
   ]
  },
  {
   "cell_type": "markdown",
   "id": "8feaa5ac",
   "metadata": {},
   "source": [
    "Les objets seront séparés en fonction de la valeur du paramètre <em>sep</em>."
   ]
  },
  {
   "cell_type": "code",
   "execution_count": 45,
   "id": "17584316",
   "metadata": {},
   "outputs": [
    {
     "name": "stdout",
     "output_type": "stream",
     "text": [
      "x =$$2\n",
      "a =j8\n"
     ]
    }
   ],
   "source": [
    "x = 2\n",
    "a = 8\n",
    "print(\"x =\", x, sep='$$')\n",
    "print(\"a =\", 8, sep = 'j')"
   ]
  },
  {
   "cell_type": "markdown",
   "id": "db27c2d1",
   "metadata": {},
   "source": [
    "## **User Input**\n",
    "\n",
    "La fonction  input() est utilisée pour lire des données à partir d'une entrée standard telle qu'un clavier et traite les données reçues comme une chaîne de caractères. Lorsque nous entrons une valeur numérique, la fonction input() de Python 3 la stocke sous la forme d'une chaîne de caractères. Ainsi, pour convertir une valeur de chaîne en valeur entière, nous utiliserons la fonction int() comme indiqué ci-dessous."
   ]
  },
  {
   "cell_type": "code",
   "execution_count": 47,
   "id": "246c3bb7",
   "metadata": {},
   "outputs": [
    {
     "name": "stdout",
     "output_type": "stream",
     "text": [
      "Saisir son age: 31\n",
      "31\n"
     ]
    },
    {
     "data": {
      "text/plain": [
       "int"
      ]
     },
     "execution_count": 47,
     "metadata": {},
     "output_type": "execute_result"
    }
   ],
   "source": [
    "age = int(input(\"Saisir son age: \"))\n",
    "print(age)\n",
    "type(age)"
   ]
  },
  {
   "cell_type": "code",
   "execution_count": 48,
   "id": "fb35dc28",
   "metadata": {},
   "outputs": [
    {
     "name": "stdout",
     "output_type": "stream",
     "text": [
      "Saisir son nom: Hema\n",
      "Hema\n"
     ]
    },
    {
     "data": {
      "text/plain": [
       "str"
      ]
     },
     "execution_count": 48,
     "metadata": {},
     "output_type": "execute_result"
    }
   ],
   "source": [
    "nom = input(\"Saisir son nom: \")\n",
    "print(nom)\n",
    "type(nom)"
   ]
  },
  {
   "cell_type": "markdown",
   "id": "1b7b9449",
   "metadata": {},
   "source": [
    "Lorsque la fonction <em>input()</em> s'exécute, le déroulement du programme est interrompu jusqu'à ce que l'utilisateur ait saisi une valeur. Le message affiché sur l'écran de sortie pour demander à l'utilisateur d'entrer une valeur est facultatif, c'est-à-dire que l'invite qui sera imprimée sur l'écran est facultative.\n",
    "Quelle que soit la valeur saisie, la fonction input la convertit en chaîne de caractères. Si vous saisissez une valeur entière, la fonction input() la convertit toujours en chaîne de caractères. Vous devez la convertir explicitement en un entier dans votre code en utilisant le typecasting."
   ]
  },
  {
   "cell_type": "markdown",
   "id": "e384649f",
   "metadata": {},
   "source": [
    "## **Opérateurs en Python**\n",
    "\n",
    "### **Opérateur arithmétique**\n",
    "\n",
    "Les opérateurs arithmétiques sont utilisés pour effectuer des opérations mathématiques telles que l'addition, la soustraction, la multiplication, etc."
   ]
  },
  {
   "cell_type": "code",
   "execution_count": 51,
   "id": "8e82bc9d",
   "metadata": {},
   "outputs": [
    {
     "name": "stdout",
     "output_type": "stream",
     "text": [
      "a + b = 14\n",
      "a - b = 10\n",
      "a * b = 24\n",
      "a % b = 0\n",
      "a / b = 6.0\n",
      "a // b = 6\n",
      "a ** b = 144\n"
     ]
    }
   ],
   "source": [
    "a = 12\n",
    "b = 2\n",
    "# Opérateur '+'\n",
    "print('a + b =',a+b) # Affiche l'addition de a et b\n",
    "\n",
    "#opérateur '-' \n",
    "print('a - b =',a-b) # Affiche la soustraction de a et b\n",
    "\n",
    "# opérateur '*'\n",
    "print('a * b =',a*b) # Affiche la multiplication de a et b\n",
    "\n",
    "# opérateur '%'\n",
    "print('a % b =',a%b) # Affiche le reste de la division entre a et b\n",
    "\n",
    "# opérateur '/'\n",
    "print('a / b =',a/b) # Affiche la division de a et b\n",
    "\n",
    "# opérateur '//'\n",
    "print('a // b =',a//b) # Affiche la valeur intermédiaire de la division entre a et b \n",
    "\n",
    "# Opérateur '**'\n",
    "print('a ** b =',a**b) # Affiche le résultat de a à la puissance b"
   ]
  },
  {
   "cell_type": "markdown",
   "id": "5ce94686",
   "metadata": {},
   "source": [
    "### **Opérateur de comparaison**\n",
    "\n",
    "Les opérateurs de comparaison effectuent la comparaison entre les opérandes. Il indique si une opérande est plus grand que l'autre, plus petit, égal ou une combinaison de ces éléments. Il renvoie True ou False en fonction de la condition."
   ]
  },
  {
   "cell_type": "code",
   "execution_count": 53,
   "id": "1cc02207",
   "metadata": {},
   "outputs": [
    {
     "name": "stdout",
     "output_type": "stream",
     "text": [
      "a > b est False\n",
      "a < b est True\n",
      "a == b est False\n",
      "a != b est True\n",
      "a >= b est False\n",
      "a <= b est True\n"
     ]
    }
   ],
   "source": [
    "a = 10\n",
    "b = 20\n",
    "\n",
    "# Opérateur '>'.\n",
    "print('a > b est',a>b) # Affiche Faux puisque a est plus petit que b\n",
    "\n",
    "# opérateur '<'\n",
    "print('a < b est',a<b) # Affiche Vrai puisque a est plus petit que b\n",
    "\n",
    "# Opérateur '=='\n",
    "print('a == b est',a==b) # Affiche Faux puisque a et b ne sont pas égaux\n",
    "\n",
    "# opérateur '!='\n",
    "print('a != b est',a!=b) # Affiche Vrai car a n'est pas égal à b\n",
    "\n",
    "# opérateur '>='\n",
    "print('a >= b est',a>=b) # Affiche Faux puisque a n'est ni plus petit ni égal à b\n",
    "\n",
    "# opérateur '<= y'\n",
    "print('a <= b est',a<=b) # Affiche Vrai car a est plus petit que b"
   ]
  },
  {
   "cell_type": "markdown",
   "id": "a796ce6b",
   "metadata": {},
   "source": [
    "### **Opérateur d'affectation**\n",
    "\n",
    "Un opérateur d'affectation affecte une valeur à une variable. Il peut manipuler la valeur par un facteur avant de l'affecter."
   ]
  },
  {
   "cell_type": "code",
   "execution_count": 54,
   "id": "0459ad63",
   "metadata": {},
   "outputs": [
    {
     "name": "stdout",
     "output_type": "stream",
     "text": [
      "x =  5\n",
      "La valeur mise à jour de x après (x += 5) est  10\n",
      "La valeur actualisée de x après (x -=2) est  8\n",
      "La valeur actualisée de x après (x *= 2) est  16\n",
      "La valeur actualisée de x après (x /= 4) est 4.0\n"
     ]
    }
   ],
   "source": [
    "# Opérateur '='\n",
    "x = 5 # Assigne la valeur à la variable de gauche\n",
    "print(\"x = \", x)\n",
    "\n",
    "# opérateur '+='                 \n",
    "x += 5 \n",
    "print(\"La valeur mise à jour de x après (x += 5) est \", x)    # Additionne les valeurs de part et d'autre et les affecte à l'expression de gauche. x+=5 est identique à x=x+5\n",
    "\n",
    "# Opérateur '-='\n",
    "x -=2\n",
    "print(\"La valeur actualisée de x après (x -=2) est \", x)     # Soustrait 2 de la dernière valeur de x et l'affecte à x(qui est 10)\n",
    "\n",
    "# Opérateur '*='\n",
    "x *= 2\n",
    "print(\"La valeur actualisée de x après (x *= 2) est \", x)    # multiplie la valeur actuelle de x par 2 et affecte le résultat à la même variable\n",
    "\n",
    "# Opérateur '/='\n",
    "x /= 4 \n",
    "print('La valeur actualisée de x après (x /= 4) est', x)    # Divise la valeur actuelle de x par 4 et affecte le résultat à la même variable"
   ]
  },
  {
   "cell_type": "markdown",
   "id": "f1dc129f",
   "metadata": {},
   "source": [
    "<em>i+=1 est la même chose que i=i+1, alors que i=+1 signifie simplement i=(+1)</em>."
   ]
  },
  {
   "cell_type": "markdown",
   "id": "aa15d2c5",
   "metadata": {},
   "source": [
    "### **Opérateurs logiques**\n",
    "\n",
    "Les opérateurs logiques sont comme des conjonctions que vous pouvez utiliser pour combiner plusieurs conditions. Nous disposons de trois opérateurs logiques Python - **<em>and</em>**, **<em>or</em>**, et **<em>not</em>** qui relèvent des opérateurs python.\n",
    "\n",
    "#### Opérateur 'and'\n",
    "\n",
    "Si les conditions des deux côtés de l'opérateur sont vraies, alors l'expression dans son ensemble est vraie."
   ]
  },
  {
   "cell_type": "code",
   "execution_count": 55,
   "id": "ba66c37c",
   "metadata": {},
   "outputs": [
    {
     "name": "stdout",
     "output_type": "stream",
     "text": [
      "True\n"
     ]
    }
   ],
   "source": [
    "x = 11\n",
    "a = x>10 and x<20\n",
    "print(a)"
   ]
  },
  {
   "cell_type": "markdown",
   "id": "e4ce9766",
   "metadata": {},
   "source": [
    "Ici, les deux conditions sont remplies. La sortie est donc True."
   ]
  },
  {
   "cell_type": "code",
   "execution_count": 56,
   "id": "213b2e7f",
   "metadata": {},
   "outputs": [
    {
     "name": "stdout",
     "output_type": "stream",
     "text": [
      "False\n"
     ]
    }
   ],
   "source": [
    "x = 11\n",
    "a = x>10 and x==12\n",
    "print(a)"
   ]
  },
  {
   "cell_type": "markdown",
   "id": "1d5f9138",
   "metadata": {},
   "source": [
    "Ici, l'une des conditions n'est pas remplie. Par conséquent, la sortie est fausse."
   ]
  },
  {
   "cell_type": "markdown",
   "id": "fb5330e7",
   "metadata": {},
   "source": [
    "#### Opérateur 'or'\n",
    "\n",
    "L'expression n'est fausse que si les deux énoncés autour de l'opérateur sont faux. Sinon, elle est vraie."
   ]
  },
  {
   "cell_type": "code",
   "execution_count": 57,
   "id": "5768cf1e",
   "metadata": {},
   "outputs": [
    {
     "name": "stdout",
     "output_type": "stream",
     "text": [
      "True\n"
     ]
    }
   ],
   "source": [
    "x = 11\n",
    "a = x>10 or x==20\n",
    "print(a)"
   ]
  },
  {
   "cell_type": "markdown",
   "id": "add35c74",
   "metadata": {},
   "source": [
    "Ici, l'une des conditions est remplie. La sortie est donc True."
   ]
  },
  {
   "cell_type": "code",
   "execution_count": 58,
   "id": "96aa2abd",
   "metadata": {},
   "outputs": [
    {
     "name": "stdout",
     "output_type": "stream",
     "text": [
      "False\n"
     ]
    }
   ],
   "source": [
    "x = 11\n",
    "a = x>12 or x==20\n",
    "print(a)"
   ]
  },
  {
   "cell_type": "markdown",
   "id": "eb73c3f9",
   "metadata": {},
   "source": [
    "Aucune des conditions ci-dessus n'est vraie. Par conséquent, le résultat est Faux."
   ]
  },
  {
   "cell_type": "code",
   "execution_count": null,
   "id": "d50ba9b0",
   "metadata": {},
   "outputs": [],
   "source": []
  }
 ],
 "metadata": {
  "kernelspec": {
   "display_name": "Python 3 (ipykernel)",
   "language": "python",
   "name": "python3"
  },
  "language_info": {
   "codemirror_mode": {
    "name": "ipython",
    "version": 3
   },
   "file_extension": ".py",
   "mimetype": "text/x-python",
   "name": "python",
   "nbconvert_exporter": "python",
   "pygments_lexer": "ipython3",
   "version": "3.11.5"
  }
 },
 "nbformat": 4,
 "nbformat_minor": 5
}
