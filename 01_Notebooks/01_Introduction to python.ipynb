{
 "cells": [
  {
   "cell_type": "markdown",
   "id": "97c1b084",
   "metadata": {},
   "source": [
    "## Sujets abordés\n",
    "\n",
    "### Installation de Python\n",
    "\n",
    "- Démarrer avec Python\n",
    "- Téléchargement et installation d'Anaconda Navigator\n",
    "- Travailler avec Jupyter Notebook\n",
    "\n",
    "\n",
    "### Introduction à Python\n",
    "\n",
    "- Variables et Types de base en Python\n",
    "- Les opérateurs en Python\n",
    "- Structures de contrôle en Python (condition, boucle, itérateur, range)\n",
    "- Fonctions en Python (définition, paramètres et arguments, appel, expression lambda)\n",
    "\n",
    "### Les structures de données en Python\n",
    "\n",
    "- Listes \n",
    "- Tuples \n",
    "- Dictionnaires\n",
    "- Collections\n",
    "\n",
    "### Statistiques descriptives\n",
    "\n",
    "- Les statistiques de base\n",
    "- Mesures de tendance centrale\n",
    "- Mesures de dispersion\n",
    "- Coefficient de covariance et de corrélation\n",
    "- Analyse exploratoire des données"
   ]
  },
  {
   "cell_type": "code",
   "execution_count": null,
   "id": "2ee7c5c0",
   "metadata": {},
   "outputs": [],
   "source": []
  }
 ],
 "metadata": {
  "kernelspec": {
   "display_name": "Python 3 (ipykernel)",
   "language": "python",
   "name": "python3"
  },
  "language_info": {
   "codemirror_mode": {
    "name": "ipython",
    "version": 3
   },
   "file_extension": ".py",
   "mimetype": "text/x-python",
   "name": "python",
   "nbconvert_exporter": "python",
   "pygments_lexer": "ipython3",
   "version": "3.11.5"
  }
 },
 "nbformat": 4,
 "nbformat_minor": 5
}
