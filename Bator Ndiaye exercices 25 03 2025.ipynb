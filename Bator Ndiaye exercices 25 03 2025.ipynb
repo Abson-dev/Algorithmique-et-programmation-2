{
 "cells": [
  {
   "cell_type": "code",
   "execution_count": 7,
   "id": "48a9412d-9b59-4129-bcc4-9a3665973bbf",
   "metadata": {},
   "outputs": [],
   "source": [
    "ma_liste = list(range(1,101))"
   ]
  },
  {
   "cell_type": "code",
   "execution_count": 8,
   "id": "d9b6340c-99fc-40f0-b5fe-3b374d8dc1fa",
   "metadata": {},
   "outputs": [
    {
     "name": "stdout",
     "output_type": "stream",
     "text": [
      "30e élément:  30\n"
     ]
    }
   ],
   "source": [
    "print(\"30e élément: \", ma_liste[29])"
   ]
  },
  {
   "cell_type": "code",
   "execution_count": 9,
   "id": "e777d110-52da-4f8a-97cf-d71711769e7d",
   "metadata": {},
   "outputs": [
    {
     "name": "stdout",
     "output_type": "stream",
     "text": [
      "Dernier élément:  100\n"
     ]
    }
   ],
   "source": [
    "print(\"Dernier élément: \", ma_liste[-1])"
   ]
  },
  {
   "cell_type": "code",
   "execution_count": 10,
   "id": "bc9eea8f-6722-40ca-ad59-a6cf0dfcf993",
   "metadata": {
    "scrolled": true
   },
   "outputs": [
    {
     "name": "stdout",
     "output_type": "stream",
     "text": [
      "Liste renversée : [100, 99, 98, 97, 96, 95, 94, 93, 92, 91, 90, 89, 88, 87, 86, 85, 84, 83, 82, 81, 80, 79, 78, 77, 76, 75, 74, 73, 72, 71, 70, 69, 68, 67, 66, 65, 64, 63, 62, 61, 60, 59, 58, 57, 56, 55, 54, 53, 52, 51, 50, 49, 48, 47, 46, 45, 44, 43, 42, 41, 40, 39, 38, 37, 36, 35, 34, 33, 32, 31, 30, 29, 28, 27, 26, 25, 24, 23, 22, 21, 20, 19, 18, 17, 16, 15, 14, 13, 12, 11, 10, 9, 8, 7, 6, 5, 4, 3, 2, 1]\n"
     ]
    }
   ],
   "source": [
    "ma_liste.reverse()\n",
    "print(\"Liste renversée :\", ma_liste)"
   ]
  },
  {
   "cell_type": "code",
   "execution_count": 21,
   "id": "8f40b65a-6edd-4818-a84b-80b136053a2c",
   "metadata": {},
   "outputs": [
    {
     "name": "stdout",
     "output_type": "stream",
     "text": [
      "[100, 99, 98, 97, 96, 95, 94, 93, 92, 91, 90, 89, 88, 87, 86, 85, 84, 83, 82, 81, 80, 79, 78, 77, 76, 75, 73, 72, 71, 70, 69, 68, 67, 66, 65, 64, 63, 62, 61, 60, 59, 58, 57, 56, 55, 54, 53, 52, 51, 50, 49, 48, 47, 46, 45, 44, 43, 42, 41, 40, 39, 38, 37, 36, 35, 34, 33, 32, 31, 30, 29, 28, 27, 26, 25, 24, 23, 22, 21, 20, 19, 18, 17, 16, 15, 14, 13, 12, 11, 10, 9, 8, 7, 6, 5, 4, 3, 2, 1]\n"
     ]
    }
   ],
   "source": [
    "ma_liste.remove(74)\n",
    "print(ma_liste)"
   ]
  },
  {
   "cell_type": "code",
   "execution_count": 13,
   "id": "92d63035-ad8b-4ece-afa1-86b72a5933d0",
   "metadata": {},
   "outputs": [
    {
     "name": "stdout",
     "output_type": "stream",
     "text": [
      "Nombre d'éléments dans la liste : 100\n"
     ]
    }
   ],
   "source": [
    "print(\"Nombre d'éléments dans la liste : \", len(ma_liste))"
   ]
  },
  {
   "cell_type": "code",
   "execution_count": null,
   "id": "3358326c-0ccb-4b8c-9ac5-d12185190d54",
   "metadata": {},
   "outputs": [],
   "source": [
    "eleves_sans_AS1 = eleves [:-5]\n",
    "print(eleves_sans_AS1)"
   ]
  },
  {
   "cell_type": "code",
   "execution_count": 33,
   "id": "92107ef8-ae09-44bb-9e45-1132400b388d",
   "metadata": {},
   "outputs": [],
   "source": [
    "age = [23, 19, 18, 30, 21, 19, 21, 20, 10 ]"
   ]
  },
  {
   "cell_type": "code",
   "execution_count": 34,
   "id": "1016caa1-4fe0-47e6-ba17-669e2a254aa2",
   "metadata": {},
   "outputs": [
    {
     "name": "stdout",
     "output_type": "stream",
     "text": [
      "[23, 19, 18, 30, 21, 19, 21, 20, 10, 12]\n"
     ]
    }
   ],
   "source": [
    "age. append(12)\n",
    "print(age)"
   ]
  },
  {
   "cell_type": "code",
   "execution_count": 35,
   "id": "96e92cbe-b576-4188-b8f7-5e7c4d492793",
   "metadata": {},
   "outputs": [
    {
     "name": "stdout",
     "output_type": "stream",
     "text": [
      "[12, 10, 20, 21, 19, 21, 30, 18, 19, 23]\n"
     ]
    }
   ],
   "source": [
    "age.reverse()\n",
    "print(age)"
   ]
  },
  {
   "cell_type": "code",
   "execution_count": 36,
   "id": "24d19f2e-966a-41ce-a050-73a52299ba61",
   "metadata": {},
   "outputs": [
    {
     "name": "stdout",
     "output_type": "stream",
     "text": [
      "6\n"
     ]
    }
   ],
   "source": [
    "index_30 = age.index(30)\n",
    "print(index_30)"
   ]
  },
  {
   "cell_type": "code",
   "execution_count": 37,
   "id": "e3d2099e-accd-4d81-b2fd-e1841dfed9bb",
   "metadata": {},
   "outputs": [
    {
     "name": "stdout",
     "output_type": "stream",
     "text": [
      "[12, 10, 20, 21, 19, 21, 18, 19, 23]\n"
     ]
    }
   ],
   "source": [
    "age.remove(30)\n",
    "print(age)"
   ]
  },
  {
   "cell_type": "code",
   "execution_count": 38,
   "id": "e2bf3be6-1ecc-4d28-922b-521b3433e4b2",
   "metadata": {},
   "outputs": [
    {
     "name": "stdout",
     "output_type": "stream",
     "text": [
      "[10, 20]\n"
     ]
    }
   ],
   "source": [
    "print(age[1:3])"
   ]
  },
  {
   "cell_type": "code",
   "execution_count": 41,
   "id": "75f9db04-d9c3-4553-89ec-639611d847ba",
   "metadata": {},
   "outputs": [
    {
     "name": "stdout",
     "output_type": "stream",
     "text": [
      "[12, 10]\n"
     ]
    }
   ],
   "source": [
    "print(age[0:2])"
   ]
  },
  {
   "cell_type": "code",
   "execution_count": 39,
   "id": "bb9bba07-9d4e-4f55-97f5-42bced00862c",
   "metadata": {},
   "outputs": [
    {
     "name": "stdout",
     "output_type": "stream",
     "text": [
      "[20, 21, 19, 21, 18, 19, 23]\n"
     ]
    }
   ],
   "source": [
    "print(age[2:])"
   ]
  },
  {
   "cell_type": "code",
   "execution_count": 40,
   "id": "574b660b-f480-4e11-9803-7a71645c6026",
   "metadata": {},
   "outputs": [
    {
     "name": "stdout",
     "output_type": "stream",
     "text": [
      "[12, 10, 20, 21, 19, 21, 18, 19, 23]\n"
     ]
    }
   ],
   "source": [
    "print(age[:])"
   ]
  },
  {
   "cell_type": "code",
   "execution_count": 42,
   "id": "4e7dedd7-6fc2-4111-a80d-261dcf05e3d3",
   "metadata": {},
   "outputs": [
    {
     "name": "stdout",
     "output_type": "stream",
     "text": [
      "23\n"
     ]
    }
   ],
   "source": [
    "print(age[-1])"
   ]
  },
  {
   "cell_type": "code",
   "execution_count": null,
   "id": "7f6b823d-0d8b-4b37-bebd-8ae7245b5173",
   "metadata": {},
   "outputs": [],
   "source": []
  }
 ],
 "metadata": {
  "kernelspec": {
   "display_name": "Python 3 (ipykernel)",
   "language": "python",
   "name": "python3"
  },
  "language_info": {
   "codemirror_mode": {
    "name": "ipython",
    "version": 3
   },
   "file_extension": ".py",
   "mimetype": "text/x-python",
   "name": "python",
   "nbconvert_exporter": "python",
   "pygments_lexer": "ipython3",
   "version": "3.12.7"
  }
 },
 "nbformat": 4,
 "nbformat_minor": 5
}
