{
 "cells": [
  {
   "cell_type": "code",
   "execution_count": 7,
   "id": "450e7119-2263-4bd9-889f-766a4f01c902",
   "metadata": {},
   "outputs": [
    {
     "name": "stdout",
     "output_type": "stream",
     "text": [
      "EXERCICE1\n",
      "exemple avec la fonction cosinus\n"
     ]
    },
    {
     "data": {
      "text/plain": [
       "True"
      ]
     },
     "execution_count": 7,
     "metadata": {},
     "output_type": "execute_result"
    }
   ],
   "source": [
    "import math\n",
    "print(\"EXERCICE1\")\n",
    "def fonction_convergente(F,u0,epsilon=10**(-6),max_iterations=1000):\n",
    "    u=u0 # premier terme de la suite\n",
    "    for i in range(max_iterations):\n",
    "        u_suivant=F(u) #Calcul du terme suivant\n",
    "        # Vérifie si la différence est suffisamment petite\n",
    "        if abs(u_suivant - u)< epsilon:\n",
    "            return True #La suite converge\n",
    "        u=u_suivant #Mise à jour pour l'itération suivante\n",
    "    return False #Si on dépasse le nombre maximum d'itérations sans convergence\n",
    "print(\"exemple avec la fonction cosinus\")\n",
    "fonction_convergente(math.cos,0,epsilon=10**(-6),max_iterations=1000)"
   ]
  },
  {
   "cell_type": "code",
   "execution_count": 1,
   "id": "feb2b4f7-9d71-4050-820f-40548635179c",
   "metadata": {},
   "outputs": [
    {
     "name": "stdout",
     "output_type": "stream",
     "text": [
      "EXERCICE2\n"
     ]
    },
    {
     "data": {
      "text/plain": [
       "5.0"
      ]
     },
     "execution_count": 1,
     "metadata": {},
     "output_type": "execute_result"
    }
   ],
   "source": [
    "import math\n",
    "print(\"EXERCICE2\")\n",
    "def racine_carre_Newton(A,x0=1.0,epsilon=10**(-6),max_iterations=1000):\n",
    "    if A < 0:\n",
    "        raise ValueError(\"A doit être un nombre positif\")\n",
    "    x = x0\n",
    "    for i in range(max_iterations):\n",
    "        if x==0:# éviter la division par Zéro\n",
    "            x=10**(-6)\n",
    "        x_suivant=0.5*(x + A / x)\n",
    "        if abs(x_suivant - x)<epsilon:\n",
    "            return x_suivant\n",
    "        x = x_suivant\n",
    "    return x\n",
    "racine_carre_Newton(25,1.0,epsilon=10**(-6),max_iterations=1000)\n",
    "    "
   ]
  },
  {
   "cell_type": "code",
   "execution_count": 3,
   "id": "4d1ed795-f16e-4bfb-ba0c-64109d735e22",
   "metadata": {},
   "outputs": [
    {
     "name": "stdout",
     "output_type": "stream",
     "text": [
      "EXERCICE 3\n"
     ]
    },
    {
     "data": {
      "text/plain": [
       "'Suite arithmétique'"
      ]
     },
     "execution_count": 3,
     "metadata": {},
     "output_type": "execute_result"
    }
   ],
   "source": [
    "import math \n",
    "print(\"EXERCICE 3\")\n",
    "def type_de_suite(termes):\n",
    "    n = len(termes)\n",
    "    if n < 3:\n",
    "        return \"Pas assez de termes\"\n",
    "\n",
    "    # Vérification suite arithmétique\n",
    "    r = termes[1] - termes[0]\n",
    "    arithmetique = all(termes[i+1] - termes[i] == r for i in range(n - 1))\n",
    "\n",
    "    # Vérification suite géométrique\n",
    "    if termes[0] != 0:\n",
    "        q = termes[1] / termes[0]\n",
    "        geometrique = all(termes[i] != 0 and termes[i+1] / termes[i] == q for i in range(n - 1))\n",
    "    else:\n",
    "        geometrique = False\n",
    "\n",
    "    # Vérification suite quadratique (polynôme de degré 2)\n",
    "    # On regarde si la deuxième différence est constante\n",
    "    differences = [termes[i+1] - termes[i] for i in range(n - 1)]\n",
    "    deuxieme_diff = [differences[i+1] - differences[i] for i in range(n - 2)]\n",
    "    quadratique = all(d == deuxieme_diff[0] for d in deuxieme_diff)\n",
    "\n",
    "    if arithmetique:\n",
    "        return \"Suite arithmétique\"\n",
    "    elif geometrique:\n",
    "        return \"Suite géométrique\"\n",
    "    elif quadratique:\n",
    "        return \"Suite quadratique\"\n",
    "    else:\n",
    "        return \"Aucun type détecté\"\n",
    "\n",
    "\n",
    "type_de_suite([2,4,6,8,10])"
   ]
  },
  {
   "cell_type": "code",
   "execution_count": null,
   "id": "3c644325-2c17-46aa-85b1-9599b7375ae8",
   "metadata": {},
   "outputs": [],
   "source": []
  }
 ],
 "metadata": {
  "kernelspec": {
   "display_name": "Python [conda env:base] *",
   "language": "python",
   "name": "conda-base-py"
  },
  "language_info": {
   "codemirror_mode": {
    "name": "ipython",
    "version": 3
   },
   "file_extension": ".py",
   "mimetype": "text/x-python",
   "name": "python",
   "nbconvert_exporter": "python",
   "pygments_lexer": "ipython3",
   "version": "3.12.7"
  }
 },
 "nbformat": 4,
 "nbformat_minor": 5
}
